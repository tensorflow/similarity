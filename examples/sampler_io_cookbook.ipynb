{
 "cells": [
  {
   "cell_type": "markdown",
   "id": "e9739740",
   "metadata": {},
   "source": [
    "Copyright 2021 The TensorFlow Similarity Authors."
   ]
  },
  {
   "cell_type": "code",
   "execution_count": 1,
   "id": "2dc52802",
   "metadata": {},
   "outputs": [],
   "source": [
    "# @title Licensed under the Apache License, Version 2.0 (the \"License\");\n",
    "# you may not use this file except in compliance with the License.\n",
    "# You may obtain a copy of the License at\n",
    "#\n",
    "# https://www.apache.org/licenses/LICENSE-2.0\n",
    "#\n",
    "# Unless required by applicable law or agreed to in writing, software\n",
    "# distributed under the License is distributed on an \"AS IS\" BASIS,\n",
    "# WITHOUT WARRANTIES OR CONDITIONS OF ANY KIND, either express or implied.\n",
    "# See the License for the specific language governing permissions and\n",
    "# limitations under the License."
   ]
  },
  {
   "cell_type": "markdown",
   "id": "0f8bb11c",
   "metadata": {},
   "source": [
    "# Tensorflow Similarity Sampler I/O Cookbook"
   ]
  },
  {
   "cell_type": "markdown",
   "id": "fc449167",
   "metadata": {},
   "source": [
    "<table class=\"tfo-notebook-buttons\" align=\"left\">\n",
    "  <td>\n",
    "    <a target=\"_blank\" href=\"https://colab.research.google.com/github/tensorflow/similarity/blob/master/examples/sampler_io_cookbook.ipynb\"><img src=\"https://www.tensorflow.org/images/colab_logo_32px.png\" />Run in Google Colab</a>\n",
    "  </td>\n",
    "  <td>\n",
    "    <a target=\"_blank\" href=\"https://github.com/tensorflow/similarity/blob/master/examples/sampler_io_cookbook.ipynb\"><img src=\"https://www.tensorflow.org/images/GitHub-Mark-32px.png\" />View source on GitHub</a>\n",
    "  </td>\n",
    "</table>"
   ]
  },
  {
   "attachments": {
    "contrastive_batch.png": {
     "image/png": "[encoded data removed]"
    }
   },
   "cell_type": "markdown",
   "id": "382f7b45",
   "metadata": {},
   "source": [
    "Tensorflow Similarity's Samplers ensure that each batch contains a target number of examples per class per batch. This ensures that the loss functions are able to construct tuples of anchor, positive, and negatives within each batch of examples.\n",
    "\n",
    "![contrastive_batch.png](https://raw.githubusercontent.com/tensorflow/similarity/master/assets/images/contrastive_batch.png)\n",
    "\n",
    "In this notebook you will learn how to use the:\n",
    "\n",
    "* `MultiShotMemorySampler()` for fitting to a sequence of data, such as a dataset.\n",
    "* `SingleShotMemorySampler()` to treat each example as a seperate class and generate augmented versions within each batch.\n",
    "* `TFDatasetMultiShotMemorySampler()` to directly integrate with the Tensorflow dataset catalog. "
   ]
  },
  {
   "cell_type": "markdown",
   "id": "73442fe4",
   "metadata": {},
   "source": [
    "## Imports"
   ]
  },
  {
   "cell_type": "code",
   "execution_count": 2,
   "id": "495e645a",
   "metadata": {},
   "outputs": [],
   "source": [
    "import os\n",
    "import random\n",
    "from typing import Tuple\n",
    "\n",
    "import numpy as np\n",
    "from matplotlib import pyplot as plt\n",
    "\n",
    "# INFO messages are not printed.\n",
    "# This must be run before loading other modules.\n",
    "os.environ[\"TF_CPP_MIN_LOG_LEVEL\"] = \"1\""
   ]
  },
  {
   "cell_type": "code",
   "execution_count": 3,
   "id": "e168c87f-094b-42cd-b1b4-1b47b737c861",
   "metadata": {},
   "outputs": [],
   "source": [
    "import tensorflow as tf"
   ]
  },
  {
   "cell_type": "code",
   "execution_count": 4,
   "id": "6eb306c8",
   "metadata": {},
   "outputs": [],
   "source": [
    "# install TF similarity if needed\n",
    "try:\n",
    "    import tensorflow_similarity as tfsim  # main package\n",
    "except ModuleNotFoundError:\n",
    "    !pip install tensorflow_similarity\n",
    "    import tensorflow_similarity as tfsim"
   ]
  },
  {
   "cell_type": "code",
   "execution_count": 5,
   "id": "a621fba7",
   "metadata": {},
   "outputs": [
    {
     "name": "stdout",
     "output_type": "stream",
     "text": [
      "You do not have pycocotools installed, so KerasCV pycoco metrics are not available. Please run `pip install pycocotools`.\n",
      "You do not have pyococotools installed, so the `PyCOCOCallback` API is not available.\n",
      "You do not have Waymo Open Dataset installed, so KerasCV Waymo metrics are not available.\n"
     ]
    }
   ],
   "source": [
    "# install TF similarity if needed\n",
    "try:\n",
    "    import keras_cv\n",
    "except ModuleNotFoundError:\n",
    "    !pip install keras-cv\n",
    "    import keras_cv"
   ]
  },
  {
   "cell_type": "code",
   "execution_count": 6,
   "id": "28ea3fc6",
   "metadata": {},
   "outputs": [],
   "source": [
    "tfsim.utils.tf_cap_memory()  # Avoid GPU memory blow up"
   ]
  },
  {
   "cell_type": "markdown",
   "id": "b758af4b",
   "metadata": {},
   "source": [
    "<hr>"
   ]
  },
  {
   "cell_type": "markdown",
   "id": "81170e44",
   "metadata": {},
   "source": [
    "# MultiShotMemorySampler: Load Random Numpy Arrays\n",
    "The following cell loads random numpy data using TensorFlow similarity`MultiShotMemorySampler()`.\n",
    "\n",
    "Using a sampler is required to ensure that each batch contains at least N samples for each class included in a batch. \n",
    "\n",
    "This batch strucutre is required for the contrastive loss to properly compute positive pairwise distances."
   ]
  },
  {
   "cell_type": "code",
   "execution_count": 7,
   "id": "9dfb57a7",
   "metadata": {},
   "outputs": [],
   "source": [
    "num_ms_examples = 100000  # @param {type:\"slider\", min:1000, max:1000000}\n",
    "num_ms_features = 784  # @param {type:\"slider\", min:10, max:1000}\n",
    "num_ms_classes = 10  # @param {type:\"slider\", min:2, max:1000}\n",
    "\n",
    "# We use random floats here to represent a dense feature vector\n",
    "X_ms = np.random.rand(num_ms_examples, num_ms_features)\n",
    "# We use random ints to represent N different classes\n",
    "y_ms = np.random.randint(low=0, high=10, size=num_ms_examples)"
   ]
  },
  {
   "cell_type": "code",
   "execution_count": 8,
   "id": "f89257be",
   "metadata": {},
   "outputs": [
    {
     "name": "stdout",
     "output_type": "stream",
     "text": [
      "\n",
      "The initial batch size is 10 (5 classes * 2 examples per class) with 0 augmentations\n"
     ]
    },
    {
     "data": {
      "application/vnd.jupyter.widget-view+json": {
       "model_id": "82678fe9e9884920902597a386baf578",
       "version_major": 2,
       "version_minor": 0
      },
      "text/plain": [
       "filtering examples:   0%|          | 0/100000 [00:00<?, ?it/s]"
      ]
     },
     "metadata": {},
     "output_type": "display_data"
    },
    {
     "data": {
      "application/vnd.jupyter.widget-view+json": {
       "model_id": "13321935f4a74678af96ae4b4905740a",
       "version_major": 2,
       "version_minor": 0
      },
      "text/plain": [
       "selecting classes:   0%|          | 0/5 [00:00<?, ?it/s]"
      ]
     },
     "metadata": {},
     "output_type": "display_data"
    },
    {
     "data": {
      "application/vnd.jupyter.widget-view+json": {
       "model_id": "ed039b2be5004eed982a854db7b94a63",
       "version_major": 2,
       "version_minor": 0
      },
      "text/plain": [
       "gather examples:   0%|          | 0/49934 [00:00<?, ?it/s]"
      ]
     },
     "metadata": {},
     "output_type": "display_data"
    },
    {
     "data": {
      "application/vnd.jupyter.widget-view+json": {
       "model_id": "a2337c6e62f7442180646f943d8cd820",
       "version_major": 2,
       "version_minor": 0
      },
      "text/plain": [
       "indexing classes:   0%|          | 0/49934 [00:00<?, ?it/s]"
      ]
     },
     "metadata": {},
     "output_type": "display_data"
    }
   ],
   "source": [
    "num_known_ms_classes = 5  # @param {type:\"slider\", min:2, max:1000}\n",
    "ms_classes_per_batch = num_known_ms_classes\n",
    "ms_examples_per_class_per_batch = 2  # @param {type:\"integer\"}\n",
    "ms_class_list = random.sample(range(num_ms_classes), k=num_known_ms_classes)\n",
    "\n",
    "ms_sampler = tfsim.samplers.MultiShotMemorySampler(\n",
    "    X_ms,\n",
    "    y_ms,\n",
    "    classes_per_batch=ms_classes_per_batch,\n",
    "    examples_per_class_per_batch=ms_examples_per_class_per_batch,\n",
    "    class_list=ms_class_list,\n",
    ")"
   ]
  },
  {
   "cell_type": "markdown",
   "id": "7b47ab3c",
   "metadata": {},
   "source": [
    "## Generating Batches\n",
    "The Tensorflow Similarity memory samplers are a subclass of [tf.keras.utils.Sequence](https://www.tensorflow.org/api_docs/python/tf/keras/utils/Sequence), overriding the `__getitem__` and `__len__` methods. \n",
    "\n",
    "Additionally, Tensorflow Similarity provides a `generate_batch()` method that takes a batch ID and yields a single batch. \n",
    "\n",
    "We verify that the batch batch only conatins the classes defined in `CLASS_LIST` and that each class has `ms_classes_per_batch` * `ms_examples_per_class_per_batch` examples. "
   ]
  },
  {
   "cell_type": "code",
   "execution_count": 9,
   "id": "761c0ca3",
   "metadata": {},
   "outputs": [
    {
     "name": "stdout",
     "output_type": "stream",
     "text": [
      "########## X ##########\n",
      "tf.Tensor(\n",
      "[[0.19248764 0.61291932 0.40422513 ... 0.89819151 0.37199368 0.27918633]\n",
      " [0.29876896 0.53128314 0.74438536 ... 0.32843909 0.02720956 0.7128796 ]\n",
      " [0.47501375 0.34614791 0.55476225 ... 0.03645525 0.83235993 0.29224485]\n",
      " ...\n",
      " [0.2957734  0.09590688 0.55507987 ... 0.16257916 0.60647483 0.03271145]\n",
      " [0.04106904 0.79228768 0.83382441 ... 0.71110069 0.65976646 0.15458336]\n",
      " [0.50098941 0.07542256 0.77543861 ... 0.95101453 0.15802    0.09314214]], shape=(10, 784), dtype=float64)\n",
      "\n",
      "########## y ##########\n",
      "tf.Tensor([8 8 5 5 6 6 7 7 2 2], shape=(10,), dtype=int64)\n"
     ]
    }
   ],
   "source": [
    "X_ms_batch, y_ms_batch = ms_sampler.generate_batch(100)\n",
    "print(\"#\" * 10 + \" X \" + \"#\" * 10)\n",
    "print(X_ms_batch)\n",
    "print(\"\\n\" + \"#\" * 10 + \" y \" + \"#\" * 10)\n",
    "print(y_ms_batch)\n",
    "\n",
    "# Check that the batch size is equal to the target number of classes * target number of examples per class.\n",
    "assert tf.shape(X_ms_batch)[0] == (ms_classes_per_batch * ms_examples_per_class_per_batch)\n",
    "# Check that the number of columns matches the number of expected features.\n",
    "assert tf.shape(X_ms_batch)[1] == (num_ms_features)\n",
    "# Check that classes in the batch are from the allowed set in CLASS_LIST\n",
    "assert set(tf.unique(y_ms_batch)[0].numpy()) - set(ms_class_list) == set()\n",
    "# Check that we only have NUM_CLASSES_PER_BATCH\n",
    "assert len(tf.unique(y_ms_batch)[0]) == ms_classes_per_batch"
   ]
  },
  {
   "cell_type": "markdown",
   "id": "1b61c162",
   "metadata": {},
   "source": [
    "## Sampler Sizes\n",
    "\n",
    "`MultiShotMemorySampler()` provides various attributes for accessing info about the data:\n",
    "* `__len__` provides the number of steps per epoch. \n",
    "* `num_examples` provides the total number of examples within the sampler.\n",
    "* `example_shape` provides the shape of the examples.\n",
    "\n",
    "The `num_examples` attribute represents the subset of X and y where y is in the `class_list` with each class limited to `num_examples_per_class`."
   ]
  },
  {
   "cell_type": "code",
   "execution_count": 10,
   "id": "8da0a1b7",
   "metadata": {},
   "outputs": [
    {
     "name": "stdout",
     "output_type": "stream",
     "text": [
      "The sampler contains 1000 steps per epoch.\n",
      "The sampler is using 49934 examples out of the original 100000.\n",
      "Each examples has the following shape: (784,).\n"
     ]
    }
   ],
   "source": [
    "print(f\"The sampler contains {len(ms_sampler)} steps per epoch.\")\n",
    "print(f\"The sampler is using {ms_sampler.num_examples} examples out of the original {num_ms_examples}.\")\n",
    "print(f\"Each examples has the following shape: {ms_sampler.example_shape}.\")"
   ]
  },
  {
   "cell_type": "markdown",
   "id": "8e1d40e2",
   "metadata": {},
   "source": [
    "## Accessing the Examples\n",
    "\n",
    "Additionaly, the `MultiShotMemorySampler()` provides `get_slice()` for manually accessing examples within the Sampler.\n",
    "\n",
    "**NOTE**: the examples are shuffled when creating the Sampler but will yield the same examples for each call to get_slice(begin, size)."
   ]
  },
  {
   "cell_type": "code",
   "execution_count": 11,
   "id": "7f3a12e5",
   "metadata": {},
   "outputs": [
    {
     "name": "stdout",
     "output_type": "stream",
     "text": [
      "########## X ##########\n",
      "tf.Tensor(\n",
      "[[0.54570119 0.84006844 0.83103494 ... 0.99253861 0.52576743 0.49425797]\n",
      " [0.57255248 0.71518692 0.279714   ... 0.59335533 0.16131468 0.04459923]\n",
      " [0.33946836 0.84027122 0.11457299 ... 0.63484451 0.4159198  0.06742831]\n",
      " ...\n",
      " [0.19489222 0.56159231 0.35709335 ... 0.09391349 0.40379355 0.56642335]\n",
      " [0.10738142 0.83529583 0.9377131  ... 0.50924382 0.50854902 0.01388778]\n",
      " [0.05985885 0.923378   0.81330865 ... 0.53045131 0.72397413 0.15207588]], shape=(10, 784), dtype=float64)\n",
      "\n",
      "########## y ##########\n",
      "tf.Tensor([2 5 2 8 5 5 8 6 7 7], shape=(10,), dtype=int64)\n"
     ]
    }
   ],
   "source": [
    "# Get 10 examples starting at example 200.\n",
    "X_ms_slice, y_ms_slice = ms_sampler.get_slice(begin=200, size=10)\n",
    "print(\"#\" * 10 + \" X \" + \"#\" * 10)\n",
    "print(X_ms_slice)\n",
    "print(\"\\n\" + \"#\" * 10 + \" y \" + \"#\" * 10)\n",
    "print(y_ms_slice)\n",
    "\n",
    "# Check that the batch size is equal to our get_slice size.\n",
    "assert tf.shape(X_ms_slice)[0] == 10\n",
    "# Check that the number of columns matches the number of expected features.\n",
    "assert tf.shape(X_ms_slice)[1] == (num_ms_features)\n",
    "# Check that classes in the batch are from the allowed set in CLASS_LIST\n",
    "assert set(tf.unique(y_ms_slice)[0].numpy()) - set(ms_class_list) == set()"
   ]
  },
  {
   "cell_type": "markdown",
   "id": "5b67e244",
   "metadata": {},
   "source": [
    "<hr>"
   ]
  },
  {
   "cell_type": "markdown",
   "id": "5ed22d48",
   "metadata": {},
   "source": [
    "# SingleShotMemorySampler: Augmented MNIST Examples\n",
    "\n",
    "The following cell loads and augments MNIST examples using the `SingleShotMemorySampler()`.\n",
    "\n",
    "The Sampler treats each example as it's own class and adds augmented versions of each image to the batch.\n",
    "\n",
    "This means the final batch size is the number of `examples per batch * (1 + the number of augmentations)`."
   ]
  },
  {
   "cell_type": "code",
   "execution_count": 12,
   "id": "ac5979f9",
   "metadata": {},
   "outputs": [],
   "source": [
    "(aug_x, _), _ = tf.keras.datasets.mnist.load_data()\n",
    "# Normalize the image data.\n",
    "aug_x = tf.cast(aug_x / 255.0, dtype=\"float32\")"
   ]
  },
  {
   "cell_type": "code",
   "execution_count": 13,
   "id": "1e40f64c",
   "metadata": {},
   "outputs": [
    {
     "name": "stdout",
     "output_type": "stream",
     "text": [
      "\n",
      "The initial batch size is 18 (18 classes * 1 examples per class) with 1 augmentations\n"
     ]
    }
   ],
   "source": [
    "aug_num_examples_per_batch = 18  # @param {type:\"slider\", min:18, max:512}\n",
    "aug_num_augmentations_per_example = 1  # @param {type:\"slider\", min:1, max:3}\n",
    "\n",
    "\n",
    "data_augmentation = tf.keras.Sequential(\n",
    "    [\n",
    "        keras_cv.layers.RandomRotation(0.12),\n",
    "        keras_cv.layers.RandomZoom(0.25),\n",
    "    ]\n",
    ")\n",
    "\n",
    "\n",
    "def augmenter(\n",
    "    x: tfsim.types.FloatTensor, y: tfsim.types.IntTensor, examples_per_class: int, is_warmup: bool, stddev=0.025\n",
    ") -> Tuple[tfsim.types.FloatTensor, tfsim.types.IntTensor]:\n",
    "    \"\"\"Image augmentation function.\n",
    "\n",
    "    Args:\n",
    "        X: FloatTensor representing the example features.\n",
    "        y: IntTensor representing the class id. In this case\n",
    "           the example index will be used as the class id.\n",
    "        examples_per_class: The number of examples per class.\n",
    "           Not used here.\n",
    "        is_warmup: If True, the training is still in a warm\n",
    "           up state. Not used here.\n",
    "        stddev: Sets the amount of gaussian noise added to\n",
    "           the image.\n",
    "    \"\"\"\n",
    "    _ = examples_per_class\n",
    "    _ = is_warmup\n",
    "\n",
    "    aug = tf.squeeze(data_augmentation(tf.expand_dims(x, -1)))\n",
    "    aug = aug + tf.random.normal(tf.shape(aug), stddev=stddev)\n",
    "    x = tf.concat((x, aug), axis=0)\n",
    "    y = tf.concat((y, y), axis=0)\n",
    "    idxs = tf.range(start=0, limit=tf.shape(x)[0])\n",
    "    idxs = tf.random.shuffle(idxs)\n",
    "    x = tf.gather(x, idxs)\n",
    "    y = tf.gather(y, idxs)\n",
    "    return x, y\n",
    "\n",
    "\n",
    "aug_sampler = tfsim.samplers.SingleShotMemorySampler(\n",
    "    aug_x,\n",
    "    augmenter=augmenter,\n",
    "    examples_per_batch=aug_num_examples_per_batch,\n",
    "    num_augmentations_per_example=aug_num_augmentations_per_example,\n",
    ")"
   ]
  },
  {
   "cell_type": "code",
   "execution_count": 14,
   "id": "1a0e5bfd",
   "metadata": {},
   "outputs": [
    {
     "name": "stdout",
     "output_type": "stream",
     "text": [
     ]
    },
    {
     "data": {
      "image/png": "[encoded data removed]",
      "text/plain": [
       "<Figure size 1000x1000 with 36 Axes>"
      ]
     },
     "metadata": {},
     "output_type": "display_data"
    }
   ],
   "source": [
    "# Plot the first 36 examples\n",
    "num_imgs = 36\n",
    "num_row = num_col = 6\n",
    "aug_batch_x, aug_batch_y = aug_sampler[0]\n",
    "# Sort the class ids so we can see the original\n",
    "# and augmented versions as pairs.\n",
    "sorted_idx = tf.argsort(aug_batch_y)\n",
    "plt.figure(figsize=(10, 10))\n",
    "for i in range(num_imgs):\n",
    "    idx = sorted_idx[i]\n",
    "    ax = plt.subplot(num_row, num_col, i + 1)\n",
    "    plt.imshow(aug_batch_x[idx])\n",
    "    plt.title(int(aug_batch_y[idx]))\n",
    "    plt.axis(\"off\")\n",
    "\n",
    "plt.tight_layout()"
   ]
  },
  {
   "cell_type": "markdown",
   "id": "3a196870",
   "metadata": {},
   "source": [
    "## Sampler Sizes\n",
    "\n",
    "`SingleShotMemorySampler()` provides various attributes for accessing info about the data:\n",
    "* `__len__` provides the number of steps per epoch. \n",
    "* `num_examples` provides the number of examples within the sampler.\n",
    "* `example_shape` provides the shape of the examples.\n",
    "\n",
    "The `num_examples` attribute represents the unaugmented examples within the sampler."
   ]
  },
  {
   "cell_type": "code",
   "execution_count": 15,
   "id": "425911a3",
   "metadata": {},
   "outputs": [
    {
     "name": "stdout",
     "output_type": "stream",
     "text": [
      "The sampler contains 1000 steps per epoch.\n",
      "The sampler is using 60000 examples out of the original 60000.\n",
      "Each examples has the following shape: (28, 28).\n"
     ]
    }
   ],
   "source": [
    "print(f\"The sampler contains {len(aug_sampler)} steps per epoch.\")\n",
    "print(f\"The sampler is using {aug_sampler.num_examples} examples out of the original {len(aug_x)}.\")\n",
    "print(f\"Each examples has the following shape: {aug_sampler.example_shape}.\")"
   ]
  },
  {
   "cell_type": "markdown",
   "id": "b922faff",
   "metadata": {},
   "source": [
    "## Accessing the Examples\n",
    "\n",
    "Additionaly, the `SingleShotMemorySampler()` provides `get_slice()` for manually accessing examples within the Sampler.\n",
    "\n",
    "The method returns slice size plus the augmented examples returned by the augmenter function."
   ]
  },
  {
   "cell_type": "code",
   "execution_count": 16,
   "id": "bff894f9",
   "metadata": {},
   "outputs": [
    {
     "name": "stdout",
     "output_type": "stream",
     "text": [
      "########## X ##########\n",
      "tf.Tensor(\n",
      "[[-0.04453972  0.00097745 -0.01257227 ...  0.          0.\n",
      "   0.        ]\n",
      " [ 0.          0.          0.         ...  0.01844395  0.03618736\n",
      "   0.00371235]\n",
      " [ 0.          0.          0.         ... -0.00097358  0.00246273\n",
      "  -0.04310802]\n",
      " ...\n",
      " [ 0.          0.          0.         ... -0.04557702  0.00022209\n",
      "  -0.01331766]\n",
      " [-0.02455783  0.00118382  0.00791673 ...  0.          0.\n",
      "   0.        ]\n",
      " [ 0.          0.          0.         ...  0.          0.\n",
      "   0.        ]], shape=(10, 1568), dtype=float32)\n",
      "\n",
      "########## y ##########\n",
      "tf.Tensor(\n",
      "[208 206 204 202 202 200 204 206 208 207 209 203 207 201 205 205 203 200\n",
      " 201 209], shape=(20,), dtype=int32)\n"
     ]
    }
   ],
   "source": [
    "# Get 10 examples starting at example 200.\n",
    "X_aug_slice, y_aug_slice = aug_sampler.get_slice(begin=200, size=10)\n",
    "print(\"#\" * 10 + \" X \" + \"#\" * 10)\n",
    "print(tf.reshape(X_aug_slice, (10, -1)))\n",
    "print(\"\\n\" + \"#\" * 10 + \" y \" + \"#\" * 10)\n",
    "print(y_aug_slice)\n",
    "\n",
    "# Check that the batch size is double our get_slice size (original examples + augmented examples).\n",
    "assert tf.shape(X_aug_slice)[0] == 10 + 10\n",
    "# Check that the number of columns matches the number of expected features.\n",
    "assert tf.shape(X_aug_slice)[1] == (28)\n",
    "# Check that the number of columns matches the number of expected features.\n",
    "assert tf.shape(X_aug_slice)[2] == (28)"
   ]
  },
  {
   "cell_type": "markdown",
   "id": "959bf1e9",
   "metadata": {},
   "source": [
    "<hr>"
   ]
  },
  {
   "cell_type": "markdown",
   "id": "1d87627e",
   "metadata": {},
   "source": [
    "# TFDatasetMultiShotMemorySampler: Load data from TF Dataset\n",
    "The following cell loads data directly from the TensorFlow catalog using TensorFlow similarity\n",
    "`TFDatasetMultiShotMemorySampler()`. \n",
    "\n",
    "Using a sampler is required to ensure that each batch contains at least N samples of each class incuded in a batch. Otherwise the contrastive loss does not work properly as it can't compute positive distances."
   ]
  },
  {
   "cell_type": "code",
   "execution_count": 17,
   "id": "b5f849e3",
   "metadata": {},
   "outputs": [],
   "source": [
    "IMG_SIZE = 300  # @param {type:\"integer\"}\n",
    "\n",
    "# preprocessing function that resizes images to ensure all images are the same shape\n",
    "def resize(img, label):\n",
    "    with tf.device(\"/cpu:0\"):\n",
    "        img = tf.cast(img, dtype=\"int32\")\n",
    "        img = tf.image.resize_with_pad(img, IMG_SIZE, IMG_SIZE)\n",
    "        return img, label"
   ]
  },
  {
   "cell_type": "code",
   "execution_count": 18,
   "id": "25857539",
   "metadata": {},
   "outputs": [
    {
     "name": "stdout",
     "output_type": "stream",
     "text": [
      "Class IDs seen during training [22, 21, 26, 18, 0, 36, 13, 28, 19, 11, 16, 35, 7, 5, 2, 31]\n",
      "\n",
      "########## Train Sampler ##########\n"
     ]
    },
    {
     "data": {
      "application/vnd.jupyter.widget-view+json": {
       "model_id": "7577fefbc80347629be3a2dcd46877e3",
       "version_major": 2,
       "version_minor": 0
      },
      "text/plain": [
       "converting train:   0%|          | 0/3680 [00:00<?, ?it/s]"
      ]
     },
     "metadata": {},
     "output_type": "display_data"
    },
    {
     "name": "stderr",
     "output_type": "stream",
     "text": [
      "Corrupt JPEG data: 240 extraneous bytes before marker 0xd9\n",
      "Corrupt JPEG data: premature end of data segment\n"
     ]
    },
    {
     "data": {
      "application/vnd.jupyter.widget-view+json": {
       "model_id": "2d00610e54084a269a938a959d7b6462",
       "version_major": 2,
       "version_minor": 0
      },
      "text/plain": [
       "Preprocessing data:   0%|          | 0/3680 [00:00<?, ?it/s]"
      ]
     },
     "metadata": {},
     "output_type": "display_data"
    },
    {
     "name": "stdout",
     "output_type": "stream",
     "text": [
      "\n",
      "The initial batch size is 64 (16 classes * 4 examples per class) with 0 augmentations\n"
     ]
    },
    {
     "data": {
      "application/vnd.jupyter.widget-view+json": {
       "model_id": "dc28a4f1b4374714a79a0c58cada1281",
       "version_major": 2,
       "version_minor": 0
      },
      "text/plain": [
       "filtering examples:   0%|          | 0/3680 [00:00<?, ?it/s]"
      ]
     },
     "metadata": {},
     "output_type": "display_data"
    },
    {
     "data": {
      "application/vnd.jupyter.widget-view+json": {
       "model_id": "da148a298acf4e83818462a178ccdb44",
       "version_major": 2,
       "version_minor": 0
      },
      "text/plain": [
       "selecting classes:   0%|          | 0/16 [00:00<?, ?it/s]"
      ]
     },
     "metadata": {},
     "output_type": "display_data"
    },
    {
     "data": {
      "application/vnd.jupyter.widget-view+json": {
       "model_id": "5888b629857146c09f9764b42eb300a2",
       "version_major": 2,
       "version_minor": 0
      },
      "text/plain": [
       "gather examples:   0%|          | 0/1585 [00:00<?, ?it/s]"
      ]
     },
     "metadata": {},
     "output_type": "display_data"
    },
    {
     "data": {
      "application/vnd.jupyter.widget-view+json": {
       "model_id": "163beae24aed4829b9af3742baed4820",
       "version_major": 2,
       "version_minor": 0
      },
      "text/plain": [
       "indexing classes:   0%|          | 0/1585 [00:00<?, ?it/s]"
      ]
     },
     "metadata": {},
     "output_type": "display_data"
    },
    {
     "name": "stdout",
     "output_type": "stream",
     "text": [
      "\n",
      "########## Test Sampler ##########\n"
     ]
    },
    {
     "data": {
      "application/vnd.jupyter.widget-view+json": {
       "model_id": "5d862a2f753a421894011e171e012e2d",
       "version_major": 2,
       "version_minor": 0
      },
      "text/plain": [
       "converting test:   0%|          | 0/3669 [00:00<?, ?it/s]"
      ]
     },
     "metadata": {},
     "output_type": "display_data"
    },
    {
     "data": {
      "application/vnd.jupyter.widget-view+json": {
       "model_id": "3fb4aa3878c14eccb382ad9e9d11c4b3",
       "version_major": 2,
       "version_minor": 0
      },
      "text/plain": [
       "Preprocessing data:   0%|          | 0/3669 [00:00<?, ?it/s]"
      ]
     },
     "metadata": {},
     "output_type": "display_data"
    },
    {
     "name": "stdout",
     "output_type": "stream",
     "text": [
      "\n",
      "The initial batch size is 32 (16 classes * 2 examples per class) with 0 augmentations\n"
     ]
    },
    {
     "data": {
      "application/vnd.jupyter.widget-view+json": {
       "model_id": "fb7404bb22414d20a7ce9823785662e6",
       "version_major": 2,
       "version_minor": 0
      },
      "text/plain": [
       "filtering examples:   0%|          | 0/3669 [00:00<?, ?it/s]"
      ]
     },
     "metadata": {},
     "output_type": "display_data"
    },
    {
     "data": {
      "application/vnd.jupyter.widget-view+json": {
       "model_id": "8b3101b345af457bb9f6b85585d5336f",
       "version_major": 2,
       "version_minor": 0
      },
      "text/plain": [
       "selecting classes:   0%|          | 0/37 [00:00<?, ?it/s]"
      ]
     },
     "metadata": {},
     "output_type": "display_data"
    },
    {
     "data": {
      "application/vnd.jupyter.widget-view+json": {
       "model_id": "4b3b8935cd784afda4e51afdfa867b02",
       "version_major": 2,
       "version_minor": 0
      },
      "text/plain": [
       "gather examples:   0%|          | 0/740 [00:00<?, ?it/s]"
      ]
     },
     "metadata": {},
     "output_type": "display_data"
    },
    {
     "data": {
      "application/vnd.jupyter.widget-view+json": {
       "model_id": "ea704817558b4cf9b13035fa8e858315",
       "version_major": 2,
       "version_minor": 0
      },
      "text/plain": [
       "indexing classes:   0%|          | 0/740 [00:00<?, ?it/s]"
      ]
     },
     "metadata": {},
     "output_type": "display_data"
    }
   ],
   "source": [
    "training_classes = 16  # @param {type:\"slider\", min:1, max:37}\n",
    "tfds_examples_per_class_per_batch = 4  # @param {type:\"integer\"}\n",
    "tfds_class_list = random.sample(range(37), k=training_classes)\n",
    "tfds_classes_per_batch = max(16, training_classes)\n",
    "\n",
    "print(f\"Class IDs seen during training {tfds_class_list}\\n\")\n",
    "\n",
    "# use the train split for training\n",
    "print(\"#\" * 10 + \" Train Sampler \" + \"#\" * 10)\n",
    "train_ds = tfsim.samplers.TFDatasetMultiShotMemorySampler(\n",
    "    \"oxford_iiit_pet\",\n",
    "    splits=\"train\",\n",
    "    examples_per_class_per_batch=tfds_examples_per_class_per_batch,\n",
    "    classes_per_batch=tfds_classes_per_batch,\n",
    "    preprocess_fn=resize,\n",
    "    class_list=tfds_class_list,\n",
    ")  # We filter train data to only keep the train classes.\n",
    "\n",
    "# use the test split for indexing and querying\n",
    "print(\"\\n\" + \"#\" * 10 + \" Test Sampler \" + \"#\" * 10)\n",
    "test_ds = tfsim.samplers.TFDatasetMultiShotMemorySampler(\n",
    "    \"oxford_iiit_pet\", splits=\"test\", total_examples_per_class=20, classes_per_batch=tfds_classes_per_batch, preprocess_fn=resize\n",
    ")"
   ]
  },
  {
   "cell_type": "markdown",
   "id": "229258e1",
   "metadata": {},
   "source": [
    "## Generating Batches\n",
    "The Tensorflow Similarity memory samplers are a subclass of [tf.keras.utils.Sequence](https://www.tensorflow.org/api_docs/python/tf/keras/utils/Sequence), overriding the `__getitem__` and `__len__` methods. \n",
    "\n",
    "Additionally, Tensorflow Similarity provides a `generate_batch()` method that takes a batch ID and yields a single batch. \n",
    "\n",
    "We verify that the batch batch only conatins the classes defined in `CLASS_LIST` and that each class has `tfds_classes_per_batch` * `tfds_examples_per_class_per_batch` examples. "
   ]
  },
  {
   "cell_type": "code",
   "execution_count": 19,
   "id": "dab4869e",
   "metadata": {},
   "outputs": [
    {
     "name": "stdout",
     "output_type": "stream",
     "text": [
      "########## X ##########\n",
      "Actual Tensor Shape (64, 300, 300, 3)\n",
      "tf.Tensor(\n",
      "[[0. 0. 0. ... 0. 0. 0.]\n",
      " [0. 0. 0. ... 0. 0. 0.]\n",
      " [0. 0. 0. ... 0. 0. 0.]\n",
      " ...\n",
      " [0. 0. 0. ... 0. 0. 0.]\n",
      " [0. 0. 0. ... 0. 0. 0.]\n",
      " [0. 0. 0. ... 0. 0. 0.]], shape=(64, 270000), dtype=float32)\n",
      "\n",
      "########## y ##########\n",
      "tf.Tensor(\n",
      "[ 0  0  0  0 36 36 36 36 28 28 28 28 35 35 35 35 18 18 18 18 26 26 26 26\n",
      " 22 22 22 22 13 13 13 13 21 21 21 21 11 11 11 11  7  7  7  7 16 16 16 16\n",
      " 19 19 19 19  5  5  5  5  2  2  2  2 31 31 31 31], shape=(64,), dtype=int64)\n"
     ]
    }
   ],
   "source": [
    "X_tfds_batch, y_tfds_batch = train_ds.generate_batch(100)\n",
    "print(\"#\" * 10 + \" X \" + \"#\" * 10)\n",
    "print(f\"Actual Tensor Shape {X_tfds_batch.shape}\")\n",
    "print(tf.reshape(X_tfds_batch, (len(X_tfds_batch), -1)))\n",
    "print(\"\\n\" + \"#\" * 10 + \" y \" + \"#\" * 10)\n",
    "print(y_tfds_batch)\n",
    "\n",
    "# Check that the batch size is equal to the target number of classes * target number of examples per class.\n",
    "assert tf.shape(X_tfds_batch)[0] == (tfds_classes_per_batch * tfds_examples_per_class_per_batch)\n",
    "# Check that the number of columns matches the number of expected features.\n",
    "assert tf.shape(X_tfds_batch)[1] == (300)\n",
    "# Check that the number of columns matches the number of expected features.\n",
    "assert tf.shape(X_tfds_batch)[2] == (300)\n",
    "# Check that the number of columns matches the number of expected features.\n",
    "assert tf.shape(X_tfds_batch)[3] == (3)\n",
    "# Check that classes in the batch are from the allowed set in CLASS_LIST\n",
    "assert set(tf.unique(y_tfds_batch)[0].numpy()) - set(tfds_class_list) == set()\n",
    "# Check that we only have NUM_CLASSES_PER_BATCH\n",
    "assert len(tf.unique(y_tfds_batch)[0]) == tfds_classes_per_batch"
   ]
  },
  {
   "cell_type": "markdown",
   "id": "a0b343de",
   "metadata": {},
   "source": [
    "## Sampler Sizes\n",
    "\n",
    "`TFDatasetMultiShotMemorySampler()` provides various attributes for accessing info about the data:\n",
    "* `__len__` provides the number of steps per epoch. \n",
    "* `num_examples` provides the number of examples within the sampler.\n",
    "* `example_shape` provides the shape of the examples."
   ]
  },
  {
   "cell_type": "code",
   "execution_count": 20,
   "id": "8d0314c5",
   "metadata": {},
   "outputs": [
    {
     "name": "stdout",
     "output_type": "stream",
     "text": [
      "The Train sampler contains 1000 steps per epoch.\n",
      "The Train sampler is using 1585 examples.\n",
      "Each examples has the following shape: (300, 300, 3).\n"
     ]
    }
   ],
   "source": [
    "print(f\"The Train sampler contains {len(train_ds)} steps per epoch.\")\n",
    "print(f\"The Train sampler is using {train_ds.num_examples} examples.\")\n",
    "print(f\"Each examples has the following shape: {train_ds.example_shape}.\")"
   ]
  },
  {
   "cell_type": "code",
   "execution_count": 21,
   "id": "d4a57ce5",
   "metadata": {},
   "outputs": [
    {
     "name": "stdout",
     "output_type": "stream",
     "text": [
      "The Test sampler contains 1000 steps per epoch.\n",
      "The Test sampler is using 740 examples.\n",
      "Each examples has the following shape: (300, 300, 3).\n"
     ]
    }
   ],
   "source": [
    "print(f\"The Test sampler contains {len(test_ds)} steps per epoch.\")\n",
    "print(f\"The Test sampler is using {test_ds.num_examples} examples.\")\n",
    "print(f\"Each examples has the following shape: {test_ds.example_shape}.\")"
   ]
  },
  {
   "cell_type": "markdown",
   "id": "4c495157",
   "metadata": {},
   "source": [
    "## Accessing the Examples\n",
    "\n",
    "Additionaly, the `SingleShotMemorySampler()` provides `get_slice()` for manually accessing examples within the Sampler.\n",
    "\n",
    "The method returns slice size plus the augmented examples returned by the augmenter function."
   ]
  },
  {
   "cell_type": "code",
   "execution_count": 22,
   "id": "0e1329c0",
   "metadata": {},
   "outputs": [
    {
     "name": "stdout",
     "output_type": "stream",
     "text": [
      "########## X ##########\n",
      "Actual Tensor Shape (10, 300, 300, 3)\n",
      "tf.Tensor(\n",
      "[[  0.   0.   0. ...   0.   0.   0.]\n",
      " [  0.   0.   0. ...   0.   0.   0.]\n",
      " [  0.   0.   0. ...   0.   0.   0.]\n",
      " ...\n",
      " [  0.   0.   0. ...   0.   0.   0.]\n",
      " [255. 255. 255. ... 194. 194. 194.]\n",
      " [  0.   0.   0. ...   0.   0.   0.]], shape=(10, 270000), dtype=float32)\n",
      "\n",
      "########## y ##########\n",
      "tf.Tensor([26 28 22 18 26  0 16 19  2 21], shape=(10,), dtype=int64)\n"
     ]
    }
   ],
   "source": [
    "# Get 10 examples starting at example 200.\n",
    "X_tfds_slice, y_tfds_slice = train_ds.get_slice(begin=200, size=10)\n",
    "print(\"#\" * 10 + \" X \" + \"#\" * 10)\n",
    "print(f\"Actual Tensor Shape {X_tfds_slice.shape}\")\n",
    "print(tf.reshape(X_tfds_slice, (len(X_tfds_slice), -1)))\n",
    "print(\"\\n\" + \"#\" * 10 + \" y \" + \"#\" * 10)\n",
    "print(y_tfds_slice)\n",
    "\n",
    "# Check that the batch size.\n",
    "assert tf.shape(X_tfds_slice)[0] == 10\n",
    "# Check that the number of columns matches the number of expected features.\n",
    "assert tf.shape(X_tfds_slice)[1] == (300)\n",
    "# Check that the number of columns matches the number of expected features.\n",
    "assert tf.shape(X_tfds_slice)[2] == (300)\n",
    "# Check that the number of columns matches the number of expected features.\n",
    "assert tf.shape(X_tfds_slice)[3] == (3)"
   ]
  },
  {
   "cell_type": "code",
   "execution_count": 23,
   "id": "97f393eb",
   "metadata": {},
   "outputs": [
    {
     "name": "stdout",
     "output_type": "stream",
     "text": [
      "########## X ##########\n",
      "Actual Tensor Shape (10, 300, 300, 3)\n",
      "tf.Tensor(\n",
      "[[0. 0. 0. ... 0. 0. 0.]\n",
      " [0. 0. 0. ... 0. 0. 0.]\n",
      " [0. 0. 0. ... 0. 0. 0.]\n",
      " ...\n",
      " [0. 0. 0. ... 0. 0. 0.]\n",
      " [0. 0. 0. ... 0. 0. 0.]\n",
      " [0. 0. 0. ... 0. 0. 0.]], shape=(10, 270000), dtype=float32)\n",
      "\n",
      "########## y ##########\n",
      "tf.Tensor([24 22  4  7  0 34 25 36 29  7], shape=(10,), dtype=int64)\n"
     ]
    }
   ],
   "source": [
    "# Get 10 examples starting at example 200.\n",
    "X_tfds_slice, y_tfds_slice = test_ds.get_slice(begin=200, size=10)\n",
    "print(\"#\" * 10 + \" X \" + \"#\" * 10)\n",
    "print(f\"Actual Tensor Shape {X_tfds_slice.shape}\")\n",
    "print(tf.reshape(X_tfds_slice, (len(X_tfds_slice), -1)))\n",
    "print(\"\\n\" + \"#\" * 10 + \" y \" + \"#\" * 10)\n",
    "print(y_tfds_slice)\n",
    "\n",
    "# Check that the batch size.\n",
    "assert tf.shape(X_tfds_slice)[0] == 10\n",
    "# Check that the number of columns matches the number of expected features.\n",
    "assert tf.shape(X_tfds_slice)[1] == (300)\n",
    "# Check that the number of columns matches the number of expected features.\n",
    "assert tf.shape(X_tfds_slice)[2] == (300)\n",
    "# Check that the number of columns matches the number of expected features.\n",
    "assert tf.shape(X_tfds_slice)[3] == (3)"
   ]
  }
 ],
 "metadata": {
  "environment": {
   "kernel": "python3",
   "name": "tf2-gpu.2-8.m91",
   "type": "gcloud",
   "uri": "gcr.io/deeplearning-platform-release/tf2-gpu.2-8:m91"
  },
  "kernelspec": {
   "display_name": ".env",
   "language": "python",
   "name": "python3"
  },
  "language_info": {
   "codemirror_mode": {
    "name": "ipython",
    "version": 3
   },
   "file_extension": ".py",
   "mimetype": "text/x-python",
   "name": "python",
   "nbconvert_exporter": "python",
   "pygments_lexer": "ipython3",
   "version": "3.8.10"
  },
  "vscode": {
   "interpreter": {
    "hash": "c7b3389fe492617a9dd862ce9e69c0dfb3e62254a4be8ff5561f4f9b5c78139c"
   }
  }
 },
 "nbformat": 4,
 "nbformat_minor": 5
}
