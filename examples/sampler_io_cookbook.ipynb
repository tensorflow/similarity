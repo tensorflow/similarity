{
 "cells": [
  {
   "cell_type": "markdown",
   "id": "e9739740",
   "metadata": {},
   "source": [
    "Copyright 2021 The TensorFlow Similarity Authors."
   ]
  },
  {
   "cell_type": "code",
   "execution_count": 1,
   "id": "2dc52802",
   "metadata": {},
   "outputs": [],
   "source": [
    "# @title Licensed under the Apache License, Version 2.0 (the \"License\");\n",
    "# you may not use this file except in compliance with the License.\n",
    "# You may obtain a copy of the License at\n",
    "#\n",
    "# https://www.apache.org/licenses/LICENSE-2.0\n",
    "#\n",
    "# Unless required by applicable law or agreed to in writing, software\n",
    "# distributed under the License is distributed on an \"AS IS\" BASIS,\n",
    "# WITHOUT WARRANTIES OR CONDITIONS OF ANY KIND, either express or implied.\n",
    "# See the License for the specific language governing permissions and\n",
    "# limitations under the License."
   ]
  },
  {
   "cell_type": "markdown",
   "id": "0f8bb11c",
   "metadata": {},
   "source": [
    "# Tensorflow Similarity Sampler I/O Cookbook"
   ]
  },
  {
   "cell_type": "markdown",
   "id": "fc449167",
   "metadata": {},
   "source": [
    "<table class=\"tfo-notebook-buttons\" align=\"left\">\n",
    "  <td>\n",
    "    <a target=\"_blank\" href=\"https://colab.research.google.com/github/tensorflow/similarity/blob/master/examples/sampler_io_cookbook.ipynb\"><img src=\"https://www.tensorflow.org/images/colab_logo_32px.png\" />Run in Google Colab</a>\n",
    "  </td>\n",
    "  <td>\n",
    "    <a target=\"_blank\" href=\"https://github.com/tensorflow/similarity/blob/master/examples/sampler_io_cookbook.ipynb\"><img src=\"https://www.tensorflow.org/images/GitHub-Mark-32px.png\" />View source on GitHub</a>\n",
    "  </td>\n",
    "</table>"
   ]
  },
  {
   "attachments": {
    "contrastive_batch.png": {
     "image/png": "[encoded data removed]"
    }
   },
   "cell_type": "markdown",
   "id": "382f7b45",
   "metadata": {},
   "source": [
    "Tensorflow Similarity's Samplers ensure that each batch contains a target number of examples per class per batch. This ensures that the loss functions are able to construct tuples of anchor, positive, and negatives within each batch of examples.\n",
    "\n",
    "![contrastive_batch.png](https://raw.githubusercontent.com/tensorflow/similarity/master/assets/images/contrastive_batch.png)\n",
    "\n",
    "In this notebook you will learn how to use the:\n",
    "\n",
    "* `MultiShotMemorySampler()` for fitting to a sequence of data, such as a dataset.\n",
    "* `SingleShotMemorySampler()` to treat each example as a seperate class and generate augmented versions within each batch.\n",
    "* `TFDatasetMultiShotMemorySampler()` to directly integrate with the Tensorflow dataset catalog. "
   ]
  },
  {
   "cell_type": "markdown",
   "id": "73442fe4",
   "metadata": {},
   "source": [
    "## Imports"
   ]
  },
  {
   "cell_type": "code",
   "execution_count": 2,
   "id": "495e645a",
   "metadata": {},
   "outputs": [],
   "source": [
    "import os\n",
    "import random\n",
    "from typing import Tuple\n",
    "\n",
    "import numpy as np\n",
    "from matplotlib import pyplot as plt\n",
    "\n",
    "# INFO messages are not printed.\n",
    "# This must be run before loading other modules.\n",
    "os.environ[\"TF_CPP_MIN_LOG_LEVEL\"] = \"1\""
   ]
  },
  {
   "cell_type": "code",
   "execution_count": 3,
   "id": "e168c87f-094b-42cd-b1b4-1b47b737c861",
   "metadata": {},
   "outputs": [],
   "source": [
    "import tensorflow as tf"
   ]
  },
  {
   "cell_type": "code",
   "execution_count": 4,
   "id": "6eb306c8",
   "metadata": {},
   "outputs": [],
   "source": [
    "# install TF similarity if needed\n",
    "try:\n",
    "    import tensorflow_similarity as tfsim  # main package\n",
    "except ModuleNotFoundError:\n",
    "    !pip install tensorflow_similarity\n",
    "    import tensorflow_similarity as tfsim"
   ]
  },
  {
   "cell_type": "code",
   "execution_count": 5,
   "id": "28ea3fc6",
   "metadata": {},
   "outputs": [],
   "source": [
    "tfsim.utils.tf_cap_memory()  # Avoid GPU memory blow up"
   ]
  },
  {
   "cell_type": "markdown",
   "id": "b758af4b",
   "metadata": {},
   "source": [
    "<hr>"
   ]
  },
  {
   "cell_type": "markdown",
   "id": "81170e44",
   "metadata": {},
   "source": [
    "# MultiShotMemorySampler: Load Random Numpy Arrays\n",
    "The following cell loads random numpy data using TensorFlow similarity`MultiShotMemorySampler()`.\n",
    "\n",
    "Using a sampler is required to ensure that each batch contains at least N samples for each class included in a batch. \n",
    "\n",
    "This batch strucutre is required for the contrastive loss to properly compute positive pairwise distances."
   ]
  },
  {
   "cell_type": "code",
   "execution_count": 6,
   "id": "9dfb57a7",
   "metadata": {},
   "outputs": [],
   "source": [
    "num_ms_examples = 100000  # @param {type:\"slider\", min:1000, max:1000000}\n",
    "num_ms_features = 784  # @param {type:\"slider\", min:10, max:1000}\n",
    "num_ms_classes = 10  # @param {type:\"slider\", min:2, max:1000}\n",
    "\n",
    "# We use random floats here to represent a dense feature vector\n",
    "X_ms = np.random.rand(num_ms_examples, num_ms_features)\n",
    "# We use random ints to represent N different classes\n",
    "y_ms = np.random.randint(low=0, high=10, size=num_ms_examples)"
   ]
  },
  {
   "cell_type": "code",
   "execution_count": 7,
   "id": "f89257be",
   "metadata": {},
   "outputs": [
    {
     "name": "stdout",
     "output_type": "stream",
     "text": [
      "\n",
      "The initial batch size is 10 (5 classes * 2 examples per class) with 0 augmentations\n"
     ]
    },
    {
     "data": {
      "application/vnd.jupyter.widget-view+json": {
       "model_id": "2d6f394e62db491bb24e6bafa52f2be4",
       "version_major": 2,
       "version_minor": 0
      },
      "text/plain": [
       "filtering examples:   0%|          | 0/100000 [00:00<?, ?it/s]"
      ]
     },
     "metadata": {},
     "output_type": "display_data"
    },
    {
     "data": {
      "application/vnd.jupyter.widget-view+json": {
       "model_id": "79164124cfb84002b491b99ef21085a4",
       "version_major": 2,
       "version_minor": 0
      },
      "text/plain": [
       "selecting classes:   0%|          | 0/5 [00:00<?, ?it/s]"
      ]
     },
     "metadata": {},
     "output_type": "display_data"
    },
    {
     "data": {
      "application/vnd.jupyter.widget-view+json": {
       "model_id": "7006bae02ee244e09212453c18ebd2c7",
       "version_major": 2,
       "version_minor": 0
      },
      "text/plain": [
       "gather examples:   0%|          | 0/50177 [00:00<?, ?it/s]"
      ]
     },
     "metadata": {},
     "output_type": "display_data"
    },
    {
     "data": {
      "application/vnd.jupyter.widget-view+json": {
       "model_id": "018bfc1d4c92407c8fabceb725cb267f",
       "version_major": 2,
       "version_minor": 0
      },
      "text/plain": [
       "indexing classes:   0%|          | 0/50177 [00:00<?, ?it/s]"
      ]
     },
     "metadata": {},
     "output_type": "display_data"
    }
   ],
   "source": [
    "num_known_ms_classes = 5  # @param {type:\"slider\", min:2, max:1000}\n",
    "ms_classes_per_batch = num_known_ms_classes\n",
    "ms_examples_per_class_per_batch = 2  # @param {type:\"integer\"}\n",
    "ms_class_list = random.sample(range(num_ms_classes), k=num_known_ms_classes)\n",
    "\n",
    "ms_sampler = tfsim.samplers.MultiShotMemorySampler(\n",
    "    X_ms,\n",
    "    y_ms,\n",
    "    classes_per_batch=ms_classes_per_batch,\n",
    "    examples_per_class_per_batch=ms_examples_per_class_per_batch,\n",
    "    class_list=ms_class_list,\n",
    ")"
   ]
  },
  {
   "cell_type": "markdown",
   "id": "7b47ab3c",
   "metadata": {},
   "source": [
    "## Generating Batches\n",
    "The Tensorflow Similarity memory samplers are a subclass of [tf.keras.utils.Sequence](https://www.tensorflow.org/api_docs/python/tf/keras/utils/Sequence), overriding the `__getitem__` and `__len__` methods. \n",
    "\n",
    "Additionally, Tensorflow Similarity provides a `generate_batch()` method that takes a batch ID and yields a single batch. \n",
    "\n",
    "We verify that the batch batch only conatins the classes defined in `CLASS_LIST` and that each class has `ms_classes_per_batch` * `ms_examples_per_class_per_batch` examples. "
   ]
  },
  {
   "cell_type": "code",
   "execution_count": 8,
   "id": "761c0ca3",
   "metadata": {},
   "outputs": [
    {
     "name": "stdout",
     "output_type": "stream",
     "text": [
      "########## X ##########\n",
      "tf.Tensor(\n",
      "[[0.39406586 0.51118152 0.29467532 ... 0.60810397 0.14654475 0.35017083]\n",
      " [0.66045026 0.04942768 0.20772893 ... 0.68151692 0.97224193 0.27135958]\n",
      " [0.30585765 0.93442261 0.66612303 ... 0.98020155 0.34858715 0.66099411]\n",
      " ...\n",
      " [0.20376211 0.36431798 0.52496214 ... 0.48245533 0.61249901 0.83424101]\n",
      " [0.80136881 0.04516244 0.31054512 ... 0.94568659 0.80773981 0.34773784]\n",
      " [0.25677509 0.86741612 0.58229815 ... 0.17823706 0.71602364 0.79509467]], shape=(10, 784), dtype=float64)\n",
      "\n",
      "########## y ##########\n",
      "tf.Tensor([2 2 9 9 5 5 1 1 6 6], shape=(10,), dtype=int64)\n"
     ]
    }
   ],
   "source": [
    "X_ms_batch, y_ms_batch = ms_sampler.generate_batch(100)\n",
    "print(\"#\" * 10 + \" X \" + \"#\" * 10)\n",
    "print(X_ms_batch)\n",
    "print(\"\\n\" + \"#\" * 10 + \" y \" + \"#\" * 10)\n",
    "print(y_ms_batch)\n",
    "\n",
    "# Check that the batch size is equal to the target number of classes * target number of examples per class.\n",
    "assert tf.shape(X_ms_batch)[0] == (ms_classes_per_batch * ms_examples_per_class_per_batch)\n",
    "# Check that the number of columns matches the number of expected features.\n",
    "assert tf.shape(X_ms_batch)[1] == (num_ms_features)\n",
    "# Check that classes in the batch are from the allowed set in CLASS_LIST\n",
    "assert set(tf.unique(y_ms_batch)[0].numpy()) - set(ms_class_list) == set()\n",
    "# Check that we only have NUM_CLASSES_PER_BATCH\n",
    "assert len(tf.unique(y_ms_batch)[0]) == ms_classes_per_batch"
   ]
  },
  {
   "cell_type": "markdown",
   "id": "1b61c162",
   "metadata": {},
   "source": [
    "## Sampler Sizes\n",
    "\n",
    "`MultiShotMemorySampler()` provides various attributes for accessing info about the data:\n",
    "* `__len__` provides the number of steps per epoch. \n",
    "* `num_examples` provides the total number of examples within the sampler.\n",
    "* `example_shape` provides the shape of the examples.\n",
    "\n",
    "The `num_examples` attribute represents the subset of X and y where y is in the `class_list` with each class limited to `num_examples_per_class`."
   ]
  },
  {
   "cell_type": "code",
   "execution_count": 9,
   "id": "8da0a1b7",
   "metadata": {},
   "outputs": [
    {
     "name": "stdout",
     "output_type": "stream",
     "text": [
      "The sampler contains 1000 steps per epoch.\n",
      "The sampler is using 50177 examples out of the original 100000.\n",
      "Each examples has the following shape: (784,).\n"
     ]
    }
   ],
   "source": [
    "print(f\"The sampler contains {len(ms_sampler)} steps per epoch.\")\n",
    "print(f\"The sampler is using {ms_sampler.num_examples} examples out of the original {num_ms_examples}.\")\n",
    "print(f\"Each examples has the following shape: {ms_sampler.example_shape}.\")"
   ]
  },
  {
   "cell_type": "markdown",
   "id": "8e1d40e2",
   "metadata": {},
   "source": [
    "## Accessing the Examples\n",
    "\n",
    "Additionaly, the `MultiShotMemorySampler()` provides `get_slice()` for manually accessing examples within the Sampler.\n",
    "\n",
    "**NOTE**: the examples are shuffled when creating the Sampler but will yield the same examples for each call to get_slice(begin, size)."
   ]
  },
  {
   "cell_type": "code",
   "execution_count": 10,
   "id": "7f3a12e5",
   "metadata": {},
   "outputs": [
    {
     "name": "stdout",
     "output_type": "stream",
     "text": [
      "########## X ##########\n",
      "tf.Tensor(\n",
      "[[0.80055117 0.50793652 0.347851   ... 0.08759055 0.5526287  0.56406995]\n",
      " [0.61682049 0.35124358 0.00192724 ... 0.58012527 0.8942675  0.67723779]\n",
      " [0.37159481 0.13457643 0.88745331 ... 0.15877883 0.1529499  0.20259003]\n",
      " ...\n",
      " [0.43772738 0.61633454 0.30040795 ... 0.28213791 0.98213814 0.05223573]\n",
      " [0.80244223 0.07866318 0.60588217 ... 0.9188973  0.16102294 0.53188368]\n",
      " [0.61988293 0.33331014 0.24551832 ... 0.64614327 0.74577407 0.25459096]], shape=(10, 784), dtype=float64)\n",
      "\n",
      "########## y ##########\n",
      "tf.Tensor([6 5 2 6 5 5 1 1 6 9], shape=(10,), dtype=int64)\n"
     ]
    }
   ],
   "source": [
    "# Get 10 examples starting at example 200.\n",
    "X_ms_slice, y_ms_slice = ms_sampler.get_slice(begin=200, size=10)\n",
    "print(\"#\" * 10 + \" X \" + \"#\" * 10)\n",
    "print(X_ms_slice)\n",
    "print(\"\\n\" + \"#\" * 10 + \" y \" + \"#\" * 10)\n",
    "print(y_ms_slice)\n",
    "\n",
    "# Check that the batch size is equal to our get_slice size.\n",
    "assert tf.shape(X_ms_slice)[0] == 10\n",
    "# Check that the number of columns matches the number of expected features.\n",
    "assert tf.shape(X_ms_slice)[1] == (num_ms_features)\n",
    "# Check that classes in the batch are from the allowed set in CLASS_LIST\n",
    "assert set(tf.unique(y_ms_slice)[0].numpy()) - set(ms_class_list) == set()"
   ]
  },
  {
   "cell_type": "markdown",
   "id": "5b67e244",
   "metadata": {},
   "source": [
    "<hr>"
   ]
  },
  {
   "cell_type": "markdown",
   "id": "5ed22d48",
   "metadata": {},
   "source": [
    "# SingleShotMemorySampler: Augmented MNIST Examples\n",
    "\n",
    "The following cell loads and augments MNIST examples using the `SingleShotMemorySampler()`.\n",
    "\n",
    "The Sampler treats each example as it's own class and adds augmented versions of each image to the batch.\n",
    "\n",
    "This means the final batch size is the number of `examples per batch * (1 + the number of augmentations)`."
   ]
  },
  {
   "cell_type": "code",
   "execution_count": 11,
   "id": "ac5979f9",
   "metadata": {},
   "outputs": [],
   "source": [
    "(aug_x, _), _ = tf.keras.datasets.mnist.load_data()\n",
    "# Normalize the image data.\n",
    "aug_x = tf.cast(aug_x / 255.0, dtype=\"float32\")"
   ]
  },
  {
   "cell_type": "code",
   "execution_count": 12,
   "id": "1e40f64c",
   "metadata": {},
   "outputs": [
    {
     "name": "stdout",
     "output_type": "stream",
     "text": [
      "\n",
      "The initial batch size is 18 (18 classes * 1 examples per class) with 1 augmentations\n"
     ]
    }
   ],
   "source": [
    "aug_num_examples_per_batch = 18  # @param {type:\"slider\", min:18, max:512}\n",
    "aug_num_augmentations_per_example = 1  # @param {type:\"slider\", min:1, max:3}\n",
    "\n",
    "\n",
    "data_augmentation = tf.keras.Sequential(\n",
    "    [\n",
    "        tf.keras.layers.RandomRotation(0.12),\n",
    "    ]\n",
    ")\n",
    "\n",
    "\n",
    "def augmenter(\n",
    "    x: tfsim.types.FloatTensor, y: tfsim.types.IntTensor, examples_per_class: int, is_warmup: bool, stddev=0.025\n",
    ") -> Tuple[tfsim.types.FloatTensor, tfsim.types.IntTensor]:\n",
    "    \"\"\"Image augmentation function.\n",
    "\n",
    "    Args:\n",
    "        X: FloatTensor representing the example features.\n",
    "        y: IntTensor representing the class id. In this case\n",
    "           the example index will be used as the class id.\n",
    "        examples_per_class: The number of examples per class.\n",
    "           Not used here.\n",
    "        is_warmup: If True, the training is still in a warm\n",
    "           up state. Not used here.\n",
    "        stddev: Sets the amount of gaussian noise added to\n",
    "           the image.\n",
    "    \"\"\"\n",
    "    _ = examples_per_class\n",
    "    _ = is_warmup\n",
    "\n",
    "    aug = tf.squeeze(data_augmentation(tf.expand_dims(x, -1)))\n",
    "    aug = aug + tf.random.normal(tf.shape(aug), stddev=stddev)\n",
    "    x = tf.concat((x, aug), axis=0)\n",
    "    y = tf.concat((y, y), axis=0)\n",
    "    idxs = tf.range(start=0, limit=tf.shape(x)[0])\n",
    "    idxs = tf.random.shuffle(idxs)\n",
    "    x = tf.gather(x, idxs)\n",
    "    y = tf.gather(y, idxs)\n",
    "    return x, y\n",
    "\n",
    "\n",
    "aug_sampler = tfsim.samplers.SingleShotMemorySampler(\n",
    "    aug_x,\n",
    "    augmenter=augmenter,\n",
    "    examples_per_batch=aug_num_examples_per_batch,\n",
    "    num_augmentations_per_example=aug_num_augmentations_per_example,\n",
    ")"
   ]
  },
  {
   "cell_type": "code",
   "execution_count": 13,
   "id": "1a0e5bfd",
   "metadata": {},
   "outputs": [
    {
     "data": {
      "image/png": "[encoded data removed]",
      "text/plain": [
       "<Figure size 1000x1000 with 36 Axes>"
      ]
     },
     "metadata": {},
     "output_type": "display_data"
    }
   ],
   "source": [
    "# Plot the first 36 examples\n",
    "num_imgs = 36\n",
    "num_row = num_col = 6\n",
    "aug_batch_x, aug_batch_y = aug_sampler[0]\n",
    "# Sort the class ids so we can see the original\n",
    "# and augmented versions as pairs.\n",
    "sorted_idx = tf.argsort(aug_batch_y)\n",
    "plt.figure(figsize=(10, 10))\n",
    "for i in range(num_imgs):\n",
    "    idx = sorted_idx[i]\n",
    "    ax = plt.subplot(num_row, num_col, i + 1)\n",
    "    plt.imshow(aug_batch_x[idx])\n",
    "    plt.title(int(aug_batch_y[idx]))\n",
    "    plt.axis(\"off\")\n",
    "\n",
    "plt.tight_layout()"
   ]
  },
  {
   "cell_type": "markdown",
   "id": "3a196870",
   "metadata": {},
   "source": [
    "## Sampler Sizes\n",
    "\n",
    "`SingleShotMemorySampler()` provides various attributes for accessing info about the data:\n",
    "* `__len__` provides the number of steps per epoch. \n",
    "* `num_examples` provides the number of examples within the sampler.\n",
    "* `example_shape` provides the shape of the examples.\n",
    "\n",
    "The `num_examples` attribute represents the unaugmented examples within the sampler."
   ]
  },
  {
   "cell_type": "code",
   "execution_count": 14,
   "id": "425911a3",
   "metadata": {},
   "outputs": [
    {
     "name": "stdout",
     "output_type": "stream",
     "text": [
      "The sampler contains 1000 steps per epoch.\n",
      "The sampler is using 60000 examples out of the original 60000.\n",
      "Each examples has the following shape: (28, 28).\n"
     ]
    }
   ],
   "source": [
    "print(f\"The sampler contains {len(aug_sampler)} steps per epoch.\")\n",
    "print(f\"The sampler is using {aug_sampler.num_examples} examples out of the original {len(aug_x)}.\")\n",
    "print(f\"Each examples has the following shape: {aug_sampler.example_shape}.\")"
   ]
  },
  {
   "cell_type": "markdown",
   "id": "b922faff",
   "metadata": {},
   "source": [
    "## Accessing the Examples\n",
    "\n",
    "Additionaly, the `SingleShotMemorySampler()` provides `get_slice()` for manually accessing examples within the Sampler.\n",
    "\n",
    "The method returns slice size plus the augmented examples returned by the augmenter function."
   ]
  },
  {
   "cell_type": "code",
   "execution_count": 15,
   "id": "bff894f9",
   "metadata": {},
   "outputs": [
    {
     "name": "stdout",
     "output_type": "stream",
     "text": [
      "########## X ##########\n",
      "tf.Tensor(\n",
      "[[-0.02762966  0.0002732  -0.02580848 ... -0.00132397  0.02656987\n",
      "  -0.0329301 ]\n",
      " [ 0.          0.          0.         ...  0.          0.\n",
      "   0.        ]\n",
      " [ 0.          0.          0.         ...  0.          0.\n",
      "   0.        ]\n",
      " ...\n",
      " [ 0.          0.          0.         ...  0.02359158  0.00657404\n",
      "   0.00964166]\n",
      " [ 0.          0.          0.         ...  0.          0.\n",
      "   0.        ]\n",
      " [ 0.00117456 -0.01771195 -0.00253602 ...  0.          0.\n",
      "   0.        ]], shape=(10, 1568), dtype=float32)\n",
      "\n",
      "########## y ##########\n",
      "tf.Tensor(\n",
      "[203 208 209 202 200 203 200 207 204 206 204 209 201 205 206 201 205 207\n",
      " 202 208], shape=(20,), dtype=int32)\n"
     ]
    }
   ],
   "source": [
    "# Get 10 examples starting at example 200.\n",
    "X_aug_slice, y_aug_slice = aug_sampler.get_slice(begin=200, size=10)\n",
    "print(\"#\" * 10 + \" X \" + \"#\" * 10)\n",
    "print(tf.reshape(X_aug_slice, (10, -1)))\n",
    "print(\"\\n\" + \"#\" * 10 + \" y \" + \"#\" * 10)\n",
    "print(y_aug_slice)\n",
    "\n",
    "# Check that the batch size is double our get_slice size (original examples + augmented examples).\n",
    "assert tf.shape(X_aug_slice)[0] == 10 + 10\n",
    "# Check that the number of columns matches the number of expected features.\n",
    "assert tf.shape(X_aug_slice)[1] == (28)\n",
    "# Check that the number of columns matches the number of expected features.\n",
    "assert tf.shape(X_aug_slice)[2] == (28)"
   ]
  },
  {
   "cell_type": "markdown",
   "id": "959bf1e9",
   "metadata": {},
   "source": [
    "<hr>"
   ]
  },
  {
   "cell_type": "markdown",
   "id": "1d87627e",
   "metadata": {},
   "source": [
    "# TFDatasetMultiShotMemorySampler: Load data from TF Dataset\n",
    "The following cell loads data directly from the TensorFlow catalog using TensorFlow similarity\n",
    "`TFDatasetMultiShotMemorySampler()`. \n",
    "\n",
    "Using a sampler is required to ensure that each batch contains at least N samples of each class incuded in a batch. Otherwise the contrastive loss does not work properly as it can't compute positive distances."
   ]
  },
  {
   "cell_type": "code",
   "execution_count": 16,
   "id": "b5f849e3",
   "metadata": {},
   "outputs": [],
   "source": [
    "IMG_SIZE = 300  # @param {type:\"integer\"}\n",
    "\n",
    "# preprocessing function that resizes images to ensure all images are the same shape\n",
    "def resize(img, label):\n",
    "    with tf.device(\"/cpu:0\"):\n",
    "        img = tf.cast(img, dtype=\"int32\")\n",
    "        img = tf.image.resize_with_pad(img, IMG_SIZE, IMG_SIZE)\n",
    "        return img, label"
   ]
  },
  {
   "cell_type": "code",
   "execution_count": 17,
   "id": "25857539",
   "metadata": {},
   "outputs": [
    {
     "name": "stdout",
     "output_type": "stream",
     "text": [
      "Class IDs seen during training [22, 20, 7, 11, 2, 0, 16, 13, 32, 35, 34, 17, 10, 18, 8, 5]\n",
      "\n",
      "########## Train Sampler ##########\n"
     ]
    },
    {
     "data": {
      "application/vnd.jupyter.widget-view+json": {
       "model_id": "21e852cf8c834b659f773ce97b782068",
       "version_major": 2,
       "version_minor": 0
      },
      "text/plain": [
       "converting train:   0%|          | 0/3680 [00:00<?, ?it/s]"
      ]
     },
     "metadata": {},
     "output_type": "display_data"
    },
    {
     "name": "stderr",
     "output_type": "stream",
     "text": [
      "Corrupt JPEG data: 240 extraneous bytes before marker 0xd9\n",
      "Corrupt JPEG data: premature end of data segment\n"
     ]
    },
    {
     "data": {
      "application/vnd.jupyter.widget-view+json": {
       "model_id": "d6244423d0e84b65a5b6b006b144bf28",
       "version_major": 2,
       "version_minor": 0
      },
      "text/plain": [
       "Preprocessing data:   0%|          | 0/3680 [00:00<?, ?it/s]"
      ]
     },
     "metadata": {},
     "output_type": "display_data"
    },
    {
     "name": "stdout",
     "output_type": "stream",
     "text": [
      "\n",
      "The initial batch size is 64 (16 classes * 4 examples per class) with 0 augmentations\n"
     ]
    },
    {
     "data": {
      "application/vnd.jupyter.widget-view+json": {
       "model_id": "6a70b4a80e854ebc82f710d638bc753c",
       "version_major": 2,
       "version_minor": 0
      },
      "text/plain": [
       "filtering examples:   0%|          | 0/3680 [00:00<?, ?it/s]"
      ]
     },
     "metadata": {},
     "output_type": "display_data"
    },
    {
     "data": {
      "application/vnd.jupyter.widget-view+json": {
       "model_id": "cb5e6b991aad486c80cf2d9ccde510c3",
       "version_major": 2,
       "version_minor": 0
      },
      "text/plain": [
       "selecting classes:   0%|          | 0/16 [00:00<?, ?it/s]"
      ]
     },
     "metadata": {},
     "output_type": "display_data"
    },
    {
     "data": {
      "application/vnd.jupyter.widget-view+json": {
       "model_id": "8e29ff72bf644904921571f5b4713e17",
       "version_major": 2,
       "version_minor": 0
      },
      "text/plain": [
       "gather examples:   0%|          | 0/1584 [00:00<?, ?it/s]"
      ]
     },
     "metadata": {},
     "output_type": "display_data"
    },
    {
     "data": {
      "application/vnd.jupyter.widget-view+json": {
       "model_id": "3b77aaeb0bdd49489f4d090a58784196",
       "version_major": 2,
       "version_minor": 0
      },
      "text/plain": [
       "indexing classes:   0%|          | 0/1584 [00:00<?, ?it/s]"
      ]
     },
     "metadata": {},
     "output_type": "display_data"
    },
    {
     "name": "stdout",
     "output_type": "stream",
     "text": [
      "\n",
      "########## Test Sampler ##########\n"
     ]
    },
    {
     "data": {
      "application/vnd.jupyter.widget-view+json": {
       "model_id": "5a1d1b4dec314a628ffde16f712129fe",
       "version_major": 2,
       "version_minor": 0
      },
      "text/plain": [
       "converting test:   0%|          | 0/3669 [00:00<?, ?it/s]"
      ]
     },
     "metadata": {},
     "output_type": "display_data"
    },
    {
     "data": {
      "application/vnd.jupyter.widget-view+json": {
       "model_id": "ad36bdd06f8247dda517393ffbf68687",
       "version_major": 2,
       "version_minor": 0
      },
      "text/plain": [
       "Preprocessing data:   0%|          | 0/3669 [00:00<?, ?it/s]"
      ]
     },
     "metadata": {},
     "output_type": "display_data"
    },
    {
     "name": "stdout",
     "output_type": "stream",
     "text": [
      "\n",
      "The initial batch size is 32 (16 classes * 2 examples per class) with 0 augmentations\n"
     ]
    },
    {
     "data": {
      "application/vnd.jupyter.widget-view+json": {
       "model_id": "651992237fc24f9381c7a555f9f55515",
       "version_major": 2,
       "version_minor": 0
      },
      "text/plain": [
       "filtering examples:   0%|          | 0/3669 [00:00<?, ?it/s]"
      ]
     },
     "metadata": {},
     "output_type": "display_data"
    },
    {
     "data": {
      "application/vnd.jupyter.widget-view+json": {
       "model_id": "e709c652e75b47ef97f3c1d328704211",
       "version_major": 2,
       "version_minor": 0
      },
      "text/plain": [
       "selecting classes:   0%|          | 0/37 [00:00<?, ?it/s]"
      ]
     },
     "metadata": {},
     "output_type": "display_data"
    },
    {
     "data": {
      "application/vnd.jupyter.widget-view+json": {
       "model_id": "553947761ecd4f0da01028465753dce9",
       "version_major": 2,
       "version_minor": 0
      },
      "text/plain": [
       "gather examples:   0%|          | 0/740 [00:00<?, ?it/s]"
      ]
     },
     "metadata": {},
     "output_type": "display_data"
    },
    {
     "data": {
      "application/vnd.jupyter.widget-view+json": {
       "model_id": "cbcbe5dbde034037ab909fa162a20961",
       "version_major": 2,
       "version_minor": 0
      },
      "text/plain": [
       "indexing classes:   0%|          | 0/740 [00:00<?, ?it/s]"
      ]
     },
     "metadata": {},
     "output_type": "display_data"
    }
   ],
   "source": [
    "training_classes = 16  # @param {type:\"slider\", min:1, max:37}\n",
    "tfds_examples_per_class_per_batch = 4  # @param {type:\"integer\"}\n",
    "tfds_class_list = random.sample(range(37), k=training_classes)\n",
    "tfds_classes_per_batch = max(16, training_classes)\n",
    "\n",
    "print(f\"Class IDs seen during training {tfds_class_list}\\n\")\n",
    "\n",
    "# use the train split for training\n",
    "print(\"#\" * 10 + \" Train Sampler \" + \"#\" * 10)\n",
    "train_ds = tfsim.samplers.TFDatasetMultiShotMemorySampler(\n",
    "    \"oxford_iiit_pet\",\n",
    "    splits=\"train\",\n",
    "    examples_per_class_per_batch=tfds_examples_per_class_per_batch,\n",
    "    classes_per_batch=tfds_classes_per_batch,\n",
    "    preprocess_fn=resize,\n",
    "    class_list=tfds_class_list,\n",
    ")  # We filter train data to only keep the train classes.\n",
    "\n",
    "# use the test split for indexing and querying\n",
    "print(\"\\n\" + \"#\" * 10 + \" Test Sampler \" + \"#\" * 10)\n",
    "test_ds = tfsim.samplers.TFDatasetMultiShotMemorySampler(\n",
    "    \"oxford_iiit_pet\",\n",
    "    splits=\"test\",\n",
    "    total_examples_per_class=20,\n",
    "    classes_per_batch=tfds_classes_per_batch,\n",
    "    preprocess_fn=resize,\n",
    ")"
   ]
  },
  {
   "cell_type": "markdown",
   "id": "229258e1",
   "metadata": {},
   "source": [
    "## Generating Batches\n",
    "The Tensorflow Similarity memory samplers are a subclass of [tf.keras.utils.Sequence](https://www.tensorflow.org/api_docs/python/tf/keras/utils/Sequence), overriding the `__getitem__` and `__len__` methods. \n",
    "\n",
    "Additionally, Tensorflow Similarity provides a `generate_batch()` method that takes a batch ID and yields a single batch. \n",
    "\n",
    "We verify that the batch batch only conatins the classes defined in `CLASS_LIST` and that each class has `tfds_classes_per_batch` * `tfds_examples_per_class_per_batch` examples. "
   ]
  },
  {
   "cell_type": "code",
   "execution_count": 18,
   "id": "dab4869e",
   "metadata": {},
   "outputs": [
    {
     "name": "stdout",
     "output_type": "stream",
     "text": [
      "########## X ##########\n",
      "Actual Tensor Shape (64, 300, 300, 3)\n",
      "tf.Tensor(\n",
      "[[0. 0. 0. ... 0. 0. 0.]\n",
      " [0. 0. 0. ... 0. 0. 0.]\n",
      " [0. 0. 0. ... 0. 0. 0.]\n",
      " ...\n",
      " [0. 0. 0. ... 0. 0. 0.]\n",
      " [0. 0. 0. ... 0. 0. 0.]\n",
      " [0. 0. 0. ... 0. 0. 0.]], shape=(64, 270000), dtype=float32)\n",
      "\n",
      "########## y ##########\n",
      "tf.Tensor(\n",
      "[35 35 35 35 16 16 16 16  2  2  2  2 10 10 10 10 32 32 32 32 13 13 13 13\n",
      " 17 17 17 17 18 18 18 18 34 34 34 34  8  8  8  8  0  0  0  0 11 11 11 11\n",
      " 20 20 20 20 22 22 22 22  7  7  7  7  5  5  5  5], shape=(64,), dtype=int64)\n"
     ]
    }
   ],
   "source": [
    "X_tfds_batch, y_tfds_batch = train_ds.generate_batch(100)\n",
    "print(\"#\" * 10 + \" X \" + \"#\" * 10)\n",
    "print(f\"Actual Tensor Shape {X_tfds_batch.shape}\")\n",
    "print(tf.reshape(X_tfds_batch, (len(X_tfds_batch), -1)))\n",
    "print(\"\\n\" + \"#\" * 10 + \" y \" + \"#\" * 10)\n",
    "print(y_tfds_batch)\n",
    "\n",
    "# Check that the batch size is equal to the target number of classes * target number of examples per class.\n",
    "assert tf.shape(X_tfds_batch)[0] == (tfds_classes_per_batch * tfds_examples_per_class_per_batch)\n",
    "# Check that the number of columns matches the number of expected features.\n",
    "assert tf.shape(X_tfds_batch)[1] == (300)\n",
    "# Check that the number of columns matches the number of expected features.\n",
    "assert tf.shape(X_tfds_batch)[2] == (300)\n",
    "# Check that the number of columns matches the number of expected features.\n",
    "assert tf.shape(X_tfds_batch)[3] == (3)\n",
    "# Check that classes in the batch are from the allowed set in CLASS_LIST\n",
    "assert set(tf.unique(y_tfds_batch)[0].numpy()) - set(tfds_class_list) == set()\n",
    "# Check that we only have NUM_CLASSES_PER_BATCH\n",
    "assert len(tf.unique(y_tfds_batch)[0]) == tfds_classes_per_batch"
   ]
  },
  {
   "cell_type": "markdown",
   "id": "a0b343de",
   "metadata": {},
   "source": [
    "## Sampler Sizes\n",
    "\n",
    "`TFDatasetMultiShotMemorySampler()` provides various attributes for accessing info about the data:\n",
    "* `__len__` provides the number of steps per epoch. \n",
    "* `num_examples` provides the number of examples within the sampler.\n",
    "* `example_shape` provides the shape of the examples."
   ]
  },
  {
   "cell_type": "code",
   "execution_count": 19,
   "id": "8d0314c5",
   "metadata": {},
   "outputs": [
    {
     "name": "stdout",
     "output_type": "stream",
     "text": [
      "The Train sampler contains 1000 steps per epoch.\n",
      "The Train sampler is using 1584 examples.\n",
      "Each examples has the following shape: (300, 300, 3).\n"
     ]
    }
   ],
   "source": [
    "print(f\"The Train sampler contains {len(train_ds)} steps per epoch.\")\n",
    "print(f\"The Train sampler is using {train_ds.num_examples} examples.\")\n",
    "print(f\"Each examples has the following shape: {train_ds.example_shape}.\")"
   ]
  },
  {
   "cell_type": "code",
   "execution_count": 20,
   "id": "d4a57ce5",
   "metadata": {},
   "outputs": [
    {
     "name": "stdout",
     "output_type": "stream",
     "text": [
      "The Test sampler contains 1000 steps per epoch.\n",
      "The Test sampler is using 740 examples.\n",
      "Each examples has the following shape: (300, 300, 3).\n"
     ]
    }
   ],
   "source": [
    "print(f\"The Test sampler contains {len(test_ds)} steps per epoch.\")\n",
    "print(f\"The Test sampler is using {test_ds.num_examples} examples.\")\n",
    "print(f\"Each examples has the following shape: {test_ds.example_shape}.\")"
   ]
  },
  {
   "cell_type": "markdown",
   "id": "4c495157",
   "metadata": {},
   "source": [
    "## Accessing the Examples\n",
    "\n",
    "Additionaly, the `SingleShotMemorySampler()` provides `get_slice()` for manually accessing examples within the Sampler.\n",
    "\n",
    "The method returns slice size plus the augmented examples returned by the augmenter function."
   ]
  },
  {
   "cell_type": "code",
   "execution_count": 21,
   "id": "0e1329c0",
   "metadata": {},
   "outputs": [
    {
     "name": "stdout",
     "output_type": "stream",
     "text": [
      "########## X ##########\n",
      "Actual Tensor Shape (10, 300, 300, 3)\n",
      "tf.Tensor(\n",
      "[[0. 0. 0. ... 0. 0. 0.]\n",
      " [0. 0. 0. ... 0. 0. 0.]\n",
      " [0. 0. 0. ... 0. 0. 0.]\n",
      " ...\n",
      " [0. 0. 0. ... 0. 0. 0.]\n",
      " [0. 0. 0. ... 0. 0. 0.]\n",
      " [0. 0. 0. ... 0. 0. 0.]], shape=(10, 270000), dtype=float32)\n",
      "\n",
      "########## y ##########\n",
      "tf.Tensor([16 20 13 22 11 32 10 16  5 22], shape=(10,), dtype=int64)\n"
     ]
    }
   ],
   "source": [
    "# Get 10 examples starting at example 200.\n",
    "X_tfds_slice, y_tfds_slice = train_ds.get_slice(begin=200, size=10)\n",
    "print(\"#\" * 10 + \" X \" + \"#\" * 10)\n",
    "print(f\"Actual Tensor Shape {X_tfds_slice.shape}\")\n",
    "print(tf.reshape(X_tfds_slice, (len(X_tfds_slice), -1)))\n",
    "print(\"\\n\" + \"#\" * 10 + \" y \" + \"#\" * 10)\n",
    "print(y_tfds_slice)\n",
    "\n",
    "# Check that the batch size.\n",
    "assert tf.shape(X_tfds_slice)[0] == 10\n",
    "# Check that the number of columns matches the number of expected features.\n",
    "assert tf.shape(X_tfds_slice)[1] == (300)\n",
    "# Check that the number of columns matches the number of expected features.\n",
    "assert tf.shape(X_tfds_slice)[2] == (300)\n",
    "# Check that the number of columns matches the number of expected features.\n",
    "assert tf.shape(X_tfds_slice)[3] == (3)"
   ]
  },
  {
   "cell_type": "code",
   "execution_count": 22,
   "id": "97f393eb",
   "metadata": {},
   "outputs": [
    {
     "name": "stdout",
     "output_type": "stream",
     "text": [
      "########## X ##########\n",
      "Actual Tensor Shape (10, 300, 300, 3)\n",
      "tf.Tensor(\n",
      "[[0. 0. 0. ... 0. 0. 0.]\n",
      " [0. 0. 0. ... 0. 0. 0.]\n",
      " [0. 0. 0. ... 0. 0. 0.]\n",
      " ...\n",
      " [0. 0. 0. ... 0. 0. 0.]\n",
      " [0. 0. 0. ... 0. 0. 0.]\n",
      " [0. 0. 0. ... 0. 0. 0.]], shape=(10, 270000), dtype=float32)\n",
      "\n",
      "########## y ##########\n",
      "tf.Tensor([35 28  0  9  5 22 15 36 36 32], shape=(10,), dtype=int64)\n"
     ]
    }
   ],
   "source": [
    "# Get 10 examples starting at example 200.\n",
    "X_tfds_slice, y_tfds_slice = test_ds.get_slice(begin=200, size=10)\n",
    "print(\"#\" * 10 + \" X \" + \"#\" * 10)\n",
    "print(f\"Actual Tensor Shape {X_tfds_slice.shape}\")\n",
    "print(tf.reshape(X_tfds_slice, (len(X_tfds_slice), -1)))\n",
    "print(\"\\n\" + \"#\" * 10 + \" y \" + \"#\" * 10)\n",
    "print(y_tfds_slice)\n",
    "\n",
    "# Check that the batch size.\n",
    "assert tf.shape(X_tfds_slice)[0] == 10\n",
    "# Check that the number of columns matches the number of expected features.\n",
    "assert tf.shape(X_tfds_slice)[1] == (300)\n",
    "# Check that the number of columns matches the number of expected features.\n",
    "assert tf.shape(X_tfds_slice)[2] == (300)\n",
    "# Check that the number of columns matches the number of expected features.\n",
    "assert tf.shape(X_tfds_slice)[3] == (3)"
   ]
  }
 ],
 "metadata": {
  "environment": {
   "kernel": "python3",
   "name": "tf2-gpu.2-8.m91",
   "type": "gcloud",
   "uri": "gcr.io/deeplearning-platform-release/tf2-gpu.2-8:m91"
  },
  "kernelspec": {
   "display_name": "Python 3 (ipykernel)",
   "language": "python",
   "name": "python3"
  },
  "language_info": {
   "codemirror_mode": {
    "name": "ipython",
    "version": 3
   },
   "file_extension": ".py",
   "mimetype": "text/x-python",
   "name": "python",
   "nbconvert_exporter": "python",
   "pygments_lexer": "ipython3",
   "version": "3.10.12"
  },
  "vscode": {
   "interpreter": {
    "hash": "c7b3389fe492617a9dd862ce9e69c0dfb3e62254a4be8ff5561f4f9b5c78139c"
   }
  }
 },
 "nbformat": 4,
 "nbformat_minor": 5
}
