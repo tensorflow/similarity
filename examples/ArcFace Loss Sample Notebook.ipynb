{
 "cells": [
  {
   "cell_type": "markdown",
   "id": "28956aa1",
   "metadata": {
    "pycharm": {
     "name": "#%% md\n"
    }
   },
   "source": [
    "Copyright 2022 The TensorFlow Similarity Authors."
   ]
  },
  {
   "cell_type": "code",
   "execution_count": null,
   "id": "24eda1a6",
   "metadata": {
    "pycharm": {
     "name": "#%%\n"
    }
   },
   "outputs": [],
   "source": [
    "# @title Licensed under the Apache License, Version 2.0 (the \"License\");\n",
    "# you may not use this file except in compliance with the License.\n",
    "# You may obtain a copy of the License at\n",
    "#\n",
    "# https://www.apache.org/licenses/LICENSE-2.0\n",
    "#\n",
    "# Unless required by applicable law or agreed to in writing, software\n",
    "# distributed under the License is distributed on an \"AS IS\" BASIS,\n",
    "# WITHOUT WARRANTIES OR CONDITIONS OF ANY KIND, either express or implied.\n",
    "# See the License for the specific language governing permissions and\n",
    "# limitations under the License."
   ]
  },
  {
   "cell_type": "markdown",
   "id": "7ca9d025",
   "metadata": {
    "pycharm": {
     "name": "#%% md\n"
    }
   },
   "source": [
    "# TensorFlow Similarity ArcFace Loss Example"
   ]
  },
  {
   "cell_type": "markdown",
   "id": "d072628f",
   "metadata": {
    "pycharm": {
     "name": "#%% md\n"
    }
   },
   "source": [
    "A Total Angular Margin Loss (ArcFace) calculates the geodetic distance in the hypersphere instead of the euclidean distance to improve the discriminatory strength of the facial recognition model and stabilize the training process. Rails are used to measure all distances in geodetic space. The geodetic trace is the path taken between two places. It specifies the geodetic distance, which is the shortest distance between two places.\n",
    "\n",
    "ArcFace loss determines the angle between the current feature and the target weight using the arc-cosine function since the dot product between the DCNN feature and the last fully connected layer after feature and weight normalization matches the cosine distance. The target logit is then returned by multiplying the goal angle by an additional angular margin and using the cosine function. After that, we continue as before and rescale all logits to a certain feature norm, just like with softmax loss."
   ]
  },
  {
   "cell_type": "markdown",
   "id": "808ac087",
   "metadata": {
    "pycharm": {
     "name": "#%% md\n"
    }
   },
   "source": [
    "### Notebook goal\n",
    "\n",
    "This notebook demonstrates how to use ArcFaceLoss implementation of TensorFlow Similarity with standalone usage and to train a `SimilarityModel()` on a fraction of the MNIST classes.\n",
    "\n",
    "You are going to learn about the main features offered by the `ArcFaceLoss()` and will:\n",
    "\n",
    " 1. Standalone usage of ArcFaceLoss\n",
    "\n",
    " 2. Usage with `model.compile()`\n",
    "\n",
    " 3. 3D-Visualization of ArcFaceLoss \n",
    "\n",
    "### Things to try \n",
    "\n",
    "Along the way you can try the following things to improve the model performance:\n",
    "- Adding more \"seen\" classes at training time.\n",
    "- Use a larger embedding by increasing the size of the output.\n",
    "- Add data augmentation pre-processing layers to the model.\n",
    "- Include more examples in the index to give the models more points to choose from.\n",
    "- Try a more challenging dataset, such as Fashion MNIST."
   ]
  },
  {
   "cell_type": "markdown",
   "id": "078c53c0",
   "metadata": {
    "pycharm": {
     "name": "#%% md\n"
    }
   },
   "source": [
    "### Notebook goal\n",
    "\n",
    "This notebook demonstrates how to use ArcFaceLoss implementation of TensorFlow Similarity with standalone usage and to train a `SimilarityModel()` on a fraction of the MNIST classes.\n",
    "\n",
    "You are going to learn about the main features offered by the `ArcFaceLoss()` and will:\n",
    "\n",
    " 1. Standalone usage of ArcFaceLoss\n",
    "\n",
    " 2. Usage with `model.compile()`\n",
    "\n",
    " 3. 3D-Visualization of ArcFaceLoss \n",
    "\n",
    "### Things to try \n",
    "\n",
    "Along the way you can try the following things to improve the model performance:\n",
    "- Adding more \"seen\" classes at training time.\n",
    "- Use a larger embedding by increasing the size of the output.\n",
    "- Add data augmentation pre-processing layers to the model.\n",
    "- Include more examples in the index to give the models more points to choose from.\n",
    "- Try a more challenging dataset, such as Fashion MNIST."
   ]
  },
  {
   "cell_type": "code",
   "execution_count": 1,
   "id": "8fd63f16",
   "metadata": {
    "pycharm": {
     "name": "#%%\n"
    }
   },
   "outputs": [],
   "source": [
    "import gc\n",
    "import os\n",
    "\n",
    "import numpy as np\n",
    "from matplotlib import pyplot as plt\n",
    "from tabulate import tabulate\n",
    "from mpl_toolkits.mplot3d import Axes3D\n",
    "\n",
    "# INFO messages are not printed.\n",
    "# This must be run before loading other modules.\n",
    "os.environ[\"TF_CPP_MIN_LOG_LEVEL\"] = \"1\""
   ]
  },
  {
   "cell_type": "code",
   "execution_count": 2,
   "id": "80af5fc0",
   "metadata": {
    "pycharm": {
     "name": "#%%\n"
    }
   },
   "outputs": [],
   "source": [
    "import tensorflow as tf"
   ]
  },
  {
   "cell_type": "code",
   "execution_count": 3,
   "id": "8ba8caf7",
   "metadata": {
    "pycharm": {
     "name": "#%%\n"
    }
   },
   "outputs": [
    {
     "name": "stderr",
     "output_type": "stream",
     "text": [
      "Your CPU supports instructions that this binary was not compiled to use: SSE3 SSE4.1 SSE4.2 AVX AVX2\n",
      "For maximum performance, you can install NMSLIB from sources \n",
      "pip install --no-binary :all: nmslib\n"
     ]
    }
   ],
   "source": [
    "# install TF similarity if needed\n",
    "try:\n",
    "    import tensorflow_similarity as tfsim  # main package\n",
    "except ModuleNotFoundError:\n",
    "    !pip install tensorflow_similarity\n",
    "    import tensorflow_similarity as tfsim"
   ]
  },
  {
   "cell_type": "code",
   "execution_count": 4,
   "id": "2484bd72",
   "metadata": {
    "pycharm": {
     "name": "#%%\n"
    }
   },
   "outputs": [],
   "source": [
    "tfsim.utils.tf_cap_memory()"
   ]
  },
  {
   "cell_type": "code",
   "execution_count": 5,
   "id": "3fe0344e",
   "metadata": {
    "pycharm": {
     "name": "#%%\n"
    }
   },
   "outputs": [],
   "source": [
    "# Clear out any old model state.\n",
    "gc.collect()\n",
    "tf.keras.backend.clear_session()"
   ]
  },
  {
   "cell_type": "code",
   "execution_count": 6,
   "id": "99d9bef9",
   "metadata": {
    "pycharm": {
     "name": "#%%\n"
    }
   },
   "outputs": [
    {
     "name": "stdout",
     "output_type": "stream",
     "text": [
      "TensorFlow: 2.8.0\n",
      "TensorFlow Similarity 0.17.0.dev10\n"
     ]
    }
   ],
   "source": [
    "print(\"TensorFlow:\", tf.__version__)\n",
    "print(\"TensorFlow Similarity\", tfsim.__version__)"
   ]
  },
  {
   "cell_type": "markdown",
   "id": "1d534ad3",
   "metadata": {
    "pycharm": {
     "name": "#%% md\n"
    }
   },
   "source": [
    "# Standalone Usage of ArcFaceLoss\n",
    "\n",
    "ArcFace loss alone can be used as follows when it is desired to calculate the additive angular margin loss of the existing data set."
   ]
  },
  {
   "cell_type": "markdown",
   "id": "68d526da",
   "metadata": {
    "pycharm": {
     "name": "#%% md\n"
    }
   },
   "source": [
    "### Initialize Loss function as ArcFaceLoss"
   ]
  },
  {
   "cell_type": "code",
   "execution_count": 7,
   "id": "bebf6ef0",
   "metadata": {
    "pycharm": {
     "name": "#%%\n"
    }
   },
   "outputs": [],
   "source": [
    "loss_fn = tfsim.losses.ArcFaceLoss(num_classes=8, embedding_size=10)"
   ]
  },
  {
   "cell_type": "markdown",
   "id": "d2ccfd7d",
   "metadata": {
    "pycharm": {
     "name": "#%% md\n"
    }
   },
   "source": [
    "### Create own simple random dataset"
   ]
  },
  {
   "cell_type": "code",
   "execution_count": 8,
   "id": "1d1ec43a",
   "metadata": {
    "pycharm": {
     "name": "#%%\n"
    }
   },
   "outputs": [],
   "source": [
    "labels = tf.Variable([0, 1, 2, 3, 4, 5, 6, 7])\n",
    "embeddings = tf.Variable(tf.random.uniform(shape=[8, 10]))"
   ]
  },
  {
   "cell_type": "code",
   "execution_count": 9,
   "id": "73d0c1c6",
   "metadata": {
    "pycharm": {
     "name": "#%%\n"
    }
   },
   "outputs": [
    {
     "name": "stdout",
     "output_type": "stream",
     "text": [
      " <tf.Variable 'Variable:0' shape=(8, 10) dtype=float32, numpy=\n",
      "array([[0.19907904, 0.07729328, 0.1722784 , 0.3601575 , 0.8714011 ,\n",
      "        0.01628113, 0.88918483, 0.11690199, 0.89015555, 0.955421  ],\n",
      "       [0.10166383, 0.15534246, 0.32394028, 0.04517233, 0.9408107 ,\n",
      "        0.11309135, 0.6513635 , 0.62346923, 0.53416014, 0.07642305],\n",
      "       [0.17923808, 0.2462269 , 0.88302803, 0.73461497, 0.16814685,\n",
      "        0.90763843, 0.37768447, 0.9759656 , 0.07663143, 0.9839252 ],\n",
      "       [0.68011904, 0.47713315, 0.83367133, 0.68903136, 0.928967  ,\n",
      "        0.9224856 , 0.9985844 , 0.6639615 , 0.16083932, 0.90435326],\n",
      "       [0.9497577 , 0.3427589 , 0.57741416, 0.3175465 , 0.51394975,\n",
      "        0.7281352 , 0.9438957 , 0.9242332 , 0.02530515, 0.09110975],\n",
      "       [0.91824436, 0.6679524 , 0.6155938 , 0.92593694, 0.10095346,\n",
      "        0.52267945, 0.9936875 , 0.03321242, 0.4724722 , 0.02045906],\n",
      "       [0.5431701 , 0.5046103 , 0.79197395, 0.8770155 , 0.6117593 ,\n",
      "        0.21793449, 0.07952356, 0.11457705, 0.7703439 , 0.9800242 ],\n",
      "       [0.24431455, 0.52262783, 0.3473016 , 0.8838382 , 0.19880855,\n",
      "        0.18975413, 0.05524588, 0.9616903 , 0.86251926, 0.84217024]],\n",
      "      dtype=float32)>\n"
     ]
    }
   ],
   "source": [
    "print(\"\", embeddings)"
   ]
  },
  {
   "cell_type": "markdown",
   "id": "d65b3085",
   "metadata": {
    "pycharm": {
     "name": "#%% md\n"
    }
   },
   "source": [
    "### Calculate loss"
   ]
  },
  {
   "cell_type": "code",
   "execution_count": 10,
   "id": "cdf7c30c",
   "metadata": {
    "pycharm": {
     "name": "#%%\n"
    }
   },
   "outputs": [],
   "source": [
    "loss = loss_fn(labels, embeddings)"
   ]
  },
  {
   "cell_type": "code",
   "execution_count": 11,
   "id": "16745b7d",
   "metadata": {
    "pycharm": {
     "name": "#%%\n"
    }
   },
   "outputs": [
    {
     "name": "stdout",
     "output_type": "stream",
     "text": [
      "loss :  tf.Tensor(48.764076, shape=(), dtype=float32)\n"
     ]
    }
   ],
   "source": [
    "print(\"loss : \" , loss)"
   ]
  },
  {
   "cell_type": "markdown",
   "id": "11ef5236",
   "metadata": {
    "pycharm": {
     "name": "#%% md\n"
    }
   },
   "source": [
    "## Data preparation\n",
    "\n",
    "We are going to load the MNIST dataset to showcase how the model is able to find similar examples from classes unseen during training. The model's ability to generalize the matching to unseen classes, without retraining, is one of the main reason you would want to use metric learning.\n",
    "\n",
    "\n",
    "**WARNING**: Tensorflow similarity expects `y_train` to be an IntTensor containing the class ids for each example instead of the standard categorical encoding traditionally used for multi-class classification."
   ]
  },
  {
   "cell_type": "code",
   "execution_count": 15,
   "id": "97152229",
   "metadata": {
    "pycharm": {
     "name": "#%%\n"
    }
   },
   "outputs": [],
   "source": [
    "(x_train, y_train), (x_test, y_test) = tf.keras.datasets.mnist.load_data()"
   ]
  },
  {
   "cell_type": "markdown",
   "id": "08b766d8",
   "metadata": {
    "pycharm": {
     "name": "#%% md\n"
    }
   },
   "source": [
    "## Model setup"
   ]
  },
  {
   "cell_type": "markdown",
   "id": "3eac2da7",
   "metadata": {
    "pycharm": {
     "name": "#%% md\n"
    }
   },
   "source": [
    "### Model definition\n",
    "\n",
    "`SimilarityModel()` models extend `tensorflow.keras.model.Model` with additional features and functionality that allow you to index and search for similar looking examples.\n",
    "\n",
    "As visible in the model definition below, similarity models output a 64 dimensional float embedding using the `MetricEmbedding()` layers. This layer is a Dense layer with L2 normalization. Thanks to the loss, the model learns to minimize the distance between similar examples and maximize the distance between dissimilar examples. As a result, the distance between examples in the embedding space is meaningful; the smaller the distance the more similar the examples are. \n",
    "\n",
    "Being able to use a distance as a meaningful proxy for how similar two examples are, is what enables the fast ANN (aproximate nearest neighbor) search. Using a sub-linear ANN search instead of a standard quadratic NN search is what allows deep similarity search to scale to millions of items. The built in memory index used in this notebook scales to a million indexed examples very easily... if you have enough RAM :)"
   ]
  },
  {
   "cell_type": "code",
   "execution_count": 16,
   "id": "a003c971",
   "metadata": {
    "pycharm": {
     "name": "#%%\n"
    }
   },
   "outputs": [],
   "source": [
    "def get_model():\n",
    "    inputs = tf.keras.layers.Input(shape=(28, 28, 1))\n",
    "    x = tf.keras.layers.experimental.preprocessing.Rescaling(1 / 255)(inputs)\n",
    "    x = tf.keras.layers.Conv2D(32, 3, activation=\"relu\")(x)\n",
    "    x = tf.keras.layers.Conv2D(32, 3, activation=\"relu\")(x)\n",
    "    x = tf.keras.layers.MaxPool2D()(x)\n",
    "    x = tf.keras.layers.Conv2D(64, 3, activation=\"relu\")(x)\n",
    "    x = tf.keras.layers.Conv2D(64, 3, activation=\"relu\")(x)\n",
    "    x = tf.keras.layers.Flatten()(x)\n",
    "    # smaller embeddings will have faster lookup times while a larger embedding will improve the accuracy up to a point.\n",
    "    outputs = tfsim.layers.MetricEmbedding(64)(x)\n",
    "    return tfsim.models.SimilarityModel(inputs, outputs)"
   ]
  },
  {
   "cell_type": "code",
   "execution_count": 17,
   "id": "a2177b12",
   "metadata": {
    "pycharm": {
     "name": "#%%\n"
    }
   },
   "outputs": [
    {
     "name": "stdout",
     "output_type": "stream",
     "text": [
      "Model: \"similarity_model\"\n",
      "_________________________________________________________________\n",
      " Layer (type)                Output Shape              Param #   \n",
      "=================================================================\n",
      " input_1 (InputLayer)        [(None, 28, 28, 1)]       0         \n",
      "                                                                 \n",
      " rescaling (Rescaling)       (None, 28, 28, 1)         0         \n",
      "                                                                 \n",
      " conv2d (Conv2D)             (None, 26, 26, 32)        320       \n",
      "                                                                 \n",
      " conv2d_1 (Conv2D)           (None, 24, 24, 32)        9248      \n",
      "                                                                 \n",
      " max_pooling2d (MaxPooling2D  (None, 12, 12, 32)       0         \n",
      " )                                                               \n",
      "                                                                 \n",
      " conv2d_2 (Conv2D)           (None, 10, 10, 64)        18496     \n",
      "                                                                 \n",
      " conv2d_3 (Conv2D)           (None, 8, 8, 64)          36928     \n",
      "                                                                 \n",
      " flatten (Flatten)           (None, 4096)              0         \n",
      "                                                                 \n",
      " metric_embedding (MetricEmb  (None, 64)               262208    \n",
      " edding)                                                         \n",
      "                                                                 \n",
      "=================================================================\n",
      "Total params: 327,200\n",
      "Trainable params: 327,200\n",
      "Non-trainable params: 0\n",
      "_________________________________________________________________\n"
     ]
    }
   ],
   "source": [
    "model = get_model()\n",
    "model.summary()"
   ]
  },
  {
   "cell_type": "markdown",
   "id": "defb3961",
   "metadata": {
    "pycharm": {
     "name": "#%% md\n"
    }
   },
   "source": [
    "### ArcFace Loss definition\n",
    "\n",
    "Overall what makes Metric losses different from tradional losses is that:\n",
    "- **They expect different inputs.** Instead of having the prediction equal the true values, they expect embeddings as `y_preds` and the id (as an int32) of the class as `y_true`. \n",
    "- **They require a distance.** You need to specify which `distance` function to use to compute the distance between embeddings. `cosine` is usually a great starting point and the default.\n",
    "\n",
    "ArcFace Loss takes inputs as number of classes which labels includes, and embedding size which we define in model `MetricEmbedding()` layers."
   ]
  },
  {
   "cell_type": "code",
   "execution_count": 18,
   "id": "13b0d745",
   "metadata": {
    "pycharm": {
     "name": "#%%\n"
    }
   },
   "outputs": [],
   "source": [
    "distance = \"cosine\" "
   ]
  },
  {
   "cell_type": "code",
   "execution_count": 19,
   "id": "c22d10cc",
   "metadata": {
    "pycharm": {
     "name": "#%%\n"
    }
   },
   "outputs": [],
   "source": [
    "num_classes = np.unique(y_train).size\n",
    "embedding_size = model.get_layer('metric_embedding').output.shape[1]"
   ]
  },
  {
   "cell_type": "code",
   "execution_count": 20,
   "id": "d5b8e426",
   "metadata": {
    "pycharm": {
     "name": "#%%\n"
    }
   },
   "outputs": [],
   "source": [
    "loss = tfsim.losses.ArcFaceLoss(num_classes=num_classes, embedding_size=embedding_size, name=\"ArcFaceLoss\")"
   ]
  },
  {
   "cell_type": "markdown",
   "id": "b6eaf9c8",
   "metadata": {
    "pycharm": {
     "name": "#%% md\n"
    }
   },
   "source": [
    "### Compilation\n",
    "\n",
    "Tensorflow similarity use an extended `compile()` method that allows you to optionally specify `distance_metrics` (metrics that are computed over the distance between the embeddings), and the distance to use for the indexer.\n",
    "\n",
    "By default the `compile()` method tries to infer what type of distance you are using by looking at the first loss specified. If you use multiple losses, and the distance loss is not the first one, then you need to specify the distance function used as `distance=` parameter in the compile function."
   ]
  },
  {
   "cell_type": "code",
   "execution_count": 21,
   "id": "673f986f",
   "metadata": {
    "pycharm": {
     "name": "#%%\n"
    }
   },
   "outputs": [],
   "source": [
    "LR = 0.0005  # @param {type:\"number\"}\n",
    "model.compile(optimizer=tf.keras.optimizers.SGD(LR), loss=loss, distance=distance)"
   ]
  },
  {
   "cell_type": "markdown",
   "id": "15961601",
   "metadata": {
    "pycharm": {
     "name": "#%% md\n"
    }
   },
   "source": [
    "## Training\n",
    "\n",
    "Similarity models are trained like normal models. "
   ]
  },
  {
   "cell_type": "code",
   "execution_count": 22,
   "id": "147a6863",
   "metadata": {
    "pycharm": {
     "name": "#%%\n"
    }
   },
   "outputs": [
    {
     "name": "stdout",
     "output_type": "stream",
     "text": [
      "Epoch 1/10\n",
      "1875/1875 [==============================] - 11s 4ms/step - loss: 5.2161 - val_loss: 1.8907\n",
      "Epoch 2/10\n",
      "1875/1875 [==============================] - 7s 4ms/step - loss: 1.8353 - val_loss: 1.6826\n",
      "Epoch 3/10\n",
      "1875/1875 [==============================] - 7s 4ms/step - loss: 1.3566 - val_loss: 1.1404\n",
      "Epoch 4/10\n",
      "1875/1875 [==============================] - 7s 4ms/step - loss: 1.1160 - val_loss: 1.0936\n",
      "Epoch 5/10\n",
      "1875/1875 [==============================] - 7s 4ms/step - loss: 0.9555 - val_loss: 1.0854\n",
      "Epoch 6/10\n",
      "1875/1875 [==============================] - 7s 4ms/step - loss: 0.8343 - val_loss: 1.0062\n",
      "Epoch 7/10\n",
      "1875/1875 [==============================] - 7s 4ms/step - loss: 0.7546 - val_loss: 0.9062\n",
      "Epoch 8/10\n",
      "1875/1875 [==============================] - 7s 4ms/step - loss: 0.6776 - val_loss: 0.8000\n",
      "Epoch 9/10\n",
      "1875/1875 [==============================] - 7s 4ms/step - loss: 0.6194 - val_loss: 0.8160\n",
      "Epoch 10/10\n",
      "1875/1875 [==============================] - 7s 4ms/step - loss: 0.5676 - val_loss: 0.7515\n"
     ]
    }
   ],
   "source": [
    "EPOCHS = 10  # @param {type:\"integer\"}\n",
    "history = model.fit(x_train, y_train, epochs=EPOCHS, validation_data=(x_test, y_test))"
   ]
  },
  {
   "cell_type": "code",
   "execution_count": 23,
   "id": "88e1ee4d",
   "metadata": {
    "pycharm": {
     "name": "#%%\n"
    }
   },
   "outputs": [
    {
     "data": {
      "image/png": "[encoded data removed]",
      "text/plain": [
       "<Figure size 432x288 with 1 Axes>"
      ]
     },
     "metadata": {
      "needs_background": "light"
     },
     "output_type": "display_data"
    }
   ],
   "source": [
    "plt.plot(history.history[\"loss\"])\n",
    "plt.plot(history.history[\"val_loss\"])\n",
    "plt.legend([\"loss\", \"val_loss\"])\n",
    "plt.title(f\"Loss: {loss.name}\")\n",
    "plt.show()"
   ]
  },
  {
   "cell_type": "markdown",
   "id": "5ad4ba20",
   "metadata": {
    "pycharm": {
     "name": "#%% md\n"
    }
   },
   "source": [
    "## Prediction\n",
    "\n",
    "Let's predict some features and visualize them."
   ]
  },
  {
   "cell_type": "code",
   "execution_count": 28,
   "id": "a1936264",
   "metadata": {
    "pycharm": {
     "name": "#%%\n"
    }
   },
   "outputs": [
    {
     "name": "stdout",
     "output_type": "stream",
     "text": [
      "313/313 [==============================] - 1s 2ms/step\n"
     ]
    }
   ],
   "source": [
    "embedded_features = model.predict(x_test, verbose=1)"
   ]
  },
  {
   "cell_type": "markdown",
   "id": "7c0df63b",
   "metadata": {
    "pycharm": {
     "name": "#%% md\n"
    }
   },
   "source": [
    "### 3D-Visualization of ArcFace Loss"
   ]
  },
  {
   "cell_type": "code",
   "execution_count": 38,
   "id": "5aac5d98",
   "metadata": {
    "pycharm": {
     "name": "#%%\n"
    }
   },
   "outputs": [
    {
     "data": {
      "image/png": "[encoded data removed]",
      "text/plain": [
       "<Figure size 432x288 with 1 Axes>"
      ]
     },
     "metadata": {
      "needs_background": "light"
     },
     "output_type": "display_data"
    }
   ],
   "source": [
    "fig = plt.figure()\n",
    "ax = Axes3D(fig, auto_add_to_figure=False)\n",
    "fig.add_axes(ax)\n",
    "for c in range(len(np.unique(y_test))):\n",
    "    ax.plot(\n",
    "        embedded_features[y_test==c, 0], \n",
    "        embedded_features[y_test==c, 1], \n",
    "        embedded_features[y_test==c, 2], \n",
    "        '.', \n",
    "        alpha=0.1,\n",
    "    )\n",
    "plt.title('ArcFace')\n",
    "plt.show()"
   ]
  }
 ],
 "metadata": {
  "environment": {
   "kernel": "python3",
   "name": "tf2-gpu.2-8.m91",
   "type": "gcloud",
   "uri": "gcr.io/deeplearning-platform-release/tf2-gpu.2-8:m91"
  },
  "kernelspec": {
   "display_name": "Python 3",
   "language": "python",
   "name": "python3"
  },
  "language_info": {
   "codemirror_mode": {
    "name": "ipython",
    "version": 3
   },
   "file_extension": ".py",
   "mimetype": "text/x-python",
   "name": "python",
   "nbconvert_exporter": "python",
   "pygments_lexer": "ipython3",
   "version": "3.7.12"
  }
 },
 "nbformat": 4,
 "nbformat_minor": 5
}
