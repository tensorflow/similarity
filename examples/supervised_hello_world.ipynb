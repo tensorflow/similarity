{
 "cells": [
  {
   "cell_type": "markdown",
   "metadata": {},
   "source": [
    "Copyright 2021 The TensorFlow Similarity Authors."
   ]
  },
  {
   "cell_type": "code",
   "execution_count": 1,
   "metadata": {},
   "outputs": [],
   "source": [
    "#@title Licensed under the Apache License, Version 2.0 (the \"License\");\n",
    "# you may not use this file except in compliance with the License.\n",
    "# You may obtain a copy of the License at\n",
    "#\n",
    "# https://www.apache.org/licenses/LICENSE-2.0\n",
    "#\n",
    "# Unless required by applicable law or agreed to in writing, software\n",
    "# distributed under the License is distributed on an \"AS IS\" BASIS,\n",
    "# WITHOUT WARRANTIES OR CONDITIONS OF ANY KIND, either express or implied.\n",
    "# See the License for the specific language governing permissions and\n",
    "# limitations under the License."
   ]
  },
  {
   "cell_type": "markdown",
   "metadata": {},
   "source": [
    "# Tensorflow Similarity Supervised Learning Hello World\n",
    "TensorFlow Similarity is a python library focused on making metric learning with TensorFlow easy. \n",
    "\n",
    "It can be used for tasks such as:\n",
    "\n",
    "- Training and serving models that allow you to find similar items, such as images.\n",
    "\n",
    "- Create embedding features that can be used to build supervised classifiers.\n",
    "\n",
    "\n",
    "## Notebook goal\n",
    "\n",
    "This notebook demonstrates how you can use TensorFlow Similarity to train and query models, enabling the fast retrivial of similar looking items within the MNIST dataset. You are going to learn about the main features offered by the `SimilarityModel()` and will:\n",
    "\n",
    " 1. `train()` a similarity model on a sub-set of the 10 MNIST classes that will learn how to project digits within a cosine space\n",
    "\n",
    " 2. `index()` a few examples of each of the classes present in the train dataset (e.g 10 images per classes) to make them searchable\n",
    "\n",
    " 3. `lookup()` some the test data to check that the train model, despite only having a few examples of the classes unseen during training stored within its index, is still able to retrieve similar looking examples efficiently.\n",
    "\n",
    " 4. `calibrate()` the model to estimate what is the best distance theshold to separate matching elements from elements belonging to different classes\n",
    "\n",
    " 5. `evaluate()` how well the model and index performs overall.\n",
    "\n",
    " 6. `match()` the test dataset to evaluate how well the calibrated model works for classification purpose.\n",
    "\n",
    "## Things to try \n",
    "\n",
    "Along the way you can try the following things to improve the model performance:\n",
    "- Adding more \"seen\" classes at training time\n",
    "- Use a larger embedding by increasing the size of the output\n",
    "- Add data augmentation pre-processing layers to the model\n",
    "- Include more examples in the index to give the models more points to choose from.\n",
    "\n",
    "If you would like to test on more challenging examples, you can replace the MNIST digits dataset with the Fashion MNIST dataset while keeping the notebook almost identical.\n"
   ]
  },
  {
   "cell_type": "code",
   "execution_count": 2,
   "metadata": {},
   "outputs": [],
   "source": [
    "import numpy as np\n",
    "from tabulate import tabulate\n",
    "from matplotlib import pyplot as plt"
   ]
  },
  {
   "cell_type": "code",
   "execution_count": 3,
   "metadata": {},
   "outputs": [],
   "source": [
    "import tensorflow as tf\n",
    "from tensorflow.keras import layers\n",
    "from tensorflow.keras.models import load_model\n",
    "from tensorflow.keras.optimizers import Adam"
   ]
  },
  {
   "cell_type": "code",
   "execution_count": 4,
   "metadata": {},
   "outputs": [],
   "source": [
    "# install TF similarity if needed\n",
    "try:\n",
    "    import tensorflow_similarity as tfsim  # main package\n",
    "except:\n",
    "    !pip install tensorflow_similarity\n",
    "    import tensorflow_similarity as tfsim"
   ]
  },
  {
   "cell_type": "code",
   "execution_count": 5,
   "metadata": {},
   "outputs": [
    {
     "name": "stderr",
     "output_type": "stream",
     "text": [
      "2021-08-31 23:46:09.348110: I tensorflow/stream_executor/cuda/cuda_gpu_executor.cc:937] successful NUMA node read from SysFS had negative value (-1), but there must be at least one NUMA node, so returning NUMA node zero\n",
      "2021-08-31 23:46:09.357277: I tensorflow/stream_executor/cuda/cuda_gpu_executor.cc:937] successful NUMA node read from SysFS had negative value (-1), but there must be at least one NUMA node, so returning NUMA node zero\n",
      "2021-08-31 23:46:09.357980: I tensorflow/stream_executor/cuda/cuda_gpu_executor.cc:937] successful NUMA node read from SysFS had negative value (-1), but there must be at least one NUMA node, so returning NUMA node zero\n",
      "2021-08-31 23:46:09.359540: I tensorflow/core/platform/cpu_feature_guard.cc:142] This TensorFlow binary is optimized with oneAPI Deep Neural Network Library (oneDNN) to use the following CPU instructions in performance-critical operations:  AVX2 FMA\n",
      "To enable them in other operations, rebuild TensorFlow with the appropriate compiler flags.\n",
      "2021-08-31 23:46:09.360722: I tensorflow/stream_executor/cuda/cuda_gpu_executor.cc:937] successful NUMA node read from SysFS had negative value (-1), but there must be at least one NUMA node, so returning NUMA node zero\n",
      "2021-08-31 23:46:09.361377: I tensorflow/stream_executor/cuda/cuda_gpu_executor.cc:937] successful NUMA node read from SysFS had negative value (-1), but there must be at least one NUMA node, so returning NUMA node zero\n",
      "2021-08-31 23:46:09.361957: I tensorflow/stream_executor/cuda/cuda_gpu_executor.cc:937] successful NUMA node read from SysFS had negative value (-1), but there must be at least one NUMA node, so returning NUMA node zero\n",
      "2021-08-31 23:46:09.852583: I tensorflow/stream_executor/cuda/cuda_gpu_executor.cc:937] successful NUMA node read from SysFS had negative value (-1), but there must be at least one NUMA node, so returning NUMA node zero\n",
      "2021-08-31 23:46:09.853294: I tensorflow/stream_executor/cuda/cuda_gpu_executor.cc:937] successful NUMA node read from SysFS had negative value (-1), but there must be at least one NUMA node, so returning NUMA node zero\n",
      "2021-08-31 23:46:09.853873: I tensorflow/stream_executor/cuda/cuda_gpu_executor.cc:937] successful NUMA node read from SysFS had negative value (-1), but there must be at least one NUMA node, so returning NUMA node zero\n",
      "2021-08-31 23:46:09.854471: I tensorflow/core/common_runtime/gpu/gpu_device.cc:1510] Created device /job:localhost/replica:0/task:0/device:GPU:0 with 13839 MB memory:  -> device: 0, name: Tesla T4, pci bus id: 0000:00:04.0, compute capability: 7.5\n",
      "Your CPU supports instructions that this binary was not compiled to use: SSE3 SSE4.1 SSE4.2 AVX AVX2\n",
      "For maximum performance, you can install NMSLIB from sources \n",
      "pip install --no-binary :all: nmslib\n"
     ]
    }
   ],
   "source": [
    "from tensorflow_similarity.utils import tf_cap_memory\n",
    "from tensorflow_similarity.layers import MetricEmbedding # row wise L2 norm\n",
    "from tensorflow_similarity.losses import MultiSimilarityLoss  # specialized similarity loss\n",
    "from tensorflow_similarity.models import SimilarityModel # TF model with additional features\n",
    "from tensorflow_similarity.samplers import MultiShotMemorySampler  # sample data \n",
    "from tensorflow_similarity.samplers import select_examples  # select n example per class\n",
    "from tensorflow_similarity.visualization import viz_neigbors_imgs  # neigboors vizualisation\n",
    "from tensorflow_similarity.visualization import confusion_matrix  # matching performance"
   ]
  },
  {
   "cell_type": "code",
   "execution_count": 6,
   "metadata": {},
   "outputs": [
    {
     "name": "stdout",
     "output_type": "stream",
     "text": [
      "Physical devices cannot be modified after being initialized\n"
     ]
    }
   ],
   "source": [
    "tfsim.utils.tf_cap_memory()"
   ]
  },
  {
   "cell_type": "code",
   "execution_count": 7,
   "metadata": {},
   "outputs": [
    {
     "name": "stdout",
     "output_type": "stream",
     "text": [
      "TensorFlow: 2.6.0\n",
      "TensorFlow Similarity 0.13.11\n"
     ]
    }
   ],
   "source": [
    "print('TensorFlow:', tf.__version__)\n",
    "print('TensorFlow Similarity', tfsim.__version__)"
   ]
  },
  {
   "cell_type": "markdown",
   "metadata": {},
   "source": [
    "# Data preparation\n",
    "\n",
    "We are going to load the MNIST dataset and restrict our training data to **only N of the 10 classes** (6 by default) to showcase how the model is able to find similar examples from classes unseen during training. This is one of the\n",
    "main reason you would want to use metric learning.\n",
    "\n",
    "\n",
    "**Important**: Tensorflow similarity expects `y_train` to be an IntTensor containing the class ids for each example. This is different then the standard categorical encoding used for multi-class classification."
   ]
  },
  {
   "cell_type": "code",
   "execution_count": 8,
   "metadata": {},
   "outputs": [],
   "source": [
    "(x_train, y_train), (x_test, y_test) = tf.keras.datasets.mnist.load_data()"
   ]
  },
  {
   "cell_type": "markdown",
   "metadata": {},
   "source": [
    "To learn efficiently each batch must contains at least 2 samples of each class. Additionally it is often useful to have multiple examples of each class so that we can mine for informative triplets using different strategies, e.g., *semi-hard* mining.\n",
    "\n",
    "To make this easy, tf_similarity offers `Samplers()` that enable you to set the number of classes and the minimum number of examples in each class. Here we are creating a `MultiShotMemorySampler()` which allows you to sample an in-memory dataset and provides multiple examples per class.\n",
    "\n",
    "TensorFlow Similarity provides various samplers to accomodate different requirements, including `SingleShotMemorySampler()` for single-shot learning, `TFDatasetMultiShotMemorySampler()` that samples directly from a tfds dataset available\n",
    "in the TensorFlow catalogue, and `TFRecordDatasetSampler()` that allows you to sample from very large datasets\n",
    "stored on disk as TFRecords shards."
   ]
  },
  {
   "cell_type": "code",
   "execution_count": 9,
   "metadata": {},
   "outputs": [
    {
     "name": "stdout",
     "output_type": "stream",
     "text": [
      "\n",
      "Batch size is 36 (6 class X 6 example per class pre-augmentation\n"
     ]
    },
    {
     "data": {
      "application/vnd.jupyter.widget-view+json": {
       "model_id": "f0160c0929934a6aa41c9fb589d1d191",
       "version_major": 2,
       "version_minor": 0
      },
      "text/plain": [
       "filtering examples:   0%|          | 0/60000 [00:00<?, ?it/s]"
      ]
     },
     "metadata": {},
     "output_type": "display_data"
    },
    {
     "data": {
      "application/vnd.jupyter.widget-view+json": {
       "model_id": "09a465dae0754390bcf1d81b58e55391",
       "version_major": 2,
       "version_minor": 0
      },
      "text/plain": [
       "selecting classes:   0%|          | 0/6 [00:00<?, ?it/s]"
      ]
     },
     "metadata": {},
     "output_type": "display_data"
    },
    {
     "data": {
      "application/vnd.jupyter.widget-view+json": {
       "model_id": "b4a1e44671ce4d918c82f2c5cc0e13e1",
       "version_major": 2,
       "version_minor": 0
      },
      "text/plain": [
       "indexing classes:   0%|          | 0/36963 [00:00<?, ?it/s]"
      ]
     },
     "metadata": {},
     "output_type": "display_data"
    }
   ],
   "source": [
    "CLASSES = [2, 3, 1, 7, 9, 6, 8, 5, 0, 4]\n",
    "NUM_CLASSES = 6  #@param {type: \"slider\", min: 1, max: 10}\n",
    "CLASS_PER_BATCH = NUM_CLASSES\n",
    "EXAMPLE_PER_CLASS = 6 #@param {type:\"integer\"}\n",
    "STEPS_PER_EPOCH = 1000 #@param {type:\"integer\"}\n",
    "\n",
    "sampler = MultiShotMemorySampler(x_train, y_train, \n",
    "                                 classes_per_batch=CLASS_PER_BATCH, \n",
    "                                 examples_per_class_per_batch=EXAMPLE_PER_CLASS,\n",
    "                                 class_list=CLASSES[:NUM_CLASSES], # Only use the first 6 classes for training.\n",
    "                                 steps_per_epoch=STEPS_PER_EPOCH)"
   ]
  },
  {
   "cell_type": "markdown",
   "metadata": {},
   "source": [
    "# Model setup"
   ]
  },
  {
   "cell_type": "markdown",
   "metadata": {},
   "source": [
    "## Model definition\n",
    "\n",
    "Metric loss models are normal `tensorflow.keras` models except that their output is a metric embeding. We use `SimilarityModel()` instead of the default `Model()` because this subclass contains an additional proprerty that makes indexing and searching embeddings easy once the training is completed."
   ]
  },
  {
   "cell_type": "code",
   "execution_count": 10,
   "metadata": {},
   "outputs": [
    {
     "name": "stdout",
     "output_type": "stream",
     "text": [
      "Model: \"similarity_model\"\n",
      "_________________________________________________________________\n",
      "Layer (type)                 Output Shape              Param #   \n",
      "=================================================================\n",
      "input_1 (InputLayer)         [(None, 28, 28, 1)]       0         \n",
      "_________________________________________________________________\n",
      "rescaling (Rescaling)        (None, 28, 28, 1)         0         \n",
      "_________________________________________________________________\n",
      "conv2d (Conv2D)              (None, 22, 22, 32)        1600      \n",
      "_________________________________________________________________\n",
      "conv2d_1 (Conv2D)            (None, 20, 20, 32)        9248      \n",
      "_________________________________________________________________\n",
      "max_pooling2d (MaxPooling2D) (None, 10, 10, 32)        0         \n",
      "_________________________________________________________________\n",
      "conv2d_2 (Conv2D)            (None, 4, 4, 64)          100416    \n",
      "_________________________________________________________________\n",
      "conv2d_3 (Conv2D)            (None, 2, 2, 64)          36928     \n",
      "_________________________________________________________________\n",
      "flatten (Flatten)            (None, 256)               0         \n",
      "_________________________________________________________________\n",
      "dense (Dense)                (None, 64)                16448     \n",
      "_________________________________________________________________\n",
      "metric_embedding (MetricEmbe (None, 64)                4160      \n",
      "=================================================================\n",
      "Total params: 168,800\n",
      "Trainable params: 168,800\n",
      "Non-trainable params: 0\n",
      "_________________________________________________________________\n"
     ]
    }
   ],
   "source": [
    "def get_model():\n",
    "    inputs = layers.Input(shape=(28, 28, 1))\n",
    "    x = layers.experimental.preprocessing.Rescaling(1/255)(inputs)\n",
    "    x = layers.Conv2D(32, 7, activation='relu')(x)\n",
    "    x = layers.Conv2D(32, 3, activation='relu')(x)\n",
    "    x = layers.MaxPool2D()(x)\n",
    "    x = layers.Conv2D(64, 7, activation='relu')(x)\n",
    "    x = layers.Conv2D(64, 3, activation='relu')(x)\n",
    "    x = layers.Flatten()(x)\n",
    "    x = layers.Dense(64, activation='relu')(x)\n",
    "    # smaller embeddings will have faster lookup times\n",
    "    outputs = MetricEmbedding(64)(x)\n",
    "    return SimilarityModel(inputs, outputs)\n",
    "model = get_model()\n",
    "model.summary()"
   ]
  },
  {
   "cell_type": "markdown",
   "metadata": {},
   "source": [
    "## Loss definition\n",
    "\n",
    "Overall what makes Metric losses different from tradional losses is that:\n",
    "- **They expect different inptus.** Instead of having the prediction and the true values be the same, they expect embeddings as `y_preds` and the id (as int32) of the class as `y_true`. \n",
    "- **The require a distance.** You need to specify which `distance` function to use to compute the distance between embeddings. `cosine` is usually a great starting point and the default.\n",
    "\n",
    "In this example we are using the `MultiSimilarityLoss()`. This loss takes a weighted combination of all valid positive and negative pairs, making more efficient use of all the existing information in each batch."
   ]
  },
  {
   "cell_type": "code",
   "execution_count": 11,
   "metadata": {},
   "outputs": [],
   "source": [
    "distance = 'cosine' #@param [\"cosine\"]{allow-input: false}\n",
    "loss = MultiSimilarityLoss(distance=distance)"
   ]
  },
  {
   "cell_type": "markdown",
   "metadata": {},
   "source": [
    "## Compilation\n",
    "\n",
    "Tensorflow similarity use an extended `compile()` method that allows you to specify distance_metrics (metrics that are computed over the distance between the embedding). \n",
    "\n",
    "By default the `compile()` method tries to infer what type of distance you are using by looking at the fist loss specified. If you use multiples losses and the distance loss is not the first, then you need to specify the distance function used as `distance=` parameter in the compile function."
   ]
  },
  {
   "cell_type": "code",
   "execution_count": 12,
   "metadata": {},
   "outputs": [
    {
     "name": "stdout",
     "output_type": "stream",
     "text": [
      "Distance metric automatically set to cosine use the distance arg to override.\n"
     ]
    }
   ],
   "source": [
    "LR = 0.0001  #@param {type:\"float\"}\n",
    "model = get_model()\n",
    "model.compile(optimizer=Adam(LR), loss=loss)"
   ]
  },
  {
   "cell_type": "markdown",
   "metadata": {},
   "source": [
    "# Training\n",
    "\n",
    "Similarity models are trained like normal models. \n",
    "\n",
    "**NOTE**: don't expect the validation loss to decrease too much here because we only use a subset of the classes within the train data but include all classes in the validation data."
   ]
  },
  {
   "cell_type": "code",
   "execution_count": 13,
   "metadata": {
    "tags": []
   },
   "outputs": [
    {
     "name": "stdout",
     "output_type": "stream",
     "text": [
      "Epoch 1/10\n"
     ]
    },
    {
     "name": "stderr",
     "output_type": "stream",
     "text": [
      "2021-08-31 23:46:20.649753: I tensorflow/compiler/mlir/mlir_graph_optimization_pass.cc:185] None of the MLIR Optimization Passes are enabled (registered 2)\n",
      "2021-08-31 23:46:22.221405: I tensorflow/stream_executor/cuda/cuda_dnn.cc:369] Loaded cuDNN version 8005\n"
     ]
    },
    {
     "name": "stdout",
     "output_type": "stream",
     "text": [
      "1000/1000 [==============================] - 8s 5ms/step - loss: 1.5449 - val_loss: 1.4609\n",
      "Warmup complete\n",
      "Epoch 2/10\n",
      "1000/1000 [==============================] - 4s 4ms/step - loss: 0.9249 - val_loss: 1.4634\n",
      "Epoch 3/10\n",
      "1000/1000 [==============================] - 4s 4ms/step - loss: 0.6106 - val_loss: 1.4151\n",
      "Epoch 4/10\n",
      "1000/1000 [==============================] - 4s 4ms/step - loss: 0.4686 - val_loss: 1.4458\n",
      "Epoch 5/10\n",
      "1000/1000 [==============================] - 4s 4ms/step - loss: 0.3644 - val_loss: 1.3610\n",
      "Epoch 6/10\n",
      "1000/1000 [==============================] - 4s 4ms/step - loss: 0.2697 - val_loss: 1.3795\n",
      "Epoch 7/10\n",
      "1000/1000 [==============================] - 4s 4ms/step - loss: 0.2111 - val_loss: 1.3491\n",
      "Epoch 8/10\n",
      "1000/1000 [==============================] - 4s 4ms/step - loss: 0.2163 - val_loss: 1.3540\n",
      "Epoch 9/10\n",
      "1000/1000 [==============================] - 4s 4ms/step - loss: 0.1369 - val_loss: 1.4228\n",
      "Epoch 10/10\n",
      "1000/1000 [==============================] - 4s 4ms/step - loss: 0.1720 - val_loss: 1.4116\n"
     ]
    }
   ],
   "source": [
    "EPOCHS = 10 #@param {type:\"integer\"}\n",
    "history = model.fit(sampler, epochs=EPOCHS, validation_data=(x_test, y_test))"
   ]
  },
  {
   "cell_type": "code",
   "execution_count": 14,
   "metadata": {},
   "outputs": [
    {
     "data": {
      "image/png": "[encoded data removed]",
      "text/plain": [
       "<Figure size 432x288 with 1 Axes>"
      ]
     },
     "metadata": {
      "needs_background": "light"
     },
     "output_type": "display_data"
    }
   ],
   "source": [
    "# expect loss: 0.1853 / val_loss: 1.4360\n",
    "plt.plot(history.history['loss'])\n",
    "plt.plot(history.history['val_loss'])\n",
    "plt.legend(['loss', 'val_loss'])\n",
    "plt.title(f'Loss: {loss.name} - LR: {LR}')\n",
    "plt.show()"
   ]
  },
  {
   "cell_type": "code",
   "execution_count": 15,
   "metadata": {},
   "outputs": [
    {
     "data": {
      "application/vnd.jupyter.widget-view+json": {
       "model_id": "c6759128b6b5495ba49c114cebfda4c5",
       "version_major": 2,
       "version_minor": 0
      },
      "text/plain": [
       "filtering examples:   0%|          | 0/60000 [00:00<?, ?it/s]"
      ]
     },
     "metadata": {},
     "output_type": "display_data"
    },
    {
     "data": {
      "application/vnd.jupyter.widget-view+json": {
       "model_id": "1dfbab090f644a218e09aa5a86ba898c",
       "version_major": 2,
       "version_minor": 0
      },
      "text/plain": [
       "selecting classes:   0%|          | 0/10 [00:00<?, ?it/s]"
      ]
     },
     "metadata": {},
     "output_type": "display_data"
    },
    {
     "name": "stdout",
     "output_type": "stream",
     "text": [
      "[Indexing 200 points]\n",
      "|-Computing embeddings\n",
      "|-Storing data points in key value store\n",
      "|-Adding embeddings to index.\n",
      "|-Building index.\n"
     ]
    },
    {
     "name": "stderr",
     "output_type": "stream",
     "text": [
      "\n",
      "0%   10   20   30   40   50   60   70   80   90   100%\n",
      "|----|----|----|----|----|----|----|----|----|----|\n",
      "***************************************************\n"
     ]
    }
   ],
   "source": [
    "x_index, y_index = select_examples(x_train, y_train, CLASSES, 20)\n",
    "model.reset_index()\n",
    "model.index(x_index, y_index, data=x_index)"
   ]
  },
  {
   "cell_type": "markdown",
   "metadata": {},
   "source": [
    "# Querying\n",
    "\n",
    "To \"classify\" our testing data, we need for each testing example to look for its *k* [nearest neighbors](https://scikit-learn.org/stable/modules/neighbors.html) in the index.\n",
    "\n",
    "We query a single random example for each class from the test dataset using  `select_examples()` and then find their nearest neighboors using the `single_lookup()` function.\n",
    "\n",
    "**NOTE** In the original notebook, classes 8, 5, 0, and 4 were not seen during training but still return reasonable matches in the following plot. "
   ]
  },
  {
   "cell_type": "code",
   "execution_count": 16,
   "metadata": {},
   "outputs": [
    {
     "data": {
      "application/vnd.jupyter.widget-view+json": {
       "model_id": "48669dd0b6cc4ad7ac88678ec8222575",
       "version_major": 2,
       "version_minor": 0
      },
      "text/plain": [
       "filtering examples:   0%|          | 0/10000 [00:00<?, ?it/s]"
      ]
     },
     "metadata": {},
     "output_type": "display_data"
    },
    {
     "data": {
      "application/vnd.jupyter.widget-view+json": {
       "model_id": "e9948719edeb47c89989754bd36ea998",
       "version_major": 2,
       "version_minor": 0
      },
      "text/plain": [
       "selecting classes:   0%|          | 0/10 [00:00<?, ?it/s]"
      ]
     },
     "metadata": {},
     "output_type": "display_data"
    },
    {
     "name": "stdout",
     "output_type": "stream",
     "text": [
      "\n",
      "Performing NN search\n",
      "\n"
     ]
    },
    {
     "data": {
      "application/vnd.jupyter.widget-view+json": {
       "model_id": "1099d56ec7244bc7bfa4afbe04bb9e3b",
       "version_major": 2,
       "version_minor": 0
      },
      "text/plain": [
       "Building NN list:   0%|          | 0/10 [00:00<?, ?it/s]"
      ]
     },
     "metadata": {},
     "output_type": "display_data"
    },
    {
     "data": {
      "image/png": "[encoded data removed]",
      "text/plain": [
       "<Figure size 1152x144 with 6 Axes>"
      ]
     },
     "metadata": {},
     "output_type": "display_data"
    },
    {
     "data": {
      "image/png": "[encoded data removed]",
      "text/plain": [
       "<Figure size 1152x144 with 6 Axes>"
      ]
     },
     "metadata": {},
     "output_type": "display_data"
    },
    {
     "data": {
      "image/png": "[encoded data removed]",
      "text/plain": [
       "<Figure size 1152x144 with 6 Axes>"
      ]
     },
     "metadata": {},
     "output_type": "display_data"
    },
    {
     "data": {
      "image/png": "[encoded data removed]",
      "text/plain": [
       "<Figure size 1152x144 with 6 Axes>"
      ]
     },
     "metadata": {},
     "output_type": "display_data"
    },
    {
     "data": {
      "image/png": "[encoded data removed]",
      "text/plain": [
       "<Figure size 1152x144 with 6 Axes>"
      ]
     },
     "metadata": {},
     "output_type": "display_data"
    },
    {
     "data": {
      "image/png": "[encoded data removed]",
      "text/plain": [
       "<Figure size 1152x144 with 6 Axes>"
      ]
     },
     "metadata": {},
     "output_type": "display_data"
    },
    {
     "data": {
      "image/png": "[encoded data removed]",
      "text/plain": [
       "<Figure size 1152x144 with 6 Axes>"
      ]
     },
     "metadata": {},
     "output_type": "display_data"
    },
    {
     "data": {
      "image/png": "[encoded data removed]",
      "text/plain": [
       "<Figure size 1152x144 with 6 Axes>"
      ]
     },
     "metadata": {},
     "output_type": "display_data"
    },
    {
     "data": {
      "image/png": "[encoded data removed]",
      "text/plain": [
       "<Figure size 1152x144 with 6 Axes>"
      ]
     },
     "metadata": {},
     "output_type": "display_data"
    },
    {
     "data": {
      "image/png": "[encoded data removed]",
      "text/plain": [
       "<Figure size 1152x144 with 6 Axes>"
      ]
     },
     "metadata": {},
     "output_type": "display_data"
    }
   ],
   "source": [
    "# used to label in images in the viz_neighbors_imgs plots\n",
    "# note we added a 11th classes for unknown\n",
    "labels = [\"0\", \"1\",  \"2\", \"3\", \"4\", \"5\", \"6\", \"7\", \"8\", \"9\", \"Unknown\"]\n",
    "\n",
    "# re-run to test on other examples\n",
    "num_neighboors = 5\n",
    "\n",
    "# select\n",
    "x_display, y_display = select_examples(x_test, y_test, CLASSES, 1)\n",
    "\n",
    "# lookup nearest neighbors in the index\n",
    "nns = model.lookup(x_display, k=num_neighboors)\n",
    "\n",
    "# display\n",
    "for idx in np.argsort(y_display):\n",
    "    viz_neigbors_imgs(x_display[idx], y_display[idx], nns[idx], \n",
    "                      class_mapping=labels, fig_size=(16, 2), cmap='Greys')"
   ]
  },
  {
   "cell_type": "markdown",
   "metadata": {},
   "source": [
    "## Matching\n",
    "\n",
    "To be able to tell if an example matches a given class, we first need to `calibrate()` the model to find the optimal cut point. By default, we only compute an optimal cutpoint that maximizes performance; however, you can speficy your own target and change the optimization metrics as illustrated in later examples"
   ]
  },
  {
   "cell_type": "code",
   "execution_count": 17,
   "metadata": {},
   "outputs": [
    {
     "name": "stdout",
     "output_type": "stream",
     "text": [
      "\n",
      "Performing NN search\n",
      "\n"
     ]
    },
    {
     "data": {
      "application/vnd.jupyter.widget-view+json": {
       "model_id": "abf66cdd1f924915b8d003635ec88060",
       "version_major": 2,
       "version_minor": 0
      },
      "text/plain": [
       "Building NN list:   0%|          | 0/1000 [00:00<?, ?it/s]"
      ]
     },
     "metadata": {},
     "output_type": "display_data"
    },
    {
     "ename": "ValueError",
     "evalue": "Unknown metric name: accuracy, typo?",
     "output_type": "error",
     "traceback": [
      "\u001b[0;31m---------------------------------------------------------------------------\u001b[0m",
      "\u001b[0;31mValueError\u001b[0m                                Traceback (most recent call last)",
      "\u001b[0;32m/tmp/ipykernel_24233/1621372819.py\u001b[0m in \u001b[0;36m<module>\u001b[0;34m\u001b[0m\n\u001b[1;32m      1\u001b[0m \u001b[0mnum_calibration_samples\u001b[0m \u001b[0;34m=\u001b[0m \u001b[0;36m1000\u001b[0m\u001b[0;34m\u001b[0m\u001b[0;34m\u001b[0m\u001b[0m\n\u001b[0;32m----> 2\u001b[0;31m \u001b[0mcalibration\u001b[0m \u001b[0;34m=\u001b[0m \u001b[0mmodel\u001b[0m\u001b[0;34m.\u001b[0m\u001b[0mcalibrate\u001b[0m\u001b[0;34m(\u001b[0m\u001b[0mx_train\u001b[0m\u001b[0;34m[\u001b[0m\u001b[0;34m:\u001b[0m\u001b[0mnum_calibration_samples\u001b[0m\u001b[0;34m]\u001b[0m\u001b[0;34m,\u001b[0m \u001b[0my_train\u001b[0m\u001b[0;34m[\u001b[0m\u001b[0;34m:\u001b[0m\u001b[0mnum_calibration_samples\u001b[0m\u001b[0;34m]\u001b[0m\u001b[0;34m,\u001b[0m \u001b[0mextra_metrics\u001b[0m\u001b[0;34m=\u001b[0m\u001b[0;34m[\u001b[0m\u001b[0;34m'precision'\u001b[0m\u001b[0;34m,\u001b[0m \u001b[0;34m'recall'\u001b[0m\u001b[0;34m,\u001b[0m \u001b[0;34m'accuracy'\u001b[0m\u001b[0;34m]\u001b[0m\u001b[0;34m,\u001b[0m \u001b[0mverbose\u001b[0m\u001b[0;34m=\u001b[0m\u001b[0;36m1\u001b[0m\u001b[0;34m)\u001b[0m\u001b[0;34m\u001b[0m\u001b[0;34m\u001b[0m\u001b[0m\n\u001b[0m",
      "\u001b[0;32m~/Workspace/similarity/tensorflow_similarity/models/similarity_model.py\u001b[0m in \u001b[0;36mcalibrate\u001b[0;34m(self, x, y, thresholds_targets, k, calibration_metric, matcher, extra_metrics, rounding, verbose)\u001b[0m\n\u001b[1;32m    345\u001b[0m                                      \u001b[0mextra_metrics\u001b[0m\u001b[0;34m=\u001b[0m\u001b[0mextra_metrics\u001b[0m\u001b[0;34m,\u001b[0m\u001b[0;34m\u001b[0m\u001b[0;34m\u001b[0m\u001b[0m\n\u001b[1;32m    346\u001b[0m                                      \u001b[0mrounding\u001b[0m\u001b[0;34m=\u001b[0m\u001b[0mrounding\u001b[0m\u001b[0;34m,\u001b[0m\u001b[0;34m\u001b[0m\u001b[0;34m\u001b[0m\u001b[0m\n\u001b[0;32m--> 347\u001b[0;31m                                      verbose=verbose)\n\u001b[0m\u001b[1;32m    348\u001b[0m \u001b[0;34m\u001b[0m\u001b[0m\n\u001b[1;32m    349\u001b[0m     def match(self,\n",
      "\u001b[0;32m~/Workspace/similarity/tensorflow_similarity/indexer.py\u001b[0m in \u001b[0;36mcalibrate\u001b[0;34m(self, predictions, target_labels, thresholds_targets, calibration_metric, k, matcher, extra_metrics, rounding, verbose)\u001b[0m\n\u001b[1;32m    534\u001b[0m \u001b[0;34m\u001b[0m\u001b[0m\n\u001b[1;32m    535\u001b[0m         combined_metrics: List[ClassificationMetric] = (\n\u001b[0;32m--> 536\u001b[0;31m             [make_classification_metric(m) for m in extra_metrics])\n\u001b[0m\u001b[1;32m    537\u001b[0m \u001b[0;34m\u001b[0m\u001b[0m\n\u001b[1;32m    538\u001b[0m         \u001b[0;31m# running calibration\u001b[0m\u001b[0;34m\u001b[0m\u001b[0;34m\u001b[0m\u001b[0;34m\u001b[0m\u001b[0m\n",
      "\u001b[0;32m~/Workspace/similarity/tensorflow_similarity/indexer.py\u001b[0m in \u001b[0;36m<listcomp>\u001b[0;34m(.0)\u001b[0m\n\u001b[1;32m    534\u001b[0m \u001b[0;34m\u001b[0m\u001b[0m\n\u001b[1;32m    535\u001b[0m         combined_metrics: List[ClassificationMetric] = (\n\u001b[0;32m--> 536\u001b[0;31m             [make_classification_metric(m) for m in extra_metrics])\n\u001b[0m\u001b[1;32m    537\u001b[0m \u001b[0;34m\u001b[0m\u001b[0m\n\u001b[1;32m    538\u001b[0m         \u001b[0;31m# running calibration\u001b[0m\u001b[0;34m\u001b[0m\u001b[0;34m\u001b[0m\u001b[0;34m\u001b[0m\u001b[0m\n",
      "\u001b[0;32m~/Workspace/similarity/tensorflow_similarity/classification_metrics/utils.py\u001b[0m in \u001b[0;36mmake_classification_metric\u001b[0;34m(metric, name)\u001b[0m\n\u001b[1;32m     42\u001b[0m             \u001b[0mmetric\u001b[0m \u001b[0;34m=\u001b[0m \u001b[0mMETRICS_ALIASES\u001b[0m\u001b[0;34m[\u001b[0m\u001b[0mmetric\u001b[0m\u001b[0;34m.\u001b[0m\u001b[0mlower\u001b[0m\u001b[0;34m(\u001b[0m\u001b[0;34m)\u001b[0m\u001b[0;34m]\u001b[0m\u001b[0;34m(\u001b[0m\u001b[0;34m)\u001b[0m\u001b[0;34m\u001b[0m\u001b[0;34m\u001b[0m\u001b[0m\n\u001b[1;32m     43\u001b[0m         \u001b[0;32melse\u001b[0m\u001b[0;34m:\u001b[0m\u001b[0;34m\u001b[0m\u001b[0;34m\u001b[0m\u001b[0m\n\u001b[0;32m---> 44\u001b[0;31m             \u001b[0;32mraise\u001b[0m \u001b[0mValueError\u001b[0m\u001b[0;34m(\u001b[0m\u001b[0;34mf'Unknown metric name: {metric}, typo?'\u001b[0m\u001b[0;34m)\u001b[0m\u001b[0;34m\u001b[0m\u001b[0;34m\u001b[0m\u001b[0m\n\u001b[0m\u001b[1;32m     45\u001b[0m \u001b[0;34m\u001b[0m\u001b[0m\n\u001b[1;32m     46\u001b[0m     \u001b[0;32mif\u001b[0m \u001b[0mname\u001b[0m\u001b[0;34m:\u001b[0m\u001b[0;34m\u001b[0m\u001b[0;34m\u001b[0m\u001b[0m\n",
      "\u001b[0;31mValueError\u001b[0m: Unknown metric name: accuracy, typo?"
     ]
    }
   ],
   "source": [
    "num_calibration_samples = 1000\n",
    "calibration = model.calibrate(x_train[:num_calibration_samples], y_train[:num_calibration_samples], extra_metrics=['precision', 'recall', 'accuracy'], verbose=1)"
   ]
  },
  {
   "cell_type": "markdown",
   "metadata": {},
   "source": [
    "Let's look at how the performance metrics evolve as the distance between the samples increase. We clearly see the F1 optimial cutpoint where the precision and recall intersect which what the `optimal_cutpoint` represent."
   ]
  },
  {
   "cell_type": "code",
   "execution_count": null,
   "metadata": {},
   "outputs": [],
   "source": [
    "fig, ax = plt.subplots()\n",
    "x = calibration.thresholds['distance']\n",
    "ax.plot(x, calibration.thresholds['precision'], label='precision')\n",
    "ax.plot(x, calibration.thresholds['recall'], label='recall')\n",
    "ax.plot(x, calibration.thresholds['f1'], label='f1 score')\n",
    "ax.legend()\n",
    "ax.set_title(\"Metric evolution as distance increase\")\n",
    "ax.set_xlabel('Distance')\n",
    "plt.show()"
   ]
  },
  {
   "cell_type": "markdown",
   "metadata": {},
   "source": [
    "Ploting the precision/recall curve we can see that for a lot of samples from the unseen classes the model is not doing really well (you see the inflexion past 0.6 recall). This can be improved by indexing more data, using data augmentation, a better model or even changing which classes are trained on. "
   ]
  },
  {
   "cell_type": "code",
   "execution_count": null,
   "metadata": {},
   "outputs": [],
   "source": [
    "fig, ax = plt.subplots()\n",
    "ax.plot(calibration.thresholds['recall'], calibration.thresholds['precision'])\n",
    "ax.set_title(\"Precision recall curve\")\n",
    "ax.set_xlabel('Recall')\n",
    "ax.set_ylabel('Precision')\n",
    "plt.show()"
   ]
  },
  {
   "cell_type": "markdown",
   "metadata": {},
   "source": [
    "# Evaluation\n",
    "We evaluate our model ability to accurately match new examples using our calibrated threshold by testing how many examples from the test sets are correctly matched. The example which have a distance above the cutoff are excluded and labeled as unknown.\n",
    "\n",
    "The evaluation below reports the performance of the model fo "
   ]
  },
  {
   "cell_type": "code",
   "execution_count": null,
   "metadata": {},
   "outputs": [],
   "source": [
    "metrics = model.evaluate_classification(x_test, y_test)"
   ]
  },
  {
   "cell_type": "markdown",
   "metadata": {},
   "source": [
    "## matching\n",
    "\n",
    "Let's now match a 100 examples to see how you can use the `match()` function in practice. `match()` return you what class the example belong to based of the content of the index and allows to use your model to make prediction on an unbounded, added after training, classes!\n",
    "\n",
    "Note: `match()` returns -1 by default when the distance between the submitted example and any point in the index is above the distance cutpoint."
   ]
  },
  {
   "cell_type": "code",
   "execution_count": null,
   "metadata": {},
   "outputs": [],
   "source": [
    "num_matches = 10\n",
    "\n",
    "matches = model.match(x_test[:num_matches], cutpoint='optimal')\n",
    "rows = []\n",
    "for idx, match in enumerate(matches):\n",
    "    rows.append([match, y_test[idx], match == y_test[idx]])\n",
    "print(tabulate(rows, headers=['Predicted', 'True', 'correct']))"
   ]
  },
  {
   "cell_type": "markdown",
   "metadata": {},
   "source": [
    "## confusion matrix\n",
    "Let's select a few hundreds samples for each class in the test set to plot the confusion matrix for a few\n",
    "\n",
    "**NOTE** `tf.math.confusion_matrix` doesn't support negative classes, so we are going to use **class 10 as our unknown class**. Unknown samples are any sample for which the closest neighbor distance is greater than the cutpoint threshold."
   ]
  },
  {
   "cell_type": "code",
   "execution_count": null,
   "metadata": {},
   "outputs": [],
   "source": [
    "num_example_per_class = 1000\n",
    "cutpoint = 'optimal'\n",
    "\n",
    "x_confusion, y_confusion = select_examples(x_test, y_test, CLASSES, num_example_per_class)\n",
    "\n",
    "matches = model.match(x_confusion, cutpoint=cutpoint, no_match_label=10)\n",
    "confusion_matrix(matches, y_confusion, labels=labels, title='Confusin matrix for cutpoint:%s' % cutpoint)"
   ]
  },
  {
   "cell_type": "markdown",
   "metadata": {},
   "source": [
    "# Index information\n",
    "\n",
    "Following `model.summary()` you can get information about the index configuration and its performance using `index_summary()`."
   ]
  },
  {
   "cell_type": "code",
   "execution_count": null,
   "metadata": {},
   "outputs": [],
   "source": [
    "model.index_summary()"
   ]
  },
  {
   "cell_type": "markdown",
   "metadata": {},
   "source": [
    "# Saving and reloading\n",
    "Saving and reloading the model works as you would expected: \n",
    "- `model.save(path)`: save the model and the index on disk (`save_index=False`). By default the index is compressed - can be disabled by setting `compressed=False`\n",
    "- `model = tf.keras.model.load_model(path)` reload the model. To reload the index you then need to call model.load_index(path)\n",
    "- `model.save_index(path)` and `model.load_index(path)` allows to save/reload an index indenpendly of saving/loading a model if need to be\n"
   ]
  },
  {
   "cell_type": "markdown",
   "metadata": {},
   "source": [
    "## Saving"
   ]
  },
  {
   "cell_type": "code",
   "execution_count": null,
   "metadata": {},
   "outputs": [],
   "source": [
    "# save the model and the index\n",
    "save_path = 'models/hello_world' #@param {type:\"string\"}\n",
    "model.save(save_path)"
   ]
  },
  {
   "cell_type": "markdown",
   "metadata": {},
   "source": [
    "## Reloading"
   ]
  },
  {
   "cell_type": "code",
   "execution_count": null,
   "metadata": {},
   "outputs": [],
   "source": [
    "# reload the model\n",
    "reloaded_model = load_model(save_path)\n",
    "# reload the index\n",
    "reloaded_model.load_index(save_path)"
   ]
  },
  {
   "cell_type": "code",
   "execution_count": null,
   "metadata": {},
   "outputs": [],
   "source": [
    "#check the index is back\n",
    "reloaded_model.index_summary()"
   ]
  },
  {
   "cell_type": "markdown",
   "metadata": {},
   "source": [
    "## Query reloaded model\n",
    "Querying the reloaded model with its reload index works as expected"
   ]
  },
  {
   "cell_type": "code",
   "execution_count": null,
   "metadata": {},
   "outputs": [],
   "source": [
    "# used to label in images in the viz_neighbors_imgs plots\n",
    "# note we added a 11th classes for unknown\n",
    "labels = [\"0\", \"1\",  \"2\", \"3\", \"4\", \"5\", \"6\", \"7\", \"8\", \"9\", \"Unknown\"]\n",
    "\n",
    "# re-run to test on other examples\n",
    "num_neighboors = 5\n",
    "\n",
    "# select\n",
    "x_display, y_display = select_examples(x_test, y_test, CLASSES, 1)\n",
    "\n",
    "# lookup the nearest neighbors\n",
    "nns = model.lookup(x_display, k=num_neighboors)\n",
    "\n",
    "# display\n",
    "for idx in np.argsort(y_display):\n",
    "    viz_neigbors_imgs(x_display[idx], y_display[idx], nns[idx], \n",
    "                      class_mapping=labels, fig_size=(16, 2), cmap='Greys')"
   ]
  },
  {
   "cell_type": "code",
   "execution_count": null,
   "metadata": {},
   "outputs": [],
   "source": []
  }
 ],
 "metadata": {
  "environment": {
   "name": "tf2-gpu.2-6.m78",
   "type": "gcloud",
   "uri": "gcr.io/deeplearning-platform-release/tf2-gpu.2-6:m78"
  },
  "interpreter": {
   "hash": "cada0c3e68bbe3038c05f3f13c34d05fb5411cc128b62a4a529880c33c3268c3"
  },
  "kernelspec": {
   "display_name": "Python 3",
   "language": "python",
   "name": "python3"
  },
  "language_info": {
   "codemirror_mode": {
    "name": "ipython",
    "version": 3
   },
   "file_extension": ".py",
   "mimetype": "text/x-python",
   "name": "python",
   "nbconvert_exporter": "python",
   "pygments_lexer": "ipython3",
   "version": "3.7.10"
  },
  "metadata": {
   "interpreter": {
    "hash": "beb34c979f53df918eee6ac62e82d9c0beb9e6590c67a50c4f7c01f004ba70dc"
   }
  }
 },
 "nbformat": 4,
 "nbformat_minor": 4
}
