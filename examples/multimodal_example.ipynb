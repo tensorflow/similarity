{
  "cells": [
    {
      "cell_type": "markdown",
      "id": "252467c5",
      "metadata": {
        "id": "252467c5"
      },
      "source": [
        "Consider that you have a online art gallery with thousands of paintings. How would you search through it? You can search for artists or painting titles but what if you want to search for a painting by description?\n",
        "Descriptions may not be available for all paintings. You can get descriptions written manually for each painting but it would be an huge amount of work and would slow down the digitization process. What if we could search through images of paintings without manually labelling them?\n",
        "For example, if you search for a painting of sea waves in a Japenese style, you would expect to see something like this."
      ]
    },
    {
      "cell_type": "markdown",
      "id": "5b54b1cb",
      "metadata": {
        "id": "5b54b1cb"
      },
      "source": [
        "<img src=\"https://www.artic.edu/iiif/2/b3974542-b9b4-7568-fc4b-966738f61d78/full/1686,/0/default.jpg\">"
      ]
    },
    {
      "cell_type": "markdown",
      "id": "e5ff5f5d",
      "metadata": {
        "id": "e5ff5f5d"
      },
      "source": [
        "We are going to train a image encoder model which can be used to index the images, and we can train a text encoder model which can encode our search query. We can then find our image by finding the nearest image vector to our text vector."
      ]
    },
    {
      "cell_type": "markdown",
      "id": "2ad1a349",
      "metadata": {
        "id": "2ad1a349"
      },
      "source": [
        "For this task, we are going to finetune CLIP model which was trained on a large training dataset and hence has good zero shot preformance. We will take pretrained model as a baseline and see if we can improve its performance on our task by finetuning."
      ]
    },
    {
      "cell_type": "markdown",
      "id": "6qvOpA_LajsZ",
      "metadata": {
        "id": "6qvOpA_LajsZ"
      },
      "source": [
        "We are going to use dataset from [Art Institute of Chicago](https://www.artic.edu/) to finetune our model. It has images of artworks and information such as title, artist, alt_text and description. We are going to use descriptions as they are more suitable for our problem."
      ]
    },
    {
      "cell_type": "markdown",
      "id": "2a05cdbc",
      "metadata": {
        "id": "2a05cdbc"
      },
      "source": [
        "Let's import the required libraries"
      ]
    },
    {
      "cell_type": "code",
      "execution_count": 1,
      "id": "854c65ce",
      "metadata": {
        "id": "854c65ce"
      },
      "outputs": [],
      "source": [
        "import os\n",
        "import glob\n",
        "import numpy as np\n",
        "import pandas as pd\n",
        "import matplotlib.pyplot as plt\n",
        "from tqdm import tqdm"
      ]
    },
    {
      "cell_type": "code",
      "execution_count": 2,
      "id": "8941bc45",
      "metadata": {
        "id": "8941bc45"
      },
      "outputs": [],
      "source": [
        "import multiprocessing"
      ]
    },
    {
      "cell_type": "code",
      "execution_count": 3,
      "id": "b32d6761",
      "metadata": {
        "id": "b32d6761"
      },
      "outputs": [],
      "source": [
        "import tensorflow as tf"
      ]
    },
    {
      "cell_type": "code",
      "execution_count": 4,
      "id": "78a778a0",
      "metadata": {
        "id": "78a778a0"
      },
      "outputs": [],
      "source": [
        "from sklearn.model_selection import train_test_split"
      ]
    },
    {
      "cell_type": "code",
      "execution_count": null,
      "id": "gIlFIhcappKp",
      "metadata": {
        "id": "gIlFIhcappKp"
      },
      "outputs": [],
      "source": [
        "# Installing dependencies\n",
        "!pip install transformers\n",
        "\n",
        "!pip install git+https://github.com/abhisharsinha/similarity@development"
      ]
    },
    {
      "cell_type": "code",
      "execution_count": 6,
      "id": "a53ebbbd",
      "metadata": {
        "id": "a53ebbbd"
      },
      "outputs": [],
      "source": [
        "from tensorflow_similarity.losses import MultiNegativesRankLoss"
      ]
    },
    {
      "cell_type": "code",
      "execution_count": 7,
      "id": "e01ec309",
      "metadata": {
        "id": "e01ec309"
      },
      "outputs": [],
      "source": [
        "from transformers import TFCLIPTextModel, TFCLIPVisionModel, CLIPTokenizer, TFCLIPModel"
      ]
    },
    {
      "cell_type": "code",
      "execution_count": 8,
      "id": "53b4e476",
      "metadata": {
        "id": "53b4e476"
      },
      "outputs": [],
      "source": [
        "from tensorflow.data.experimental import AUTOTUNE"
      ]
    },
    {
      "cell_type": "code",
      "execution_count": 10,
      "id": "9490b93a",
      "metadata": {
        "id": "9490b93a"
      },
      "outputs": [],
      "source": [
        "n_cpu = multiprocessing.cpu_count()"
      ]
    },
    {
      "cell_type": "code",
      "execution_count": 11,
      "id": "818ce1c6",
      "metadata": {
        "id": "818ce1c6"
      },
      "outputs": [],
      "source": [
        "IMG_SIZE = 224\n",
        "BATCH_SIZE = 64\n",
        "COLOR_CHANNELS = 3\n",
        "N_TOKENS = 77"
      ]
    },
    {
      "cell_type": "markdown",
      "id": "JJRebGa4pdMu",
      "metadata": {
        "id": "JJRebGa4pdMu"
      },
      "source": [
        "Doownloading the dataset"
      ]
    },
    {
      "cell_type": "code",
      "execution_count": 12,
      "id": "jWsG-qx3Aj5Q",
      "metadata": {
        "id": "jWsG-qx3Aj5Q"
      },
      "outputs": [],
      "source": [
        "!wget https://huggingface.co/datasets/abhishars/artic-dataset/resolve/main/artworks.csv"
      ]
    },
    {
      "cell_type": "code",
      "execution_count": 13,
      "id": "1yFuCmckpgIc",
      "metadata": {
        "id": "1yFuCmckpgIc"
      },
      "outputs": [],
      "source": [
        "!wget https://storage.googleapis.com/mys-released-models/gsoc/artic-dataset.zip"
      ]
    },
    {
      "cell_type": "code",
      "execution_count": 14,
      "id": "kOvtgplMpioU",
      "metadata": {
        "id": "kOvtgplMpioU"
      },
      "outputs": [],
      "source": [
        "!unzip artic-dataset.zip"
      ]
    },
    {
      "cell_type": "markdown",
      "id": "96527c38",
      "metadata": {},
      "source": [
        "We want to get embeddings of images and texts such that the distance between image and it's description is lesser than the image and description of any other image.\n",
        "First, we need a way to get text and image embeddings."
      ]
    },
    {
      "cell_type": "markdown",
      "id": "91df9831",
      "metadata": {
        "id": "91df9831"
      },
      "source": [
        "Getting weights of projection layers after vision and text encoder models of CLIP"
      ]
    },
    {
      "cell_type": "code",
      "execution_count": 15,
      "id": "5d150f97",
      "metadata": {
        "colab": {
          "base_uri": "https://localhost:8080/"
        },
        "id": "5d150f97",
        "outputId": "a6c85b0b-85ae-4cd6-da0f-255095256b5e",
        "scrolled": true
      },
      "outputs": [
        {
          "name": "stderr",
          "output_type": "stream",
          "text": [
            "All model checkpoint layers were used when initializing TFCLIPModel.\n",
            "\n",
            "All the layers of TFCLIPModel were initialized from the model checkpoint at openai/clip-vit-base-patch32.\n",
            "If your task is similar to the task the model of the checkpoint was trained on, you can already use TFCLIPModel for predictions without further training.\n"
          ]
        }
      ],
      "source": [
        "tf.keras.backend.clear_session()\n",
        "model = TFCLIPModel.from_pretrained(\"openai/clip-vit-base-patch32\")\n",
        "vision_weights = tf.Variable(model.weights[-2])\n",
        "text_weights = tf.Variable(model.weights[-1])\n",
        "del model\n",
        "tf.keras.backend.clear_session()"
      ]
    },
    {
      "cell_type": "markdown",
      "id": "6d8afe43",
      "metadata": {},
      "source": [
        "We'll use CLIPTextModel and CLIPVisionMOdel to embed text and images respectively."
      ]
    },
    {
      "cell_type": "markdown",
      "id": "3ab7a609",
      "metadata": {
        "id": "3ab7a609"
      },
      "source": [
        "Loading pretrained CLIP text encoder model and the corresponding tokenizer"
      ]
    },
    {
      "cell_type": "code",
      "execution_count": null,
      "id": "579405e4",
      "metadata": {
        "colab": {
          "base_uri": "https://localhost:8080/"
        },
        "id": "579405e4",
        "outputId": "8be7c5bf-a60b-4bae-e7b2-4a3883229afe"
      },
      "outputs": [],
      "source": [
        "CLIP_text_model = TFCLIPTextModel.from_pretrained(\"openai/clip-vit-base-patch32\", )\n",
        "tokenizer = CLIPTokenizer.from_pretrained(\"openai/clip-vit-base-patch32\")"
      ]
    },
    {
      "cell_type": "code",
      "execution_count": null,
      "id": "448655c3",
      "metadata": {
        "colab": {
          "base_uri": "https://localhost:8080/"
        },
        "id": "448655c3",
        "outputId": "928eb612-e96d-42b3-93b2-c72e20988c6a",
        "scrolled": true
      },
      "outputs": [],
      "source": [
        "CLIP_vision_model = TFCLIPVisionModel.from_pretrained(\"openai/clip-vit-base-patch32\",  )"
      ]
    },
    {
      "cell_type": "markdown",
      "id": "97777fed",
      "metadata": {
        "id": "97777fed"
      },
      "source": [
        "If you have GPU restrictions you can set the base models as non-trainable and only train the projector layer for a faster optimization."
      ]
    },
    {
      "cell_type": "code",
      "execution_count": 18,
      "id": "3c7f1475",
      "metadata": {
        "colab": {
          "base_uri": "https://localhost:8080/"
        },
        "id": "3c7f1475",
        "outputId": "6063b919-87d6-4566-d2b5-af904d0463bf"
      },
      "outputs": [
        {
          "name": "stdout",
          "output_type": "stream",
          "text": [
            "Model: \"tfclip_vision_model\"\n",
            "_________________________________________________________________\n",
            " Layer (type)                Output Shape              Param #   \n",
            "=================================================================\n",
            " clip (TFCLIPVisionMainLayer  multiple                 87456000  \n",
            " )                                                               \n",
            "                                                                 \n",
            "=================================================================\n",
            "Total params: 87,456,000\n",
            "Trainable params: 87,456,000\n",
            "Non-trainable params: 0\n",
            "_________________________________________________________________\n"
          ]
        }
      ],
      "source": [
        "# CLIP_vision_model.trainable = False\n",
        "CLIP_vision_model.summary()"
      ]
    },
    {
      "cell_type": "code",
      "execution_count": 19,
      "id": "dcca85eb",
      "metadata": {
        "colab": {
          "base_uri": "https://localhost:8080/"
        },
        "id": "dcca85eb",
        "outputId": "321052ef-46e2-4cc6-89e2-c0a630da4a78"
      },
      "outputs": [
        {
          "name": "stdout",
          "output_type": "stream",
          "text": [
            "Model: \"tfclip_text_model\"\n",
            "_________________________________________________________________\n",
            " Layer (type)                Output Shape              Param #   \n",
            "=================================================================\n",
            " clip (TFCLIPTextMainLayer)  multiple                  63165952  \n",
            "                                                                 \n",
            "=================================================================\n",
            "Total params: 63,165,952\n",
            "Trainable params: 63,165,952\n",
            "Non-trainable params: 0\n",
            "_________________________________________________________________\n"
          ]
        }
      ],
      "source": [
        "# CLIP_text_model.trainable = False\n",
        "CLIP_text_model.summary()"
      ]
    },
    {
      "cell_type": "markdown",
      "id": "f8b38d13",
      "metadata": {},
      "source": [
        "Since the embedding size of CLIPVisionModel and CLIPTextModel are different, we need projection layers at the top of both these models to make embedding of same dimension."
      ]
    },
    {
      "cell_type": "code",
      "execution_count": null,
      "id": "82f9f3f5",
      "metadata": {
        "id": "82f9f3f5"
      },
      "outputs": [],
      "source": [
        "def get_image_model(n_dims=512):\n",
        "    x = tf.keras.layers.Input((COLOR_CHANNELS, IMG_SIZE, IMG_SIZE),\n",
        "                              name=\"image\")\n",
        "    vision_outputs = CLIP_vision_model(x)\n",
        "    vision_last_hidden_state = vision_outputs.last_hidden_state\n",
        "    vision_pooled_output = vision_outputs.pooler_output  # pooled CLS states\n",
        "    vision_init = tf.constant_initializer(vision_weights.numpy())\n",
        "    img_embed = tf.keras.layers.Dense(n_dims,\n",
        "                                      name=\"image_embedding\",\n",
        "                                      kernel_initializer=vision_init\n",
        "                                      )(vision_pooled_output)\n",
        "    img_model = tf.keras.models.Model(inputs=x,\n",
        "                                      outputs=img_embed,\n",
        "                                      name=\"image_model\")\n",
        "\n",
        "    return img_model"
      ]
    },
    {
      "cell_type": "code",
      "execution_count": null,
      "id": "0c0e31cb",
      "metadata": {
        "id": "0c0e31cb"
      },
      "outputs": [],
      "source": [
        "def get_text_model(n_dims=512):\n",
        "    x1 = tf.keras.layers.Input((N_TOKENS),\n",
        "                               dtype=tf.int32,\n",
        "                               name=\"input_ids\")\n",
        "    x2 = tf.keras.layers.Input((N_TOKENS),\n",
        "                               dtype=tf.int32,\n",
        "                               name=\"attention_mask\")\n",
        "    text_outputs = CLIP_text_model(input_ids=x1, attention_mask=x2)\n",
        "    text_last_hidden_state = text_outputs.last_hidden_state\n",
        "    text_pooled_output = text_outputs.pooler_output\n",
        "    text_init = tf.constant_initializer(text_weights.numpy())\n",
        "    text_embed = tf.keras.layers.Dense(n_dims,\n",
        "                                       name=\"text_embedding\",\n",
        "                                       kernel_initializer=text_init\n",
        "                                       )(text_pooled_output)\n",
        "    text_model = tf.keras.models.Model(inputs=[x1, x2],\n",
        "                                       outputs=text_embed,\n",
        "                                       name=\"text_model\")\n",
        "\n",
        "    return text_model"
      ]
    },
    {
      "cell_type": "code",
      "execution_count": null,
      "id": "7dae9edd",
      "metadata": {},
      "outputs": [],
      "source": [
        "tf.keras.backend.clear_session()\n",
        "img_model = get_image_model()\n",
        "text_model = get_text_model()"
      ]
    },
    {
      "cell_type": "code",
      "execution_count": null,
      "id": "a0af467a",
      "metadata": {
        "colab": {
          "base_uri": "https://localhost:8080/"
        },
        "id": "a0af467a",
        "outputId": "91cd68a2-49f8-4775-999d-078a1264c54a"
      },
      "outputs": [
        {
          "name": "stdout",
          "output_type": "stream",
          "text": [
            "Model: \"image_model\"\n",
            "_________________________________________________________________\n",
            " Layer (type)                Output Shape              Param #   \n",
            "=================================================================\n",
            " image (InputLayer)          [(None, 3, 224, 224)]     0         \n",
            "                                                                 \n",
            " tfclip_vision_model (TFCLIP  TFBaseModelOutputWithPoo  87456000 \n",
            " VisionModel)                ling(last_hidden_state=(            \n",
            "                             None, 50, 768),                     \n",
            "                              pooler_output=(None, 76            \n",
            "                             8),                                 \n",
            "                              hidden_states=None, att            \n",
            "                             entions=None)                       \n",
            "                                                                 \n",
            " image_embedding (Dense)     (None, 512)               393728    \n",
            "                                                                 \n",
            "=================================================================\n",
            "Total params: 87,849,728\n",
            "Trainable params: 87,849,728\n",
            "Non-trainable params: 0\n",
            "_________________________________________________________________\n"
          ]
        }
      ],
      "source": [
        "img_model.summary()"
      ]
    },
    {
      "cell_type": "code",
      "execution_count": null,
      "id": "6c47add2",
      "metadata": {
        "colab": {
          "base_uri": "https://localhost:8080/"
        },
        "id": "6c47add2",
        "outputId": "e8bb08e4-0b65-403d-d1b7-df3dbeed79e3"
      },
      "outputs": [
        {
          "name": "stdout",
          "output_type": "stream",
          "text": [
            "Model: \"text_model\"\n",
            "__________________________________________________________________________________________________\n",
            " Layer (type)                   Output Shape         Param #     Connected to                     \n",
            "==================================================================================================\n",
            " input_ids (InputLayer)         [(None, 77)]         0           []                               \n",
            "                                                                                                  \n",
            " attention_mask (InputLayer)    [(None, 77)]         0           []                               \n",
            "                                                                                                  \n",
            " tfclip_text_model (TFCLIPTextM  TFBaseModelOutputWi  63165952   ['input_ids[0][0]',              \n",
            " odel)                          thPooling(last_hidd               'attention_mask[0][0]']         \n",
            "                                en_state=(None, 77,                                               \n",
            "                                 512),                                                            \n",
            "                                 pooler_output=(Non                                               \n",
            "                                e, 512),                                                          \n",
            "                                 hidden_states=None                                               \n",
            "                                , attentions=None)                                                \n",
            "                                                                                                  \n",
            " text_embedding (Dense)         (None, 512)          262656      ['tfclip_text_model[0][1]']      \n",
            "                                                                                                  \n",
            "==================================================================================================\n",
            "Total params: 63,428,608\n",
            "Trainable params: 63,428,608\n",
            "Non-trainable params: 0\n",
            "__________________________________________________________________________________________________\n"
          ]
        }
      ],
      "source": [
        "text_model.summary()"
      ]
    },
    {
      "cell_type": "markdown",
      "id": "GGbVpXhMxXzw",
      "metadata": {
        "id": "GGbVpXhMxXzw"
      },
      "source": [
        "Now let's load our dataset"
      ]
    },
    {
      "cell_type": "code",
      "execution_count": 20,
      "id": "d3bbb2ec",
      "metadata": {
        "colab": {
          "base_uri": "https://localhost:8080/",
          "height": 754
        },
        "id": "d3bbb2ec",
        "outputId": "d507b727-4384-4c00-bf87-7787cff6152a"
      },
      "outputs": [
        {
          "data": {
            "text/html": [
              "\n",
              "  <div id=\"df-b97169fd-a050-4315-822e-ed9cce3e1297\">\n",
              "    <div class=\"colab-df-container\">\n",
              "      <div>\n",
              "<style scoped>\n",
              "    .dataframe tbody tr th:only-of-type {\n",
              "        vertical-align: middle;\n",
              "    }\n",
              "\n",
              "    .dataframe tbody tr th {\n",
              "        vertical-align: top;\n",
              "    }\n",
              "\n",
              "    .dataframe thead th {\n",
              "        text-align: right;\n",
              "    }\n",
              "</style>\n",
              "<table border=\"1\" class=\"dataframe\">\n",
              "  <thead>\n",
              "    <tr style=\"text-align: right;\">\n",
              "      <th></th>\n",
              "      <th>art_id</th>\n",
              "      <th>image_id</th>\n",
              "      <th>alt_text</th>\n",
              "      <th>description</th>\n",
              "      <th>full_description</th>\n",
              "      <th>artist</th>\n",
              "      <th>title</th>\n",
              "    </tr>\n",
              "  </thead>\n",
              "  <tbody>\n",
              "    <tr>\n",
              "      <th>0</th>\n",
              "      <td>795</td>\n",
              "      <td>2fa88251-065a-8c94-d918-63bfd5c866c0</td>\n",
              "      <td>Rectangular, mostly brown textile made up of m...</td>\n",
              "      <td>NaN</td>\n",
              "      <td>NaN</td>\n",
              "      <td>NaN</td>\n",
              "      <td>Kesa</td>\n",
              "    </tr>\n",
              "    <tr>\n",
              "      <th>1</th>\n",
              "      <td>1936</td>\n",
              "      <td>1733f6b2-2cac-e8fe-4ecd-c0587da78b30</td>\n",
              "      <td>A work made of silk, plain compound cloth.</td>\n",
              "      <td>NaN</td>\n",
              "      <td>NaN</td>\n",
              "      <td>NaN</td>\n",
              "      <td>Fragment</td>\n",
              "    </tr>\n",
              "    <tr>\n",
              "      <th>2</th>\n",
              "      <td>4425</td>\n",
              "      <td>0da94f5f-4be8-a3d0-00c0-53d48ad4a2cf</td>\n",
              "      <td>A work made of color woodblock print; chuban.</td>\n",
              "      <td>NaN</td>\n",
              "      <td>NaN</td>\n",
              "      <td>Utagawa Hiroshige</td>\n",
              "      <td>Kyoto: The Imperial Palace (Kyo, Dairi), from ...</td>\n",
              "    </tr>\n",
              "    <tr>\n",
              "      <th>3</th>\n",
              "      <td>5431</td>\n",
              "      <td>121a5968-7d19-5879-8974-b6a6bdaa5d1f</td>\n",
              "      <td>A work made of black crayon, with touches of c...</td>\n",
              "      <td>NaN</td>\n",
              "      <td>NaN</td>\n",
              "      <td>László Moholy-Nagy</td>\n",
              "      <td>Seated Woman II</td>\n",
              "    </tr>\n",
              "    <tr>\n",
              "      <th>4</th>\n",
              "      <td>8101</td>\n",
              "      <td>c24feb4e-d7f5-791e-58ee-5db1a40d0a0d</td>\n",
              "      <td>A work made of cotton, plain weave; drawnwork ...</td>\n",
              "      <td>This apron mimics lace in its play of transluc...</td>\n",
              "      <td>This apron mimics lace in its play of transluc...</td>\n",
              "      <td>NaN</td>\n",
              "      <td>Apron</td>\n",
              "    </tr>\n",
              "    <tr>\n",
              "      <th>5</th>\n",
              "      <td>10393</td>\n",
              "      <td>357c901c-c54f-079c-0c29-d3be0a021ed4</td>\n",
              "      <td>A work made of porcelain painted in underglaze...</td>\n",
              "      <td>NaN</td>\n",
              "      <td>NaN</td>\n",
              "      <td>NaN</td>\n",
              "      <td>Deep Dish with Peony, Pine Branches, Plum Blos...</td>\n",
              "    </tr>\n",
              "    <tr>\n",
              "      <th>6</th>\n",
              "      <td>10924</td>\n",
              "      <td>179ae0da-8834-7c92-3b25-377a08dac9e4</td>\n",
              "      <td>A work made of blown glass.</td>\n",
              "      <td>NaN</td>\n",
              "      <td>NaN</td>\n",
              "      <td>Artist unknown</td>\n",
              "      <td>Cream Pitcher</td>\n",
              "    </tr>\n",
              "    <tr>\n",
              "      <th>7</th>\n",
              "      <td>11460</td>\n",
              "      <td>b84f047e-f871-48c5-6bbf-618731650105</td>\n",
              "      <td>A work made of engraving in black on ivory lai...</td>\n",
              "      <td>The ', &lt;a href='https://www.artic.edu/artists/...</td>\n",
              "      <td>The ', &lt;a href='https://www.artic.edu/artists/...</td>\n",
              "      <td>Master of the E-Series Tarocchi</td>\n",
              "      <td>Philosophy, plate 28 from Arts and Sciences</td>\n",
              "    </tr>\n",
              "    <tr>\n",
              "      <th>8</th>\n",
              "      <td>11785</td>\n",
              "      <td>04ed0f69-131f-bf49-b791-22e9cb692adb</td>\n",
              "      <td>A work made of etching and drypoint in black o...</td>\n",
              "      <td>NaN</td>\n",
              "      <td>NaN</td>\n",
              "      <td>Donald Shaw MacLaughlan</td>\n",
              "      <td>A Lion</td>\n",
              "    </tr>\n",
              "    <tr>\n",
              "      <th>9</th>\n",
              "      <td>12707</td>\n",
              "      <td>22306679-f60a-1c18-4a7f-08720d17aab2</td>\n",
              "      <td>A work made of cotton, mixed lace: bobbin lace...</td>\n",
              "      <td>NaN</td>\n",
              "      <td>NaN</td>\n",
              "      <td>NaN</td>\n",
              "      <td>Stole</td>\n",
              "    </tr>\n",
              "  </tbody>\n",
              "</table>\n",
              "</div>\n",
              "      <button class=\"colab-df-convert\" onclick=\"convertToInteractive('df-b97169fd-a050-4315-822e-ed9cce3e1297')\"\n",
              "              title=\"Convert this dataframe to an interactive table.\"\n",
              "              style=\"display:none;\">\n",
              "        \n",
              "  <svg xmlns=\"http://www.w3.org/2000/svg\" height=\"24px\"viewBox=\"0 0 24 24\"\n",
              "       width=\"24px\">\n",
              "    <path d=\"M0 0h24v24H0V0z\" fill=\"none\"/>\n",
              "    <path d=\"M18.56 5.44l.94 2.06.94-2.06 2.06-.94-2.06-.94-.94-2.06-.94 2.06-2.06.94zm-11 1L8.5 8.5l.94-2.06 2.06-.94-2.06-.94L8.5 2.5l-.94 2.06-2.06.94zm10 10l.94 2.06.94-2.06 2.06-.94-2.06-.94-.94-2.06-.94 2.06-2.06.94z\"/><path d=\"M17.41 7.96l-1.37-1.37c-.4-.4-.92-.59-1.43-.59-.52 0-1.04.2-1.43.59L10.3 9.45l-7.72 7.72c-.78.78-.78 2.05 0 2.83L4 21.41c.39.39.9.59 1.41.59.51 0 1.02-.2 1.41-.59l7.78-7.78 2.81-2.81c.8-.78.8-2.07 0-2.86zM5.41 20L4 18.59l7.72-7.72 1.47 1.35L5.41 20z\"/>\n",
              "  </svg>\n",
              "      </button>\n",
              "      \n",
              "  <style>\n",
              "    .colab-df-container {\n",
              "      display:flex;\n",
              "      flex-wrap:wrap;\n",
              "      gap: 12px;\n",
              "    }\n",
              "\n",
              "    .colab-df-convert {\n",
              "      background-color: #E8F0FE;\n",
              "      border: none;\n",
              "      border-radius: 50%;\n",
              "      cursor: pointer;\n",
              "      display: none;\n",
              "      fill: #1967D2;\n",
              "      height: 32px;\n",
              "      padding: 0 0 0 0;\n",
              "      width: 32px;\n",
              "    }\n",
              "\n",
              "    .colab-df-convert:hover {\n",
              "      background-color: #E2EBFA;\n",
              "      box-shadow: 0px 1px 2px rgba(60, 64, 67, 0.3), 0px 1px 3px 1px rgba(60, 64, 67, 0.15);\n",
              "      fill: #174EA6;\n",
              "    }\n",
              "\n",
              "    [theme=dark] .colab-df-convert {\n",
              "      background-color: #3B4455;\n",
              "      fill: #D2E3FC;\n",
              "    }\n",
              "\n",
              "    [theme=dark] .colab-df-convert:hover {\n",
              "      background-color: #434B5C;\n",
              "      box-shadow: 0px 1px 3px 1px rgba(0, 0, 0, 0.15);\n",
              "      filter: drop-shadow(0px 1px 2px rgba(0, 0, 0, 0.3));\n",
              "      fill: #FFFFFF;\n",
              "    }\n",
              "  </style>\n",
              "\n",
              "      <script>\n",
              "        const buttonEl =\n",
              "          document.querySelector('#df-b97169fd-a050-4315-822e-ed9cce3e1297 button.colab-df-convert');\n",
              "        buttonEl.style.display =\n",
              "          google.colab.kernel.accessAllowed ? 'block' : 'none';\n",
              "\n",
              "        async function convertToInteractive(key) {\n",
              "          const element = document.querySelector('#df-b97169fd-a050-4315-822e-ed9cce3e1297');\n",
              "          const dataTable =\n",
              "            await google.colab.kernel.invokeFunction('convertToInteractive',\n",
              "                                                     [key], {});\n",
              "          if (!dataTable) return;\n",
              "\n",
              "          const docLinkHtml = 'Like what you see? Visit the ' +\n",
              "            '<a target=\"_blank\" href=https://colab.research.google.com/notebooks/data_table.ipynb>data table notebook</a>'\n",
              "            + ' to learn more about interactive tables.';\n",
              "          element.innerHTML = '';\n",
              "          dataTable['output_type'] = 'display_data';\n",
              "          await google.colab.output.renderOutput(dataTable, element);\n",
              "          const docLink = document.createElement('div');\n",
              "          docLink.innerHTML = docLinkHtml;\n",
              "          element.appendChild(docLink);\n",
              "        }\n",
              "      </script>\n",
              "    </div>\n",
              "  </div>\n",
              "  "
            ],
            "text/plain": [
              "   art_id                              image_id  \\\n",
              "0     795  2fa88251-065a-8c94-d918-63bfd5c866c0   \n",
              "1    1936  1733f6b2-2cac-e8fe-4ecd-c0587da78b30   \n",
              "2    4425  0da94f5f-4be8-a3d0-00c0-53d48ad4a2cf   \n",
              "3    5431  121a5968-7d19-5879-8974-b6a6bdaa5d1f   \n",
              "4    8101  c24feb4e-d7f5-791e-58ee-5db1a40d0a0d   \n",
              "5   10393  357c901c-c54f-079c-0c29-d3be0a021ed4   \n",
              "6   10924  179ae0da-8834-7c92-3b25-377a08dac9e4   \n",
              "7   11460  b84f047e-f871-48c5-6bbf-618731650105   \n",
              "8   11785  04ed0f69-131f-bf49-b791-22e9cb692adb   \n",
              "9   12707  22306679-f60a-1c18-4a7f-08720d17aab2   \n",
              "\n",
              "                                            alt_text  \\\n",
              "0  Rectangular, mostly brown textile made up of m...   \n",
              "1         A work made of silk, plain compound cloth.   \n",
              "2      A work made of color woodblock print; chuban.   \n",
              "3  A work made of black crayon, with touches of c...   \n",
              "4  A work made of cotton, plain weave; drawnwork ...   \n",
              "5  A work made of porcelain painted in underglaze...   \n",
              "6                        A work made of blown glass.   \n",
              "7  A work made of engraving in black on ivory lai...   \n",
              "8  A work made of etching and drypoint in black o...   \n",
              "9  A work made of cotton, mixed lace: bobbin lace...   \n",
              "\n",
              "                                         description  \\\n",
              "0                                                NaN   \n",
              "1                                                NaN   \n",
              "2                                                NaN   \n",
              "3                                                NaN   \n",
              "4  This apron mimics lace in its play of transluc...   \n",
              "5                                                NaN   \n",
              "6                                                NaN   \n",
              "7  The ', <a href='https://www.artic.edu/artists/...   \n",
              "8                                                NaN   \n",
              "9                                                NaN   \n",
              "\n",
              "                                    full_description  \\\n",
              "0                                                NaN   \n",
              "1                                                NaN   \n",
              "2                                                NaN   \n",
              "3                                                NaN   \n",
              "4  This apron mimics lace in its play of transluc...   \n",
              "5                                                NaN   \n",
              "6                                                NaN   \n",
              "7  The ', <a href='https://www.artic.edu/artists/...   \n",
              "8                                                NaN   \n",
              "9                                                NaN   \n",
              "\n",
              "                            artist  \\\n",
              "0                              NaN   \n",
              "1                              NaN   \n",
              "2                Utagawa Hiroshige   \n",
              "3               László Moholy-Nagy   \n",
              "4                              NaN   \n",
              "5                              NaN   \n",
              "6                   Artist unknown   \n",
              "7  Master of the E-Series Tarocchi   \n",
              "8          Donald Shaw MacLaughlan   \n",
              "9                              NaN   \n",
              "\n",
              "                                               title  \n",
              "0                                               Kesa  \n",
              "1                                           Fragment  \n",
              "2  Kyoto: The Imperial Palace (Kyo, Dairi), from ...  \n",
              "3                                    Seated Woman II  \n",
              "4                                              Apron  \n",
              "5  Deep Dish with Peony, Pine Branches, Plum Blos...  \n",
              "6                                      Cream Pitcher  \n",
              "7        Philosophy, plate 28 from Arts and Sciences  \n",
              "8                                             A Lion  \n",
              "9                                              Stole  "
            ]
          },
          "execution_count": 20,
          "metadata": {},
          "output_type": "execute_result"
        }
      ],
      "source": [
        "art_df = pd.read_csv(\"artworks.csv\")\n",
        "art_df.head(10)"
      ]
    },
    {
      "cell_type": "code",
      "execution_count": 21,
      "id": "9782fb43",
      "metadata": {
        "id": "9782fb43"
      },
      "outputs": [],
      "source": [
        "art_df.drop_duplicates(subset=[\"description\"], inplace=True)"
      ]
    },
    {
      "cell_type": "code",
      "execution_count": 22,
      "id": "4f49034a",
      "metadata": {
        "id": "4f49034a"
      },
      "outputs": [],
      "source": [
        "art_df.dropna(subset=[\"description\"], inplace=True)"
      ]
    },
    {
      "cell_type": "code",
      "execution_count": 23,
      "id": "742f426c",
      "metadata": {
        "colab": {
          "base_uri": "https://localhost:8080/"
        },
        "id": "742f426c",
        "outputId": "c93c011d-b92e-4bde-f0aa-617d4646c044"
      },
      "outputs": [
        {
          "data": {
            "text/plain": [
              "art_id              7005\n",
              "image_id            7005\n",
              "alt_text            7005\n",
              "description         7005\n",
              "full_description    7005\n",
              "artist              6467\n",
              "title               7005\n",
              "dtype: int64"
            ]
          },
          "execution_count": 23,
          "metadata": {},
          "output_type": "execute_result"
        }
      ],
      "source": [
        "art_df.count()"
      ]
    },
    {
      "cell_type": "code",
      "execution_count": 24,
      "id": "3c46d48c",
      "metadata": {
        "colab": {
          "base_uri": "https://localhost:8080/"
        },
        "id": "3c46d48c",
        "outputId": "72fcf867-4212-441f-b747-9816ac984220"
      },
      "outputs": [
        {
          "data": {
            "text/plain": [
              "37649"
            ]
          },
          "execution_count": 24,
          "metadata": {},
          "output_type": "execute_result"
        }
      ],
      "source": [
        "all_images = set(list(os.listdir(\"artic-dataset/\")))\n",
        "len(all_images)"
      ]
    },
    {
      "cell_type": "code",
      "execution_count": 25,
      "id": "2df9ab04",
      "metadata": {
        "colab": {
          "base_uri": "https://localhost:8080/"
        },
        "id": "2df9ab04",
        "outputId": "7b5395a7-1c57-4eae-ac40-3e7651b1ac0f"
      },
      "outputs": [
        {
          "name": "stderr",
          "output_type": "stream",
          "text": [
            "7005it [00:00, 8217.53it/s]\n"
          ]
        }
      ],
      "source": [
        "imgs_list = []\n",
        "text_list = []\n",
        "for i in tqdm(art_df.iterrows()):\n",
        "    if i[1][\"image_id\"]+\".jpg\" in all_images:\n",
        "        imgs_list.append(\"artic-dataset/{}.jpg\".format(i[1][\"image_id\"]))\n",
        "        # tokenizer cannot take tf str so pretokenizing\n",
        "        text_list.append(i[1][\"description\"])"
      ]
    },
    {
      "cell_type": "code",
      "execution_count": 26,
      "id": "f4bf604e",
      "metadata": {
        "id": "f4bf604e"
      },
      "outputs": [],
      "source": [
        "train_images, val_images, train_texts, val_texts = train_test_split(imgs_list, text_list, test_size=0.2, random_state=17)\n",
        "\n",
        "train_tokens = tokenizer(train_texts,\n",
        "                    padding=\"max_length\",\n",
        "                    return_tensors=\"tf\",\n",
        "                    truncation=True,\n",
        "                    )\n",
        "\n",
        "val_tokens = tokenizer(val_texts,\n",
        "                    padding=\"max_length\",\n",
        "                    return_tensors=\"tf\",\n",
        "                    truncation=True,\n",
        "                    )"
      ]
    },
    {
      "cell_type": "code",
      "execution_count": 27,
      "id": "80cb9527",
      "metadata": {
        "id": "80cb9527"
      },
      "outputs": [],
      "source": [
        "def get_img_emb(image_path):\n",
        "    image = tf.io.read_file(image_path)\n",
        "    image = tf.image.decode_jpeg(image, channels=3)\n",
        "    image = tf.image.convert_image_dtype(image, tf.float32)\n",
        "    image = tf.image.resize(image, [IMG_SIZE, IMG_SIZE], method=\"nearest\")\n",
        "    image = tf.transpose(image, [2, 0, 1]) # Channels first\n",
        "    return image\n",
        "\n",
        "\n",
        "def data_mapper(img, input_ids, attention_mask):\n",
        "    return get_img_emb(img), tf.squeeze(input_ids), tf.squeeze(attention_mask)"
      ]
    },
    {
      "cell_type": "code",
      "execution_count": 29,
      "id": "0219d4a1",
      "metadata": {
        "colab": {
          "base_uri": "https://localhost:8080/"
        },
        "id": "0219d4a1",
        "outputId": "deec3a16-5579-461f-c7db-cfbd485db326",
        "scrolled": true
      },
      "outputs": [
        {
          "name": "stdout",
          "output_type": "stream",
          "text": [
            "(64, 3, 224, 224)\n",
            "(64, 77)\n",
            "(64, 77)\n",
            "(64, 3, 224, 224)\n",
            "(64, 77)\n",
            "(64, 77)\n"
          ]
        }
      ],
      "source": [
        "train_ds = tf.data.Dataset.from_tensor_slices(\n",
        "                            (train_images,\n",
        "                             train_tokens[\"input_ids\"],\n",
        "                             train_tokens[\"attention_mask\"])\n",
        "                            )\n",
        "train_ds = train_ds.map(data_mapper, num_parallel_calls=AUTOTUNE)\n",
        "train_ds = train_ds.shuffle(2000).batch(BATCH_SIZE).cache().prefetch(AUTOTUNE)\n",
        "for i in train_ds.take(1):\n",
        "    for j in i:\n",
        "        print(j.shape)\n",
        "\n",
        "val_ds = tf.data.Dataset.from_tensor_slices((val_images,\n",
        "                             val_tokens[\"input_ids\"],\n",
        "                             val_tokens[\"attention_mask\"])\n",
        "                            )\n",
        "val_ds = val_ds.map(data_mapper, num_parallel_calls=n_cpu).batch(BATCH_SIZE).cache()\n",
        "for i in val_ds.take(1):\n",
        "    for j in i:\n",
        "        print(j.shape)"
      ]
    },
    {
      "cell_type": "code",
      "execution_count": 29,
      "id": "81eb900b",
      "metadata": {
        "id": "81eb900b"
      },
      "outputs": [],
      "source": []
    },
    {
      "cell_type": "markdown",
      "id": "c1860e54",
      "metadata": {
        "id": "c1860e54"
      },
      "source": [
        "We have a dataset which have pairs of image and text. We only have positive examples here and in such a case multiple negatives ranking loss is a suitable choice. This considers every other pair other than ($x_i$, $y_i$) as negative pairs."
      ]
    },
    {
      "cell_type": "code",
      "execution_count": 35,
      "id": "cd4e3733",
      "metadata": {
        "id": "cd4e3733"
      },
      "outputs": [],
      "source": [
        "loss_fn = MultiNegativesRankLoss()"
      ]
    },
    {
      "cell_type": "markdown",
      "id": "877b6183",
      "metadata": {
        "id": "877b6183"
      },
      "source": [
        "We'll use R@k metric for evaluation. This is a common metric used in evaluation of ranking. It is the average of recall by taking top k predictions."
      ]
    },
    {
      "cell_type": "code",
      "execution_count": 36,
      "id": "a5da6f8f",
      "metadata": {
        "id": "a5da6f8f"
      },
      "outputs": [],
      "source": [
        "def recall_at_k(sim_matrix, k=1):\n",
        "    \"\"\" \n",
        "        It is the mean of ratio of correctly retrieved documents\n",
        "        to the number of relevant documents.\n",
        "        This implementation is specific to\n",
        "        data having unique label for each key\n",
        "    \"\"\"\n",
        "    \n",
        "    sorted_mat = np.argsort(sim_matrix, axis=1)[:,-k:]\n",
        "    \n",
        "    # Each key has unique label\n",
        "    true_labels = np.arange(sorted_mat.shape[0]).reshape(-1,1)\n",
        "    true_labels = np.repeat(true_labels, k, axis=1)\n",
        "    sorted_mat = sorted_mat - true_labels\n",
        "    # the position in row corresponding to true positive\n",
        "    # will be zero\n",
        "    tps = np.any(sorted_mat == 0, axis=1)\n",
        "    return tps.mean()"
      ]
    },
    {
      "cell_type": "markdown",
      "id": "wI5uQIC8xG4z",
      "metadata": {
        "id": "wI5uQIC8xG4z"
      },
      "source": [
        "Let's measure the baseline performance."
      ]
    },
    {
      "cell_type": "code",
      "execution_count": 37,
      "id": "998018f7",
      "metadata": {
        "colab": {
          "base_uri": "https://localhost:8080/"
        },
        "id": "998018f7",
        "outputId": "aa6b4c15-8105-4454-aef5-b096b843841a"
      },
      "outputs": [
        {
          "name": "stderr",
          "output_type": "stream",
          "text": [
            "100%|██████████| 22/22 [00:09<00:00,  2.29it/s]"
          ]
        },
        {
          "name": "stdout",
          "output_type": "stream",
          "text": [
            "2.6188373348929663\n"
          ]
        },
        {
          "name": "stderr",
          "output_type": "stream",
          "text": [
            "\n"
          ]
        }
      ],
      "source": [
        "val_loss = 0\n",
        "base_image_embeddings = []\n",
        "base_text_embeddings = []\n",
        "for image_batch, input_ids_batch, attention_mask_batch in tqdm(val_ds):\n",
        "    image_embedding = img_model(image_batch, training=False)\n",
        "    text_embedding = text_model([input_ids_batch, attention_mask_batch], training=False)\n",
        "\n",
        "    image_embedding = tf.math.l2_normalize(image_embedding, axis=1)\n",
        "    text_embedding = tf.math.l2_normalize(text_embedding, axis=1)\n",
        "\n",
        "    base_image_embeddings.append(image_embedding.numpy())\n",
        "    base_text_embeddings.append(text_embedding.numpy())\n",
        "    \n",
        "    # Compute the loss value for this minibatch.\n",
        "    loss_value = loss_fn(text_embedding, image_embedding)\n",
        "    val_loss += float(loss_value)\n",
        "print(val_loss/len(val_ds))\n",
        "base_image_embeddings = np.concatenate(base_image_embeddings)\n",
        "base_text_embeddings = np.concatenate(base_text_embeddings)"
      ]
    },
    {
      "cell_type": "code",
      "execution_count": 38,
      "id": "gNrGG0qYc4Qg",
      "metadata": {
        "id": "gNrGG0qYc4Qg"
      },
      "outputs": [],
      "source": [
        "base_sim_mat = np.matmul(base_text_embeddings, base_image_embeddings.T)"
      ]
    },
    {
      "cell_type": "code",
      "execution_count": 39,
      "id": "82b1b414",
      "metadata": {
        "colab": {
          "base_uri": "https://localhost:8080/"
        },
        "id": "82b1b414",
        "outputId": "fce48db4-ce50-4a7c-b603-738ad7a8b1b5"
      },
      "outputs": [
        {
          "name": "stdout",
          "output_type": "stream",
          "text": [
            "R@1: 0.1841541755888651\n",
            "R@2: 0.2676659528907923\n",
            "R@3: 0.31977159172019987\n",
            "R@4: 0.3576017130620985\n",
            "R@5: 0.3811563169164882\n"
          ]
        }
      ],
      "source": [
        "for k in range(1, 6):\n",
        "    print(\"R@{}: {}\".format(k, recall_at_k(base_sim_mat, k)))"
      ]
    },
    {
      "cell_type": "markdown",
      "id": "GFPy9nhaehJT",
      "metadata": {
        "id": "GFPy9nhaehJT"
      },
      "source": [
        "Now let's train the models.\n",
        "Since we have two models that need to be trained together, we'll use custom training loop similar to [this guide](https://www.tensorflow.org/guide/keras/writing_a_training_loop_from_scratch#end-to-end_example_a_gan_training_loop_from_scratch)."
      ]
    },
    {
      "cell_type": "markdown",
      "id": "6792a9f5",
      "metadata": {
        "id": "6792a9f5"
      },
      "source": [
        "Let's define the train_step where model's weights are updated based on a batch and then start the training loop in which each epochs calls the train_step for every batch."
      ]
    },
    {
      "cell_type": "code",
      "execution_count": 40,
      "id": "851709f1",
      "metadata": {
        "id": "851709f1"
      },
      "outputs": [],
      "source": [
        "@tf.function\n",
        "def train_step(image_batch, text_batch):\n",
        "    with tf.GradientTape() as img_tape, tf.GradientTape() as text_tape:\n",
        "            \n",
        "        image_embedding = img_model(image_batch, training=True)\n",
        "        text_embedding = text_model(text_batch, training=True)\n",
        "\n",
        "        image_embedding = tf.math.l2_normalize(image_embedding, axis=1)\n",
        "        text_embedding = tf.math.l2_normalize(text_embedding, axis=1)\n",
        "\n",
        "        # Compute the loss value for this minibatch.\n",
        "        loss_value = loss_fn(text_embedding, image_embedding)\n",
        "\n",
        "    img_grads = img_tape.gradient(loss_value, img_model.trainable_weights)\n",
        "    text_grads = text_tape.gradient(loss_value, text_model.trainable_weights)\n",
        "\n",
        "    # Run one step of gradient descent by updating\n",
        "    # the value of the variables to minimize the loss.\n",
        "    img_optimizer.apply_gradients(zip(img_grads, img_model.trainable_weights))\n",
        "    text_optimizer.apply_gradients(zip(text_grads, text_model.trainable_weights))\n",
        "\n",
        "    return loss_value"
      ]
    },
    {
      "cell_type": "code",
      "execution_count": 41,
      "id": "8fa53101",
      "metadata": {
        "colab": {
          "base_uri": "https://localhost:8080/"
        },
        "id": "8fa53101",
        "outputId": "8be0e0cd-9212-4f1c-ae63-c886f0b00c80"
      },
      "outputs": [
        {
          "name": "stdout",
          "output_type": "stream",
          "text": [
            "\n",
            "Epoch 1\n",
            "Training loss (for one batch) at step 1: 2.6298\n",
            "Seen so far: 64 samples\n",
            "Epoch loss: 1.248113751411438\n",
            "\n",
            "Epoch 2\n",
            "Training loss (for one batch) at step 1: 0.5429\n",
            "Seen so far: 64 samples\n",
            "Epoch loss: 0.3632849793965844\n",
            "\n",
            "Epoch 3\n",
            "Training loss (for one batch) at step 1: 0.1357\n",
            "Seen so far: 64 samples\n",
            "Epoch loss: 0.1251609335357154\n",
            "\n",
            "Epoch 4\n",
            "Training loss (for one batch) at step 1: 0.0729\n",
            "Seen so far: 64 samples\n",
            "Epoch loss: 0.06818865270311521\n",
            "\n",
            "Epoch 5\n",
            "Training loss (for one batch) at step 1: 0.0656\n",
            "Seen so far: 64 samples\n",
            "Epoch loss: 0.03815177821723575\n"
          ]
        }
      ],
      "source": [
        "epochs = 5\n",
        "img_optimizer = tf.keras.optimizers.Adam(1e-5)\n",
        "text_optimizer = tf.keras.optimizers.Adam(1e-5)\n",
        "train_step_losses = []\n",
        "train_epoch_losses = []\n",
        "\n",
        "for epoch in range(epochs):\n",
        "    print(\"\\nEpoch %d\" % (epoch+1,))\n",
        "    epoch_loss = 0\n",
        "\n",
        "    # Iterate over the batches of the dataset.\n",
        "    for step, (image_batch, input_ids_batch, attention_mask_batch) in enumerate(train_ds):\n",
        "        loss_value = train_step(image_batch, [input_ids_batch, attention_mask_batch])\n",
        "        epoch_loss += float(loss_value)\n",
        "        train_step_losses.append(float(loss_value)/image_batch.shape[0])\n",
        "        # Log every batch\n",
        "        if step % 100 == 0:\n",
        "            print(\n",
        "                \"Training loss (for one batch) at step %d: %.4f\"\n",
        "                % (step+1, float(loss_value))\n",
        "            )\n",
        "            print(\"Seen so far: %s samples\" % ((step + 1) * BATCH_SIZE))\n",
        "    print(\"Epoch loss:\", epoch_loss/len(train_ds))\n",
        "    train_epoch_losses.append(epoch_loss/len(train_ds))"
      ]
    },
    {
      "cell_type": "code",
      "execution_count": 42,
      "id": "ec7ceaa3",
      "metadata": {
        "colab": {
          "base_uri": "https://localhost:8080/",
          "height": 312
        },
        "id": "ec7ceaa3",
        "outputId": "e5e056ce-e8c0-42b2-edb0-91f7d9eb103f"
      },
      "outputs": [
        {
          "data": {
            "text/plain": [
              "Text(0, 0.5, 'Loss')"
            ]
          },
          "execution_count": 42,
          "metadata": {},
          "output_type": "execute_result"
        },
        {
          "data": {
            "image/png": "[encoded data removed]",
            "text/plain": [
              "<Figure size 432x288 with 1 Axes>"
            ]
          },
          "metadata": {
            "needs_background": "light"
          },
          "output_type": "display_data"
        }
      ],
      "source": [
        "plt.plot(train_epoch_losses)\n",
        "plt.title(\"Training\")\n",
        "plt.xlabel(\"Epoch\")\n",
        "plt.ylabel(\"Loss\")"
      ]
    },
    {
      "cell_type": "code",
      "execution_count": 43,
      "id": "0f09ad3a",
      "metadata": {
        "colab": {
          "base_uri": "https://localhost:8080/",
          "height": 312
        },
        "id": "0f09ad3a",
        "outputId": "2b811f7d-c964-4a34-88fc-16fb11eba518"
      },
      "outputs": [
        {
          "data": {
            "text/plain": [
              "Text(0, 0.5, 'Loss')"
            ]
          },
          "execution_count": 43,
          "metadata": {},
          "output_type": "execute_result"
        },
        {
          "data": {
            "image/png": "[encoded data removed]",
            "text/plain": [
              "<Figure size 432x288 with 1 Axes>"
            ]
          },
          "metadata": {
            "needs_background": "light"
          },
          "output_type": "display_data"
        }
      ],
      "source": [
        "plt.plot(train_step_losses)\n",
        "plt.title(\"Training\")\n",
        "plt.xlabel(\"Steps\")\n",
        "plt.ylabel(\"Loss\")"
      ]
    },
    {
      "cell_type": "markdown",
      "id": "YBl3IQe5t8Dt",
      "metadata": {
        "id": "YBl3IQe5t8Dt"
      },
      "source": [
        "Now let's check the performance on validation data after finetuning."
      ]
    },
    {
      "cell_type": "code",
      "execution_count": 44,
      "id": "a32c74dc",
      "metadata": {
        "colab": {
          "base_uri": "https://localhost:8080/"
        },
        "id": "a32c74dc",
        "outputId": "e932916f-d0ca-4b21-8823-1ec7533afd0a"
      },
      "outputs": [
        {
          "name": "stderr",
          "output_type": "stream",
          "text": [
            "100%|██████████| 22/22 [00:10<00:00,  2.15it/s]"
          ]
        },
        {
          "name": "stdout",
          "output_type": "stream",
          "text": [
            "0.992127467285503\n"
          ]
        },
        {
          "name": "stderr",
          "output_type": "stream",
          "text": [
            "\n"
          ]
        }
      ],
      "source": [
        "val_loss = 0\n",
        "image_embeddings = []\n",
        "text_embeddings = []\n",
        "for image_batch, input_ids_batch, attention_mask_batch in tqdm(val_ds):\n",
        "    image_embedding = img_model(image_batch, training=False)\n",
        "    text_embedding = text_model([input_ids_batch, attention_mask_batch], training=False)\n",
        "\n",
        "    image_embedding = tf.math.l2_normalize(image_embedding, axis=1)\n",
        "    text_embedding = tf.math.l2_normalize(text_embedding, axis=1)\n",
        "\n",
        "    image_embeddings.append(image_embedding.numpy())\n",
        "    text_embeddings.append(text_embedding.numpy())\n",
        "    \n",
        "    # Compute the loss value for this minibatch.\n",
        "    loss_value = loss_fn(text_embedding, image_embedding)\n",
        "    val_loss += float(loss_value)\n",
        "print(val_loss/len(val_ds))\n",
        "image_embeddings = np.concatenate(image_embeddings)\n",
        "text_embeddings = np.concatenate(text_embeddings)"
      ]
    },
    {
      "cell_type": "code",
      "execution_count": 45,
      "id": "bsD2IkvdZA2N",
      "metadata": {
        "id": "bsD2IkvdZA2N"
      },
      "outputs": [],
      "source": [
        "finetuned_sim = np.matmul(text_embeddings, image_embeddings.T)"
      ]
    },
    {
      "cell_type": "code",
      "execution_count": 47,
      "id": "7c60953d",
      "metadata": {
        "colab": {
          "base_uri": "https://localhost:8080/"
        },
        "id": "7c60953d",
        "outputId": "373e2f79-2d9c-4c63-f999-dcd08b93b89c"
      },
      "outputs": [
        {
          "name": "stdout",
          "output_type": "stream",
          "text": [
            "R@1 : 0.2955032119914347\n",
            "R@2 : 0.39543183440399715\n",
            "R@3 : 0.4732334047109208\n",
            "R@4 : 0.5339043540328337\n",
            "R@5 : 0.5724482512491078\n"
          ]
        }
      ],
      "source": [
        "for k in range(1,6):\n",
        "    print(\"R@{} : {}\".format(k, recall_at_k(finetuned_sim, k)))"
      ]
    },
    {
      "cell_type": "markdown",
      "id": "a8xwd13weIVP",
      "metadata": {
        "id": "a8xwd13weIVP"
      },
      "source": [
        "We can see that thre is a significant imrovement in recall metric after only 5 epochs of training.\n",
        "Now, we can use these modes for painting retrival based on text query."
      ]
    },
    {
      "cell_type": "markdown",
      "id": "aa370eb1",
      "metadata": {
        "id": "aa370eb1"
      },
      "source": [
        "The models can be saved in the same way as any other keras model."
      ]
    },
    {
      "cell_type": "code",
      "execution_count": null,
      "id": "7f6717ca",
      "metadata": {
        "id": "7f6717ca"
      },
      "outputs": [],
      "source": [
        "img_model.save(\"image_model.h5\")\n",
        "text_model.save(\"text_model.h5\")"
      ]
    },
    {
      "cell_type": "markdown",
      "id": "a2d2e778",
      "metadata": {
        "id": "a2d2e778"
      },
      "source": [
        "However when loading these saved models, the CLIP vision and text models must be provided in custom objects."
      ]
    },
    {
      "cell_type": "code",
      "execution_count": null,
      "id": "e0fb4c52",
      "metadata": {
        "id": "e0fb4c52"
      },
      "outputs": [],
      "source": [
        "img_model = tf.keras.models.load_model(\"image_model.h5\", custom_objects={\"TFCLIPVisionModel\":TFCLIPVisionModel})\n",
        "text_model = tf.keras.models.load_model(\"text_model.h5\", custom_objects={\"TFCLIPTextModel\":TFCLIPTextModel})"
      ]
    }
  ],
  "metadata": {
    "accelerator": "GPU",
    "colab": {
      "collapsed_sections": [],
      "provenance": []
    },
    "gpuClass": "standard",
    "kernelspec": {
      "display_name": "Python 3 (ipykernel)",
      "language": "python",
      "name": "python3"
    },
    "language_info": {
      "codemirror_mode": {
        "name": "ipython",
        "version": 3
      },
      "file_extension": ".py",
      "mimetype": "text/x-python",
      "name": "python",
      "nbconvert_exporter": "python",
      "pygments_lexer": "ipython3",
      "version": "3.9.12"
    }
  },
  "nbformat": 4,
  "nbformat_minor": 5
}
