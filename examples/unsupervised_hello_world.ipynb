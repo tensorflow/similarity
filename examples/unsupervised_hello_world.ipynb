{
 "cells": [
  {
   "cell_type": "markdown",
   "metadata": {},
   "source": [
    "Copyright 2021 The TensorFlow Similarity Authors."
   ]
  },
  {
   "cell_type": "code",
   "execution_count": 1,
   "metadata": {},
   "outputs": [],
   "source": [
    "# @title Licensed under the Apache License, Version 2.0 (the \"License\");\n",
    "# you may not use this file except in compliance with the License.\n",
    "# You may obtain a copy of the License at\n",
    "#\n",
    "# https://www.apache.org/licenses/LICENSE-2.0\n",
    "#\n",
    "# Unless required by applicable law or agreed to in writing, software\n",
    "# distributed under the License is distributed on an \"AS IS\" BASIS,\n",
    "# WITHOUT WARRANTIES OR CONDITIONS OF ANY KIND, either express or implied.\n",
    "# See the License for the specific language governing permissions and\n",
    "# limitations under the License."
   ]
  },
  {
   "cell_type": "markdown",
   "metadata": {},
   "source": [
    "# TensorFlow Similarity Self-Supervised Learning Hello World"
   ]
  },
  {
   "cell_type": "markdown",
   "metadata": {},
   "source": [
    "<table class=\"tfo-notebook-buttons\" align=\"left\">\n",
    "  <td>\n",
    "    <a target=\"_blank\" href=\"https://colab.research.google.com/github/tensorflow/similarity/blob/master/examples/supervised_visualization.ipynb\"><img src=\"https://www.tensorflow.org/images/colab_logo_32px.png\" />Run in Google Colab</a>\n",
    "  </td>\n",
    "  <td>\n",
    "    <a target=\"_blank\" href=\"https://github.com/tensorflow/similarity/blob/master/examples/supervised_visualization.ipynb\"><img src=\"https://www.tensorflow.org/images/GitHub-Mark-32px.png\" />View source on GitHub</a>\n",
    "  </td>\n",
    "</table>"
   ]
  },
  {
   "cell_type": "markdown",
   "metadata": {},
   "source": [
    "[TensorFlow Similarity](https://github.com/tensorflow/similarity) is a python package focused on making similarity learning and self-supervised learning quick and easy.\n",
    "\n",
    "Self-supervised learning is an approach to training without using explicit labels. The key insight is that we can train the model to learn augmentation invariance. This produces representations that are generally usefull for down stream tasks. \n",
    "\n",
    "Most of these self-supervised models share a common architecture that includes the following:\n",
    "\n",
    "* Generating at least two augmented views for each example in the batch.\n",
    "\n",
    "* A **Backbone** model that learns the **Representation** that we will use for the down stream tasks.\n",
    "\n",
    "* A **Projection** model that is typically a small MLP that includes batch norm.\n",
    "\n",
    "* A **Predictor** model that is also a small MLP with batch norm. This model is common in more recent architectures and usually has a bottle neck layer.\n",
    "\n",
    "![byol.png](https://raw.githubusercontent.com/tensorflow/similarity/master/assets/images/byol.png)\n",
    "\n",
    "### Notebook goal\n",
    "\n",
    "This notebook demonstrates how to use TensorFlow Similarity to pre-train a `ContrastiveModel()` on the cifar10 dataset. \n",
    "\n",
    "You are going to learn the main features offered by the `ContrastiveModel()` and will:\n",
    "\n",
    "1. Create a `tf.data.Dataset` that will generate two augmented views for each example in a batch.\n",
    "\n",
    "2. Create basic versions of **Backbone**, **Projector**, and **Predictor** networks. These will be used to construct the `ContrastiveModel()`\n",
    "\n",
    "3. Build a `ContrastiveModel()` using one of the three supported algorithms: `SimCLR`, `SimSiam`, and `Barlow Twins`.\n",
    "\n",
    "4. Compare the classification performance of training from scratch vs. using the frozen pre-trainined weights.\n",
    "\n",
    "### Things to try\n",
    "\n",
    "You can try the following things to improve the model performance:\n",
    "- Try different self-supervised learning algorithms.\n",
    "- Use a larger backbone model.\n",
    "- Use a larger embedding by increasing the size of the projection and predictor layers.\n",
    "- Try using other augmention functions."
   ]
  },
  {
   "cell_type": "code",
   "execution_count": 2,
   "metadata": {},
   "outputs": [],
   "source": [
    "import gc\n",
    "import os\n",
    "import random\n",
    "import time\n",
    "from pathlib import Path\n",
    "\n",
    "import matplotlib.pyplot as plt\n",
    "import numpy as np\n",
    "from tabulate import tabulate\n",
    "\n",
    "# INFO messages are not printed.\n",
    "# This must be run before loading other modules.\n",
    "os.environ[\"TF_CPP_MIN_LOG_LEVEL\"] = \"1\""
   ]
  },
  {
   "cell_type": "code",
   "execution_count": 3,
   "metadata": {},
   "outputs": [],
   "source": [
    "import tensorflow as tf\n",
    "import tensorflow_datasets as tfds"
   ]
  },
  {
   "cell_type": "code",
   "execution_count": 4,
   "metadata": {},
   "outputs": [
    {
     "name": "stderr",
     "output_type": "stream",
     "text": [
      "Your CPU supports instructions that this binary was not compiled to use: SSE3 SSE4.1 SSE4.2 AVX AVX2\n",
      "For maximum performance, you can install NMSLIB from sources \n",
      "pip install --no-binary :all: nmslib\n"
     ]
    }
   ],
   "source": [
    "# install TF similarity if needed\n",
    "try:\n",
    "    import tensorflow_similarity as tfsim  # main package\n",
    "except ModuleNotFoundError:\n",
    "    !pip install tensorflow_similarity\n",
    "    import tensorflow_similarity as tfsim"
   ]
  },
  {
   "cell_type": "code",
   "execution_count": 5,
   "metadata": {},
   "outputs": [],
   "source": [
    "# install TF addons if needed\n",
    "try:\n",
    "    import tensorflow_addons as tfa  # main package\n",
    "except ModuleNotFoundError:\n",
    "    !pip install tensorflow-addons\n",
    "    import tensorflow_addons as tfa"
   ]
  },
  {
   "cell_type": "code",
   "execution_count": 6,
   "metadata": {
    "tags": []
   },
   "outputs": [],
   "source": [
    "tfsim.utils.tf_cap_memory()  # Avoid GPU memory blow up"
   ]
  },
  {
   "cell_type": "code",
   "execution_count": 7,
   "metadata": {},
   "outputs": [],
   "source": [
    "# Clear out any old model state.\n",
    "gc.collect()\n",
    "tf.keras.backend.clear_session()"
   ]
  },
  {
   "cell_type": "code",
   "execution_count": 8,
   "metadata": {},
   "outputs": [
    {
     "name": "stdout",
     "output_type": "stream",
     "text": [
      "TensorFlow: 2.7.0\n",
      "TensorFlow Similarity 0.15.0.dev72\n"
     ]
    }
   ],
   "source": [
    "print(\"TensorFlow:\", tf.__version__)\n",
    "print(\"TensorFlow Similarity\", tfsim.__version__)"
   ]
  },
  {
   "cell_type": "markdown",
   "metadata": {},
   "source": [
    "## Dataset Preperation\n",
    "\n",
    "The following section:\n",
    "* Loads the data from tensorflow datasets.\n",
    "* Creates the train, val, test, and query/index splits.\n",
    "* Sets the global vars used for building the different architectures.\n",
    "* Creates a train and test tf.data.Dataset.\n",
    "* Visualizes the pairs of augmented views from a single batch."
   ]
  },
  {
   "cell_type": "code",
   "execution_count": 9,
   "metadata": {},
   "outputs": [],
   "source": [
    "DATA_PATH = Path(\"tfsim_contrastive_model\")\n",
    "if not DATA_PATH.exists():\n",
    "    DATA_PATH.mkdir(parents=True)"
   ]
  },
  {
   "cell_type": "markdown",
   "metadata": {
    "tags": []
   },
   "source": [
    "### Load The Raw Data\n",
    "\n",
    "We are going to load the CIFAR10 dataset. This dataset is often used in the self-supervised papers, enabling us to reproduce the published results. "
   ]
  },
  {
   "cell_type": "code",
   "execution_count": 10,
   "metadata": {},
   "outputs": [
    {
     "name": "stdout",
     "output_type": "stream",
     "text": [
      "WARNING:tensorflow:From /opt/conda/lib/python3.7/site-packages/tensorflow_datasets/core/dataset_builder.py:622: get_single_element (from tensorflow.python.data.experimental.ops.get_single_element) is deprecated and will be removed in a future version.\n",
      "Instructions for updating:\n",
      "Use `tf.data.Dataset.get_single_element()`.\n"
     ]
    },
    {
     "name": "stderr",
     "output_type": "stream",
     "text": [
      "WARNING:tensorflow:From /opt/conda/lib/python3.7/site-packages/tensorflow_datasets/core/dataset_builder.py:622: get_single_element (from tensorflow.python.data.experimental.ops.get_single_element) is deprecated and will be removed in a future version.\n",
      "Instructions for updating:\n",
      "Use `tf.data.Dataset.get_single_element()`.\n"
     ]
    }
   ],
   "source": [
    "((x_raw_train, y_raw_train), (x_test, y_test)), ds_info = tfds.load(\n",
    "    \"cifar10\",\n",
    "    split=[\"train\", \"test\"],\n",
    "    batch_size=-1,\n",
    "    shuffle_files=True,\n",
    "    as_supervised=True,\n",
    "    with_info=True,\n",
    ")"
   ]
  },
  {
   "cell_type": "code",
   "execution_count": 11,
   "metadata": {},
   "outputs": [
    {
     "name": "stdout",
     "output_type": "stream",
     "text": [
      "Class Name    Class ID\n",
      "------------  ----------\n",
      "airplane      0\n",
      "automobile    1\n",
      "bird          2\n",
      "cat           3\n",
      "deer          4\n",
      "dog           5\n",
      "frog          6\n",
      "horse         7\n",
      "ship          8\n",
      "truck         9\n"
     ]
    }
   ],
   "source": [
    "print(\n",
    "    tabulate(\n",
    "        [(cname, cid) for cid, cname in enumerate(ds_info.features['label'].names)],\n",
    "        headers=[\"Class Name\", \"Class ID\"],\n",
    "        numalign=\"left\"\n",
    "    )\n",
    ")"
   ]
  },
  {
   "cell_type": "markdown",
   "metadata": {},
   "source": [
    "### Create Data Splits\n",
    "The tfds cifar10 dataset comes with a test and train split. \n",
    "* **Train**: Data used for the pre-training and evaluation training phases.\n",
    "* **Test**: Data reserved for the evaluation tests.\n",
    "\n",
    "However, we are going to partition the train data into the following additional splits:\n",
    "\n",
    "* **Validation**: Data used for validation metrics during the pre-training phase. \n",
    "* **Query and Index**: Data used to compute matching metrics. The query data is used to retrieve the nearest indexed examples.\n",
    "\n",
    "In particular, the Query and Index split allows us to track the matching classification performance during training. \n",
    "\n",
    "<div class=\"alert alert-block alert-info\"> <b>NOTE</b> An increasing match accuracy is a strong indication that the model is learning useful features, however, it does requires that we have labeled data. If a dataset only has a small number of labelled examples, they can be passed as the query and index to help monitor the potential matching classification performance during training.</div> \n"
   ]
  },
  {
   "cell_type": "code",
   "execution_count": 12,
   "metadata": {},
   "outputs": [],
   "source": [
    "# Compute the indicies for query, index, val, and train splits\n",
    "query_idxs, index_idxs, val_idxs, train_idxs = [], [], [], []\n",
    "for cid in range(ds_info.features[\"label\"].num_classes):\n",
    "    idxs = tf.random.shuffle(tf.where(y_raw_train == cid))\n",
    "    idxs = tf.reshape(idxs, (-1,))\n",
    "    query_idxs.extend(idxs[:200])     # 200 query examples per class\n",
    "    index_idxs.extend(idxs[200:400])  # 200 index examples per class\n",
    "    val_idxs.extend(idxs[400:500])    # 100 validation examples per class\n",
    "    train_idxs.extend(idxs[500:])     # The remaining are used for training\n",
    "\n",
    "random.shuffle(query_idxs)\n",
    "random.shuffle(index_idxs)\n",
    "random.shuffle(val_idxs)\n",
    "random.shuffle(train_idxs)"
   ]
  },
  {
   "cell_type": "code",
   "execution_count": 13,
   "metadata": {},
   "outputs": [],
   "source": [
    "def create_split(idxs: list) -> tuple:\n",
    "    x, y = [], []\n",
    "    for idx in idxs:\n",
    "        x.append(x_raw_train[int(idx)])\n",
    "        y.append(y_raw_train[int(idx)])\n",
    "    return tf.convert_to_tensor(x), tf.convert_to_tensor(y)\n",
    "\n",
    "\n",
    "x_query, y_query = create_split(query_idxs)\n",
    "x_index, y_index = create_split(index_idxs)\n",
    "x_val, y_val = create_split(val_idxs)\n",
    "x_train, y_train = create_split(train_idxs)"
   ]
  },
  {
   "cell_type": "code",
   "execution_count": 16,
   "metadata": {},
   "outputs": [
    {
     "name": "stdout",
     "output_type": "stream",
     "text": [
      "       Examples            Labels\n",
      "-----  ------------------  --------\n",
      "train  (45000, 32, 32, 3)  (45000,)\n",
      "val    (1000, 32, 32, 3)   (1000,)\n",
      "query  (2000, 32, 32, 3)   (2000,)\n",
      "index  (2000, 32, 32, 3)   (2000,)\n",
      "test   (10000, 32, 32, 3)  (10000,)\n"
     ]
    }
   ],
   "source": [
    "print(\n",
    "    tabulate(\n",
    "        [\n",
    "            [\"train\", x_train.shape, y_train.shape],\n",
    "            [\"val\", x_val.shape, y_val.shape],\n",
    "            [\"query\", x_query.shape, y_query.shape],\n",
    "            [\"index\", x_index.shape, y_index.shape],\n",
    "            [\"test\", x_test.shape, y_test.shape],\n",
    "        ],\n",
    "        headers=[\"Examples\", \"Labels\"],\n",
    "    )\n",
    ")"
   ]
  },
  {
   "cell_type": "markdown",
   "metadata": {},
   "source": [
    "### Global Vars\n",
    "\n",
    "[TensorFlow Similarity](https://github.com/tensorflow/similarity) currently supports three different self-supervised models.\n",
    "\n",
    "* (SimCLR)[http://arxiv.org/abs/2002.05709]: Only requires the Backbone and the projector and uses a contrastive cross-entropy loss. This model typically requires large batch sizes.\n",
    "* (SimSiam)[https://arxiv.org/abs/2011.10566]: Requires the Backbone, projector, and predictor and only compares the cosine distance between augmented views from the same example.\n",
    "* (Barlow Twins)[https://arxiv.org/abs/2103.03230]: Only requires the Backbone and the projector and uses a loss that compares the feature columns instead of the views.\n",
    "\n",
    "The `ALGORITHM` var is used throught this notebook to setup the various architectures and the parameters defined below are setup to reproduce the results published in the papers. "
   ]
  },
  {
   "cell_type": "code",
   "execution_count": 17,
   "metadata": {},
   "outputs": [],
   "source": [
    "ALGORITHM = \"simsiam\"  # @param [\"barlow\", \"simsiam\", \"simclr\"]"
   ]
  },
  {
   "cell_type": "code",
   "execution_count": 18,
   "metadata": {},
   "outputs": [],
   "source": [
    "CIFAR_IMG_SIZE = 32\n",
    "\n",
    "if ALGORITHM == \"simsiam\":\n",
    "    BATCH_SIZE = 512\n",
    "    PRE_TRAIN_EPOCHS = 800\n",
    "    PRE_TRAIN_STEPS_PER_EPOCH = len(x_train) // BATCH_SIZE\n",
    "    VAL_STEPS_PER_EPOCH = 20\n",
    "    WEIGHT_DECAY = 5e-4\n",
    "    INIT_LR = 3e-2 * int(BATCH_SIZE / 256)\n",
    "    WARMUP_LR = 0.0\n",
    "    WARMUP_STEPS = 0\n",
    "    DIM = 2048  # The layer size for the projector and predictor models.\n",
    "elif ALGORITHM == \"barlow\":\n",
    "    BATCH_SIZE = 512\n",
    "    PRE_TRAIN_EPOCHS = 100\n",
    "    PRE_TRAIN_STEPS_PER_EPOCH = len(x_train) // BATCH_SIZE\n",
    "    VAL_STEPS_PER_EPOCH = 20\n",
    "    WEIGHT_DECAY = 5e-4\n",
    "    INIT_LR = 1e-3  # Initial LR for the learning rate schedule.\n",
    "    WARMUP_LR = 0.0\n",
    "    WARMUP_STEPS = 1000  # we have 10k train steps and we warm up over 10% of that.\n",
    "    DIM = 2048  # The layer size for the projector and predictor models.\n",
    "elif ALGORITHM == \"simclr\":\n",
    "    BATCH_SIZE = 512\n",
    "    PRE_TRAIN_EPOCHS = 100\n",
    "    PRE_TRAIN_STEPS_PER_EPOCH = len(x_train) // BATCH_SIZE\n",
    "    VAL_STEPS_PER_EPOCH = 20\n",
    "    WEIGHT_DECAY = 5e-4\n",
    "    INIT_LR = 1e-3  # Initial LR for the learning rate schedule.\n",
    "    WARMUP_LR = 0.0\n",
    "    WARMUP_STEPS = 0\n",
    "    DIM = 2048  # The layer size for the projector and predictor models."
   ]
  },
  {
   "cell_type": "markdown",
   "metadata": {
    "tags": []
   },
   "source": [
    "### Building tf.data.Dataset pipelines\n",
    "\n",
    "Self-supervised networks require two augmented \"views\" of each example. This can be created using a DataSet and an augmentation function. The DataSet treats each example in the batch as it's own class and then the augment function produces two separate views for each example. \n",
    "\n",
    "This means the resulting batch will yield tuples containing the two views, i.e., `Tuple[(BATCH_SIZE, 32, 32, 3), (BATCH_SIZE, 32, 32, 3)]`. \n",
    "\n",
    "TensorFlow Similarity provides several random augmentation functions, and here we combining augmenters from the simclr module to replicate the augmentations used in simsiam. This augmenter returns values between [0, 1], but our ResNet backbone model expects the values to be between [0, 255] so we also scale the final output values in the augmentation function."
   ]
  },
  {
   "cell_type": "code",
   "execution_count": 20,
   "metadata": {},
   "outputs": [],
   "source": [
    "@tf.function\n",
    "def simsiam_augmenter(img, blur=True, area_range=(0.2, 1.0)):\n",
    "    \"\"\"SimSiam augmenter.\n",
    "\n",
    "    The SimSiam augmentations are based on the SimCLR augmentations, but have\n",
    "    some important differences.\n",
    "    * The crop area lower bound is 20% instead of 8%.\n",
    "    * The color jitter and grayscale are applied separately instead of together.\n",
    "    * The color jitter ranges are much smaller.\n",
    "    * Blur is not applied for the cifar10 dataset.\n",
    "\n",
    "    args:\n",
    "        img: Single image tensor of shape (H, W, C)\n",
    "        blur: If true, apply blur. Should be disabled for cifar10.\n",
    "        area_range: The upper and lower bound of the random crop percentage.\n",
    "\n",
    "    returns:\n",
    "        A single image tensor of shape (H, W, C) with values between 0.0 and 1.0.\n",
    "    \"\"\"\n",
    "    # random resize and crop. Increase the size before we crop.\n",
    "    img = tfsim.augmenters.simclr.crop_and_resize(\n",
    "        img, CIFAR_IMG_SIZE, CIFAR_IMG_SIZE, area_range=area_range\n",
    "    )\n",
    "    img /= 255.0\n",
    "    # random color jitter\n",
    "    def _jitter_transform(x):\n",
    "        return tfsim.augmenters.simclr.color_jitter_rand(\n",
    "            x,\n",
    "            np.random.uniform(0.0, 0.4),\n",
    "            np.random.uniform(0.0, 0.4),\n",
    "            np.random.uniform(0.0, 0.4),\n",
    "            np.random.uniform(0.0, 0.1),\n",
    "            \"simclrv2\",\n",
    "        )\n",
    "\n",
    "    img = tfsim.augmenters.simclr.random_apply(_jitter_transform, p=0.8, x=img)\n",
    "\n",
    "    # # random grayscale\n",
    "    def _grascayle_transform(x):\n",
    "        return tfsim.augmenters.simclr.to_grayscale(x)\n",
    "\n",
    "    img = tfsim.augmenters.simclr.random_apply(_grascayle_transform, p=0.2, x=img)\n",
    "\n",
    "    # optional random gaussian blur\n",
    "    if blur:\n",
    "        img = tfsim.augmenters.simclr.random_blur(img, p=0.5)\n",
    "\n",
    "    # random horizontal flip\n",
    "    img = tf.image.random_flip_left_right(img)\n",
    "    img = tf.clip_by_value(img, 0.0, 1.0)\n",
    "\n",
    "    return img\n",
    "\n",
    "\n",
    "@tf.function()\n",
    "def process(img):\n",
    "    # SimClrAugmenter returns scaled values between [0,1]\n",
    "    view1 = simsiam_augmenter(img, blur=False)\n",
    "    view2 = simsiam_augmenter(img, blur=False)\n",
    "    # The ResNet model scales internally and expects the inputs to be between [0, 255]\n",
    "    return (view1 * 255.0, view2 * 255.0)\n",
    "\n",
    "\n",
    "train_ds = tf.data.Dataset.from_tensor_slices(x_train)\n",
    "train_ds = train_ds.repeat()\n",
    "train_ds = train_ds.shuffle(1024)\n",
    "train_ds = train_ds.map(process, num_parallel_calls=tf.data.AUTOTUNE)\n",
    "train_ds = train_ds.batch(BATCH_SIZE)\n",
    "train_ds = train_ds.prefetch(tf.data.AUTOTUNE)\n",
    "\n",
    "val_ds = tf.data.Dataset.from_tensor_slices(x_val)\n",
    "val_ds = val_ds.repeat()\n",
    "val_ds = val_ds.shuffle(1024)\n",
    "val_ds = val_ds.map(process, num_parallel_calls=tf.data.AUTOTUNE)\n",
    "val_ds = val_ds.batch(BATCH_SIZE)\n",
    "val_ds = val_ds.prefetch(tf.data.AUTOTUNE)"
   ]
  },
  {
   "cell_type": "markdown",
   "metadata": {},
   "source": [
    "### Visualize Batching\n",
    "\n",
    "The following cell plots the pairs of augmented images next to each other. This can be a useful sanity check as many augmentation functions are setup for the larger ImageNet examples and can be overly aggressive for smaller images found in cifar."
   ]
  },
  {
   "cell_type": "code",
   "execution_count": 21,
   "metadata": {},
   "outputs": [
    {
     "data": {
      "image/png": "[encoded data removed]",
      "text/plain": [
       "<Figure size 1728x288 with 16 Axes>"
      ]
     },
     "metadata": {},
     "output_type": "display_data"
    }
   ],
   "source": [
    "tfsim.visualization.visualize_views(\n",
    "    views=next(train_ds.as_numpy_iterator()),\n",
    "    num_imgs=16,\n",
    "    views_per_col=8,\n",
    "    max_pixel_value=255.0,\n",
    ")"
   ]
  },
  {
   "cell_type": "markdown",
   "metadata": {
    "tags": []
   },
   "source": [
    "## Models\n",
    "\n",
    "There are various architectures for building self-supervised models which may include some of the following:\n",
    "* **Backbone**: This is the base model and is typically an existing architecture like ResNet or EfficientNet.\n",
    "* **Projector**: This is a small multi-layer Neural Net and provides the embedding features at the end of training.\n",
    "* **Predictor**: This model is used by BYOL and SimSiam and provides an additional small multi-layer Neural Net.\n",
    "\n",
    "Typically, the projector and predictor networks are only 2 or 3 layers with batch normalization. Several papers claim that the batch normalization is critical to prevent the model from colapsing to a degenerate solution.\n",
    "\n",
    "Additionally, many papers show a single `encoder` block, but this often contains both the `Backbone` and the `Projector` network.\n",
    "\n",
    "![contrastive_architecures.png](https://raw.githubusercontent.com/tensorflow/similarity/master/assets/images/contrastive_architecures.png)"
   ]
  },
  {
   "cell_type": "markdown",
   "metadata": {
    "tags": []
   },
   "source": [
    "### Backbone Model\n",
    "\n",
    "We are using a version of ResNet18 provided by Tensorflow Similarity in order to reproduce the SimSiam results.\n",
    "\n",
    "The larger ResNet50 models provided in Tensorflow all use the larger `[(1x1), (3x3), (1x1)]` blocks, but the ResNet18 used in the SimSiam paper requires the smaller `[(3x3), (3x3)]` block.\n",
    "\n",
    "Additionally, we also provide an implementation of general mean pooling, which allows for variable pooling contrast between global mean and max pooling.\n",
    "\n",
    "<div class=\"alert alert-block alert-info\"> <b>NOTE</b> This is the model that produces the encoded representation. </div>"
   ]
  },
  {
   "cell_type": "code",
   "execution_count": 22,
   "metadata": {},
   "outputs": [
    {
     "name": "stdout",
     "output_type": "stream",
     "text": [
      "Model: \"resnet18sim\"\n",
      "_________________________________________________________________\n",
      " Layer (type)                Output Shape              Param #   \n",
      "=================================================================\n",
      " input_1 (InputLayer)        [(None, 32, 32, 3)]       0         \n",
      "                                                                 \n",
      " resnet18 (Functional)       (None, 4, 4, 512)         11182784  \n",
      "                                                                 \n",
      " avg_pool (GlobalAveragePool  (None, 512)              0         \n",
      " ing2D)                                                          \n",
      "                                                                 \n",
      "=================================================================\n",
      "Total params: 11,182,784\n",
      "Trainable params: 11,173,056\n",
      "Non-trainable params: 9,728\n",
      "_________________________________________________________________\n"
     ]
    }
   ],
   "source": [
    "def get_backbone(\n",
    "    img_size, activation=\"relu\", preproc_mode=\"torch\"\n",
    "):\n",
    "    input_shape = (img_size, img_size, 3)\n",
    "    backbone = tfsim.architectures.ResNet18Sim(\n",
    "        input_shape,\n",
    "        augmentation=None,\n",
    "        include_top=False,  # Take the pooling layer as the output.\n",
    "        pooling=\"avg\",      # Can change to use `gem` -> GeneralizedMeanPooling2D\n",
    "        # gem_p=3.0,        # Increase the contrast between activations in the feature map.\n",
    "        preproc_mode=\"torch\",\n",
    "    )\n",
    "    return backbone\n",
    "\n",
    "\n",
    "backbone = get_backbone(CIFAR_IMG_SIZE)\n",
    "backbone.summary()"
   ]
  },
  {
   "cell_type": "markdown",
   "metadata": {},
   "source": [
    "### Projector Model\n",
    "\n",
    "This MLP is common to all the self-supervised models and is typically a stack of 3 layers of the same size. However, SimSiam only uses 2 layers for the smaller cifar images. Having too much capacity in the models can make it difficult for the loss to stabalize and converge.\n",
    "\n",
    "Additionally, the SimSiam paper found that disabling the center and scale parameters can lead to a small boost in the final loss.\n",
    "\n",
    "<div class=\"alert alert-block alert-info\"> <b>NOTE</b> This is the model output that is returned by `ContrastiveModel.predict()` and represents the distance based embedding. </div>"
   ]
  },
  {
   "cell_type": "code",
   "execution_count": 23,
   "metadata": {},
   "outputs": [
    {
     "name": "stdout",
     "output_type": "stream",
     "text": [
      "Model: \"projector\"\n",
      "_________________________________________________________________\n",
      " Layer (type)                Output Shape              Param #   \n",
      "=================================================================\n",
      " projector_input (InputLayer  [(None, 512)]            0         \n",
      " )                                                               \n",
      "                                                                 \n",
      " projector_layer_0 (Dense)   (None, 2048)              1048576   \n",
      "                                                                 \n",
      " batch_normalization_0 (Batc  (None, 2048)             8192      \n",
      " hNormalization)                                                 \n",
      "                                                                 \n",
      " relu_activation_0 (Activati  (None, 2048)             0         \n",
      " on)                                                             \n",
      "                                                                 \n",
      " projector_output (Dense)    (None, 2048)              4194304   \n",
      "                                                                 \n",
      " batch_normalization_ouput (  (None, 2048)             4096      \n",
      " BatchNormalization)                                             \n",
      "                                                                 \n",
      " proj_std (ActivationStdLogg  (None, 2048)             0         \n",
      " ingLayer)                                                       \n",
      "                                                                 \n",
      "=================================================================\n",
      "Total params: 5,255,168\n",
      "Trainable params: 5,246,976\n",
      "Non-trainable params: 8,192\n",
      "_________________________________________________________________\n"
     ]
    }
   ],
   "source": [
    "def get_projector(input_dim, dim, activation=\"relu\", num_layers: int = 3):\n",
    "    inputs = tf.keras.layers.Input((input_dim,), name=\"projector_input\")\n",
    "    x = inputs\n",
    "    \n",
    "    for i in range(num_layers - 1):\n",
    "        x = tf.keras.layers.Dense(\n",
    "            dim,\n",
    "            use_bias=False,\n",
    "            kernel_initializer=tf.keras.initializers.LecunUniform(),\n",
    "            name=f\"projector_layer_{i}\",\n",
    "        )(x)\n",
    "        x = tf.keras.layers.BatchNormalization(\n",
    "            epsilon=1.001e-5, name=f\"batch_normalization_{i}\"\n",
    "        )(x)\n",
    "        x = tf.keras.layers.Activation(activation, name=f\"{activation}_activation_{i}\")(\n",
    "            x\n",
    "        )\n",
    "    x = tf.keras.layers.Dense(\n",
    "        dim,\n",
    "        use_bias=False,\n",
    "        kernel_initializer=tf.keras.initializers.LecunUniform(),\n",
    "        name=\"projector_output\",\n",
    "    )(x)\n",
    "    x = tf.keras.layers.BatchNormalization(\n",
    "        epsilon=1.001e-5,\n",
    "        center=False,  # Page:5, Paragraph:2 of SimSiam paper\n",
    "        scale=False,  # Page:5, Paragraph:2 of SimSiam paper\n",
    "        name=f\"batch_normalization_ouput\",\n",
    "    )(x)\n",
    "    o = tfsim.layers.ActivationStdLoggingLayer(name=\"proj_std\")(x)\n",
    "    projector = tf.keras.Model(inputs, o, name=\"projector\")\n",
    "    return projector\n",
    "\n",
    "\n",
    "projector = get_projector(input_dim=backbone.output.shape[-1], dim=DIM, num_layers=2)\n",
    "projector.summary()"
   ]
  },
  {
   "cell_type": "markdown",
   "metadata": {},
   "source": [
    "### Predictor model\n",
    "\n",
    "The predictor model is used by BYOL and SimSiam, and is an additional 2 layer MLP containing a bottleneck in the hidden layer."
   ]
  },
  {
   "cell_type": "code",
   "execution_count": 24,
   "metadata": {},
   "outputs": [
    {
     "name": "stdout",
     "output_type": "stream",
     "text": [
      "Model: \"predictor\"\n",
      "_________________________________________________________________\n",
      " Layer (type)                Output Shape              Param #   \n",
      "=================================================================\n",
      " predictor_input (InputLayer  [(None, 2048)]           0         \n",
      " )                                                               \n",
      "                                                                 \n",
      " predictor_layer_0 (Dense)   (None, 512)               1048576   \n",
      "                                                                 \n",
      " batch_normalization_0 (Batc  (None, 512)              2048      \n",
      " hNormalization)                                                 \n",
      "                                                                 \n",
      " relu_activation_0 (Activati  (None, 512)              0         \n",
      " on)                                                             \n",
      "                                                                 \n",
      " predictor_output (Dense)    (None, 2048)              1050624   \n",
      "                                                                 \n",
      " pred_std (ActivationStdLogg  (None, 2048)             0         \n",
      " ingLayer)                                                       \n",
      "                                                                 \n",
      "=================================================================\n",
      "Total params: 2,101,248\n",
      "Trainable params: 2,100,224\n",
      "Non-trainable params: 1,024\n",
      "_________________________________________________________________\n"
     ]
    }
   ],
   "source": [
    "def get_predictor(input_dim, hidden_dim=512, activation=\"relu\"):\n",
    "    inputs = tf.keras.layers.Input(shape=(input_dim,), name=\"predictor_input\")\n",
    "    x = inputs\n",
    "\n",
    "    x = tf.keras.layers.Dense(\n",
    "        hidden_dim,\n",
    "        use_bias=False,\n",
    "        kernel_initializer=tf.keras.initializers.LecunUniform(),\n",
    "        name=\"predictor_layer_0\",\n",
    "    )(x)\n",
    "    x = tf.keras.layers.BatchNormalization(\n",
    "        epsilon=1.001e-5, name=\"batch_normalization_0\"\n",
    "    )(x)\n",
    "    x = tf.keras.layers.Activation(activation, name=f\"{activation}_activation_0\")(x)\n",
    "\n",
    "    x = tf.keras.layers.Dense(\n",
    "        input_dim,\n",
    "        kernel_initializer=tf.keras.initializers.LecunUniform(),\n",
    "        name=\"predictor_output\",\n",
    "    )(x)\n",
    "    o = tfsim.layers.ActivationStdLoggingLayer(name=\"pred_std\")(x)\n",
    "    predictor = tf.keras.Model(inputs, o, name=\"predictor\")\n",
    "    return predictor\n",
    "\n",
    "\n",
    "predictor = get_predictor(input_dim=DIM, hidden_dim=512)\n",
    "predictor.summary()"
   ]
  },
  {
   "cell_type": "markdown",
   "metadata": {
    "tags": []
   },
   "source": [
    "## Self-Supervised Algorithms\n",
    "\n",
    "The following section builds the `ContrastiveModel` based on the `ALGORTHIM` set at the start of the Notebook.\n",
    "\n",
    "The models are very sensitive to the learning rate decay and weight decay.\n",
    "* **SimSiam**: Requires using SGD with weight decay from TF Addons. Adding the weight decay as a kernel_regularizer doesn't seem to be able to reproduce the published results in the paper.\n",
    "* **Barlow Twins**: Requires a warmup period, otherwise the loss explodes."
   ]
  },
  {
   "cell_type": "code",
   "execution_count": 25,
   "metadata": {},
   "outputs": [],
   "source": [
    "if ALGORITHM == \"simsiam\":\n",
    "    loss = tfsim.losses.SimSiamLoss(projection_type=\"cosine_distance\", name=ALGORITHM)\n",
    "\n",
    "    contrastive_model = tfsim.models.ContrastiveModel(\n",
    "        backbone=backbone,\n",
    "        projector=projector,\n",
    "        predictor=predictor,  # NOTE: simiam requires predictor model.\n",
    "        algorithm=ALGORITHM,\n",
    "        name=ALGORITHM,\n",
    "    )\n",
    "    lr_decayed_fn = tf.keras.optimizers.schedules.CosineDecay(\n",
    "        initial_learning_rate=INIT_LR,\n",
    "        decay_steps=PRE_TRAIN_EPOCHS * PRE_TRAIN_STEPS_PER_EPOCH,\n",
    "    )\n",
    "    wd_decayed_fn = tf.keras.optimizers.schedules.CosineDecay(\n",
    "        initial_learning_rate=WEIGHT_DECAY,\n",
    "        decay_steps=PRE_TRAIN_EPOCHS * PRE_TRAIN_STEPS_PER_EPOCH,\n",
    "    )\n",
    "    optimizer = tfa.optimizers.SGDW(\n",
    "        learning_rate=lr_decayed_fn, weight_decay=wd_decayed_fn, momentum=0.9\n",
    "    )\n",
    "elif ALGORITHM == \"barlow\":\n",
    "    loss = tfsim.losses.Barlow(name=ALGORITHM)\n",
    "\n",
    "    contrastive_model = tfsim.models.ContrastiveModel(\n",
    "        backbone=backbone,\n",
    "        projector=projector,\n",
    "        algorithm=\"barlow\",\n",
    "    )\n",
    "    lr_decayed_fn = tfsim.schedules.WarmUpCosine(\n",
    "        initial_learning_rate=INIT_LR,\n",
    "        decay_steps=PRE_TRAIN_EPOCHS * PRE_TRAIN_STEPS_PER_EPOCH,\n",
    "        warmup_steps=WARMUP_STEPS,\n",
    "        warmup_learning_rate=WARMUP_LR,\n",
    "    )\n",
    "    optimizer = tf.keras.optimizers.SGD(learning_rate=lr_decayed_fn, momentum=0.9)\n",
    "elif ALGORITHM == \"simclr\":\n",
    "    loss = tfsim.losses.SimCLRLoss(name=ALGORITHM)\n",
    "\n",
    "    contrastive_model = tfsim.models.ContrastiveModel(\n",
    "        backbone=backbone,\n",
    "        projector=projector,\n",
    "        algorithm=ALGORITHM,\n",
    "    )\n",
    "    optimizer = tf.keras.optimizers.Adam(INIT_LR)\n",
    "else:\n",
    "    raise ValueError(f\"{ALGORITHM} is not supported.\")"
   ]
  },
  {
   "cell_type": "markdown",
   "metadata": {},
   "source": [
    "### Compile"
   ]
  },
  {
   "cell_type": "code",
   "execution_count": 26,
   "metadata": {},
   "outputs": [],
   "source": [
    "contrastive_model.compile(\n",
    "    optimizer=optimizer,\n",
    "    loss=loss,\n",
    ")"
   ]
  },
  {
   "cell_type": "markdown",
   "metadata": {},
   "source": [
    "### Callbacks\n",
    "\n",
    "We track the training using several callbacks. In particular, we use the EvalCallback to monitor the matching classification using the `binary_accuracy`."
   ]
  },
  {
   "cell_type": "code",
   "execution_count": 28,
   "metadata": {},
   "outputs": [
    {
     "name": "stdout",
     "output_type": "stream",
     "text": [
      "TensorBoard logging enable in ../../kaggle_ds/google_landmarks/models/logs/simsiam_1640915939.6517866/index\n"
     ]
    }
   ],
   "source": [
    "log_dir = DATA_PATH / \"models\" / \"logs\" / f\"{loss.name}_{time.time()}\"\n",
    "chkpt_dir = DATA_PATH / \"models\" / \"checkpoints\" / f\"{loss.name}_{time.time()}\"\n",
    "\n",
    "# early_stopping = tf.keras.callbacks.EarlyStopping(\n",
    "#     monitor=\"loss\", patience=50, restore_best_weights=True\n",
    "# )\n",
    "tbc = tf.keras.callbacks.TensorBoard(\n",
    "    log_dir=log_dir,\n",
    "    histogram_freq=1,\n",
    "    update_freq=100,\n",
    ")\n",
    "tsc = tfsim.callbacks.EvalCallback(\n",
    "    tf.cast(x_query, tf.float32),\n",
    "    y_query,\n",
    "    tf.cast(x_index, tf.float32),\n",
    "    y_index,\n",
    "    metrics=[\"binary_accuracy\"],\n",
    "    k=1,\n",
    "    tb_logdir=log_dir,\n",
    ")\n",
    "mcp_train = tf.keras.callbacks.ModelCheckpoint(\n",
    "    filepath=chkpt_dir,\n",
    "    monitor=\"loss\",\n",
    "    mode=\"min\",\n",
    "    save_best_only=True,\n",
    "    save_weights_only=True,\n",
    ")"
   ]
  },
  {
   "cell_type": "markdown",
   "metadata": {
    "tags": []
   },
   "source": [
    "## Train\n",
    "\n",
    "**Notes**\n",
    "- SGDW seems to be required to prevent the loss from becoming unstable.\n",
    "- Per layer kernel_regularization with weight decay doesn't work.\n",
    "- The kernel initialization seems very critical. Smaller, uniform initalization schemes like Lecunn seem to work best.\n",
    "- The projector is a more stable output for the KNN match metrics. The predictor ouput is typically worse and higher variance.\n",
    "- The LR and weight decay schedule seem important. The loss becomes unstable if the updates are too large later in training.\n",
    "- Too much capacity in the combined model and the training won't converge... same goes for too little capacity.\n",
    "- Augmentation is critical, but too much augmentation and the model won't converge."
   ]
  },
  {
   "cell_type": "code",
   "execution_count": null,
   "metadata": {},
   "outputs": [
    {
     "name": "stdout",
     "output_type": "stream",
     "text": [
      "binary_accuracy: 0.1995\n",
      "87/87 [==============================] - 46s 525ms/step - loss: 0.2823 - proj_std: 0.0182 - pred_std: 0.0157 - val_loss: 0.1626 - val_proj_std: 0.0128 - val_pred_std: 0.0109 - binary_accuracy: 0.1995\n",
      "Epoch 4/800\n",
      "87/87 [==============================] - ETA: 0s - loss: 0.2278 - proj_std: 0.0177 - pred_std: 0.0162binary_accuracy: 0.1880\n",
      "87/87 [==============================] - 46s 528ms/step - loss: 0.2278 - proj_std: 0.0177 - pred_std: 0.0162 - val_loss: 0.1882 - val_proj_std: 0.0150 - val_pred_std: 0.0133 - binary_accuracy: 0.1880\n",
      "Epoch 5/800\n",
      "87/87 [==============================] - ETA: 0s - loss: 0.2011 - proj_std: 0.0176 - pred_std: 0.0162binary_accuracy: 0.2045\n",
      "87/87 [==============================] - 46s 524ms/step - loss: 0.2011 - proj_std: 0.0176 - pred_std: 0.0162 - val_loss: 0.0971 - val_proj_std: 0.0119 - val_pred_std: 0.0102 - binary_accuracy: 0.2045\n",
      "Epoch 6/800\n",
      "87/87 [==============================] - ETA: 0s - loss: 0.1912 - proj_std: 0.0178 - pred_std: 0.0165binary_accuracy: 0.1870\n",
      "87/87 [==============================] - 46s 528ms/step - loss: 0.1912 - proj_std: 0.0178 - pred_std: 0.0165 - val_loss: 0.1077 - val_proj_std: 0.0131 - val_pred_std: 0.0116 - binary_accuracy: 0.1870\n",
      "Epoch 7/800\n",
      "87/87 [==============================] - ETA: 0s - loss: 0.1887 - proj_std: 0.0179 - pred_std: 0.0166binary_accuracy: 0.1860\n",
      "87/87 [==============================] - 46s 526ms/step - loss: 0.1887 - proj_std: 0.0179 - pred_std: 0.0166 - val_loss: 0.0771 - val_proj_std: 0.0110 - val_pred_std: 0.0094 - binary_accuracy: 0.1860\n",
      "Epoch 8/800\n",
      "87/87 [==============================] - ETA: 0s - loss: 0.1943 - proj_std: 0.0182 - pred_std: 0.0170binary_accuracy: 0.2005\n",
      "87/87 [==============================] - 45s 518ms/step - loss: 0.1943 - proj_std: 0.0182 - pred_std: 0.0170 - val_loss: 0.1132 - val_proj_std: 0.0129 - val_pred_std: 0.0114 - binary_accuracy: 0.2005\n",
      "Epoch 9/800\n",
      "87/87 [==============================] - ETA: 0s - loss: 0.2333 - proj_std: 0.0184 - pred_std: 0.0170binary_accuracy: 0.1920\n",
      "87/87 [==============================] - 45s 518ms/step - loss: 0.2333 - proj_std: 0.0184 - pred_std: 0.0170 - val_loss: 0.1931 - val_proj_std: 0.0136 - val_pred_std: 0.0117 - binary_accuracy: 0.1920\n",
      "Epoch 10/800\n",
      "87/87 [==============================] - ETA: 0s - loss: 0.2008 - proj_std: 0.0178 - pred_std: 0.0167binary_accuracy: 0.1755\n",
      "87/87 [==============================] - 45s 521ms/step - loss: 0.2008 - proj_std: 0.0178 - pred_std: 0.0167 - val_loss: 0.1215 - val_proj_std: 0.0133 - val_pred_std: 0.0120 - binary_accuracy: 0.1755\n",
      "Epoch 11/800\n",
      "87/87 [==============================] - ETA: 0s - loss: 0.1849 - proj_std: 0.0177 - pred_std: 0.0166binary_accuracy: 0.1880\n",
      "87/87 [==============================] - 46s 526ms/step - loss: 0.1849 - proj_std: 0.0177 - pred_std: 0.0166 - val_loss: 0.0779 - val_proj_std: 0.0112 - val_pred_std: 0.0099 - binary_accuracy: 0.1880\n",
      "Epoch 12/800\n",
      "87/87 [==============================] - ETA: 0s - loss: 0.1883 - proj_std: 0.0182 - pred_std: 0.0171binary_accuracy: 0.1935\n",
      "87/87 [==============================] - 45s 518ms/step - loss: 0.1883 - proj_std: 0.0182 - pred_std: 0.0171 - val_loss: 0.0941 - val_proj_std: 0.0126 - val_pred_std: 0.0113 - binary_accuracy: 0.1935\n",
      "Epoch 13/800\n",
      "87/87 [==============================] - ETA: 0s - loss: 0.1865 - proj_std: 0.0185 - pred_std: 0.0174binary_accuracy: 0.1970\n",
      "87/87 [==============================] - 45s 518ms/step - loss: 0.1865 - proj_std: 0.0185 - pred_std: 0.0174 - val_loss: 0.0608 - val_proj_std: 0.0096 - val_pred_std: 0.0081 - binary_accuracy: 0.1970\n",
      "Epoch 14/800\n",
      "87/87 [==============================] - ETA: 0s - loss: 0.1855 - proj_std: 0.0187 - pred_std: 0.0178binary_accuracy: 0.2015\n",
      "87/87 [==============================] - 45s 518ms/step - loss: 0.1855 - proj_std: 0.0187 - pred_std: 0.0178 - val_loss: 0.0927 - val_proj_std: 0.0118 - val_pred_std: 0.0102 - binary_accuracy: 0.2015\n",
      "Epoch 15/800\n",
      "87/87 [==============================] - ETA: 0s - loss: 0.1862 - proj_std: 0.0189 - pred_std: 0.0181binary_accuracy: 0.1955\n",
      "87/87 [==============================] - 45s 518ms/step - loss: 0.1862 - proj_std: 0.0189 - pred_std: 0.0181 - val_loss: 0.0893 - val_proj_std: 0.0121 - val_pred_std: 0.0105 - binary_accuracy: 0.1955\n",
      "Epoch 16/800\n",
      "87/87 [==============================] - ETA: 0s - loss: 0.1945 - proj_std: 0.0192 - pred_std: 0.0184binary_accuracy: 0.2255\n",
      "87/87 [==============================] - 45s 518ms/step - loss: 0.1945 - proj_std: 0.0192 - pred_std: 0.0184 - val_loss: 0.0717 - val_proj_std: 0.0104 - val_pred_std: 0.0090 - binary_accuracy: 0.2255\n",
      "Epoch 17/800\n",
      "87/87 [==============================] - ETA: 0s - loss: 0.2010 - proj_std: 0.0193 - pred_std: 0.0186binary_accuracy: 0.2225\n",
      "87/87 [==============================] - 45s 518ms/step - loss: 0.2010 - proj_std: 0.0193 - pred_std: 0.0186 - val_loss: 0.1082 - val_proj_std: 0.0130 - val_pred_std: 0.0115 - binary_accuracy: 0.2225\n",
      "Epoch 18/800\n",
      "87/87 [==============================] - ETA: 0s - loss: 0.1981 - proj_std: 0.0193 - pred_std: 0.0186binary_accuracy: 0.2575\n",
      "87/87 [==============================] - 45s 519ms/step - loss: 0.1981 - proj_std: 0.0193 - pred_std: 0.0186 - val_loss: 0.1044 - val_proj_std: 0.0113 - val_pred_std: 0.0099 - binary_accuracy: 0.2575\n",
      "Epoch 19/800\n",
      "87/87 [==============================] - ETA: 0s - loss: 0.1959 - proj_std: 0.0193 - pred_std: 0.0186binary_accuracy: 0.2500\n",
      "87/87 [==============================] - 45s 518ms/step - loss: 0.1959 - proj_std: 0.0193 - pred_std: 0.0186 - val_loss: 0.1066 - val_proj_std: 0.0127 - val_pred_std: 0.0111 - binary_accuracy: 0.2500\n",
      "Epoch 20/800\n",
      "87/87 [==============================] - ETA: 0s - loss: 0.1901 - proj_std: 0.0195 - pred_std: 0.0189binary_accuracy: 0.2725\n",
      "87/87 [==============================] - 45s 518ms/step - loss: 0.1901 - proj_std: 0.0195 - pred_std: 0.0189 - val_loss: 0.0943 - val_proj_std: 0.0125 - val_pred_std: 0.0110 - binary_accuracy: 0.2725\n",
      "Epoch 21/800\n",
      "87/87 [==============================] - ETA: 0s - loss: 0.1842 - proj_std: 0.0197 - pred_std: 0.0191binary_accuracy: 0.2835\n",
      "87/87 [==============================] - 46s 526ms/step - loss: 0.1842 - proj_std: 0.0197 - pred_std: 0.0191 - val_loss: 0.0902 - val_proj_std: 0.0125 - val_pred_std: 0.0112 - binary_accuracy: 0.2835\n",
      "Epoch 22/800\n",
      "87/87 [==============================] - ETA: 0s - loss: 0.1838 - proj_std: 0.0198 - pred_std: 0.0192binary_accuracy: 0.2730\n",
      "87/87 [==============================] - 46s 527ms/step - loss: 0.1838 - proj_std: 0.0198 - pred_std: 0.0192 - val_loss: 0.0966 - val_proj_std: 0.0135 - val_pred_std: 0.0123 - binary_accuracy: 0.2730\n",
      "Epoch 23/800\n",
      "87/87 [==============================] - ETA: 0s - loss: 0.1821 - proj_std: 0.0199 - pred_std: 0.0194binary_accuracy: 0.2715\n",
      "87/87 [==============================] - 46s 526ms/step - loss: 0.1821 - proj_std: 0.0199 - pred_std: 0.0194 - val_loss: 0.1056 - val_proj_std: 0.0139 - val_pred_std: 0.0124 - binary_accuracy: 0.2715\n",
      "Epoch 24/800\n",
      "87/87 [==============================] - ETA: 0s - loss: 0.1829 - proj_std: 0.0201 - pred_std: 0.0196binary_accuracy: 0.3000\n",
      "87/87 [==============================] - 45s 519ms/step - loss: 0.1829 - proj_std: 0.0201 - pred_std: 0.0196 - val_loss: 0.0835 - val_proj_std: 0.0122 - val_pred_std: 0.0111 - binary_accuracy: 0.3000\n",
      "Epoch 25/800\n",
      "87/87 [==============================] - ETA: 0s - loss: 0.1852 - proj_std: 0.0202 - pred_std: 0.0198binary_accuracy: 0.2945\n",
      "87/87 [==============================] - 45s 518ms/step - loss: 0.1852 - proj_std: 0.0202 - pred_std: 0.0198 - val_loss: 0.1007 - val_proj_std: 0.0138 - val_pred_std: 0.0126 - binary_accuracy: 0.2945\n",
      "Epoch 26/800\n",
      "87/87 [==============================] - ETA: 0s - loss: 0.1887 - proj_std: 0.0202 - pred_std: 0.0198binary_accuracy: 0.2960\n",
      "87/87 [==============================] - 45s 518ms/step - loss: 0.1887 - proj_std: 0.0202 - pred_std: 0.0198 - val_loss: 0.0975 - val_proj_std: 0.0137 - val_pred_std: 0.0125 - binary_accuracy: 0.2960\n",
      "Epoch 27/800\n",
      "87/87 [==============================] - ETA: 0s - loss: 0.1932 - proj_std: 0.0202 - pred_std: 0.0197binary_accuracy: 0.2830\n",
      "87/87 [==============================] - 45s 518ms/step - loss: 0.1932 - proj_std: 0.0202 - pred_std: 0.0197 - val_loss: 0.1200 - val_proj_std: 0.0143 - val_pred_std: 0.0133 - binary_accuracy: 0.2830\n",
      "Epoch 28/800\n",
      "87/87 [==============================] - ETA: 0s - loss: 0.1937 - proj_std: 0.0200 - pred_std: 0.0195binary_accuracy: 0.3065\n",
      "87/87 [==============================] - 45s 519ms/step - loss: 0.1937 - proj_std: 0.0200 - pred_std: 0.0195 - val_loss: 0.1067 - val_proj_std: 0.0137 - val_pred_std: 0.0126 - binary_accuracy: 0.3065\n",
      "Epoch 29/800\n",
      "87/87 [==============================] - ETA: 0s - loss: 0.2005 - proj_std: 0.0200 - pred_std: 0.0195binary_accuracy: 0.3015\n",
      "87/87 [==============================] - 45s 518ms/step - loss: 0.2005 - proj_std: 0.0200 - pred_std: 0.0195 - val_loss: 0.1198 - val_proj_std: 0.0132 - val_pred_std: 0.0121 - binary_accuracy: 0.3015\n",
      "Epoch 30/800\n",
      "87/87 [==============================] - ETA: 0s - loss: 0.2022 - proj_std: 0.0199 - pred_std: 0.0194binary_accuracy: 0.3130\n",
      "87/87 [==============================] - 45s 519ms/step - loss: 0.2022 - proj_std: 0.0199 - pred_std: 0.0194 - val_loss: 0.1304 - val_proj_std: 0.0138 - val_pred_std: 0.0123 - binary_accuracy: 0.3130\n",
      "Epoch 31/800\n",
      "87/87 [==============================] - ETA: 0s - loss: 0.2034 - proj_std: 0.0198 - pred_std: 0.0193binary_accuracy: 0.3225\n",
      "87/87 [==============================] - 45s 519ms/step - loss: 0.2034 - proj_std: 0.0198 - pred_std: 0.0193 - val_loss: 0.1339 - val_proj_std: 0.0133 - val_pred_std: 0.0117 - binary_accuracy: 0.3225\n",
      "Epoch 32/800\n",
      "87/87 [==============================] - ETA: 0s - loss: 0.2032 - proj_std: 0.0196 - pred_std: 0.0191binary_accuracy: 0.3045\n",
      "87/87 [==============================] - 45s 519ms/step - loss: 0.2032 - proj_std: 0.0196 - pred_std: 0.0191 - val_loss: 0.1689 - val_proj_std: 0.0160 - val_pred_std: 0.0150 - binary_accuracy: 0.3045\n",
      "Epoch 33/800\n",
      "87/87 [==============================] - ETA: 0s - loss: 0.1971 - proj_std: 0.0194 - pred_std: 0.0189binary_accuracy: 0.3095\n",
      "87/87 [==============================] - 45s 519ms/step - loss: 0.1971 - proj_std: 0.0194 - pred_std: 0.0189 - val_loss: 0.1429 - val_proj_std: 0.0138 - val_pred_std: 0.0126 - binary_accuracy: 0.3095\n",
      "Epoch 34/800\n",
      "87/87 [==============================] - ETA: 0s - loss: 0.1909 - proj_std: 0.0195 - pred_std: 0.0190binary_accuracy: 0.3305\n",
      "87/87 [==============================] - 45s 519ms/step - loss: 0.1909 - proj_std: 0.0195 - pred_std: 0.0190 - val_loss: 0.1178 - val_proj_std: 0.0124 - val_pred_std: 0.0114 - binary_accuracy: 0.3305\n",
      "Epoch 35/800\n",
      "87/87 [==============================] - ETA: 0s - loss: 0.1901 - proj_std: 0.0194 - pred_std: 0.0189binary_accuracy: 0.3470\n",
      "87/87 [==============================] - 45s 522ms/step - loss: 0.1901 - proj_std: 0.0194 - pred_std: 0.0189 - val_loss: 0.1375 - val_proj_std: 0.0139 - val_pred_std: 0.0129 - binary_accuracy: 0.3470\n",
      "Epoch 36/800\n",
      "87/87 [==============================] - ETA: 0s - loss: 0.1920 - proj_std: 0.0194 - pred_std: 0.0190binary_accuracy: 0.3290\n",
      "87/87 [==============================] - 45s 518ms/step - loss: 0.1920 - proj_std: 0.0194 - pred_std: 0.0190 - val_loss: 0.1281 - val_proj_std: 0.0131 - val_pred_std: 0.0120 - binary_accuracy: 0.3290\n",
      "Epoch 37/800\n",
      "27/87 [========>.....................] - ETA: 27s - loss: 0.1870 - proj_std: 0.0191 - pred_std: 0.0188"
     ]
    },
    {
     "name": "stderr",
     "output_type": "stream",
     "text": [
      "IOPub message rate exceeded.\n",
      "The Jupyter server will temporarily stop sending output\n",
      "to the client in order to avoid crashing it.\n",
      "To change this limit, set the config variable\n",
      "`--ServerApp.iopub_msg_rate_limit`.\n",
      "\n",
      "Current values:\n",
      "ServerApp.iopub_msg_rate_limit=1000.0 (msgs/sec)\n",
      "ServerApp.rate_limit_window=3.0 (secs)\n",
      "\n"
     ]
    },
    {
     "name": "stdout",
     "output_type": "stream",
     "text": [
      "87/87 [==============================] - ETA: 0s - loss: 0.1754 - proj_std: 0.0189 - pred_std: 0.0185binary_accuracy: 0.3485\n",
      "87/87 [==============================] - 45s 519ms/step - loss: 0.1754 - proj_std: 0.0189 - pred_std: 0.0185 - val_loss: 0.2135 - val_proj_std: 0.0175 - val_pred_std: 0.0172 - binary_accuracy: 0.3485\n",
      "Epoch 45/800\n",
      "87/87 [==============================] - ETA: 0s - loss: 0.1675 - proj_std: 0.0191 - pred_std: 0.0187binary_accuracy: 0.3465\n",
      "87/87 [==============================] - 45s 519ms/step - loss: 0.1675 - proj_std: 0.0191 - pred_std: 0.0187 - val_loss: 0.1199 - val_proj_std: 0.0125 - val_pred_std: 0.0113 - binary_accuracy: 0.3465\n",
      "Epoch 46/800\n",
      "87/87 [==============================] - ETA: 0s - loss: 0.1608 - proj_std: 0.0191 - pred_std: 0.0187binary_accuracy: 0.3625\n",
      "87/87 [==============================] - 46s 527ms/step - loss: 0.1608 - proj_std: 0.0191 - pred_std: 0.0187 - val_loss: 0.1003 - val_proj_std: 0.0114 - val_pred_std: 0.0105 - binary_accuracy: 0.3625\n",
      "Epoch 47/800\n",
      "87/87 [==============================] - ETA: 0s - loss: 0.1576 - proj_std: 0.0191 - pred_std: 0.0188binary_accuracy: 0.3705\n",
      "87/87 [==============================] - 46s 527ms/step - loss: 0.1576 - proj_std: 0.0191 - pred_std: 0.0188 - val_loss: 0.0942 - val_proj_std: 0.0123 - val_pred_std: 0.0114 - binary_accuracy: 0.3705\n",
      "Epoch 48/800\n",
      "87/87 [==============================] - ETA: 0s - loss: 0.1578 - proj_std: 0.0193 - pred_std: 0.0190binary_accuracy: 0.3770\n",
      "87/87 [==============================] - 45s 518ms/step - loss: 0.1578 - proj_std: 0.0193 - pred_std: 0.0190 - val_loss: 0.1079 - val_proj_std: 0.0136 - val_pred_std: 0.0127 - binary_accuracy: 0.3770\n",
      "Epoch 49/800\n",
      "87/87 [==============================] - ETA: 0s - loss: 0.1559 - proj_std: 0.0196 - pred_std: 0.0193binary_accuracy: 0.3930\n",
      "87/87 [==============================] - 46s 527ms/step - loss: 0.1559 - proj_std: 0.0196 - pred_std: 0.0193 - val_loss: 0.1098 - val_proj_std: 0.0135 - val_pred_std: 0.0124 - binary_accuracy: 0.3930\n",
      "Epoch 50/800\n",
      "87/87 [==============================] - ETA: 0s - loss: 0.1634 - proj_std: 0.0197 - pred_std: 0.0194binary_accuracy: 0.3870\n",
      "87/87 [==============================] - 45s 518ms/step - loss: 0.1634 - proj_std: 0.0197 - pred_std: 0.0194 - val_loss: 0.2149 - val_proj_std: 0.0199 - val_pred_std: 0.0201 - binary_accuracy: 0.3870\n",
      "Epoch 51/800\n",
      "87/87 [==============================] - ETA: 0s - loss: 0.1590 - proj_std: 0.0200 - pred_std: 0.0196binary_accuracy: 0.3855\n",
      "87/87 [==============================] - 45s 518ms/step - loss: 0.1590 - proj_std: 0.0200 - pred_std: 0.0196 - val_loss: 0.1390 - val_proj_std: 0.0156 - val_pred_std: 0.0149 - binary_accuracy: 0.3855\n",
      "Epoch 52/800\n",
      "87/87 [==============================] - ETA: 0s - loss: 0.1555 - proj_std: 0.0204 - pred_std: 0.0201binary_accuracy: 0.4255\n",
      "87/87 [==============================] - 46s 526ms/step - loss: 0.1555 - proj_std: 0.0204 - pred_std: 0.0201 - val_loss: 0.1183 - val_proj_std: 0.0157 - val_pred_std: 0.0148 - binary_accuracy: 0.4255\n",
      "Epoch 53/800\n",
      "87/87 [==============================] - ETA: 0s - loss: 0.1544 - proj_std: 0.0204 - pred_std: 0.0201binary_accuracy: 0.3985\n",
      "87/87 [==============================] - 46s 526ms/step - loss: 0.1544 - proj_std: 0.0204 - pred_std: 0.0201 - val_loss: 0.1291 - val_proj_std: 0.0165 - val_pred_std: 0.0158 - binary_accuracy: 0.3985\n",
      "Epoch 54/800\n",
      "87/87 [==============================] - ETA: 0s - loss: 0.1519 - proj_std: 0.0205 - pred_std: 0.0202binary_accuracy: 0.4295\n",
      "87/87 [==============================] - 46s 527ms/step - loss: 0.1519 - proj_std: 0.0205 - pred_std: 0.0202 - val_loss: 0.1137 - val_proj_std: 0.0158 - val_pred_std: 0.0150 - binary_accuracy: 0.4295\n",
      "Epoch 55/800\n",
      "87/87 [==============================] - ETA: 0s - loss: 0.1553 - proj_std: 0.0206 - pred_std: 0.0204binary_accuracy: 0.4295\n",
      "87/87 [==============================] - 45s 518ms/step - loss: 0.1553 - proj_std: 0.0206 - pred_std: 0.0204 - val_loss: 0.1130 - val_proj_std: 0.0154 - val_pred_std: 0.0147 - binary_accuracy: 0.4295\n",
      "Epoch 56/800\n",
      "87/87 [==============================] - ETA: 0s - loss: 0.1559 - proj_std: 0.0207 - pred_std: 0.0205binary_accuracy: 0.4395\n",
      "87/87 [==============================] - 45s 521ms/step - loss: 0.1559 - proj_std: 0.0207 - pred_std: 0.0205 - val_loss: 0.1483 - val_proj_std: 0.0167 - val_pred_std: 0.0163 - binary_accuracy: 0.4395\n",
      "Epoch 57/800\n",
      "87/87 [==============================] - ETA: 0s - loss: 0.1532 - proj_std: 0.0209 - pred_std: 0.0206binary_accuracy: 0.4415\n",
      "87/87 [==============================] - 45s 519ms/step - loss: 0.1532 - proj_std: 0.0209 - pred_std: 0.0206 - val_loss: 0.1141 - val_proj_std: 0.0155 - val_pred_std: 0.0149 - binary_accuracy: 0.4415\n",
      "Epoch 58/800\n",
      "87/87 [==============================] - ETA: 0s - loss: 0.1522 - proj_std: 0.0212 - pred_std: 0.0210binary_accuracy: 0.4535\n",
      "87/87 [==============================] - 45s 518ms/step - loss: 0.1522 - proj_std: 0.0212 - pred_std: 0.0210 - val_loss: 0.1382 - val_proj_std: 0.0191 - val_pred_std: 0.0188 - binary_accuracy: 0.4535\n",
      "Epoch 59/800\n",
      "87/87 [==============================] - ETA: 0s - loss: 0.1542 - proj_std: 0.0212 - pred_std: 0.0210binary_accuracy: 0.4615\n",
      "87/87 [==============================] - 45s 518ms/step - loss: 0.1542 - proj_std: 0.0212 - pred_std: 0.0210 - val_loss: 0.1463 - val_proj_std: 0.0182 - val_pred_std: 0.0181 - binary_accuracy: 0.4615\n",
      "Epoch 60/800\n",
      "87/87 [==============================] - ETA: 0s - loss: 0.1545 - proj_std: 0.0214 - pred_std: 0.0212binary_accuracy: 0.4770\n",
      "87/87 [==============================] - 45s 518ms/step - loss: 0.1545 - proj_std: 0.0214 - pred_std: 0.0212 - val_loss: 0.1174 - val_proj_std: 0.0183 - val_pred_std: 0.0179 - binary_accuracy: 0.4770\n",
      "Epoch 61/800\n",
      "87/87 [==============================] - ETA: 0s - loss: 0.1478 - proj_std: 0.0214 - pred_std: 0.0213binary_accuracy: 0.4850\n",
      "87/87 [==============================] - 46s 526ms/step - loss: 0.1478 - proj_std: 0.0214 - pred_std: 0.0213 - val_loss: 0.1268 - val_proj_std: 0.0190 - val_pred_std: 0.0186 - binary_accuracy: 0.4850\n",
      "Epoch 62/800\n",
      "87/87 [==============================] - ETA: 0s - loss: 0.1478 - proj_std: 0.0216 - pred_std: 0.0214binary_accuracy: 0.5065\n",
      "87/87 [==============================] - 46s 526ms/step - loss: 0.1478 - proj_std: 0.0216 - pred_std: 0.0214 - val_loss: 0.1357 - val_proj_std: 0.0194 - val_pred_std: 0.0193 - binary_accuracy: 0.5065\n",
      "Epoch 63/800\n",
      "87/87 [==============================] - ETA: 0s - loss: 0.1489 - proj_std: 0.0217 - pred_std: 0.0215binary_accuracy: 0.4985\n",
      "87/87 [==============================] - 45s 518ms/step - loss: 0.1489 - proj_std: 0.0217 - pred_std: 0.0215 - val_loss: 0.1442 - val_proj_std: 0.0194 - val_pred_std: 0.0192 - binary_accuracy: 0.4985\n",
      "Epoch 64/800\n",
      "87/87 [==============================] - ETA: 0s - loss: 0.1461 - proj_std: 0.0219 - pred_std: 0.0218binary_accuracy: 0.4975\n",
      "87/87 [==============================] - 45s 518ms/step - loss: 0.1461 - proj_std: 0.0219 - pred_std: 0.0218 - val_loss: 0.1550 - val_proj_std: 0.0204 - val_pred_std: 0.0206 - binary_accuracy: 0.4975\n",
      "Epoch 68/800\n",
      "87/87 [==============================] - ETA: 0s - loss: 0.1489 - proj_std: 0.0220 - pred_std: 0.0219binary_accuracy: 0.5270\n",
      "87/87 [==============================] - 45s 519ms/step - loss: 0.1489 - proj_std: 0.0220 - pred_std: 0.0219 - val_loss: 0.1459 - val_proj_std: 0.0208 - val_pred_std: 0.0208 - binary_accuracy: 0.5270\n",
      "Epoch 69/800\n",
      "87/87 [==============================] - ETA: 0s - loss: 0.1457 - proj_std: 0.0220 - pred_std: 0.0219binary_accuracy: 0.5125\n",
      "87/87 [==============================] - 45s 518ms/step - loss: 0.1457 - proj_std: 0.0220 - pred_std: 0.0219 - val_loss: 0.1449 - val_proj_std: 0.0206 - val_pred_std: 0.0205 - binary_accuracy: 0.5125\n",
      "Epoch 70/800\n",
      "87/87 [==============================] - ETA: 0s - loss: 0.1483 - proj_std: 0.0220 - pred_std: 0.0219binary_accuracy: 0.4990\n",
      "87/87 [==============================] - 45s 519ms/step - loss: 0.1483 - proj_std: 0.0220 - pred_std: 0.0219 - val_loss: 0.1379 - val_proj_std: 0.0200 - val_pred_std: 0.0201 - binary_accuracy: 0.4990\n",
      "Epoch 71/800\n",
      "87/87 [==============================] - ETA: 0s - loss: 0.1470 - proj_std: 0.0220 - pred_std: 0.0219binary_accuracy: 0.5240\n",
      "87/87 [==============================] - 45s 519ms/step - loss: 0.1470 - proj_std: 0.0220 - pred_std: 0.0219 - val_loss: 0.1571 - val_proj_std: 0.0206 - val_pred_std: 0.0207 - binary_accuracy: 0.5240\n",
      "Epoch 72/800\n",
      "87/87 [==============================] - ETA: 0s - loss: 0.1454 - proj_std: 0.0220 - pred_std: 0.0219binary_accuracy: 0.5290\n",
      "87/87 [==============================] - 45s 518ms/step - loss: 0.1454 - proj_std: 0.0220 - pred_std: 0.0219 - val_loss: 0.1516 - val_proj_std: 0.0214 - val_pred_std: 0.0213 - binary_accuracy: 0.5290\n",
      "Epoch 73/800\n",
      "87/87 [==============================] - ETA: 0s - loss: 0.1449 - proj_std: 0.0220 - pred_std: 0.0219binary_accuracy: 0.5030\n",
      "87/87 [==============================] - 45s 519ms/step - loss: 0.1449 - proj_std: 0.0220 - pred_std: 0.0219 - val_loss: 0.1405 - val_proj_std: 0.0205 - val_pred_std: 0.0207 - binary_accuracy: 0.5030\n",
      "Epoch 74/800\n",
      "87/87 [==============================] - ETA: 0s - loss: 0.1453 - proj_std: 0.0220 - pred_std: 0.0218binary_accuracy: 0.5210\n",
      "87/87 [==============================] - 45s 522ms/step - loss: 0.1453 - proj_std: 0.0220 - pred_std: 0.0218 - val_loss: 0.1485 - val_proj_std: 0.0205 - val_pred_std: 0.0204 - binary_accuracy: 0.5210\n",
      "Epoch 75/800\n",
      "87/87 [==============================] - ETA: 0s - loss: 0.1455 - proj_std: 0.0219 - pred_std: 0.0218binary_accuracy: 0.5470\n",
      "87/87 [==============================] - 45s 518ms/step - loss: 0.1455 - proj_std: 0.0219 - pred_std: 0.0218 - val_loss: 0.1428 - val_proj_std: 0.0208 - val_pred_std: 0.0210 - binary_accuracy: 0.5470\n",
      "Epoch 76/800\n",
      "87/87 [==============================] - ETA: 0s - loss: 0.1461 - proj_std: 0.0219 - pred_std: 0.0218binary_accuracy: 0.5145\n",
      "87/87 [==============================] - 45s 519ms/step - loss: 0.1461 - proj_std: 0.0219 - pred_std: 0.0218 - val_loss: 0.1439 - val_proj_std: 0.0211 - val_pred_std: 0.0212 - binary_accuracy: 0.5145\n",
      "Epoch 77/800\n",
      "87/87 [==============================] - ETA: 0s - loss: 0.1461 - proj_std: 0.0219 - pred_std: 0.0218binary_accuracy: 0.5300\n",
      "87/87 [==============================] - 45s 519ms/step - loss: 0.1461 - proj_std: 0.0219 - pred_std: 0.0218 - val_loss: 0.1499 - val_proj_std: 0.0206 - val_pred_std: 0.0206 - binary_accuracy: 0.5300\n",
      "Epoch 78/800\n",
      "87/87 [==============================] - ETA: 0s - loss: 0.1433 - proj_std: 0.0219 - pred_std: 0.0218binary_accuracy: 0.5410\n",
      "87/87 [==============================] - 46s 527ms/step - loss: 0.1433 - proj_std: 0.0219 - pred_std: 0.0218 - val_loss: 0.1476 - val_proj_std: 0.0208 - val_pred_std: 0.0208 - binary_accuracy: 0.5410\n",
      "Epoch 79/800\n",
      "87/87 [==============================] - ETA: 0s - loss: 0.1457 - proj_std: 0.0219 - pred_std: 0.0217binary_accuracy: 0.5470\n",
      "87/87 [==============================] - 45s 519ms/step - loss: 0.1457 - proj_std: 0.0219 - pred_std: 0.0217 - val_loss: 0.1552 - val_proj_std: 0.0209 - val_pred_std: 0.0208 - binary_accuracy: 0.5470\n",
      "Epoch 80/800\n",
      "87/87 [==============================] - ETA: 0s - loss: 0.1417 - proj_std: 0.0219 - pred_std: 0.0218binary_accuracy: 0.5525\n",
      "87/87 [==============================] - 46s 527ms/step - loss: 0.1417 - proj_std: 0.0219 - pred_std: 0.0218 - val_loss: 0.1325 - val_proj_std: 0.0204 - val_pred_std: 0.0205 - binary_accuracy: 0.5525\n",
      "Epoch 81/800\n",
      "87/87 [==============================] - ETA: 0s - loss: 0.1387 - proj_std: 0.0218 - pred_std: 0.0217binary_accuracy: 0.5635\n",
      "87/87 [==============================] - 46s 527ms/step - loss: 0.1387 - proj_std: 0.0218 - pred_std: 0.0217 - val_loss: 0.1360 - val_proj_std: 0.0214 - val_pred_std: 0.0213 - binary_accuracy: 0.5635\n",
      "Epoch 82/800\n",
      "87/87 [==============================] - ETA: 0s - loss: 0.1413 - proj_std: 0.0218 - pred_std: 0.0217binary_accuracy: 0.5820\n",
      "87/87 [==============================] - 45s 518ms/step - loss: 0.1413 - proj_std: 0.0218 - pred_std: 0.0217 - val_loss: 0.1369 - val_proj_std: 0.0211 - val_pred_std: 0.0210 - binary_accuracy: 0.5820\n",
      "Epoch 83/800\n",
      "87/87 [==============================] - ETA: 0s - loss: 0.1441 - proj_std: 0.0218 - pred_std: 0.0217binary_accuracy: 0.5730\n",
      "87/87 [==============================] - 45s 518ms/step - loss: 0.1441 - proj_std: 0.0218 - pred_std: 0.0217 - val_loss: 0.1381 - val_proj_std: 0.0209 - val_pred_std: 0.0209 - binary_accuracy: 0.5730\n",
      "Epoch 84/800\n",
      "87/87 [==============================] - ETA: 0s - loss: 0.1423 - proj_std: 0.0218 - pred_std: 0.0217binary_accuracy: 0.5520\n",
      "87/87 [==============================] - 45s 519ms/step - loss: 0.1423 - proj_std: 0.0218 - pred_std: 0.0217 - val_loss: 0.1651 - val_proj_std: 0.0211 - val_pred_std: 0.0211 - binary_accuracy: 0.5520\n",
      "Epoch 85/800\n",
      "87/87 [==============================] - ETA: 0s - loss: 0.1442 - proj_std: 0.0218 - pred_std: 0.0217binary_accuracy: 0.5585\n",
      "87/87 [==============================] - 45s 519ms/step - loss: 0.1442 - proj_std: 0.0218 - pred_std: 0.0217 - val_loss: 0.1557 - val_proj_std: 0.0211 - val_pred_std: 0.0211 - binary_accuracy: 0.5585\n",
      "Epoch 86/800\n",
      "87/87 [==============================] - ETA: 0s - loss: 0.1437 - proj_std: 0.0218 - pred_std: 0.0217binary_accuracy: 0.5215\n",
      "87/87 [==============================] - 45s 518ms/step - loss: 0.1437 - proj_std: 0.0218 - pred_std: 0.0217 - val_loss: 0.1467 - val_proj_std: 0.0205 - val_pred_std: 0.0205 - binary_accuracy: 0.5215\n",
      "Epoch 87/800\n",
      "87/87 [==============================] - ETA: 0s - loss: 0.1371 - proj_std: 0.0218 - pred_std: 0.0216binary_accuracy: 0.5720\n",
      "87/87 [==============================] - 46s 526ms/step - loss: 0.1371 - proj_std: 0.0218 - pred_std: 0.0216 - val_loss: 0.1322 - val_proj_std: 0.0203 - val_pred_std: 0.0202 - binary_accuracy: 0.5720\n",
      "Epoch 88/800\n",
      "87/87 [==============================] - ETA: 0s - loss: 0.1417 - proj_std: 0.0218 - pred_std: 0.0217binary_accuracy: 0.5655\n",
      "87/87 [==============================] - 45s 519ms/step - loss: 0.1417 - proj_std: 0.0218 - pred_std: 0.0217 - val_loss: 0.1482 - val_proj_std: 0.0208 - val_pred_std: 0.0209 - binary_accuracy: 0.5655\n",
      "Epoch 89/800\n",
      "87/87 [==============================] - ETA: 0s - loss: 0.1393 - proj_std: 0.0218 - pred_std: 0.0217binary_accuracy: 0.5815\n",
      "87/87 [==============================] - 45s 519ms/step - loss: 0.1393 - proj_std: 0.0218 - pred_std: 0.0217 - val_loss: 0.1595 - val_proj_std: 0.0209 - val_pred_std: 0.0208 - binary_accuracy: 0.5815\n",
      "Epoch 90/800\n",
      "87/87 [==============================] - ETA: 0s - loss: 0.1409 - proj_std: 0.0218 - pred_std: 0.0217binary_accuracy: 0.5610\n",
      "87/87 [==============================] - 45s 518ms/step - loss: 0.1409 - proj_std: 0.0218 - pred_std: 0.0217 - val_loss: 0.1358 - val_proj_std: 0.0202 - val_pred_std: 0.0199 - binary_accuracy: 0.5610\n",
      "Epoch 91/800\n",
      "87/87 [==============================] - ETA: 0s - loss: 0.1379 - proj_std: 0.0218 - pred_std: 0.0216binary_accuracy: 0.5800\n",
      "87/87 [==============================] - 45s 518ms/step - loss: 0.1379 - proj_std: 0.0218 - pred_std: 0.0216 - val_loss: 0.1401 - val_proj_std: 0.0209 - val_pred_std: 0.0208 - binary_accuracy: 0.5800\n",
      "Epoch 92/800\n",
      "87/87 [==============================] - ETA: 0s - loss: 0.1416 - proj_std: 0.0218 - pred_std: 0.0217binary_accuracy: 0.5885\n",
      "87/87 [==============================] - 45s 519ms/step - loss: 0.1416 - proj_std: 0.0218 - pred_std: 0.0217 - val_loss: 0.1582 - val_proj_std: 0.0211 - val_pred_std: 0.0211 - binary_accuracy: 0.5885\n",
      "Epoch 93/800\n",
      " 4/87 [>.............................] - ETA: 37s - loss: 0.1447 - proj_std: 0.0218 - pred_std: 0.0217binary_accuracy: 0.6265\n",
      "87/87 [==============================] - 45s 519ms/step - loss: 0.1311 - proj_std: 0.0218 - pred_std: 0.0217 - val_loss: 0.1528 - val_proj_std: 0.0211 - val_pred_std: 0.0211 - binary_accuracy: 0.6265\n",
      "Epoch 149/800\n",
      "87/87 [==============================] - ETA: 0s - loss: 0.1312 - proj_std: 0.0218 - pred_std: 0.0217binary_accuracy: 0.6105\n",
      "87/87 [==============================] - 45s 522ms/step - loss: 0.1312 - proj_std: 0.0218 - pred_std: 0.0217 - val_loss: 0.1387 - val_proj_std: 0.0213 - val_pred_std: 0.0212 - binary_accuracy: 0.6105\n",
      "Epoch 150/800\n",
      "87/87 [==============================] - ETA: 0s - loss: 0.1324 - proj_std: 0.0218 - pred_std: 0.0217binary_accuracy: 0.6250\n",
      "87/87 [==============================] - 45s 519ms/step - loss: 0.1324 - proj_std: 0.0218 - pred_std: 0.0217 - val_loss: 0.1285 - val_proj_std: 0.0209 - val_pred_std: 0.0209 - binary_accuracy: 0.6250\n",
      "Epoch 151/800\n",
      "87/87 [==============================] - ETA: 0s - loss: 0.1312 - proj_std: 0.0218 - pred_std: 0.0217binary_accuracy: 0.6420\n",
      "87/87 [==============================] - 45s 519ms/step - loss: 0.1312 - proj_std: 0.0218 - pred_std: 0.0217 - val_loss: 0.1580 - val_proj_std: 0.0213 - val_pred_std: 0.0213 - binary_accuracy: 0.6420\n",
      "Epoch 152/800\n",
      "87/87 [==============================] - ETA: 0s - loss: 0.1338 - proj_std: 0.0218 - pred_std: 0.0217binary_accuracy: 0.6085\n",
      "87/87 [==============================] - 45s 519ms/step - loss: 0.1338 - proj_std: 0.0218 - pred_std: 0.0217 - val_loss: 0.1301 - val_proj_std: 0.0208 - val_pred_std: 0.0208 - binary_accuracy: 0.6085\n",
      "Epoch 153/800\n",
      "87/87 [==============================] - ETA: 0s - loss: 0.1274 - proj_std: 0.0217 - pred_std: 0.0216binary_accuracy: 0.6445\n",
      "87/87 [==============================] - 46s 527ms/step - loss: 0.1274 - proj_std: 0.0217 - pred_std: 0.0216 - val_loss: 0.1319 - val_proj_std: 0.0210 - val_pred_std: 0.0209 - binary_accuracy: 0.6445\n",
      "Epoch 154/800\n",
      "87/87 [==============================] - ETA: 0s - loss: 0.1333 - proj_std: 0.0218 - pred_std: 0.0217binary_accuracy: 0.6030\n",
      "87/87 [==============================] - 45s 519ms/step - loss: 0.1333 - proj_std: 0.0218 - pred_std: 0.0217 - val_loss: 0.1473 - val_proj_std: 0.0202 - val_pred_std: 0.0202 - binary_accuracy: 0.6030\n",
      "Epoch 155/800\n",
      "87/87 [==============================] - ETA: 0s - loss: 0.1338 - proj_std: 0.0218 - pred_std: 0.0217binary_accuracy: 0.6335\n",
      "87/87 [==============================] - 45s 518ms/step - loss: 0.1338 - proj_std: 0.0218 - pred_std: 0.0217 - val_loss: 0.1538 - val_proj_std: 0.0202 - val_pred_std: 0.0202 - binary_accuracy: 0.6335\n",
      "Epoch 156/800\n",
      "87/87 [==============================] - ETA: 0s - loss: 0.1298 - proj_std: 0.0218 - pred_std: 0.0217binary_accuracy: 0.6240\n",
      "87/87 [==============================] - 45s 519ms/step - loss: 0.1298 - proj_std: 0.0218 - pred_std: 0.0217 - val_loss: 0.1514 - val_proj_std: 0.0210 - val_pred_std: 0.0211 - binary_accuracy: 0.6240\n",
      "Epoch 157/800\n",
      "87/87 [==============================] - ETA: 0s - loss: 0.1307 - proj_std: 0.0217 - pred_std: 0.0216binary_accuracy: 0.6440\n",
      "87/87 [==============================] - 45s 519ms/step - loss: 0.1307 - proj_std: 0.0217 - pred_std: 0.0216 - val_loss: 0.1413 - val_proj_std: 0.0211 - val_pred_std: 0.0211 - binary_accuracy: 0.6440\n",
      "Epoch 158/800\n",
      "87/87 [==============================] - ETA: 0s - loss: 0.1306 - proj_std: 0.0217 - pred_std: 0.0216binary_accuracy: 0.6110\n",
      "87/87 [==============================] - 45s 518ms/step - loss: 0.1306 - proj_std: 0.0217 - pred_std: 0.0216 - val_loss: 0.1412 - val_proj_std: 0.0202 - val_pred_std: 0.0203 - binary_accuracy: 0.6110\n",
      "Epoch 159/800\n",
      "87/87 [==============================] - ETA: 0s - loss: 0.1312 - proj_std: 0.0217 - pred_std: 0.0216binary_accuracy: 0.6425\n",
      "87/87 [==============================] - 45s 518ms/step - loss: 0.1312 - proj_std: 0.0217 - pred_std: 0.0216 - val_loss: 0.1462 - val_proj_std: 0.0211 - val_pred_std: 0.0211 - binary_accuracy: 0.6425\n",
      "Epoch 160/800\n",
      "87/87 [==============================] - ETA: 0s - loss: 0.1338 - proj_std: 0.0217 - pred_std: 0.0216binary_accuracy: 0.6145\n",
      "87/87 [==============================] - 45s 518ms/step - loss: 0.1338 - proj_std: 0.0217 - pred_std: 0.0216 - val_loss: 0.1294 - val_proj_std: 0.0187 - val_pred_std: 0.0191 - binary_accuracy: 0.6145\n",
      "Epoch 161/800\n",
      "87/87 [==============================] - ETA: 0s - loss: 0.1302 - proj_std: 0.0217 - pred_std: 0.0216binary_accuracy: 0.6265\n",
      "87/87 [==============================] - 45s 518ms/step - loss: 0.1302 - proj_std: 0.0217 - pred_std: 0.0216 - val_loss: 0.1783 - val_proj_std: 0.0209 - val_pred_std: 0.0210 - binary_accuracy: 0.6265\n",
      "Epoch 162/800\n",
      "87/87 [==============================] - ETA: 0s - loss: 0.1290 - proj_std: 0.0217 - pred_std: 0.0216binary_accuracy: 0.6220\n",
      "87/87 [==============================] - 45s 518ms/step - loss: 0.1290 - proj_std: 0.0217 - pred_std: 0.0216 - val_loss: 0.1709 - val_proj_std: 0.0206 - val_pred_std: 0.0207 - binary_accuracy: 0.6220\n",
      "Epoch 163/800\n",
      "87/87 [==============================] - ETA: 0s - loss: 0.1309 - proj_std: 0.0217 - pred_std: 0.0216binary_accuracy: 0.6565\n",
      "87/87 [==============================] - 45s 518ms/step - loss: 0.1309 - proj_std: 0.0217 - pred_std: 0.0216 - val_loss: 0.1480 - val_proj_std: 0.0208 - val_pred_std: 0.0208 - binary_accuracy: 0.6565\n",
      "Epoch 164/800\n",
      "87/87 [==============================] - ETA: 0s - loss: 0.1289 - proj_std: 0.0217 - pred_std: 0.0216binary_accuracy: 0.6330\n",
      "87/87 [==============================] - 45s 518ms/step - loss: 0.1289 - proj_std: 0.0217 - pred_std: 0.0216 - val_loss: 0.1374 - val_proj_std: 0.0208 - val_pred_std: 0.0209 - binary_accuracy: 0.6330\n",
      "Epoch 165/800\n",
      "87/87 [==============================] - ETA: 0s - loss: 0.1313 - proj_std: 0.0217 - pred_std: 0.0216binary_accuracy: 0.6465\n",
      "87/87 [==============================] - 45s 518ms/step - loss: 0.1313 - proj_std: 0.0217 - pred_std: 0.0216 - val_loss: 0.1509 - val_proj_std: 0.0213 - val_pred_std: 0.0213 - binary_accuracy: 0.6465\n",
      "Epoch 166/800\n",
      "87/87 [==============================] - ETA: 0s - loss: 0.1321 - proj_std: 0.0217 - pred_std: 0.0216binary_accuracy: 0.6560\n",
      "87/87 [==============================] - 45s 518ms/step - loss: 0.1321 - proj_std: 0.0217 - pred_std: 0.0216 - val_loss: 0.1371 - val_proj_std: 0.0209 - val_pred_std: 0.0209 - binary_accuracy: 0.6560\n",
      "Epoch 167/800\n",
      "87/87 [==============================] - ETA: 0s - loss: 0.1295 - proj_std: 0.0217 - pred_std: 0.0216binary_accuracy: 0.6415\n",
      "87/87 [==============================] - 45s 519ms/step - loss: 0.1295 - proj_std: 0.0217 - pred_std: 0.0216 - val_loss: 0.1361 - val_proj_std: 0.0206 - val_pred_std: 0.0206 - binary_accuracy: 0.6415\n",
      "Epoch 168/800\n",
      "87/87 [==============================] - ETA: 0s - loss: 0.1298 - proj_std: 0.0217 - pred_std: 0.0216binary_accuracy: 0.6565\n",
      "87/87 [==============================] - 45s 518ms/step - loss: 0.1298 - proj_std: 0.0217 - pred_std: 0.0216 - val_loss: 0.1398 - val_proj_std: 0.0208 - val_pred_std: 0.0208 - binary_accuracy: 0.6565\n",
      "Epoch 169/800\n",
      "87/87 [==============================] - ETA: 0s - loss: 0.1308 - proj_std: 0.0217 - pred_std: 0.0216binary_accuracy: 0.6460\n",
      "87/87 [==============================] - 45s 519ms/step - loss: 0.1308 - proj_std: 0.0217 - pred_std: 0.0216 - val_loss: 0.1288 - val_proj_std: 0.0206 - val_pred_std: 0.0206 - binary_accuracy: 0.6460\n",
      "Epoch 170/800\n",
      "87/87 [==============================] - ETA: 0s - loss: 0.1319 - proj_std: 0.0217 - pred_std: 0.0216binary_accuracy: 0.6295\n",
      "87/87 [==============================] - 45s 518ms/step - loss: 0.1319 - proj_std: 0.0217 - pred_std: 0.0216 - val_loss: 0.1441 - val_proj_std: 0.0209 - val_pred_std: 0.0209 - binary_accuracy: 0.6295\n",
      "Epoch 171/800\n",
      "87/87 [==============================] - ETA: 0s - loss: 0.1324 - proj_std: 0.0217 - pred_std: 0.0216binary_accuracy: 0.6285\n",
      "87/87 [==============================] - 45s 518ms/step - loss: 0.1324 - proj_std: 0.0217 - pred_std: 0.0216 - val_loss: 0.1318 - val_proj_std: 0.0206 - val_pred_std: 0.0207 - binary_accuracy: 0.6285\n",
      "Epoch 172/800\n",
      "87/87 [==============================] - ETA: 0s - loss: 0.1306 - proj_std: 0.0217 - pred_std: 0.0216binary_accuracy: 0.6040\n",
      "87/87 [==============================] - 45s 518ms/step - loss: 0.1306 - proj_std: 0.0217 - pred_std: 0.0216 - val_loss: 0.1528 - val_proj_std: 0.0210 - val_pred_std: 0.0211 - binary_accuracy: 0.6040\n",
      "Epoch 173/800\n",
      "87/87 [==============================] - ETA: 0s - loss: 0.1305 - proj_std: 0.0217 - pred_std: 0.0216binary_accuracy: 0.6060\n",
      "87/87 [==============================] - 45s 518ms/step - loss: 0.1305 - proj_std: 0.0217 - pred_std: 0.0216 - val_loss: 0.1365 - val_proj_std: 0.0203 - val_pred_std: 0.0201 - binary_accuracy: 0.6060\n",
      "Epoch 174/800\n",
      "87/87 [==============================] - ETA: 0s - loss: 0.1298 - proj_std: 0.0216 - pred_std: 0.0216binary_accuracy: 0.6280\n",
      "87/87 [==============================] - 45s 518ms/step - loss: 0.1298 - proj_std: 0.0216 - pred_std: 0.0216 - val_loss: 0.1388 - val_proj_std: 0.0210 - val_pred_std: 0.0210 - binary_accuracy: 0.6280\n",
      "Epoch 175/800\n",
      "87/87 [==============================] - ETA: 0s - loss: 0.1291 - proj_std: 0.0217 - pred_std: 0.0216binary_accuracy: 0.6400\n",
      "87/87 [==============================] - 45s 522ms/step - loss: 0.1291 - proj_std: 0.0217 - pred_std: 0.0216 - val_loss: 0.1534 - val_proj_std: 0.0211 - val_pred_std: 0.0210 - binary_accuracy: 0.6400\n",
      "Epoch 176/800\n",
      "87/87 [==============================] - ETA: 0s - loss: 0.1292 - proj_std: 0.0217 - pred_std: 0.0216binary_accuracy: 0.6435\n",
      "87/87 [==============================] - 45s 518ms/step - loss: 0.1292 - proj_std: 0.0217 - pred_std: 0.0216 - val_loss: 0.1380 - val_proj_std: 0.0206 - val_pred_std: 0.0207 - binary_accuracy: 0.6435\n",
      "Epoch 177/800\n",
      "87/87 [==============================] - ETA: 0s - loss: 0.1294 - proj_std: 0.0216 - pred_std: 0.0215binary_accuracy: 0.6285\n",
      "87/87 [==============================] - 45s 518ms/step - loss: 0.1294 - proj_std: 0.0216 - pred_std: 0.0215 - val_loss: 0.1425 - val_proj_std: 0.0209 - val_pred_std: 0.0209 - binary_accuracy: 0.6285\n",
      "Epoch 178/800\n",
      "87/87 [==============================] - ETA: 0s - loss: 0.1318 - proj_std: 0.0216 - pred_std: 0.0216binary_accuracy: 0.6375\n",
      "87/87 [==============================] - 45s 518ms/step - loss: 0.1318 - proj_std: 0.0216 - pred_std: 0.0216 - val_loss: 0.1486 - val_proj_std: 0.0208 - val_pred_std: 0.0209 - binary_accuracy: 0.6375\n",
      "Epoch 179/800\n",
      "87/87 [==============================] - ETA: 0s - loss: 0.1320 - proj_std: 0.0217 - pred_std: 0.0216binary_accuracy: 0.6095\n",
      "87/87 [==============================] - 45s 518ms/step - loss: 0.1320 - proj_std: 0.0217 - pred_std: 0.0216 - val_loss: 0.1401 - val_proj_std: 0.0194 - val_pred_std: 0.0194 - binary_accuracy: 0.6095\n",
      "Epoch 180/800\n",
      "87/87 [==============================] - ETA: 0s - loss: 0.1279 - proj_std: 0.0217 - pred_std: 0.0216binary_accuracy: 0.6075\n",
      "87/87 [==============================] - 45s 518ms/step - loss: 0.1279 - proj_std: 0.0217 - pred_std: 0.0216 - val_loss: 0.1276 - val_proj_std: 0.0204 - val_pred_std: 0.0204 - binary_accuracy: 0.6075\n",
      "Epoch 181/800\n",
      "87/87 [==============================] - ETA: 0s - loss: 0.1252 - proj_std: 0.0216 - pred_std: 0.0215binary_accuracy: 0.6735\n",
      "87/87 [==============================] - 46s 526ms/step - loss: 0.1252 - proj_std: 0.0216 - pred_std: 0.0215 - val_loss: 0.1370 - val_proj_std: 0.0208 - val_pred_std: 0.0209 - binary_accuracy: 0.6735\n",
      "Epoch 182/800\n",
      "27/87 [========>.....................] - ETA: 27s - loss: 0.1299 - proj_std: 0.0217 - pred_std: 0.0216"
     ]
    },
    {
     "name": "stderr",
     "output_type": "stream",
     "text": [
      "IOPub message rate exceeded.\n",
      "The Jupyter server will temporarily stop sending output\n",
      "to the client in order to avoid crashing it.\n",
      "To change this limit, set the config variable\n",
      "`--ServerApp.iopub_msg_rate_limit`.\n",
      "\n",
      "Current values:\n",
      "ServerApp.iopub_msg_rate_limit=1000.0 (msgs/sec)\n",
      "ServerApp.rate_limit_window=3.0 (secs)\n",
      "\n"
     ]
    },
    {
     "name": "stdout",
     "output_type": "stream",
     "text": [
      "binary_accuracy: 0.6555\n",
      "87/87 [==============================] - 46s 528ms/step - loss: 0.1221 - proj_std: 0.0217 - pred_std: 0.0216 - val_loss: 0.1476 - val_proj_std: 0.0207 - val_pred_std: 0.0206 - binary_accuracy: 0.6555\n",
      "Epoch 225/800\n",
      "87/87 [==============================] - ETA: 0s - loss: 0.1250 - proj_std: 0.0217 - pred_std: 0.0216binary_accuracy: 0.6885\n",
      "87/87 [==============================] - 45s 519ms/step - loss: 0.1250 - proj_std: 0.0217 - pred_std: 0.0216 - val_loss: 0.1451 - val_proj_std: 0.0212 - val_pred_std: 0.0212 - binary_accuracy: 0.6885\n",
      "Epoch 230/800\n",
      "87/87 [==============================] - ETA: 0s - loss: 0.1258 - proj_std: 0.0217 - pred_std: 0.0216binary_accuracy: 0.6805\n",
      "87/87 [==============================] - 45s 519ms/step - loss: 0.1258 - proj_std: 0.0217 - pred_std: 0.0216 - val_loss: 0.1430 - val_proj_std: 0.0213 - val_pred_std: 0.0212 - binary_accuracy: 0.6805\n",
      "Epoch 231/800\n",
      "87/87 [==============================] - ETA: 0s - loss: 0.1273 - proj_std: 0.0217 - pred_std: 0.0217binary_accuracy: 0.6620\n",
      "87/87 [==============================] - 45s 519ms/step - loss: 0.1273 - proj_std: 0.0217 - pred_std: 0.0217 - val_loss: 0.1403 - val_proj_std: 0.0212 - val_pred_std: 0.0212 - binary_accuracy: 0.6620\n",
      "Epoch 232/800\n",
      "87/87 [==============================] - ETA: 0s - loss: 0.1266 - proj_std: 0.0217 - pred_std: 0.0217binary_accuracy: 0.6640\n",
      "87/87 [==============================] - 45s 519ms/step - loss: 0.1266 - proj_std: 0.0217 - pred_std: 0.0217 - val_loss: 0.1460 - val_proj_std: 0.0212 - val_pred_std: 0.0212 - binary_accuracy: 0.6640\n",
      "Epoch 233/800\n",
      "87/87 [==============================] - ETA: 0s - loss: 0.1255 - proj_std: 0.0217 - pred_std: 0.0216binary_accuracy: 0.6820\n",
      "87/87 [==============================] - 45s 519ms/step - loss: 0.1255 - proj_std: 0.0217 - pred_std: 0.0216 - val_loss: 0.1464 - val_proj_std: 0.0213 - val_pred_std: 0.0213 - binary_accuracy: 0.6820\n",
      "Epoch 234/800\n",
      "87/87 [==============================] - ETA: 0s - loss: 0.1233 - proj_std: 0.0217 - pred_std: 0.0216binary_accuracy: 0.6835\n",
      "87/87 [==============================] - 45s 519ms/step - loss: 0.1233 - proj_std: 0.0217 - pred_std: 0.0216 - val_loss: 0.1653 - val_proj_std: 0.0211 - val_pred_std: 0.0210 - binary_accuracy: 0.6835\n",
      "Epoch 235/800\n",
      "87/87 [==============================] - ETA: 0s - loss: 0.1252 - proj_std: 0.0217 - pred_std: 0.0216binary_accuracy: 0.6595\n",
      "87/87 [==============================] - 45s 519ms/step - loss: 0.1252 - proj_std: 0.0217 - pred_std: 0.0216 - val_loss: 0.1438 - val_proj_std: 0.0210 - val_pred_std: 0.0209 - binary_accuracy: 0.6595\n",
      "Epoch 236/800\n",
      "87/87 [==============================] - ETA: 0s - loss: 0.1242 - proj_std: 0.0217 - pred_std: 0.0216binary_accuracy: 0.6535\n",
      "87/87 [==============================] - 45s 519ms/step - loss: 0.1242 - proj_std: 0.0217 - pred_std: 0.0216 - val_loss: 0.1548 - val_proj_std: 0.0207 - val_pred_std: 0.0204 - binary_accuracy: 0.6535\n",
      "Epoch 237/800\n",
      "87/87 [==============================] - ETA: 0s - loss: 0.1232 - proj_std: 0.0217 - pred_std: 0.0216binary_accuracy: 0.6665\n",
      "87/87 [==============================] - 45s 519ms/step - loss: 0.1232 - proj_std: 0.0217 - pred_std: 0.0216 - val_loss: 0.1510 - val_proj_std: 0.0211 - val_pred_std: 0.0210 - binary_accuracy: 0.6665\n",
      "Epoch 238/800\n",
      "87/87 [==============================] - ETA: 0s - loss: 0.1250 - proj_std: 0.0217 - pred_std: 0.0216binary_accuracy: 0.6935\n",
      "87/87 [==============================] - 45s 519ms/step - loss: 0.1250 - proj_std: 0.0217 - pred_std: 0.0216 - val_loss: 0.1378 - val_proj_std: 0.0212 - val_pred_std: 0.0211 - binary_accuracy: 0.6935\n",
      "Epoch 239/800\n",
      "87/87 [==============================] - ETA: 0s - loss: 0.1240 - proj_std: 0.0217 - pred_std: 0.0216binary_accuracy: 0.6635\n",
      "87/87 [==============================] - 45s 519ms/step - loss: 0.1240 - proj_std: 0.0217 - pred_std: 0.0216 - val_loss: 0.1490 - val_proj_std: 0.0211 - val_pred_std: 0.0211 - binary_accuracy: 0.6635\n",
      "Epoch 240/800\n",
      "87/87 [==============================] - ETA: 0s - loss: 0.1246 - proj_std: 0.0217 - pred_std: 0.0217binary_accuracy: 0.6690\n",
      "87/87 [==============================] - 45s 519ms/step - loss: 0.1246 - proj_std: 0.0217 - pred_std: 0.0217 - val_loss: 0.1431 - val_proj_std: 0.0212 - val_pred_std: 0.0212 - binary_accuracy: 0.6690\n",
      "Epoch 241/800\n",
      "87/87 [==============================] - ETA: 0s - loss: 0.1246 - proj_std: 0.0217 - pred_std: 0.0216binary_accuracy: 0.6865\n",
      "87/87 [==============================] - 45s 519ms/step - loss: 0.1246 - proj_std: 0.0217 - pred_std: 0.0216 - val_loss: 0.1426 - val_proj_std: 0.0214 - val_pred_std: 0.0213 - binary_accuracy: 0.6865\n",
      "Epoch 242/800\n",
      "87/87 [==============================] - ETA: 0s - loss: 0.1251 - proj_std: 0.0217 - pred_std: 0.0217binary_accuracy: 0.6555\n",
      "87/87 [==============================] - 45s 519ms/step - loss: 0.1251 - proj_std: 0.0217 - pred_std: 0.0217 - val_loss: 0.1515 - val_proj_std: 0.0212 - val_pred_std: 0.0211 - binary_accuracy: 0.6555\n",
      "Epoch 243/800\n",
      "87/87 [==============================] - ETA: 0s - loss: 0.1236 - proj_std: 0.0217 - pred_std: 0.0216binary_accuracy: 0.6775\n",
      "87/87 [==============================] - 45s 519ms/step - loss: 0.1236 - proj_std: 0.0217 - pred_std: 0.0216 - val_loss: 0.1357 - val_proj_std: 0.0213 - val_pred_std: 0.0212 - binary_accuracy: 0.6775\n",
      "Epoch 244/800\n",
      "87/87 [==============================] - ETA: 0s - loss: 0.1239 - proj_std: 0.0217 - pred_std: 0.0217binary_accuracy: 0.6535\n",
      "87/87 [==============================] - 45s 519ms/step - loss: 0.1239 - proj_std: 0.0217 - pred_std: 0.0217 - val_loss: 0.1507 - val_proj_std: 0.0209 - val_pred_std: 0.0209 - binary_accuracy: 0.6535\n",
      "Epoch 245/800\n",
      "87/87 [==============================] - ETA: 0s - loss: 0.1246 - proj_std: 0.0217 - pred_std: 0.0216binary_accuracy: 0.6480\n",
      "87/87 [==============================] - 45s 519ms/step - loss: 0.1246 - proj_std: 0.0217 - pred_std: 0.0216 - val_loss: 0.1376 - val_proj_std: 0.0207 - val_pred_std: 0.0207 - binary_accuracy: 0.6480\n",
      "Epoch 246/800\n",
      "87/87 [==============================] - ETA: 0s - loss: 0.1244 - proj_std: 0.0217 - pred_std: 0.0216binary_accuracy: 0.6635\n",
      "87/87 [==============================] - 45s 520ms/step - loss: 0.1244 - proj_std: 0.0217 - pred_std: 0.0216 - val_loss: 0.1445 - val_proj_std: 0.0208 - val_pred_std: 0.0207 - binary_accuracy: 0.6635\n",
      "Epoch 247/800\n",
      "87/87 [==============================] - ETA: 0s - loss: 0.1248 - proj_std: 0.0217 - pred_std: 0.0216binary_accuracy: 0.6860\n",
      "87/87 [==============================] - 45s 519ms/step - loss: 0.1248 - proj_std: 0.0217 - pred_std: 0.0216 - val_loss: 0.1539 - val_proj_std: 0.0211 - val_pred_std: 0.0211 - binary_accuracy: 0.6860\n",
      "Epoch 248/800\n",
      "87/87 [==============================] - ETA: 0s - loss: 0.1218 - proj_std: 0.0216 - pred_std: 0.0216binary_accuracy: 0.6950\n",
      "87/87 [==============================] - 46s 527ms/step - loss: 0.1218 - proj_std: 0.0216 - pred_std: 0.0216 - val_loss: 0.1357 - val_proj_std: 0.0211 - val_pred_std: 0.0211 - binary_accuracy: 0.6950\n",
      "Epoch 249/800\n",
      "87/87 [==============================] - ETA: 0s - loss: 0.1218 - proj_std: 0.0217 - pred_std: 0.0216binary_accuracy: 0.6555\n",
      "87/87 [==============================] - 45s 522ms/step - loss: 0.1218 - proj_std: 0.0217 - pred_std: 0.0216 - val_loss: 0.1350 - val_proj_std: 0.0207 - val_pred_std: 0.0207 - binary_accuracy: 0.6555\n",
      "Epoch 250/800\n",
      "87/87 [==============================] - ETA: 0s - loss: 0.1218 - proj_std: 0.0217 - pred_std: 0.0216binary_accuracy: 0.6675\n",
      "87/87 [==============================] - 46s 528ms/step - loss: 0.1218 - proj_std: 0.0217 - pred_std: 0.0216 - val_loss: 0.1449 - val_proj_std: 0.0208 - val_pred_std: 0.0209 - binary_accuracy: 0.6675\n",
      "Epoch 251/800\n",
      "47/87 [===============>..............] - ETA: 18s - loss: 0.1233 - proj_std: 0.0217 - pred_std: 0.0216binary_accuracy: 0.6905\n",
      "87/87 [==============================] - 45s 521ms/step - loss: 0.1193 - proj_std: 0.0217 - pred_std: 0.0216 - val_loss: 0.1306 - val_proj_std: 0.0203 - val_pred_std: 0.0202 - binary_accuracy: 0.6905\n",
      "Epoch 310/800\n",
      "87/87 [==============================] - ETA: 0s - loss: 0.1174 - proj_std: 0.0216 - pred_std: 0.0216binary_accuracy: 0.6925\n",
      "87/87 [==============================] - 45s 518ms/step - loss: 0.1174 - proj_std: 0.0216 - pred_std: 0.0216 - val_loss: 0.1435 - val_proj_std: 0.0211 - val_pred_std: 0.0212 - binary_accuracy: 0.6925\n",
      "Epoch 311/800\n",
      "87/87 [==============================] - ETA: 0s - loss: 0.1184 - proj_std: 0.0217 - pred_std: 0.0216binary_accuracy: 0.6995\n",
      "87/87 [==============================] - 45s 518ms/step - loss: 0.1184 - proj_std: 0.0217 - pred_std: 0.0216 - val_loss: 0.1436 - val_proj_std: 0.0207 - val_pred_std: 0.0206 - binary_accuracy: 0.6995\n",
      "Epoch 312/800\n",
      "87/87 [==============================] - ETA: 0s - loss: 0.1193 - proj_std: 0.0216 - pred_std: 0.0216binary_accuracy: 0.7150\n",
      "87/87 [==============================] - 45s 518ms/step - loss: 0.1193 - proj_std: 0.0216 - pred_std: 0.0216 - val_loss: 0.1238 - val_proj_std: 0.0206 - val_pred_std: 0.0207 - binary_accuracy: 0.7150\n",
      "Epoch 313/800\n",
      "87/87 [==============================] - ETA: 0s - loss: 0.1182 - proj_std: 0.0216 - pred_std: 0.0215binary_accuracy: 0.6995\n",
      "87/87 [==============================] - 45s 518ms/step - loss: 0.1182 - proj_std: 0.0216 - pred_std: 0.0215 - val_loss: 0.1436 - val_proj_std: 0.0211 - val_pred_std: 0.0210 - binary_accuracy: 0.6995\n",
      "Epoch 314/800\n",
      "87/87 [==============================] - ETA: 0s - loss: 0.1188 - proj_std: 0.0216 - pred_std: 0.0216binary_accuracy: 0.7070\n",
      "87/87 [==============================] - 45s 518ms/step - loss: 0.1188 - proj_std: 0.0216 - pred_std: 0.0216 - val_loss: 0.1340 - val_proj_std: 0.0210 - val_pred_std: 0.0210 - binary_accuracy: 0.7070\n",
      "Epoch 315/800\n",
      "87/87 [==============================] - ETA: 0s - loss: 0.1180 - proj_std: 0.0216 - pred_std: 0.0216binary_accuracy: 0.7205\n",
      "87/87 [==============================] - 45s 518ms/step - loss: 0.1180 - proj_std: 0.0216 - pred_std: 0.0216 - val_loss: 0.1517 - val_proj_std: 0.0211 - val_pred_std: 0.0210 - binary_accuracy: 0.7205\n",
      "Epoch 316/800\n",
      "87/87 [==============================] - ETA: 0s - loss: 0.1171 - proj_std: 0.0216 - pred_std: 0.0216binary_accuracy: 0.7195\n",
      "87/87 [==============================] - 45s 518ms/step - loss: 0.1171 - proj_std: 0.0216 - pred_std: 0.0216 - val_loss: 0.1313 - val_proj_std: 0.0212 - val_pred_std: 0.0212 - binary_accuracy: 0.7195\n",
      "Epoch 317/800\n",
      "87/87 [==============================] - ETA: 0s - loss: 0.1183 - proj_std: 0.0216 - pred_std: 0.0216binary_accuracy: 0.7225\n",
      "87/87 [==============================] - 45s 518ms/step - loss: 0.1183 - proj_std: 0.0216 - pred_std: 0.0216 - val_loss: 0.1460 - val_proj_std: 0.0211 - val_pred_std: 0.0210 - binary_accuracy: 0.7225\n",
      "Epoch 318/800\n",
      "87/87 [==============================] - ETA: 0s - loss: 0.1159 - proj_std: 0.0216 - pred_std: 0.0216binary_accuracy: 0.7005\n",
      "87/87 [==============================] - 46s 526ms/step - loss: 0.1159 - proj_std: 0.0216 - pred_std: 0.0216 - val_loss: 0.1338 - val_proj_std: 0.0210 - val_pred_std: 0.0210 - binary_accuracy: 0.7005\n",
      "Epoch 319/800\n",
      "87/87 [==============================] - ETA: 0s - loss: 0.1159 - proj_std: 0.0216 - pred_std: 0.0216binary_accuracy: 0.7125\n",
      "87/87 [==============================] - 46s 526ms/step - loss: 0.1159 - proj_std: 0.0216 - pred_std: 0.0216 - val_loss: 0.1376 - val_proj_std: 0.0211 - val_pred_std: 0.0211 - binary_accuracy: 0.7125\n",
      "Epoch 320/800\n",
      "87/87 [==============================] - ETA: 0s - loss: 0.1172 - proj_std: 0.0217 - pred_std: 0.0216binary_accuracy: 0.6760\n",
      "87/87 [==============================] - 45s 518ms/step - loss: 0.1172 - proj_std: 0.0217 - pred_std: 0.0216 - val_loss: 0.1351 - val_proj_std: 0.0206 - val_pred_std: 0.0207 - binary_accuracy: 0.6760\n",
      "Epoch 321/800\n",
      "87/87 [==============================] - ETA: 0s - loss: 0.1181 - proj_std: 0.0216 - pred_std: 0.0216binary_accuracy: 0.7145\n",
      "87/87 [==============================] - 45s 519ms/step - loss: 0.1181 - proj_std: 0.0216 - pred_std: 0.0216 - val_loss: 0.1254 - val_proj_std: 0.0210 - val_pred_std: 0.0210 - binary_accuracy: 0.7145\n",
      "Epoch 322/800\n",
      "87/87 [==============================] - ETA: 0s - loss: 0.1179 - proj_std: 0.0217 - pred_std: 0.0216binary_accuracy: 0.7240\n",
      "87/87 [==============================] - 45s 519ms/step - loss: 0.1179 - proj_std: 0.0217 - pred_std: 0.0216 - val_loss: 0.1248 - val_proj_std: 0.0210 - val_pred_std: 0.0209 - binary_accuracy: 0.7240\n",
      "Epoch 323/800\n",
      "87/87 [==============================] - ETA: 0s - loss: 0.1160 - proj_std: 0.0217 - pred_std: 0.0216binary_accuracy: 0.7210\n",
      "87/87 [==============================] - 45s 519ms/step - loss: 0.1160 - proj_std: 0.0217 - pred_std: 0.0216 - val_loss: 0.1395 - val_proj_std: 0.0211 - val_pred_std: 0.0211 - binary_accuracy: 0.7210\n",
      "Epoch 324/800\n",
      "87/87 [==============================] - ETA: 0s - loss: 0.1171 - proj_std: 0.0217 - pred_std: 0.0216binary_accuracy: 0.7140\n",
      "87/87 [==============================] - 45s 518ms/step - loss: 0.1171 - proj_std: 0.0217 - pred_std: 0.0216 - val_loss: 0.1297 - val_proj_std: 0.0209 - val_pred_std: 0.0209 - binary_accuracy: 0.7140\n",
      "Epoch 325/800\n",
      "87/87 [==============================] - ETA: 0s - loss: 0.1175 - proj_std: 0.0217 - pred_std: 0.0216binary_accuracy: 0.6850\n",
      "87/87 [==============================] - 45s 518ms/step - loss: 0.1175 - proj_std: 0.0217 - pred_std: 0.0216 - val_loss: 0.1374 - val_proj_std: 0.0208 - val_pred_std: 0.0209 - binary_accuracy: 0.6850\n",
      "Epoch 326/800\n",
      "87/87 [==============================] - ETA: 0s - loss: 0.1179 - proj_std: 0.0217 - pred_std: 0.0216binary_accuracy: 0.7265\n",
      "87/87 [==============================] - 45s 518ms/step - loss: 0.1179 - proj_std: 0.0217 - pred_std: 0.0216 - val_loss: 0.1253 - val_proj_std: 0.0210 - val_pred_std: 0.0209 - binary_accuracy: 0.7265\n",
      "Epoch 327/800\n",
      "87/87 [==============================] - ETA: 0s - loss: 0.1153 - proj_std: 0.0217 - pred_std: 0.0216binary_accuracy: 0.6950\n",
      "87/87 [==============================] - 46s 530ms/step - loss: 0.1153 - proj_std: 0.0217 - pred_std: 0.0216 - val_loss: 0.1335 - val_proj_std: 0.0211 - val_pred_std: 0.0211 - binary_accuracy: 0.6950\n",
      "Epoch 328/800\n",
      "87/87 [==============================] - ETA: 0s - loss: 0.1177 - proj_std: 0.0217 - pred_std: 0.0216binary_accuracy: 0.7160\n",
      "87/87 [==============================] - 45s 519ms/step - loss: 0.1177 - proj_std: 0.0217 - pred_std: 0.0216 - val_loss: 0.1431 - val_proj_std: 0.0213 - val_pred_std: 0.0212 - binary_accuracy: 0.7160\n",
      "Epoch 329/800\n",
      "87/87 [==============================] - ETA: 0s - loss: 0.1167 - proj_std: 0.0217 - pred_std: 0.0216binary_accuracy: 0.7055\n",
      "87/87 [==============================] - 45s 519ms/step - loss: 0.1167 - proj_std: 0.0217 - pred_std: 0.0216 - val_loss: 0.1474 - val_proj_std: 0.0208 - val_pred_std: 0.0207 - binary_accuracy: 0.7055\n",
      "Epoch 330/800\n",
      "87/87 [==============================] - ETA: 0s - loss: 0.1171 - proj_std: 0.0217 - pred_std: 0.0216binary_accuracy: 0.6980\n",
      "87/87 [==============================] - 45s 519ms/step - loss: 0.1171 - proj_std: 0.0217 - pred_std: 0.0216 - val_loss: 0.1452 - val_proj_std: 0.0211 - val_pred_std: 0.0210 - binary_accuracy: 0.6980\n",
      "Epoch 331/800\n",
      "87/87 [==============================] - ETA: 0s - loss: 0.1180 - proj_std: 0.0217 - pred_std: 0.0216binary_accuracy: 0.7045\n",
      "87/87 [==============================] - 45s 519ms/step - loss: 0.1180 - proj_std: 0.0217 - pred_std: 0.0216 - val_loss: 0.1499 - val_proj_std: 0.0212 - val_pred_std: 0.0212 - binary_accuracy: 0.7045\n",
      "Epoch 332/800\n",
      "87/87 [==============================] - ETA: 0s - loss: 0.1186 - proj_std: 0.0217 - pred_std: 0.0216binary_accuracy: 0.6995\n",
      "87/87 [==============================] - 45s 519ms/step - loss: 0.1186 - proj_std: 0.0217 - pred_std: 0.0216 - val_loss: 0.1284 - val_proj_std: 0.0212 - val_pred_std: 0.0212 - binary_accuracy: 0.6995\n",
      "Epoch 333/800\n",
      "87/87 [==============================] - ETA: 0s - loss: 0.1179 - proj_std: 0.0217 - pred_std: 0.0216binary_accuracy: 0.6995\n",
      "87/87 [==============================] - 45s 519ms/step - loss: 0.1179 - proj_std: 0.0217 - pred_std: 0.0216 - val_loss: 0.1429 - val_proj_std: 0.0205 - val_pred_std: 0.0204 - binary_accuracy: 0.6995\n",
      "Epoch 334/800\n",
      "87/87 [==============================] - ETA: 0s - loss: 0.1198 - proj_std: 0.0217 - pred_std: 0.0216binary_accuracy: 0.7195\n",
      "87/87 [==============================] - 45s 518ms/step - loss: 0.1198 - proj_std: 0.0217 - pred_std: 0.0216 - val_loss: 0.1406 - val_proj_std: 0.0214 - val_pred_std: 0.0213 - binary_accuracy: 0.7195\n",
      "Epoch 335/800\n",
      "87/87 [==============================] - ETA: 0s - loss: 0.1186 - proj_std: 0.0217 - pred_std: 0.0216binary_accuracy: 0.6795\n",
      "87/87 [==============================] - 45s 518ms/step - loss: 0.1186 - proj_std: 0.0217 - pred_std: 0.0216 - val_loss: 0.1285 - val_proj_std: 0.0200 - val_pred_std: 0.0201 - binary_accuracy: 0.6795\n",
      "Epoch 336/800\n",
      "87/87 [==============================] - ETA: 0s - loss: 0.1175 - proj_std: 0.0217 - pred_std: 0.0216binary_accuracy: 0.6795\n",
      "87/87 [==============================] - 45s 519ms/step - loss: 0.1175 - proj_std: 0.0217 - pred_std: 0.0216 - val_loss: 0.1383 - val_proj_std: 0.0211 - val_pred_std: 0.0211 - binary_accuracy: 0.6795\n",
      "Epoch 337/800\n",
      "87/87 [==============================] - ETA: 0s - loss: 0.1176 - proj_std: 0.0216 - pred_std: 0.0216binary_accuracy: 0.6725\n",
      "87/87 [==============================] - 45s 519ms/step - loss: 0.1176 - proj_std: 0.0216 - pred_std: 0.0216 - val_loss: 0.1308 - val_proj_std: 0.0193 - val_pred_std: 0.0192 - binary_accuracy: 0.6725\n",
      "Epoch 338/800\n",
      "87/87 [==============================] - ETA: 0s - loss: 0.1190 - proj_std: 0.0216 - pred_std: 0.0216binary_accuracy: 0.7035\n",
      "87/87 [==============================] - 45s 518ms/step - loss: 0.1190 - proj_std: 0.0216 - pred_std: 0.0216 - val_loss: 0.1318 - val_proj_std: 0.0199 - val_pred_std: 0.0199 - binary_accuracy: 0.7035\n",
      "Epoch 339/800\n",
      "87/87 [==============================] - ETA: 0s - loss: 0.1183 - proj_std: 0.0216 - pred_std: 0.0216binary_accuracy: 0.7060\n",
      "87/87 [==============================] - 45s 519ms/step - loss: 0.1183 - proj_std: 0.0216 - pred_std: 0.0216 - val_loss: 0.1551 - val_proj_std: 0.0206 - val_pred_std: 0.0205 - binary_accuracy: 0.7060\n",
      "Epoch 340/800\n",
      "87/87 [==============================] - ETA: 0s - loss: 0.1178 - proj_std: 0.0216 - pred_std: 0.0216binary_accuracy: 0.6775\n",
      "87/87 [==============================] - 45s 518ms/step - loss: 0.1178 - proj_std: 0.0216 - pred_std: 0.0216 - val_loss: 0.1239 - val_proj_std: 0.0192 - val_pred_std: 0.0190 - binary_accuracy: 0.6775\n",
      "Epoch 341/800\n",
      "87/87 [==============================] - ETA: 0s - loss: 0.1171 - proj_std: 0.0216 - pred_std: 0.0215binary_accuracy: 0.7145\n",
      "87/87 [==============================] - 45s 519ms/step - loss: 0.1171 - proj_std: 0.0216 - pred_std: 0.0215 - val_loss: 0.1343 - val_proj_std: 0.0210 - val_pred_std: 0.0211 - binary_accuracy: 0.7145\n",
      "Epoch 342/800\n",
      "87/87 [==============================] - ETA: 0s - loss: 0.1170 - proj_std: 0.0216 - pred_std: 0.0215binary_accuracy: 0.6895\n",
      "87/87 [==============================] - 45s 519ms/step - loss: 0.1170 - proj_std: 0.0216 - pred_std: 0.0215 - val_loss: 0.1392 - val_proj_std: 0.0205 - val_pred_std: 0.0206 - binary_accuracy: 0.6895\n",
      "Epoch 343/800\n",
      "27/87 [========>.....................] - ETA: 27s - loss: 0.1171 - proj_std: 0.0216 - pred_std: 0.0215"
     ]
    },
    {
     "name": "stderr",
     "output_type": "stream",
     "text": [
      "IOPub message rate exceeded.\n",
      "The Jupyter server will temporarily stop sending output\n",
      "to the client in order to avoid crashing it.\n",
      "To change this limit, set the config variable\n",
      "`--ServerApp.iopub_msg_rate_limit`.\n",
      "\n",
      "Current values:\n",
      "ServerApp.iopub_msg_rate_limit=1000.0 (msgs/sec)\n",
      "ServerApp.rate_limit_window=3.0 (secs)\n",
      "\n"
     ]
    },
    {
     "name": "stdout",
     "output_type": "stream",
     "text": [
      "87/87 [==============================] - ETA: 0s - loss: 0.1151 - proj_std: 0.0215 - pred_std: 0.0215binary_accuracy: 0.7355\n",
      "87/87 [==============================] - 45s 519ms/step - loss: 0.1151 - proj_std: 0.0215 - pred_std: 0.0215 - val_loss: 0.1312 - val_proj_std: 0.0211 - val_pred_std: 0.0211 - binary_accuracy: 0.7355\n",
      "Epoch 387/800\n",
      "87/87 [==============================] - ETA: 0s - loss: 0.1142 - proj_std: 0.0215 - pred_std: 0.0214binary_accuracy: 0.7195\n",
      "87/87 [==============================] - 45s 518ms/step - loss: 0.1142 - proj_std: 0.0215 - pred_std: 0.0214 - val_loss: 0.1267 - val_proj_std: 0.0210 - val_pred_std: 0.0209 - binary_accuracy: 0.7195\n",
      "Epoch 391/800\n",
      "87/87 [==============================] - ETA: 0s - loss: 0.1101 - proj_std: 0.0214 - pred_std: 0.0213binary_accuracy: 0.7415\n",
      "87/87 [==============================] - 45s 521ms/step - loss: 0.1101 - proj_std: 0.0214 - pred_std: 0.0213 - val_loss: 0.1230 - val_proj_std: 0.0211 - val_pred_std: 0.0210 - binary_accuracy: 0.7415\n",
      "Epoch 392/800\n",
      "87/87 [==============================] - ETA: 0s - loss: 0.1132 - proj_std: 0.0215 - pred_std: 0.0214binary_accuracy: 0.7165\n",
      "87/87 [==============================] - 45s 518ms/step - loss: 0.1132 - proj_std: 0.0215 - pred_std: 0.0214 - val_loss: 0.1492 - val_proj_std: 0.0207 - val_pred_std: 0.0207 - binary_accuracy: 0.7165\n",
      "Epoch 393/800\n",
      "87/87 [==============================] - ETA: 0s - loss: 0.1073 - proj_std: 0.0214 - pred_std: 0.0213binary_accuracy: 0.7255\n",
      "87/87 [==============================] - 46s 528ms/step - loss: 0.1073 - proj_std: 0.0214 - pred_std: 0.0213 - val_loss: 0.1312 - val_proj_std: 0.0209 - val_pred_std: 0.0208 - binary_accuracy: 0.7255\n",
      "Epoch 394/800\n",
      "87/87 [==============================] - ETA: 0s - loss: 0.1097 - proj_std: 0.0214 - pred_std: 0.0214binary_accuracy: 0.7355\n",
      "87/87 [==============================] - 45s 519ms/step - loss: 0.1097 - proj_std: 0.0214 - pred_std: 0.0214 - val_loss: 0.1320 - val_proj_std: 0.0211 - val_pred_std: 0.0210 - binary_accuracy: 0.7355\n",
      "Epoch 395/800\n",
      "87/87 [==============================] - ETA: 0s - loss: 0.1092 - proj_std: 0.0215 - pred_std: 0.0214binary_accuracy: 0.7330\n",
      "87/87 [==============================] - 45s 520ms/step - loss: 0.1092 - proj_std: 0.0215 - pred_std: 0.0214 - val_loss: 0.1343 - val_proj_std: 0.0211 - val_pred_std: 0.0210 - binary_accuracy: 0.7330\n",
      "Epoch 396/800\n",
      "87/87 [==============================] - ETA: 0s - loss: 0.1095 - proj_std: 0.0214 - pred_std: 0.0213binary_accuracy: 0.7090\n",
      "87/87 [==============================] - 45s 520ms/step - loss: 0.1095 - proj_std: 0.0214 - pred_std: 0.0213 - val_loss: 0.1261 - val_proj_std: 0.0205 - val_pred_std: 0.0205 - binary_accuracy: 0.7090\n",
      "Epoch 397/800\n",
      "87/87 [==============================] - ETA: 0s - loss: 0.1077 - proj_std: 0.0214 - pred_std: 0.0213binary_accuracy: 0.7355\n",
      "87/87 [==============================] - 45s 520ms/step - loss: 0.1077 - proj_std: 0.0214 - pred_std: 0.0213 - val_loss: 0.1365 - val_proj_std: 0.0211 - val_pred_std: 0.0211 - binary_accuracy: 0.7355\n",
      "Epoch 398/800\n",
      "87/87 [==============================] - ETA: 0s - loss: 0.1101 - proj_std: 0.0215 - pred_std: 0.0214binary_accuracy: 0.7330\n",
      "87/87 [==============================] - 45s 519ms/step - loss: 0.1101 - proj_std: 0.0215 - pred_std: 0.0214 - val_loss: 0.1378 - val_proj_std: 0.0211 - val_pred_std: 0.0210 - binary_accuracy: 0.7330\n",
      "Epoch 399/800\n",
      "87/87 [==============================] - ETA: 0s - loss: 0.1092 - proj_std: 0.0215 - pred_std: 0.0214binary_accuracy: 0.7610\n",
      "87/87 [==============================] - 45s 519ms/step - loss: 0.1092 - proj_std: 0.0215 - pred_std: 0.0214 - val_loss: 0.1268 - val_proj_std: 0.0211 - val_pred_std: 0.0210 - binary_accuracy: 0.7610\n",
      "Epoch 400/800\n",
      "87/87 [==============================] - ETA: 0s - loss: 0.1074 - proj_std: 0.0214 - pred_std: 0.0214binary_accuracy: 0.7405\n",
      "87/87 [==============================] - 45s 518ms/step - loss: 0.1074 - proj_std: 0.0214 - pred_std: 0.0214 - val_loss: 0.1415 - val_proj_std: 0.0211 - val_pred_std: 0.0211 - binary_accuracy: 0.7405\n",
      "Epoch 401/800\n",
      "87/87 [==============================] - ETA: 0s - loss: 0.1104 - proj_std: 0.0215 - pred_std: 0.0214binary_accuracy: 0.7365\n",
      "87/87 [==============================] - 45s 518ms/step - loss: 0.1104 - proj_std: 0.0215 - pred_std: 0.0214 - val_loss: 0.1342 - val_proj_std: 0.0210 - val_pred_std: 0.0209 - binary_accuracy: 0.7365\n",
      "Epoch 402/800\n",
      "87/87 [==============================] - ETA: 0s - loss: 0.1046 - proj_std: 0.0214 - pred_std: 0.0213binary_accuracy: 0.7410\n",
      "87/87 [==============================] - 46s 527ms/step - loss: 0.1046 - proj_std: 0.0214 - pred_std: 0.0213 - val_loss: 0.1430 - val_proj_std: 0.0208 - val_pred_std: 0.0208 - binary_accuracy: 0.7410\n",
      "Epoch 403/800\n",
      "87/87 [==============================] - ETA: 0s - loss: 0.1092 - proj_std: 0.0214 - pred_std: 0.0214binary_accuracy: 0.7450\n",
      "87/87 [==============================] - 45s 519ms/step - loss: 0.1092 - proj_std: 0.0214 - pred_std: 0.0214 - val_loss: 0.1312 - val_proj_std: 0.0212 - val_pred_std: 0.0212 - binary_accuracy: 0.7450\n",
      "Epoch 404/800\n",
      "87/87 [==============================] - ETA: 0s - loss: 0.1034 - proj_std: 0.0214 - pred_std: 0.0213binary_accuracy: 0.7265\n",
      "87/87 [==============================] - 46s 526ms/step - loss: 0.1034 - proj_std: 0.0214 - pred_std: 0.0213 - val_loss: 0.1146 - val_proj_std: 0.0207 - val_pred_std: 0.0206 - binary_accuracy: 0.7265\n",
      "Epoch 405/800\n",
      "87/87 [==============================] - ETA: 0s - loss: 0.1075 - proj_std: 0.0213 - pred_std: 0.0213binary_accuracy: 0.7270\n",
      "87/87 [==============================] - 45s 518ms/step - loss: 0.1075 - proj_std: 0.0213 - pred_std: 0.0213 - val_loss: 0.1261 - val_proj_std: 0.0209 - val_pred_std: 0.0207 - binary_accuracy: 0.7270\n",
      "Epoch 406/800\n",
      "87/87 [==============================] - ETA: 0s - loss: 0.1108 - proj_std: 0.0214 - pred_std: 0.0213binary_accuracy: 0.7550\n",
      "87/87 [==============================] - 45s 519ms/step - loss: 0.1108 - proj_std: 0.0214 - pred_std: 0.0213 - val_loss: 0.1295 - val_proj_std: 0.0210 - val_pred_std: 0.0210 - binary_accuracy: 0.7550\n",
      "Epoch 407/800\n",
      "87/87 [==============================] - ETA: 0s - loss: 0.1081 - proj_std: 0.0214 - pred_std: 0.0213binary_accuracy: 0.7420\n",
      "87/87 [==============================] - 45s 519ms/step - loss: 0.1081 - proj_std: 0.0214 - pred_std: 0.0213 - val_loss: 0.1288 - val_proj_std: 0.0210 - val_pred_std: 0.0209 - binary_accuracy: 0.7420\n",
      "Epoch 408/800\n",
      "87/87 [==============================] - ETA: 0s - loss: 0.1096 - proj_std: 0.0215 - pred_std: 0.0214binary_accuracy: 0.7315\n",
      "87/87 [==============================] - 45s 519ms/step - loss: 0.1096 - proj_std: 0.0215 - pred_std: 0.0214 - val_loss: 0.1397 - val_proj_std: 0.0210 - val_pred_std: 0.0209 - binary_accuracy: 0.7315\n",
      "Epoch 409/800\n",
      "87/87 [==============================] - ETA: 0s - loss: 0.1021 - proj_std: 0.0213 - pred_std: 0.0212binary_accuracy: 0.7625\n",
      "87/87 [==============================] - 45s 518ms/step - loss: 0.1021 - proj_std: 0.0213 - pred_std: 0.0212 - val_loss: 0.1315 - val_proj_std: 0.0210 - val_pred_std: 0.0210 - binary_accuracy: 0.7625\n",
      "Epoch 473/800\n",
      "87/87 [==============================] - ETA: 0s - loss: 0.1031 - proj_std: 0.0213 - pred_std: 0.0212binary_accuracy: 0.7720\n",
      "87/87 [==============================] - 45s 519ms/step - loss: 0.1031 - proj_std: 0.0213 - pred_std: 0.0212 - val_loss: 0.1264 - val_proj_std: 0.0211 - val_pred_std: 0.0210 - binary_accuracy: 0.7720\n",
      "Epoch 474/800\n",
      "87/87 [==============================] - ETA: 0s - loss: 0.1009 - proj_std: 0.0213 - pred_std: 0.0212binary_accuracy: 0.7545\n",
      "87/87 [==============================] - 45s 518ms/step - loss: 0.1009 - proj_std: 0.0213 - pred_std: 0.0212 - val_loss: 0.1272 - val_proj_std: 0.0207 - val_pred_std: 0.0205 - binary_accuracy: 0.7545\n",
      "Epoch 475/800\n",
      "87/87 [==============================] - ETA: 0s - loss: 0.1011 - proj_std: 0.0212 - pred_std: 0.0212binary_accuracy: 0.7460\n",
      "87/87 [==============================] - 45s 518ms/step - loss: 0.1011 - proj_std: 0.0212 - pred_std: 0.0212 - val_loss: 0.1280 - val_proj_std: 0.0208 - val_pred_std: 0.0208 - binary_accuracy: 0.7460\n",
      "Epoch 476/800\n",
      "87/87 [==============================] - ETA: 0s - loss: 0.1050 - proj_std: 0.0213 - pred_std: 0.0213binary_accuracy: 0.7395\n",
      "87/87 [==============================] - 45s 521ms/step - loss: 0.1050 - proj_std: 0.0213 - pred_std: 0.0213 - val_loss: 0.1317 - val_proj_std: 0.0209 - val_pred_std: 0.0209 - binary_accuracy: 0.7395\n",
      "Epoch 477/800\n",
      "87/87 [==============================] - ETA: 0s - loss: 0.0986 - proj_std: 0.0212 - pred_std: 0.0211binary_accuracy: 0.7625\n",
      "87/87 [==============================] - 46s 527ms/step - loss: 0.0986 - proj_std: 0.0212 - pred_std: 0.0211 - val_loss: 0.1312 - val_proj_std: 0.0210 - val_pred_std: 0.0209 - binary_accuracy: 0.7625\n",
      "Epoch 478/800\n",
      "87/87 [==============================] - ETA: 0s - loss: 0.1033 - proj_std: 0.0213 - pred_std: 0.0212binary_accuracy: 0.7650\n",
      "87/87 [==============================] - 45s 519ms/step - loss: 0.1033 - proj_std: 0.0213 - pred_std: 0.0212 - val_loss: 0.1312 - val_proj_std: 0.0210 - val_pred_std: 0.0210 - binary_accuracy: 0.7650\n",
      "Epoch 479/800\n",
      "87/87 [==============================] - ETA: 0s - loss: 0.1006 - proj_std: 0.0212 - pred_std: 0.0211binary_accuracy: 0.7450\n",
      "87/87 [==============================] - 45s 519ms/step - loss: 0.1006 - proj_std: 0.0212 - pred_std: 0.0211 - val_loss: 0.1563 - val_proj_std: 0.0209 - val_pred_std: 0.0208 - binary_accuracy: 0.7450\n",
      "Epoch 480/800\n",
      "87/87 [==============================] - ETA: 0s - loss: 0.1033 - proj_std: 0.0213 - pred_std: 0.0212binary_accuracy: 0.7545\n",
      "87/87 [==============================] - 45s 519ms/step - loss: 0.1033 - proj_std: 0.0213 - pred_std: 0.0212 - val_loss: 0.1323 - val_proj_std: 0.0209 - val_pred_std: 0.0209 - binary_accuracy: 0.7545\n",
      "Epoch 481/800\n",
      "87/87 [==============================] - ETA: 0s - loss: 0.1029 - proj_std: 0.0213 - pred_std: 0.0212binary_accuracy: 0.7345\n",
      "87/87 [==============================] - 45s 518ms/step - loss: 0.1029 - proj_std: 0.0213 - pred_std: 0.0212 - val_loss: 0.1200 - val_proj_std: 0.0208 - val_pred_std: 0.0208 - binary_accuracy: 0.7345\n",
      "Epoch 482/800\n",
      "87/87 [==============================] - ETA: 0s - loss: 0.1001 - proj_std: 0.0212 - pred_std: 0.0212binary_accuracy: 0.7615\n",
      "87/87 [==============================] - 45s 518ms/step - loss: 0.1001 - proj_std: 0.0212 - pred_std: 0.0212 - val_loss: 0.1334 - val_proj_std: 0.0210 - val_pred_std: 0.0210 - binary_accuracy: 0.7615\n",
      "Epoch 483/800\n",
      "87/87 [==============================] - ETA: 0s - loss: 0.1036 - proj_std: 0.0213 - pred_std: 0.0212binary_accuracy: 0.7385\n",
      "87/87 [==============================] - 45s 518ms/step - loss: 0.1036 - proj_std: 0.0213 - pred_std: 0.0212 - val_loss: 0.1231 - val_proj_std: 0.0208 - val_pred_std: 0.0207 - binary_accuracy: 0.7385\n",
      "Epoch 484/800\n",
      "87/87 [==============================] - ETA: 0s - loss: 0.1007 - proj_std: 0.0213 - pred_std: 0.0212binary_accuracy: 0.7610\n",
      "87/87 [==============================] - 45s 518ms/step - loss: 0.1007 - proj_std: 0.0213 - pred_std: 0.0212 - val_loss: 0.1408 - val_proj_std: 0.0209 - val_pred_std: 0.0210 - binary_accuracy: 0.7610\n",
      "Epoch 485/800\n",
      "87/87 [==============================] - ETA: 0s - loss: 0.0976 - proj_std: 0.0212 - pred_std: 0.0211binary_accuracy: 0.7495\n",
      "87/87 [==============================] - 46s 526ms/step - loss: 0.0976 - proj_std: 0.0212 - pred_std: 0.0211 - val_loss: 0.1245 - val_proj_std: 0.0209 - val_pred_std: 0.0208 - binary_accuracy: 0.7495\n",
      "Epoch 486/800\n",
      "87/87 [==============================] - ETA: 0s - loss: 0.1022 - proj_std: 0.0213 - pred_std: 0.0212binary_accuracy: 0.7575\n",
      "87/87 [==============================] - 45s 518ms/step - loss: 0.1022 - proj_std: 0.0213 - pred_std: 0.0212 - val_loss: 0.1482 - val_proj_std: 0.0209 - val_pred_std: 0.0210 - binary_accuracy: 0.7575\n",
      "Epoch 487/800\n",
      "87/87 [==============================] - ETA: 0s - loss: 0.1010 - proj_std: 0.0213 - pred_std: 0.0212binary_accuracy: 0.7560\n",
      "87/87 [==============================] - 45s 518ms/step - loss: 0.1010 - proj_std: 0.0213 - pred_std: 0.0212 - val_loss: 0.1195 - val_proj_std: 0.0209 - val_pred_std: 0.0208 - binary_accuracy: 0.7560\n",
      "Epoch 488/800\n",
      "87/87 [==============================] - ETA: 0s - loss: 0.1025 - proj_std: 0.0213 - pred_std: 0.0213binary_accuracy: 0.7605\n",
      "87/87 [==============================] - 45s 518ms/step - loss: 0.1025 - proj_std: 0.0213 - pred_std: 0.0213 - val_loss: 0.1316 - val_proj_std: 0.0211 - val_pred_std: 0.0211 - binary_accuracy: 0.7605\n",
      "Epoch 489/800\n",
      "87/87 [==============================] - ETA: 0s - loss: 0.1027 - proj_std: 0.0213 - pred_std: 0.0213binary_accuracy: 0.7535\n",
      "87/87 [==============================] - 45s 518ms/step - loss: 0.1027 - proj_std: 0.0213 - pred_std: 0.0213 - val_loss: 0.1371 - val_proj_std: 0.0209 - val_pred_std: 0.0208 - binary_accuracy: 0.7535\n",
      "Epoch 490/800\n",
      "87/87 [==============================] - ETA: 0s - loss: 0.0989 - proj_std: 0.0213 - pred_std: 0.0212binary_accuracy: 0.7520\n",
      "87/87 [==============================] - 45s 518ms/step - loss: 0.0989 - proj_std: 0.0213 - pred_std: 0.0212 - val_loss: 0.1318 - val_proj_std: 0.0210 - val_pred_std: 0.0210 - binary_accuracy: 0.7520\n",
      "Epoch 491/800\n",
      "87/87 [==============================] - ETA: 0s - loss: 0.1005 - proj_std: 0.0213 - pred_std: 0.0212binary_accuracy: 0.7420\n",
      "87/87 [==============================] - 45s 518ms/step - loss: 0.1005 - proj_std: 0.0213 - pred_std: 0.0212 - val_loss: 0.1306 - val_proj_std: 0.0211 - val_pred_std: 0.0211 - binary_accuracy: 0.7420\n",
      "Epoch 492/800\n",
      "87/87 [==============================] - ETA: 0s - loss: 0.0930 - proj_std: 0.0212 - pred_std: 0.0211binary_accuracy: 0.7890\n",
      "87/87 [==============================] - 45s 518ms/step - loss: 0.0930 - proj_std: 0.0212 - pred_std: 0.0211 - val_loss: 0.1252 - val_proj_std: 0.0208 - val_pred_std: 0.0208 - binary_accuracy: 0.7890\n",
      "Epoch 554/800\n",
      "87/87 [==============================] - ETA: 0s - loss: 0.0897 - proj_std: 0.0211 - pred_std: 0.0211binary_accuracy: 0.7885\n",
      "87/87 [==============================] - 46s 526ms/step - loss: 0.0897 - proj_std: 0.0211 - pred_std: 0.0211 - val_loss: 0.1195 - val_proj_std: 0.0210 - val_pred_std: 0.0210 - binary_accuracy: 0.7885\n",
      "Epoch 555/800\n",
      "87/87 [==============================] - ETA: 0s - loss: 0.0925 - proj_std: 0.0212 - pred_std: 0.0212binary_accuracy: 0.7970\n",
      "87/87 [==============================] - 45s 518ms/step - loss: 0.0925 - proj_std: 0.0212 - pred_std: 0.0212 - val_loss: 0.1231 - val_proj_std: 0.0209 - val_pred_std: 0.0208 - binary_accuracy: 0.7970\n",
      "Epoch 556/800\n",
      "87/87 [==============================] - ETA: 0s - loss: 0.0906 - proj_std: 0.0212 - pred_std: 0.0211binary_accuracy: 0.7935\n",
      "87/87 [==============================] - 45s 518ms/step - loss: 0.0906 - proj_std: 0.0212 - pred_std: 0.0211 - val_loss: 0.1253 - val_proj_std: 0.0210 - val_pred_std: 0.0210 - binary_accuracy: 0.7935\n",
      "Epoch 557/800\n",
      "87/87 [==============================] - ETA: 0s - loss: 0.0934 - proj_std: 0.0212 - pred_std: 0.0212binary_accuracy: 0.7870\n",
      "87/87 [==============================] - 45s 518ms/step - loss: 0.0934 - proj_std: 0.0212 - pred_std: 0.0212 - val_loss: 0.1185 - val_proj_std: 0.0210 - val_pred_std: 0.0209 - binary_accuracy: 0.7870\n",
      "Epoch 558/800\n",
      "87/87 [==============================] - ETA: 0s - loss: 0.0885 - proj_std: 0.0211 - pred_std: 0.0211binary_accuracy: 0.8005\n",
      "87/87 [==============================] - 46s 526ms/step - loss: 0.0885 - proj_std: 0.0211 - pred_std: 0.0211 - val_loss: 0.1241 - val_proj_std: 0.0209 - val_pred_std: 0.0209 - binary_accuracy: 0.8005\n",
      "Epoch 559/800\n",
      "87/87 [==============================] - ETA: 0s - loss: 0.0914 - proj_std: 0.0211 - pred_std: 0.0211binary_accuracy: 0.7965\n",
      "87/87 [==============================] - 45s 518ms/step - loss: 0.0914 - proj_std: 0.0211 - pred_std: 0.0211 - val_loss: 0.1148 - val_proj_std: 0.0210 - val_pred_std: 0.0210 - binary_accuracy: 0.7965\n",
      "Epoch 560/800\n",
      "87/87 [==============================] - ETA: 0s - loss: 0.0926 - proj_std: 0.0212 - pred_std: 0.0211binary_accuracy: 0.7900\n",
      "87/87 [==============================] - 45s 518ms/step - loss: 0.0926 - proj_std: 0.0212 - pred_std: 0.0211 - val_loss: 0.1298 - val_proj_std: 0.0209 - val_pred_std: 0.0209 - binary_accuracy: 0.7900\n",
      "Epoch 561/800\n",
      "87/87 [==============================] - ETA: 0s - loss: 0.0931 - proj_std: 0.0212 - pred_std: 0.0211binary_accuracy: 0.8020\n",
      "87/87 [==============================] - 45s 518ms/step - loss: 0.0931 - proj_std: 0.0212 - pred_std: 0.0211 - val_loss: 0.1245 - val_proj_std: 0.0210 - val_pred_std: 0.0209 - binary_accuracy: 0.8020\n",
      "Epoch 562/800\n",
      "87/87 [==============================] - ETA: 0s - loss: 0.0905 - proj_std: 0.0211 - pred_std: 0.0211binary_accuracy: 0.7975\n",
      "87/87 [==============================] - 45s 518ms/step - loss: 0.0905 - proj_std: 0.0211 - pred_std: 0.0211 - val_loss: 0.1301 - val_proj_std: 0.0208 - val_pred_std: 0.0208 - binary_accuracy: 0.7975\n",
      "Epoch 563/800\n",
      "87/87 [==============================] - ETA: 0s - loss: 0.0905 - proj_std: 0.0212 - pred_std: 0.0211binary_accuracy: 0.7945\n",
      "87/87 [==============================] - 45s 518ms/step - loss: 0.0905 - proj_std: 0.0212 - pred_std: 0.0211 - val_loss: 0.1217 - val_proj_std: 0.0210 - val_pred_std: 0.0210 - binary_accuracy: 0.7945\n",
      "Epoch 564/800\n",
      "87/87 [==============================] - ETA: 0s - loss: 0.0896 - proj_std: 0.0211 - pred_std: 0.0211binary_accuracy: 0.7880\n",
      "87/87 [==============================] - 45s 518ms/step - loss: 0.0896 - proj_std: 0.0211 - pred_std: 0.0211 - val_loss: 0.1261 - val_proj_std: 0.0209 - val_pred_std: 0.0209 - binary_accuracy: 0.7880\n",
      "Epoch 565/800\n",
      "87/87 [==============================] - ETA: 0s - loss: 0.0893 - proj_std: 0.0211 - pred_std: 0.0211binary_accuracy: 0.8000\n",
      "87/87 [==============================] - 45s 519ms/step - loss: 0.0893 - proj_std: 0.0211 - pred_std: 0.0211 - val_loss: 0.1312 - val_proj_std: 0.0210 - val_pred_std: 0.0209 - binary_accuracy: 0.8000\n",
      "Epoch 566/800\n",
      "87/87 [==============================] - ETA: 0s - loss: 0.0901 - proj_std: 0.0211 - pred_std: 0.0211binary_accuracy: 0.7805\n",
      "87/87 [==============================] - 45s 518ms/step - loss: 0.0901 - proj_std: 0.0211 - pred_std: 0.0211 - val_loss: 0.1240 - val_proj_std: 0.0210 - val_pred_std: 0.0210 - binary_accuracy: 0.7805\n",
      "Epoch 567/800\n",
      "87/87 [==============================] - ETA: 0s - loss: 0.0897 - proj_std: 0.0211 - pred_std: 0.0211binary_accuracy: 0.8010\n",
      "87/87 [==============================] - 45s 518ms/step - loss: 0.0897 - proj_std: 0.0211 - pred_std: 0.0211 - val_loss: 0.1231 - val_proj_std: 0.0210 - val_pred_std: 0.0210 - binary_accuracy: 0.8010\n",
      "Epoch 568/800\n",
      "87/87 [==============================] - ETA: 0s - loss: 0.0901 - proj_std: 0.0211 - pred_std: 0.0211binary_accuracy: 0.7935\n",
      "87/87 [==============================] - 45s 521ms/step - loss: 0.0901 - proj_std: 0.0211 - pred_std: 0.0211 - val_loss: 0.1138 - val_proj_std: 0.0209 - val_pred_std: 0.0209 - binary_accuracy: 0.7935\n",
      "Epoch 569/800\n",
      "87/87 [==============================] - ETA: 0s - loss: 0.0889 - proj_std: 0.0211 - pred_std: 0.0211binary_accuracy: 0.7935\n",
      "87/87 [==============================] - 45s 519ms/step - loss: 0.0889 - proj_std: 0.0211 - pred_std: 0.0211 - val_loss: 0.1266 - val_proj_std: 0.0210 - val_pred_std: 0.0210 - binary_accuracy: 0.7935\n",
      "Epoch 570/800\n",
      "87/87 [==============================] - ETA: 0s - loss: 0.0880 - proj_std: 0.0211 - pred_std: 0.0211binary_accuracy: 0.7830\n",
      "87/87 [==============================] - 46s 526ms/step - loss: 0.0880 - proj_std: 0.0211 - pred_std: 0.0211 - val_loss: 0.1268 - val_proj_std: 0.0208 - val_pred_std: 0.0207 - binary_accuracy: 0.7830\n",
      "Epoch 571/800\n",
      "87/87 [==============================] - ETA: 0s - loss: 0.0892 - proj_std: 0.0211 - pred_std: 0.0211binary_accuracy: 0.7900\n",
      "87/87 [==============================] - 45s 518ms/step - loss: 0.0892 - proj_std: 0.0211 - pred_std: 0.0211 - val_loss: 0.1263 - val_proj_std: 0.0210 - val_pred_std: 0.0209 - binary_accuracy: 0.7900\n",
      "Epoch 572/800\n",
      "87/87 [==============================] - ETA: 0s - loss: 0.0894 - proj_std: 0.0212 - pred_std: 0.0211binary_accuracy: 0.8000\n",
      "87/87 [==============================] - 45s 518ms/step - loss: 0.0894 - proj_std: 0.0212 - pred_std: 0.0211 - val_loss: 0.1290 - val_proj_std: 0.0210 - val_pred_std: 0.0210 - binary_accuracy: 0.8000\n",
      "Epoch 573/800\n",
      "87/87 [==============================] - ETA: 0s - loss: 0.0907 - proj_std: 0.0212 - pred_std: 0.0211binary_accuracy: 0.7805\n",
      "87/87 [==============================] - 45s 518ms/step - loss: 0.0907 - proj_std: 0.0212 - pred_std: 0.0211 - val_loss: 0.1244 - val_proj_std: 0.0211 - val_pred_std: 0.0211 - binary_accuracy: 0.7805\n",
      "Epoch 574/800\n",
      "87/87 [==============================] - ETA: 0s - loss: 0.0903 - proj_std: 0.0212 - pred_std: 0.0211binary_accuracy: 0.7955\n",
      "87/87 [==============================] - 45s 518ms/step - loss: 0.0903 - proj_std: 0.0212 - pred_std: 0.0211 - val_loss: 0.1221 - val_proj_std: 0.0210 - val_pred_std: 0.0209 - binary_accuracy: 0.7955\n",
      "Epoch 575/800\n",
      "87/87 [==============================] - ETA: 0s - loss: 0.0891 - proj_std: 0.0211 - pred_std: 0.0211binary_accuracy: 0.7980\n",
      "87/87 [==============================] - 45s 518ms/step - loss: 0.0891 - proj_std: 0.0211 - pred_std: 0.0211 - val_loss: 0.1315 - val_proj_std: 0.0210 - val_pred_std: 0.0209 - binary_accuracy: 0.7980\n",
      "Epoch 576/800\n",
      "87/87 [==============================] - ETA: 0s - loss: 0.0902 - proj_std: 0.0212 - pred_std: 0.0211binary_accuracy: 0.7950\n",
      "87/87 [==============================] - 45s 518ms/step - loss: 0.0902 - proj_std: 0.0212 - pred_std: 0.0211 - val_loss: 0.1210 - val_proj_std: 0.0210 - val_pred_std: 0.0209 - binary_accuracy: 0.7950\n",
      "Epoch 577/800\n",
      "87/87 [==============================] - ETA: 0s - loss: 0.0873 - proj_std: 0.0211 - pred_std: 0.0211binary_accuracy: 0.7890\n",
      "87/87 [==============================] - 46s 527ms/step - loss: 0.0873 - proj_std: 0.0211 - pred_std: 0.0211 - val_loss: 0.1189 - val_proj_std: 0.0209 - val_pred_std: 0.0209 - binary_accuracy: 0.7890\n",
      "Epoch 578/800\n",
      "87/87 [==============================] - ETA: 0s - loss: 0.0886 - proj_std: 0.0211 - pred_std: 0.0211binary_accuracy: 0.7775\n",
      "87/87 [==============================] - 45s 518ms/step - loss: 0.0886 - proj_std: 0.0211 - pred_std: 0.0211 - val_loss: 0.1160 - val_proj_std: 0.0208 - val_pred_std: 0.0208 - binary_accuracy: 0.7775\n",
      "Epoch 579/800\n",
      "87/87 [==============================] - ETA: 0s - loss: 0.0878 - proj_std: 0.0211 - pred_std: 0.0211binary_accuracy: 0.7870\n",
      "87/87 [==============================] - 45s 518ms/step - loss: 0.0878 - proj_std: 0.0211 - pred_std: 0.0211 - val_loss: 0.1239 - val_proj_std: 0.0210 - val_pred_std: 0.0210 - binary_accuracy: 0.7870\n",
      "Epoch 580/800\n",
      "87/87 [==============================] - ETA: 0s - loss: 0.0872 - proj_std: 0.0211 - pred_std: 0.0211binary_accuracy: 0.8020\n",
      "87/87 [==============================] - 46s 527ms/step - loss: 0.0872 - proj_std: 0.0211 - pred_std: 0.0211 - val_loss: 0.1319 - val_proj_std: 0.0210 - val_pred_std: 0.0209 - binary_accuracy: 0.8020\n",
      "Epoch 581/800\n",
      "87/87 [==============================] - ETA: 0s - loss: 0.0887 - proj_std: 0.0211 - pred_std: 0.0211binary_accuracy: 0.8035\n",
      "87/87 [==============================] - 45s 518ms/step - loss: 0.0887 - proj_std: 0.0211 - pred_std: 0.0211 - val_loss: 0.1241 - val_proj_std: 0.0210 - val_pred_std: 0.0210 - binary_accuracy: 0.8035\n",
      "Epoch 582/800\n",
      "87/87 [==============================] - ETA: 0s - loss: 0.0874 - proj_std: 0.0211 - pred_std: 0.0211binary_accuracy: 0.7870\n",
      "87/87 [==============================] - 45s 518ms/step - loss: 0.0874 - proj_std: 0.0211 - pred_std: 0.0211 - val_loss: 0.1217 - val_proj_std: 0.0210 - val_pred_std: 0.0210 - binary_accuracy: 0.7870\n",
      "Epoch 583/800\n",
      "87/87 [==============================] - ETA: 0s - loss: 0.0883 - proj_std: 0.0211 - pred_std: 0.0211binary_accuracy: 0.7965\n",
      "87/87 [==============================] - 45s 518ms/step - loss: 0.0883 - proj_std: 0.0211 - pred_std: 0.0211 - val_loss: 0.1203 - val_proj_std: 0.0210 - val_pred_std: 0.0210 - binary_accuracy: 0.7965\n",
      "Epoch 584/800\n",
      "87/87 [==============================] - ETA: 0s - loss: 0.0884 - proj_std: 0.0211 - pred_std: 0.0211binary_accuracy: 0.7735\n",
      "87/87 [==============================] - 45s 518ms/step - loss: 0.0884 - proj_std: 0.0211 - pred_std: 0.0211 - val_loss: 0.1286 - val_proj_std: 0.0209 - val_pred_std: 0.0209 - binary_accuracy: 0.7735\n",
      "Epoch 585/800\n",
      "87/87 [==============================] - ETA: 0s - loss: 0.0877 - proj_std: 0.0211 - pred_std: 0.0211binary_accuracy: 0.8055\n",
      "87/87 [==============================] - 45s 519ms/step - loss: 0.0877 - proj_std: 0.0211 - pred_std: 0.0211 - val_loss: 0.1280 - val_proj_std: 0.0210 - val_pred_std: 0.0210 - binary_accuracy: 0.8055\n",
      "Epoch 586/800\n",
      "87/87 [==============================] - ETA: 0s - loss: 0.0874 - proj_std: 0.0211 - pred_std: 0.0211binary_accuracy: 0.8035\n",
      "87/87 [==============================] - 45s 518ms/step - loss: 0.0874 - proj_std: 0.0211 - pred_std: 0.0211 - val_loss: 0.1206 - val_proj_std: 0.0211 - val_pred_std: 0.0211 - binary_accuracy: 0.8035\n",
      "Epoch 587/800\n",
      "22/87 [======>.......................] - ETA: 29s - loss: 0.0860 - proj_std: 0.0211 - pred_std: 0.0211"
     ]
    },
    {
     "name": "stderr",
     "output_type": "stream",
     "text": [
      "IOPub message rate exceeded.\n",
      "The Jupyter server will temporarily stop sending output\n",
      "to the client in order to avoid crashing it.\n",
      "To change this limit, set the config variable\n",
      "`--ServerApp.iopub_msg_rate_limit`.\n",
      "\n",
      "Current values:\n",
      "ServerApp.iopub_msg_rate_limit=1000.0 (msgs/sec)\n",
      "ServerApp.rate_limit_window=3.0 (secs)\n",
      "\n"
     ]
    },
    {
     "name": "stdout",
     "output_type": "stream",
     "text": [
      "87/87 [==============================] - 46s 528ms/step - loss: 0.0782 - proj_std: 0.0211 - pred_std: 0.0211 - val_loss: 0.1261 - val_proj_std: 0.0209 - val_pred_std: 0.0209 - binary_accuracy: 0.8220\n",
      "Epoch 629/800\n",
      "87/87 [==============================] - ETA: 0s - loss: 0.0788 - proj_std: 0.0211 - pred_std: 0.0211"
     ]
    }
   ],
   "source": [
    "history = contrastive_model.fit(\n",
    "    train_ds,\n",
    "    epochs=PRE_TRAIN_EPOCHS,\n",
    "    steps_per_epoch=PRE_TRAIN_STEPS_PER_EPOCH,\n",
    "    validation_data=val_ds,\n",
    "    validation_steps=VAL_STEPS_PER_EPOCH,\n",
    "    callbacks=[tsc, tbc, mcp_train],\n",
    ")"
   ]
  },
  {
   "cell_type": "code",
   "execution_count": 42,
   "metadata": {},
   "outputs": [
    {
     "data": {
      "image/png": "[encoded data removed]",
      "text/plain": [
       "<Figure size 1080x288 with 3 Axes>"
      ]
     },
     "metadata": {
      "needs_background": "light"
     },
     "output_type": "display_data"
    }
   ],
   "source": [
    "plt.figure(figsize=(15,4))\n",
    "plt.subplot(1,3,1)\n",
    "plt.plot(history.history[\"loss\"])\n",
    "plt.grid()\n",
    "plt.title(f\"{loss.name} - loss\")\n",
    "\n",
    "plt.subplot(1,3,2)\n",
    "plt.plot(history.history[\"proj_std\"], label=\"proj\")\n",
    "plt.plot(history.history[\"pred_std\"], label=\"pred\")\n",
    "plt.grid()\n",
    "plt.title(f\"{loss.name} - std metrics\")\n",
    "plt.legend()\n",
    "\n",
    "plt.subplot(1,3,3)\n",
    "plt.plot(history.history[\"binary_accuracy\"], label=\"acc\")\n",
    "plt.grid()\n",
    "plt.title(f\"{loss.name} - match metrics\")\n",
    "plt.legend()\n",
    "\n",
    "plt.show()"
   ]
  },
  {
   "cell_type": "markdown",
   "metadata": {},
   "source": [
    "## Save and Reload\n",
    "\n",
    "The `ContrastiveModel` implements a custom save function that performs the following:\n",
    "* Saves each of the sub model, including the predictor if one exists.\n",
    "* A JSON file containing the serialized Loss, Metrics, and Optimizer.\n",
    "* The Optimizer weights as a npy file.\n",
    "\n",
    "We also provide a custom `load_model()` function that will restore the `ContrastiveModel` and supports continued training. However, the initital_epoch value may need to be set if the model optimizers use a learning rate schedule."
   ]
  },
  {
   "cell_type": "code",
   "execution_count": null,
   "metadata": {},
   "outputs": [],
   "source": [
    "#contrastive_model.load_weights(DATA_PATH / 'models' / 'checkpoints' / 'simsiam_80acc')"
   ]
  },
  {
   "cell_type": "code",
   "execution_count": 28,
   "metadata": {},
   "outputs": [
    {
     "name": "stdout",
     "output_type": "stream",
     "text": [
      "\u001b[34m[Saving backbone model]\u001b[0m\n",
      "\u001b[32m|-path:../../kaggle_ds/google_landmarks/models_owen/simsiam__85acc/backbone\u001b[0m\n",
      "WARNING:tensorflow:Compiled the loaded model, but the compiled metrics have yet to be built. `model.compile_metrics` will be empty until you train or evaluate the model.\n"
     ]
    },
    {
     "name": "stderr",
     "output_type": "stream",
     "text": [
      "WARNING:tensorflow:Compiled the loaded model, but the compiled metrics have yet to be built. `model.compile_metrics` will be empty until you train or evaluate the model.\n",
      "2021-12-29 19:12:57.757048: W tensorflow/python/util/util.cc:368] Sets are not currently considered sequences, but this may change in the future, so consider avoiding using them.\n"
     ]
    },
    {
     "name": "stdout",
     "output_type": "stream",
     "text": [
      "INFO:tensorflow:Assets written to: ../../kaggle_ds/google_landmarks/models_owen/simsiam__85acc/backbone/assets\n"
     ]
    },
    {
     "name": "stderr",
     "output_type": "stream",
     "text": [
      "INFO:tensorflow:Assets written to: ../../kaggle_ds/google_landmarks/models_owen/simsiam__85acc/backbone/assets\n",
      "/opt/conda/lib/python3.7/site-packages/keras/engine/functional.py:1410: CustomMaskWarning: Custom mask layers require a config and must override get_config. When loading, the custom mask layer must be passed to the custom_objects argument.\n",
      "  layer_config = serialize_layer_fn(layer)\n",
      "/opt/conda/lib/python3.7/site-packages/keras/saving/saved_model/layer_serialization.py:112: CustomMaskWarning: Custom mask layers require a config and must override get_config. When loading, the custom mask layer must be passed to the custom_objects argument.\n",
      "  return generic_utils.serialize_keras_object(obj)\n"
     ]
    },
    {
     "name": "stdout",
     "output_type": "stream",
     "text": [
      "Index not saved as save_index=False\n",
      "\u001b[34m[Saving projector model]\u001b[0m\n",
      "\u001b[32m|-path:../../kaggle_ds/google_landmarks/models_owen/simsiam__85acc/projector\u001b[0m\n",
      "WARNING:tensorflow:Compiled the loaded model, but the compiled metrics have yet to be built. `model.compile_metrics` will be empty until you train or evaluate the model.\n"
     ]
    },
    {
     "name": "stderr",
     "output_type": "stream",
     "text": [
      "WARNING:tensorflow:Compiled the loaded model, but the compiled metrics have yet to be built. `model.compile_metrics` will be empty until you train or evaluate the model.\n"
     ]
    },
    {
     "name": "stdout",
     "output_type": "stream",
     "text": [
      "INFO:tensorflow:Assets written to: ../../kaggle_ds/google_landmarks/models_owen/simsiam__85acc/projector/assets\n"
     ]
    },
    {
     "name": "stderr",
     "output_type": "stream",
     "text": [
      "INFO:tensorflow:Assets written to: ../../kaggle_ds/google_landmarks/models_owen/simsiam__85acc/projector/assets\n"
     ]
    },
    {
     "name": "stdout",
     "output_type": "stream",
     "text": [
      "\u001b[34m[Saving predictor model]\u001b[0m\n",
      "\u001b[32m|-path:../../kaggle_ds/google_landmarks/models_owen/simsiam__85acc/predictor\u001b[0m\n",
      "WARNING:tensorflow:Compiled the loaded model, but the compiled metrics have yet to be built. `model.compile_metrics` will be empty until you train or evaluate the model.\n"
     ]
    },
    {
     "name": "stderr",
     "output_type": "stream",
     "text": [
      "WARNING:tensorflow:Compiled the loaded model, but the compiled metrics have yet to be built. `model.compile_metrics` will be empty until you train or evaluate the model.\n"
     ]
    },
    {
     "name": "stdout",
     "output_type": "stream",
     "text": [
      "INFO:tensorflow:Assets written to: ../../kaggle_ds/google_landmarks/models_owen/simsiam__85acc/predictor/assets\n"
     ]
    },
    {
     "name": "stderr",
     "output_type": "stream",
     "text": [
      "INFO:tensorflow:Assets written to: ../../kaggle_ds/google_landmarks/models_owen/simsiam__85acc/predictor/assets\n",
      "/opt/conda/lib/python3.7/site-packages/numpy/core/_asarray.py:136: VisibleDeprecationWarning: Creating an ndarray from ragged nested sequences (which is a list-or-tuple of lists-or-tuples-or ndarrays with different lengths or shapes) is deprecated. If you meant to do this, you must specify 'dtype=object' when creating the ndarray\n",
      "  return array(a, dtype, copy=False, order=order, subok=True)\n"
     ]
    }
   ],
   "source": [
    "contrastive_model.save(DATA_PATH / 'models' / f'trained_model')"
   ]
  },
  {
   "cell_type": "code",
   "execution_count": 27,
   "metadata": {},
   "outputs": [],
   "source": [
    "del contrastive_model"
   ]
  },
  {
   "cell_type": "code",
   "execution_count": 31,
   "metadata": {},
   "outputs": [
    {
     "name": "stdout",
     "output_type": "stream",
     "text": [
      "WARNING:tensorflow:No training configuration found in save file, so the model was *not* compiled. Compile it manually.\n"
     ]
    },
    {
     "name": "stderr",
     "output_type": "stream",
     "text": [
      "WARNING:tensorflow:No training configuration found in save file, so the model was *not* compiled. Compile it manually.\n"
     ]
    },
    {
     "name": "stdout",
     "output_type": "stream",
     "text": [
      "WARNING:tensorflow:No training configuration found in save file, so the model was *not* compiled. Compile it manually.\n"
     ]
    },
    {
     "name": "stderr",
     "output_type": "stream",
     "text": [
      "WARNING:tensorflow:No training configuration found in save file, so the model was *not* compiled. Compile it manually.\n"
     ]
    },
    {
     "name": "stdout",
     "output_type": "stream",
     "text": [
      "WARNING:tensorflow:No training configuration found in save file, so the model was *not* compiled. Compile it manually.\n"
     ]
    },
    {
     "name": "stderr",
     "output_type": "stream",
     "text": [
      "WARNING:tensorflow:No training configuration found in save file, so the model was *not* compiled. Compile it manually.\n"
     ]
    }
   ],
   "source": [
    "contrastive_model = tfsim.models.contrastive_model.load_model(DATA_PATH / 'models' / f'trained_model')"
   ]
  },
  {
   "cell_type": "markdown",
   "metadata": {
    "tags": []
   },
   "source": [
    "## Evaluation\n",
    "\n",
    "This final section trains two different classifiers.\n",
    "\n",
    "1. Uses the same backbone model but does not freeze the weights.\n",
    "\n",
    "2. Uses the frozen pre-trained backbonefrom the ContrastiveModel.\n",
    "\n",
    "The train data is partitioned into eval_train and eval_val splits. The models are trained for 10 epochs and the classification accuarcy is evaluated on the holdout test split."
   ]
  },
  {
   "cell_type": "code",
   "execution_count": 32,
   "metadata": {},
   "outputs": [],
   "source": [
    "TEST_EPOCHS = 10\n",
    "TEST_STEPS_PER_EPOCH = int(len(x_train) // BATCH_SIZE)"
   ]
  },
  {
   "cell_type": "code",
   "execution_count": 33,
   "metadata": {},
   "outputs": [],
   "source": [
    "@tf.function\n",
    "def eval_augmenter(img):\n",
    "    # random resize and crop. Increase the size before we crop.\n",
    "    img = tfsim.augmenters.simclr.crop_and_resize(\n",
    "        img, CIFAR_IMG_SIZE, CIFAR_IMG_SIZE, area_range=(0.2, 1.0)\n",
    "    )\n",
    "    # random horizontal flip\n",
    "    img = tf.image.random_flip_left_right(img)\n",
    "    img = tf.clip_by_value(img, 0.0, 255.0)\n",
    "\n",
    "    return img"
   ]
  },
  {
   "cell_type": "code",
   "execution_count": 34,
   "metadata": {},
   "outputs": [],
   "source": [
    "eval_train_ds = tf.data.Dataset.from_tensor_slices(\n",
    "    (x_train, tf.keras.utils.to_categorical(y_train, 10))\n",
    ")\n",
    "eval_train_ds = eval_train_ds.repeat()\n",
    "eval_train_ds = eval_train_ds.shuffle(1024)\n",
    "eval_train_ds = eval_train_ds.map(lambda x, y: (eval_augmenter(x), y), tf.data.AUTOTUNE)\n",
    "eval_train_ds = eval_train_ds.batch(BATCH_SIZE)\n",
    "eval_train_ds = eval_train_ds.prefetch(tf.data.AUTOTUNE)\n",
    "\n",
    "eval_val_ds = tf.data.Dataset.from_tensor_slices(\n",
    "    (x_val, tf.keras.utils.to_categorical(y_val, 10))\n",
    ")\n",
    "eval_val_ds = eval_val_ds.repeat()\n",
    "eval_val_ds = eval_val_ds.shuffle(1024)\n",
    "eval_val_ds = eval_val_ds.map(lambda x, y: (x, y), tf.data.AUTOTUNE)\n",
    "eval_val_ds = eval_val_ds.batch(BATCH_SIZE)\n",
    "eval_val_ds = eval_val_ds.prefetch(tf.data.AUTOTUNE)\n",
    "\n",
    "eval_test_ds = tf.data.Dataset.from_tensor_slices(\n",
    "    (x_test, tf.keras.utils.to_categorical(y_test, 10))\n",
    ")\n",
    "eval_test_ds = eval_test_ds.map(lambda x, y: (x, y), tf.data.AUTOTUNE)\n",
    "eval_test_ds = eval_test_ds.batch(BATCH_SIZE)\n",
    "eval_test_ds = eval_test_ds.prefetch(tf.data.AUTOTUNE)"
   ]
  },
  {
   "cell_type": "code",
   "execution_count": 35,
   "metadata": {},
   "outputs": [],
   "source": [
    "def get_eval_model(img_size, backbone, total_steps, trainable=True, lr=1.8):\n",
    "    backbone.trainable = trainable\n",
    "    inputs = tf.keras.layers.Input((img_size, img_size, 3), name=\"eval_input\")\n",
    "    x = backbone(inputs, training=trainable)\n",
    "    o = tf.keras.layers.Dense(10, activation=\"softmax\")(x)\n",
    "    model = tf.keras.Model(inputs, o)\n",
    "    cosine_decayed_lr = tf.keras.experimental.CosineDecay(\n",
    "        initial_learning_rate=lr, decay_steps=total_steps\n",
    "    )\n",
    "    opt = tf.keras.optimizers.SGD(cosine_decayed_lr, momentum=0.9)\n",
    "    model.compile(optimizer=opt, loss=\"categorical_crossentropy\", metrics=[\"acc\"])\n",
    "    return model"
   ]
  },
  {
   "cell_type": "markdown",
   "metadata": {},
   "source": [
    "### No Pretrain"
   ]
  },
  {
   "cell_type": "code",
   "execution_count": 36,
   "metadata": {},
   "outputs": [
    {
     "name": "stdout",
     "output_type": "stream",
     "text": [
      "Epoch 1/10\n",
      "87/87 [==============================] - 23s 244ms/step - loss: 2.0407 - acc: 0.2540 - val_loss: 1.7584 - val_acc: 0.3763\n",
      "Epoch 2/10\n",
      "87/87 [==============================] - 21s 240ms/step - loss: 1.7529 - acc: 0.3550 - val_loss: 1.6014 - val_acc: 0.4241\n",
      "Epoch 3/10\n",
      "87/87 [==============================] - 21s 240ms/step - loss: 1.6615 - acc: 0.3934 - val_loss: 1.5129 - val_acc: 0.4548\n",
      "Epoch 4/10\n",
      "87/87 [==============================] - 21s 240ms/step - loss: 1.6131 - acc: 0.4116 - val_loss: 1.4662 - val_acc: 0.4626\n",
      "Epoch 5/10\n",
      "87/87 [==============================] - 21s 240ms/step - loss: 1.5742 - acc: 0.4282 - val_loss: 1.4234 - val_acc: 0.4893\n",
      "Epoch 6/10\n",
      "87/87 [==============================] - 21s 240ms/step - loss: 1.5409 - acc: 0.4432 - val_loss: 1.4026 - val_acc: 0.4928\n",
      "Epoch 7/10\n",
      "87/87 [==============================] - 21s 240ms/step - loss: 1.5200 - acc: 0.4509 - val_loss: 1.3828 - val_acc: 0.4953\n",
      "Epoch 8/10\n",
      "87/87 [==============================] - 21s 240ms/step - loss: 1.5045 - acc: 0.4564 - val_loss: 1.3724 - val_acc: 0.4988\n",
      "Epoch 9/10\n",
      "87/87 [==============================] - 21s 240ms/step - loss: 1.5025 - acc: 0.4585 - val_loss: 1.3741 - val_acc: 0.5021\n",
      "Epoch 10/10\n",
      "87/87 [==============================] - 21s 240ms/step - loss: 1.4914 - acc: 0.4608 - val_loss: 1.3673 - val_acc: 0.5031\n"
     ]
    }
   ],
   "source": [
    "no_pt_eval_model = get_eval_model(\n",
    "    img_size=CIFAR_IMG_SIZE,\n",
    "    backbone=get_backbone(CIFAR_IMG_SIZE, DIM),\n",
    "    total_steps=TEST_EPOCHS * TEST_STEPS_PER_EPOCH,\n",
    "    trainable=True,\n",
    "    lr=1e-3,\n",
    ")\n",
    "no_pt_history = no_pt_eval_model.fit(\n",
    "    eval_train_ds,\n",
    "    batch_size=BATCH_SIZE,\n",
    "    epochs=TEST_EPOCHS,\n",
    "    steps_per_epoch=TEST_STEPS_PER_EPOCH,\n",
    "    validation_data=eval_val_ds,\n",
    "    validation_steps=VAL_STEPS_PER_EPOCH,\n",
    ")"
   ]
  },
  {
   "cell_type": "markdown",
   "metadata": {},
   "source": [
    "### Pretrained"
   ]
  },
  {
   "cell_type": "code",
   "execution_count": 37,
   "metadata": {},
   "outputs": [
    {
     "name": "stdout",
     "output_type": "stream",
     "text": [
      "Model: \"model_1\"\n",
      "_________________________________________________________________\n",
      " Layer (type)                Output Shape              Param #   \n",
      "=================================================================\n",
      " eval_input (InputLayer)     [(None, 32, 32, 3)]       0         \n",
      "                                                                 \n",
      " resnet18sim (SimilarityMode  (None, 512)              11182784  \n",
      " l)                                                              \n",
      "                                                                 \n",
      " dense_1 (Dense)             (None, 10)                5130      \n",
      "                                                                 \n",
      "=================================================================\n",
      "Total params: 11,187,914\n",
      "Trainable params: 5,130\n",
      "Non-trainable params: 11,182,784\n",
      "_________________________________________________________________\n"
     ]
    }
   ],
   "source": [
    "pt_eval_model = get_eval_model(\n",
    "    CIFAR_IMG_SIZE,\n",
    "    contrastive_model.backbone,\n",
    "    total_steps=TEST_EPOCHS * TEST_STEPS_PER_EPOCH,\n",
    "    trainable=False,\n",
    "    lr=30.0,\n",
    ")\n",
    "pt_eval_model.summary()"
   ]
  },
  {
   "cell_type": "code",
   "execution_count": 38,
   "metadata": {},
   "outputs": [
    {
     "name": "stdout",
     "output_type": "stream",
     "text": [
      "Epoch 1/10\n",
      "87/87 [==============================] - 7s 75ms/step - loss: 32.9980 - acc: 0.1108 - val_loss: 35.1883 - val_acc: 0.1084\n",
      "Epoch 2/10\n",
      "87/87 [==============================] - 6s 72ms/step - loss: 28.8937 - acc: 0.1354 - val_loss: 10.3902 - val_acc: 0.1705\n",
      "Epoch 3/10\n",
      "87/87 [==============================] - 6s 71ms/step - loss: 19.4291 - acc: 0.2023 - val_loss: 12.4108 - val_acc: 0.2138\n",
      "Epoch 4/10\n",
      "87/87 [==============================] - 6s 72ms/step - loss: 8.9099 - acc: 0.3288 - val_loss: 0.9773 - val_acc: 0.7566\n",
      "Epoch 5/10\n",
      "87/87 [==============================] - 6s 71ms/step - loss: 0.5279 - acc: 0.8455 - val_loss: 0.3716 - val_acc: 0.8806\n",
      "Epoch 6/10\n",
      "87/87 [==============================] - 6s 71ms/step - loss: 0.4188 - acc: 0.8665 - val_loss: 0.3527 - val_acc: 0.8900\n",
      "Epoch 7/10\n",
      "87/87 [==============================] - 6s 72ms/step - loss: 0.3996 - acc: 0.8717 - val_loss: 0.3544 - val_acc: 0.8848\n",
      "Epoch 8/10\n",
      "87/87 [==============================] - 6s 71ms/step - loss: 0.3929 - acc: 0.8733 - val_loss: 0.3541 - val_acc: 0.8808\n",
      "Epoch 9/10\n",
      "87/87 [==============================] - 6s 72ms/step - loss: 0.3889 - acc: 0.8746 - val_loss: 0.3446 - val_acc: 0.8814\n",
      "Epoch 10/10\n",
      "87/87 [==============================] - 6s 72ms/step - loss: 0.3898 - acc: 0.8749 - val_loss: 0.3401 - val_acc: 0.8843\n"
     ]
    }
   ],
   "source": [
    "pt_history = pt_eval_model.fit(\n",
    "    eval_train_ds,\n",
    "    batch_size=BATCH_SIZE,\n",
    "    epochs=TEST_EPOCHS,\n",
    "    steps_per_epoch=TEST_STEPS_PER_EPOCH,\n",
    "    validation_data=eval_val_ds,\n",
    "    validation_steps=VAL_STEPS_PER_EPOCH,\n",
    ")"
   ]
  },
  {
   "cell_type": "markdown",
   "metadata": {
    "tags": []
   },
   "source": [
    "### Comparison"
   ]
  },
  {
   "cell_type": "code",
   "execution_count": 39,
   "metadata": {},
   "outputs": [
    {
     "name": "stdout",
     "output_type": "stream",
     "text": [
      "20/20 [==============================] - 2s 75ms/step - loss: 1.3831 - acc: 0.5029\n",
      "no pretrain [1.3830921649932861, 0.5029000043869019]\n",
      "20/20 [==============================] - 1s 57ms/step - loss: 0.3878 - acc: 0.8716\n",
      "pretrained [0.38776251673698425, 0.8715999722480774]\n"
     ]
    }
   ],
   "source": [
    "# SimSiam\n",
    "print(\"no pretrain\", no_pt_eval_model.evaluate(eval_test_ds))\n",
    "print(\"pretrained\", pt_eval_model.evaluate(eval_test_ds))"
   ]
  },
  {
   "cell_type": "code",
   "execution_count": null,
   "metadata": {},
   "outputs": [],
   "source": [
    "# SimCLR\n",
    "print(\"no pretrain\", no_pt_eval_model.evaluate(eval_test_ds))\n",
    "print(\"pretrained\", pt_eval_model.evaluate(eval_test_ds))"
   ]
  },
  {
   "cell_type": "code",
   "execution_count": null,
   "metadata": {},
   "outputs": [],
   "source": [
    "# Barlow Pre-train Cifar 10\n",
    "print(\"no pretrain\", no_pt_eval_model.evaluate(eval_test_ds))\n",
    "print(\"pretrained\", pt_eval_model.evaluate(eval_test_ds))"
   ]
  }
 ],
 "metadata": {
  "environment": {
   "kernel": "tfsim",
   "name": "tf2-gpu.2-7.m87",
   "type": "gcloud",
   "uri": "gcr.io/deeplearning-platform-release/tf2-gpu.2-7:m87"
  },
  "interpreter": {
   "hash": "cada0c3e68bbe3038c05f3f13c34d05fb5411cc128b62a4a529880c33c3268c3"
  },
  "kernelspec": {
   "display_name": "TF Sim",
   "language": "python",
   "name": "tfsim"
  },
  "language_info": {
   "codemirror_mode": {
    "name": "ipython",
    "version": 3
   },
   "file_extension": ".py",
   "mimetype": "text/x-python",
   "name": "python",
   "nbconvert_exporter": "python",
   "pygments_lexer": "ipython3",
   "version": "3.7.12"
  }
 },
 "nbformat": 4,
 "nbformat_minor": 4
}
