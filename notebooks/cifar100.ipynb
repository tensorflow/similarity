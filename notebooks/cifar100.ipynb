{
 "cells": [
  {
   "cell_type": "code",
   "execution_count": 1,
   "source": [
    " %load_ext autoreload"
   ],
   "outputs": [],
   "metadata": {}
  },
  {
   "cell_type": "code",
   "execution_count": 2,
   "source": [
    "import numpy as np\n",
    "import tensorflow as tf\n",
    "from tensorflow.keras import layers\n",
    "from tensorflow.keras.models import Model\n",
    "from tensorflow.keras.optimizers import Adam\n",
    "from tensorflow.keras.callbacks import  TensorBoard\n",
    "from tensorflow.keras.applications import EfficientNetB0\n",
    "# from tqdm.auto import tqdm\n",
    "from time import  time\n",
    "from tabulate import tabulate\n",
    "from matplotlib.pyplot import imshow\n",
    "from matplotlib import pyplot as plt\n"
   ],
   "outputs": [],
   "metadata": {}
  },
  {
   "cell_type": "code",
   "execution_count": 16,
   "source": [
    "import tensorflow_similarity as tfsim\n",
    "from tensorflow_similarity.utils import tf_cap_memory\n",
    "from tensorflow_similarity.losses import TripletLoss, CircleLoss, PNLoss\n",
    "from tensorflow_similarity.layers import MetricEmbedding\n",
    "from tensorflow_similarity.models import SimilarityModel\n",
    "from tensorflow_similarity.samplers import MultiShotMemorySampler\n",
    "from tensorflow_similarity.samplers import select_examples\n",
    "from tensorflow_similarity.visualization import viz_neigbors_imgs"
   ],
   "outputs": [],
   "metadata": {}
  },
  {
   "cell_type": "code",
   "execution_count": 4,
   "source": [
    "print('tf', tf.__version__)\n",
    "print('tfsim', tfsim.__version__)\n",
    "tf_cap_memory()"
   ],
   "outputs": [
    {
     "output_type": "stream",
     "name": "stdout",
     "text": [
      "tf 2.5.0\n",
      "tfsim 0.13.2\n"
     ]
    }
   ],
   "metadata": {}
  },
  {
   "cell_type": "markdown",
   "source": [
    "# Preparing data\n",
    "To demonstrate the ability of single-shot learning, we are going to train \n",
    "**fixme**\n",
    "\n",
    "\n",
    "an index that contains a few examples of both even and odd digits to show how the model is able to do matching on \n",
    "unseen classes with few examples.\n",
    "\n",
    "\n",
    "Note: Tensorflow similarity expect y_train to be the examples class as integer so there is no need for processing"
   ],
   "metadata": {}
  },
  {
   "cell_type": "code",
   "execution_count": 5,
   "source": [
    "NUM_TRAINING_CLASSES = 80  # max is 100 \n",
    "(x_train, y_train), (x_test, y_test) = tf.keras.datasets.cifar100.load_data()\n",
    "\n",
    "# x_train = tf.constant(x_train / 255.0, dtype='float32')\n",
    "# x_test = tf.constant(x_test / 255.0, dtype='float32')\n",
    "\n",
    "# we need to reshape the Y to have a 1d array\n",
    "y_train = tf.squeeze(y_train)\n",
    "y_test = tf.squeeze(y_test)\n",
    "print(x_train.shape, y_test.shape)"
   ],
   "outputs": [
    {
     "output_type": "stream",
     "name": "stdout",
     "text": [
      "(50000, 32, 32, 3) (10000,)\n"
     ]
    }
   ],
   "metadata": {}
  },
  {
   "cell_type": "code",
   "execution_count": 6,
   "source": [
    "# select examples only for the first n classes\n",
    "training_classes = list(range(NUM_TRAINING_CLASSES))\n",
    "x_restricted, y_restricted = select_examples(x_train, y_train, training_classes, 600)\n",
    "print(x_restricted.shape, y_restricted.shape)"
   ],
   "outputs": [
    {
     "output_type": "stream",
     "name": "stdout",
     "text": [
      "(48000, 32, 32, 3) (48000,)\n"
     ]
    }
   ],
   "metadata": {}
  },
  {
   "cell_type": "code",
   "execution_count": 8,
   "source": [
    "CLASS_PER_BATCH = 16 #@param {type:\"integer\"}\n",
    "EXAMPLE_PER_CLASS = 2 #@param {type:\"integer\"}\n",
    "sampler = MultiShotMemorySampler(x_restricted, y_restricted, class_per_batch=CLASS_PER_BATCH, example_per_class=EXAMPLE_PER_CLASS)"
   ],
   "outputs": [
    {
     "output_type": "stream",
     "name": "stderr",
     "text": [
      "indexing classes:   5%|▌         | 2627/48000 [00:00<00:03, 13017.13it/s]"
     ]
    },
    {
     "output_type": "stream",
     "name": "stdout",
     "text": [
      "\n",
      "Batch size is 32 (16 class X 2 example per class pre-augmentation\n"
     ]
    },
    {
     "output_type": "stream",
     "name": "stderr",
     "text": [
      "indexing classes: 100%|██████████| 48000/48000 [00:03<00:00, 13246.86it/s]\n"
     ]
    }
   ],
   "metadata": {}
  },
  {
   "cell_type": "code",
   "execution_count": 9,
   "source": [
    "data_augmentation = tf.keras.Sequential(\n",
    "    [\n",
    "        layers.experimental.preprocessing.RandomFlip(),\n",
    "        layers.experimental.preprocessing.RandomTranslation(0.2, 0.2),\n",
    "        layers.experimental.preprocessing.RandomZoom(0.1)\n",
    "    ]\n",
    ")"
   ],
   "outputs": [],
   "metadata": {}
  },
  {
   "cell_type": "code",
   "execution_count": 10,
   "source": [
    "def conv_block(x, filters):\n",
    "    x = layers.Conv2D(filters, 3, padding='same')(x)\n",
    "    x = layers.BatchNormalization()(x)\n",
    "    x = layers.Activation('relu')(x)    \n",
    "    return x\n",
    "\n",
    "def get_model(input_shape=(32, 32, 3)):\n",
    "    tf.keras.backend.clear_session()\n",
    "    inputs = layers.Input(shape=input_shape)\n",
    "    x = data_augmentation(inputs)\n",
    "    x = EfficientNetB0(input_shape=input_shape, include_top=False)(x)\n",
    "\n",
    "    # x = conv_block(x, 16)  \n",
    "    # x = conv_block(x, 32)\n",
    "    # x = conv_block(x, 64)\n",
    "    # x = conv_block(x, 128)\n",
    "    # x = conv_block(x, 256)\n",
    "    x = layers.GlobalMaxPool2D()(x)\n",
    "    x = layers.Flatten()(x)\n",
    "    x = layers.BatchNormalization()(x)\n",
    "    x = layers.Dropout(0.1)(x)\n",
    "    x = layers.Dense(128, activation='relu')(x)\n",
    "    outputs = MetricEmbedding(16)(x)\n",
    "    return SimilarityModel(inputs, outputs)\n",
    "model = get_model()\n",
    "model.summary()"
   ],
   "outputs": [
    {
     "output_type": "stream",
     "name": "stdout",
     "text": [
      "Model: \"similarity_model\"\n",
      "_________________________________________________________________\n",
      "Layer (type)                 Output Shape              Param #   \n",
      "=================================================================\n",
      "input_1 (InputLayer)         [(None, 32, 32, 3)]       0         \n",
      "_________________________________________________________________\n",
      "sequential (Sequential)      (None, 32, 32, 3)         0         \n",
      "_________________________________________________________________\n",
      "efficientnetb0 (Functional)  (None, 1, 1, 1280)        4049571   \n",
      "_________________________________________________________________\n",
      "global_max_pooling2d (Global (None, 1280)              0         \n",
      "_________________________________________________________________\n",
      "flatten (Flatten)            (None, 1280)              0         \n",
      "_________________________________________________________________\n",
      "batch_normalization (BatchNo (None, 1280)              5120      \n",
      "_________________________________________________________________\n",
      "dropout (Dropout)            (None, 1280)              0         \n",
      "_________________________________________________________________\n",
      "dense (Dense)                (None, 128)               163968    \n",
      "_________________________________________________________________\n",
      "metric_embedding (MetricEmbe (None, 16)                2064      \n",
      "=================================================================\n",
      "Total params: 4,220,723\n",
      "Trainable params: 4,176,140\n",
      "Non-trainable params: 44,583\n",
      "_________________________________________________________________\n"
     ]
    }
   ],
   "metadata": {}
  },
  {
   "cell_type": "code",
   "execution_count": 17,
   "source": [
    "distance = 'cosine' #@param [\"cosine\"]{allow-input: false}\n",
    "positive_mining_strategy = 'hard' #@param [\"easy\", \"hard\"]{allow-input: false}\n",
    "negative_mining_strategy = 'semi-hard' #@param [\"easy\", \"hard\"]{allow-input: false}\n",
    "triplet_loss = TripletLoss(distance=distance,\n",
    "    positive_mining_strategy=positive_mining_strategy,\n",
    "    negative_mining_strategy=negative_mining_strategy)\n",
    "circle_loss = CircleLoss(distance=distance)\n",
    "pn_loss = PNLoss(distance=distance)"
   ],
   "outputs": [],
   "metadata": {}
  },
  {
   "cell_type": "code",
   "execution_count": 18,
   "source": [
    "STEPS_PER_EXECUTION = 3  # speedup execution by grouping batchs\n",
    "model = get_model()\n",
    "optimizer = Adam(0.002)\n",
    "model.compile(optimizer=optimizer, steps_per_execution=STEPS_PER_EXECUTION, loss=pn_loss)"
   ],
   "outputs": [
    {
     "output_type": "stream",
     "name": "stdout",
     "text": [
      "Distance metric automatically set to cosine use the distance arg to override.\n"
     ]
    }
   ],
   "metadata": {}
  },
  {
   "cell_type": "code",
   "execution_count": 19,
   "source": [
    "EPOCHS = 5 #@param{Integer}\n",
    "history = model.fit(sampler, validation_data=(x_test, y_test), epochs=EPOCHS)"
   ],
   "outputs": [
    {
     "output_type": "stream",
     "name": "stdout",
     "text": [
      "Epoch 1/5\n"
     ]
    }
   ],
   "metadata": {}
  },
  {
   "cell_type": "code",
   "execution_count": 18,
   "source": [
    "# let's visualizing loss overtime\n",
    "plt.plot(history.history['loss'])\n",
    "plt.plot(history.history['val_loss'])\n",
    "plt.legend(['loss', 'val_loss'])\n",
    "plt.title('Loss')\n",
    "plt.show()"
   ],
   "outputs": [
    {
     "output_type": "display_data",
     "data": {
      "text/plain": [
       "<Figure size 432x288 with 1 Axes>"
      ],
      "image/png": "[encoded data removed]"
     },
     "metadata": {
      "needs_background": "light"
     }
    }
   ],
   "metadata": {}
  },
  {
   "cell_type": "code",
   "execution_count": 19,
   "source": [
    "NUM_EXAMPLE_PER_CLASS = 50\n",
    "x_index, y_index = select_examples(x_train, y_train, list(range(100)), NUM_EXAMPLE_PER_CLASS)"
   ],
   "outputs": [],
   "metadata": {}
  },
  {
   "cell_type": "code",
   "execution_count": 21,
   "source": [
    "model.reset_index()\n",
    "model.index(x_index, y_index)"
   ],
   "outputs": [
    {
     "output_type": "stream",
     "name": "stdout",
     "text": [
      "[Indexing 5000 points]\n",
      "|-Computing embeddings\n",
      "|-Storing data points in index table\n",
      "|-Adding embeddings to fast NN matcher index.\n",
      "|-Optimizing NN matcher index.\n"
     ]
    }
   ],
   "metadata": {}
  },
  {
   "cell_type": "code",
   "execution_count": 23,
   "source": [
    "# query the closest points in our index for ALL 10000 test examples\n",
    "num_neighboors = 5\n",
    "test_id = 160  # 78 is a 9 a class we never trained on\n",
    "\n",
    "# query closest matches\n",
    "neighboors = model.single_lookup(x_test[test_id], k=num_neighboors)\n",
    "\n",
    "# display results in tabular format\n",
    "rows = [[n.label, n.distance] for n in neighboors]\n",
    "print('Expected label: %d' % y_test[test_id])\n",
    "print(tabulate(rows, headers=['label', 'distances']), '\\n')\n",
    "\n",
    "# view results close by\n",
    "viz_neigbors_imgs(x_test[test_id], y_test[test_id], neighboors, fig_size=(20, 2))"
   ],
   "outputs": [
    {
     "output_type": "stream",
     "name": "stdout",
     "text": [
      "Expected label: 36\n",
      "  label    distances\n",
      "-------  -----------\n",
      "     45   6.4671e-05\n",
      "     24   0.0010128\n",
      "     88   0.00103259\n",
      "      7   0.00107962\n",
      "     66   0.00168419 \n",
      "\n"
     ]
    },
    {
     "output_type": "display_data",
     "data": {
      "text/plain": [
       "<Figure size 1440x144 with 6 Axes>"
      ],
      "image/png": "[encoded data removed]"
     },
     "metadata": {}
    }
   ],
   "metadata": {}
  },
  {
   "cell_type": "code",
   "execution_count": 24,
   "source": [
    "model.index_summary()"
   ],
   "outputs": [
    {
     "output_type": "stream",
     "name": "stdout",
     "text": [
      "[Info]\n",
      "------------------  -----------\n",
      "distance            cosine\n",
      "index table         memory\n",
      "matching algorithm  nmslib_hnsw\n",
      "evaluator           memory\n",
      "index size          5000\n",
      "calibrated          False\n",
      "calibration_metric  f1_score\n",
      "embedding_output\n",
      "------------------  -----------\n",
      "\n",
      "\n",
      "\n",
      "[Performance]\n",
      "-----------  -----------\n",
      "num lookups  2\n",
      "min          6.41346e-05\n",
      "max          8.91685e-05\n",
      "avg          7.66516e-05\n",
      "median       7.66516e-05\n",
      "stddev       1.2517e-05\n",
      "-----------  -----------\n"
     ]
    }
   ],
   "metadata": {}
  },
  {
   "cell_type": "code",
   "execution_count": 25,
   "source": [
    "num_calibration_samples = 200\n",
    "calibration = model.calibrate(x_train\n",
    "[:num_calibration_samples], y_train[:num_calibration_samples], k=3)"
   ],
   "outputs": [
    {
     "output_type": "display_data",
     "data": {
      "text/plain": [
       "Finding NN:   0%|          | 0/200 [00:00<?, ?it/s]"
      ],
      "application/vnd.jupyter.widget-view+json": {
       "model_id": "7a26ab0bed644e9c904b8bdd18cc79e6",
       "version_major": 2,
       "version_minor": 0
      }
     },
     "metadata": {}
    },
    {
     "output_type": "display_data",
     "data": {
      "text/plain": [
       "Evaluating:   0%|          | 0/1000 [00:00<?, ?it/s]"
      ],
      "application/vnd.jupyter.widget-view+json": {
       "model_id": "7ed75180aba047dbb9f2827c98162e94",
       "version_major": 2,
       "version_minor": 0
      }
     },
     "metadata": {}
    },
    {
     "output_type": "display_data",
     "data": {
      "text/plain": [
       "computing thresholds:   0%|          | 0/1000 [00:00<?, ?it/s]"
      ],
      "application/vnd.jupyter.widget-view+json": {
       "model_id": "1746d1463a9849ceaf85c04ce3ad1bcc",
       "version_major": 2,
       "version_minor": 0
      }
     },
     "metadata": {}
    },
    {
     "output_type": "stream",
     "name": "stdout",
     "text": [
      "\n",
      " name       value    distance    accuracy    recall    f1_score\n",
      "-------  -------  ----------  ----------  --------  ----------\n",
      "optimal     0.18   0.0198594         0.1       0.9        0.18\n"
     ]
    }
   ],
   "metadata": {}
  },
  {
   "cell_type": "code",
   "execution_count": 27,
   "source": [
    "plt.plot(calibration['thresholds']['accuracy'], calibration['thresholds']['recall'])\n",
    "plt.title(\"PR Curve\")\n",
    "plt.show()"
   ],
   "outputs": [
    {
     "output_type": "display_data",
     "data": {
      "text/plain": [
       "<Figure size 432x288 with 1 Axes>"
      ],
      "image/png": "[encoded data removed]"
     },
     "metadata": {
      "needs_background": "light"
     }
    }
   ],
   "metadata": {}
  },
  {
   "cell_type": "code",
   "execution_count": 28,
   "source": [
    "plt.plot(calibration['thresholds']['distance'])\n",
    "plt.title(\"Distances\")\n",
    "plt.show()"
   ],
   "outputs": [
    {
     "output_type": "display_data",
     "data": {
      "text/plain": [
       "<Figure size 432x288 with 1 Axes>"
      ],
      "image/png": "[encoded data removed]"
     },
     "metadata": {
      "needs_background": "light"
     }
    }
   ],
   "metadata": {}
  },
  {
   "cell_type": "code",
   "execution_count": 32,
   "source": [
    "rows = []\n",
    "thresholds = calibration['thresholds']\n",
    "for idx in range(len(thresholds['distance'])):\n",
    "    rows.append([thresholds['distance'][idx], thresholds['accuracy'][idx], thresholds['recall'][idx]])\n",
    "\n",
    "print(tabulate(rows, headers=['distance', 'precision', 'recall']))"
   ],
   "outputs": [
    {
     "output_type": "stream",
     "name": "stdout",
     "text": [
      "  distance    precision    recall\n",
      "----------  -----------  --------\n",
      "0.00013077        0.09      0.91\n",
      "0.00129414        0.095     0.905\n",
      "0.0198594         0.1       0.9\n"
     ]
    }
   ],
   "metadata": {}
  }
 ],
 "metadata": {
  "kernelspec": {
   "name": "python3",
   "display_name": "Python 3.8.10 64-bit"
  },
  "language_info": {
   "codemirror_mode": {
    "name": "ipython",
    "version": 3
   },
   "file_extension": ".py",
   "mimetype": "text/x-python",
   "name": "python",
   "nbconvert_exporter": "python",
   "pygments_lexer": "ipython3",
   "version": "3.8.10"
  },
  "interpreter": {
   "hash": "cada0c3e68bbe3038c05f3f13c34d05fb5411cc128b62a4a529880c33c3268c3"
  }
 },
 "nbformat": 4,
 "nbformat_minor": 2
}
