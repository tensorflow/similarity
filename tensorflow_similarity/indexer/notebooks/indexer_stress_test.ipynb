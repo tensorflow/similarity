{
 "cells": [
  {
   "cell_type": "code",
   "execution_count": 15,
   "metadata": {},
   "outputs": [],
   "source": [
    "import numpy as np\n",
    "import sklearn\n",
    "from tensorflow_similarity.indexer.indexer import Indexer\n",
    "import matplotlib.pyplot as plt\n",
    "import tempfile\n",
    "import jsonlines\n",
    "import os"
   ]
  },
  {
   "cell_type": "code",
   "execution_count": 16,
   "metadata": {},
   "outputs": [],
   "source": [
    "x = np.random.randint(1000, size=(50000, 400))\n",
    "y = np.random.randint(2, size=50000)\n",
    "_, tmp_file_examples = tempfile.mkstemp()\n",
    "with jsonlines.open(tmp_file_examples, mode='w') as writer:\n",
    "    for data_point in x:\n",
    "        writer.write(data_point.tolist())\n",
    "_, tmp_file_labels = tempfile.mkstemp()\n",
    "with jsonlines.open(tmp_file_labels, mode='w') as writer:\n",
    "    for data_point in y:\n",
    "        writer.write(data_point.tolist())"
   ]
  },
  {
   "cell_type": "code",
   "execution_count": null,
   "metadata": {},
   "outputs": [],
   "source": [
    "indexer = Indexer(os.path.abspath(tmp_file_examples), None, os.path.abspath(tmp_file_labels), os.path.abspath(\"../../../tensorflow_similarity/serving/www/saved_models/IMDB_model.h5\"), \"./\")\n",
    "indexer.build()"
   ]
  },
  {
   "cell_type": "code",
   "execution_count": null,
   "metadata": {},
   "outputs": [],
   "source": [
    "percentiles = list()\n",
    "returned_points = list()\n",
    "\n",
    "for i in range(len(x)):\n",
    "    ids, _ = indexer.index.knnQuery(x[0], k=i)\n",
    "    percentiles.append(i / len(x))\n",
    "    returned_points.append(len(ids))"
   ]
  },
  {
   "cell_type": "code",
   "execution_count": 19,
   "metadata": {},
   "outputs": [
    {
     "data": {
      "text/plain": [
       "[<matplotlib.lines.Line2D at 0x781da95552b0>]"
      ]
     },
     "execution_count": 19,
     "metadata": {},
     "output_type": "execute_result"
    },
    {
     "data": {
      "image/png": "[encoded data removed]",
      "text/plain": [
       "<Figure size 432x288 with 1 Axes>"
      ]
     },
     "metadata": {
      "needs_background": "light"
     },
     "output_type": "display_data"
    }
   ],
   "source": [
    "plt.plot(percentiles, returned_points)"
   ]
  }
 ],
 "metadata": {
  "kernelspec": {
   "display_name": "Python 3",
   "language": "python",
   "name": "python3"
  },
  "language_info": {
   "codemirror_mode": {
    "name": "ipython",
    "version": 3
   },
   "file_extension": ".py",
   "mimetype": "text/x-python",
   "name": "python",
   "nbconvert_exporter": "python",
   "pygments_lexer": "ipython3",
   "version": "3.7.3"
  }
 },
 "nbformat": 4,
 "nbformat_minor": 2
}