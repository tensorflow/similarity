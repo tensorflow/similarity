{
 "cells": [
  {
   "cell_type": "code",
   "execution_count": 1,
   "metadata": {},
   "outputs": [],
   "source": [
    "import tensorflow as tf\n",
    "from tensorflow_similarity.api.engine.simhash import SimHash\n",
    "import numpy as np\n",
    "from collections import defaultdict, namedtuple\n",
    "from matplotlib import pyplot as plt\n",
    "import seaborn as sns"
   ]
  },
  {
   "cell_type": "code",
   "execution_count": 2,
   "metadata": {},
   "outputs": [],
   "source": [
    "# read MNIST example helper method\n",
    "def read_mnist_data(ways=5):\n",
    "\n",
    "    (x_train, y_train), (x_test_raw,\n",
    "                         y_test_raw) = tf.keras.datasets.mnist.load_data()\n",
    "\n",
    "    x_train = x_train[..., np.newaxis]\n",
    "\n",
    "    x_tests = []\n",
    "    y_tests = []\n",
    "\n",
    "    x_targets = []\n",
    "    y_targets = []\n",
    "\n",
    "    seen = defaultdict(int)\n",
    "    for x, y in zip(x_test_raw, y_test_raw):\n",
    "        if seen[y] < ways:\n",
    "            seen[y] += 1\n",
    "            x_targets.append(x[..., np.newaxis])\n",
    "            y_targets.append(y)\n",
    "        else:\n",
    "            x_tests.append(x[..., np.newaxis])\n",
    "            y_tests.append(y)\n",
    "\n",
    "    return (({\n",
    "        \"example\": np.array(x_train) / 255.0\n",
    "    }, np.array(y_train)), ({\n",
    "        \"example\": np.array(x_tests) / 255.0\n",
    "    }, np.array(y_tests)), ({\n",
    "        \"example\": np.array(x_targets) / 255.0\n",
    "    }, np.array(y_targets)))"
   ]
  },
  {
   "cell_type": "code",
   "execution_count": 3,
   "metadata": {},
   "outputs": [],
   "source": [
    "# display thresholds, precisions, recalls helper method\n",
    "def display(thresholds, precisions, recalls):\n",
    "    plt.scatter(thresholds, precisions)\n",
    "    plt.xlabel(\"thresholds\")\n",
    "    plt.ylabel(\"precisions\")\n",
    "    plt.title(\"precisions vs thresholds\")\n",
    "    plt.show()\n",
    "    plt.scatter(thresholds, recalls)\n",
    "    plt.xlabel(\"thresholds\")\n",
    "    plt.ylabel(\"recalls\")\n",
    "    plt.title(\"recalls vs thresholds\")\n",
    "    plt.show()\n",
    "    plt.scatter(precisions, recalls)\n",
    "    plt.xlabel(\"precisions\")\n",
    "    plt.ylabel(\"recalls\")\n",
    "    plt.title(\"recalls vs precisions\")\n",
    "    plt.show()"
   ]
  },
  {
   "cell_type": "code",
   "execution_count": 4,
   "metadata": {},
   "outputs": [],
   "source": [
    "# customize tuples\n",
    "Match = namedtuple(\"match\", [\"distance\", \"is_correct\"])\n",
    "Point = namedtuple(\"point\", [\"threshold\", \"precision\", \"recall\"])"
   ]
  },
  {
   "cell_type": "code",
   "execution_count": 5,
   "metadata": {},
   "outputs": [],
   "source": [
    "# computation configs\n",
    "ways = 5\n",
    "rounding_precision = 3"
   ]
  },
  {
   "cell_type": "code",
   "execution_count": 6,
   "metadata": {},
   "outputs": [],
   "source": [
    "## Stage 0: load \n",
    "\n",
    "# load tf similarity model and test and target data\n",
    "model = tf.keras.models.load_model('mnist_model_quad.h5')\n",
    "_, (x_test, y_test), (x_targets, y_targets) = read_mnist_data(ways)\n",
    "\n",
    "# build database on target data\n",
    "database = model.build_database(x_targets, y_targets)\n",
    "# compute the nearest neighbors (this is default sorted)\n",
    "results = model.neighbors(x_test, N=len(y_targets))"
   ]
  },
  {
   "cell_type": "code",
   "execution_count": 7,
   "metadata": {},
   "outputs": [
    {
     "name": "stdout",
     "output_type": "stream",
     "text": [
      "-0.27563047\n"
     ]
    }
   ],
   "source": [
    "test_embeddings = model.predict(x_targets)\n",
    "print(np.sum(test_embeddings[0]))"
   ]
  },
  {
   "cell_type": "code",
   "execution_count": 8,
   "metadata": {},
   "outputs": [],
   "source": [
    "## Stage 1: Filter results \n",
    "\n",
    "# truncate results so that it only contains matches up to the first correct match\n",
    "for i in range(len(results)):\n",
    "    first_correct_index = 0\n",
    "    correct_label = y_test[i]\n",
    "    neighbors = results[i]\n",
    "    while neighbors[first_correct_index].label != correct_label:\n",
    "        first_correct_index += 1\n",
    "    truncated_result = neighbors[:first_correct_index+1]\n",
    "    results[i] = truncated_result\n",
    "\n",
    "matches = []\n",
    "# combine results from list of list of NearestNighbors to list of (distance, is_correct)\n",
    "for i, neighbors in enumerate(results):\n",
    "    correct_label = y_test[i]\n",
    "    for neighbor in neighbors:\n",
    "        match = Match(neighbor.distance, neighbor.label == correct_label)\n",
    "        matches.append(match)\n",
    "\n",
    "# sort matches\n",
    "matches = sorted(matches, key=lambda match: match.distance)"
   ]
  },
  {
   "cell_type": "code",
   "execution_count": 9,
   "metadata": {},
   "outputs": [],
   "source": [
    "## Stage 2: Compute thresholds, precisions, recalls\n",
    "\n",
    "# combine (thresholds, accuracy, recall)\n",
    "correct_examples = 0\n",
    "seen_examples =  0\n",
    "total_examples = len(y_test) # num example in the dataset * num neighbour\n",
    "all_data = []\n",
    "for r in matches:\n",
    "    \n",
    "    threshold, verdict = r\n",
    "    if verdict:\n",
    "        correct_examples += 1\n",
    "    seen_examples += 1\n",
    "    \n",
    "    # metrics\n",
    "    threshold = round(threshold, rounding_precision)\n",
    "    accuracy = round(correct_examples / seen_examples, rounding_precision)\n",
    "    recall = round(correct_examples / total_examples, rounding_precision)\n",
    "    \n",
    "    point = Point(threshold, accuracy, recall)\n",
    "    all_data.append(point)"
   ]
  },
  {
   "cell_type": "code",
   "execution_count": 10,
   "metadata": {},
   "outputs": [
    {
     "data": {
      "image/png": "[encoded data removed]",
      "text/plain": [
       "<Figure size 432x288 with 1 Axes>"
      ]
     },
     "metadata": {
      "needs_background": "light"
     },
     "output_type": "display_data"
    },
    {
     "data": {
      "image/png": "[encoded data removed]",
      "text/plain": [
       "<Figure size 432x288 with 1 Axes>"
      ]
     },
     "metadata": {
      "needs_background": "light"
     },
     "output_type": "display_data"
    },
    {
     "data": {
      "image/png": "[encoded data removed]",
      "text/plain": [
       "<Figure size 432x288 with 1 Axes>"
      ]
     },
     "metadata": {
      "needs_background": "light"
     },
     "output_type": "display_data"
    }
   ],
   "source": [
    "# display\n",
    "thresholds = np.asarray([point.threshold for point in all_data])\n",
    "precisions = np.asarray([point.precision for point in all_data])\n",
    "recalls = np.asarray([point.recall for point in all_data])\n",
    "display(thresholds, precisions, recalls)"
   ]
  },
  {
   "cell_type": "code",
   "execution_count": 11,
   "metadata": {},
   "outputs": [
    {
     "name": "stdout",
     "output_type": "stream",
     "text": [
      "desired_precisions: [0.99 0.9  0.8  0.7 ]\n",
      "corresponding_thresholds: [0.103, 0.255, 0.387, 0.53]\n",
      "corresponding_recalls: [0.186, 0.607, 0.768, 0.867]\n"
     ]
    }
   ],
   "source": [
    "## Stage 3: Pick Thresholds\n",
    "desired_precisions = np.asarray([0.99, 0.90, 0.80, 0.70])\n",
    "corresponding_thresholds = []\n",
    "corresponding_recalls = []\n",
    "\n",
    "for desired_precision in desired_precisions:\n",
    "    index = (np.abs(precisions - desired_precision)).argmin()\n",
    "    corresponding_threshold = thresholds[index]\n",
    "    corresponding_recall = recalls[index]\n",
    "    corresponding_thresholds.append(corresponding_threshold)\n",
    "    corresponding_recalls.append(corresponding_recall)\n",
    "\n",
    "print(\"desired_precisions: {}\".format(desired_precisions))\n",
    "print(\"corresponding_thresholds: {}\".format(corresponding_thresholds))\n",
    "print(\"corresponding_recalls: {}\".format(corresponding_recalls))"
   ]
  },
  {
   "cell_type": "code",
   "execution_count": null,
   "metadata": {},
   "outputs": [],
   "source": []
  }
 ],
 "metadata": {
  "kernelspec": {
   "display_name": "Python 3",
   "language": "python",
   "name": "python3"
  },
  "language_info": {
   "codemirror_mode": {
    "name": "ipython",
    "version": 3
   },
   "file_extension": ".py",
   "mimetype": "text/x-python",
   "name": "python",
   "nbconvert_exporter": "python",
   "pygments_lexer": "ipython3",
   "version": "3.7.5rc1"
  }
 },
 "nbformat": 4,
 "nbformat_minor": 2
}
